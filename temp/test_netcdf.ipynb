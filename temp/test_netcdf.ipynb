{
 "cells": [
  {
   "cell_type": "markdown",
   "metadata": {},
   "source": [
    "# Test notebook for loading in in NetCDF of sentinel 1"
   ]
  },
  {
   "cell_type": "code",
   "execution_count": null,
   "metadata": {},
   "outputs": [],
   "source": [
    "import xarray as xr\n",
    "from pathlib import Path\n",
    "import hvplot.xarray\n",
    "import rasterio\n",
    "import rioxarray\n",
    "import numpy as np"
   ]
  },
  {
   "cell_type": "code",
   "execution_count": null,
   "metadata": {},
   "outputs": [],
   "source": [
    "sentinel_folder = Path(r'..\\data\\g0_020m')\n",
    "testdata = xr.open_dataset(sentinel_folder/'20141118_S1A_D_110.nc')\n",
    "testdata"
   ]
  },
  {
   "cell_type": "code",
   "execution_count": null,
   "metadata": {},
   "outputs": [],
   "source": [
    "print(testdata.rio.crs)"
   ]
  },
  {
   "cell_type": "code",
   "execution_count": null,
   "metadata": {},
   "outputs": [],
   "source": [
    "#testdata = testdata.transpose('lat','lon')"
   ]
  },
  {
   "cell_type": "code",
   "execution_count": null,
   "metadata": {},
   "outputs": [],
   "source": [
    "testdata.rio.write_crs(\"EPSG:4326\", inplace = True)"
   ]
  },
  {
   "cell_type": "code",
   "execution_count": null,
   "metadata": {},
   "outputs": [],
   "source": [
    "testdata"
   ]
  },
  {
   "cell_type": "code",
   "execution_count": null,
   "metadata": {},
   "outputs": [],
   "source": [
    "#testdata.rio.reproject(dst_crs=\"EPSG:31370\")\n",
    "testdata.rio.crs"
   ]
  },
  {
   "cell_type": "code",
   "execution_count": null,
   "metadata": {},
   "outputs": [],
   "source": [
    "#testdata['g0vv'].plot(x = 'lon', y = 'lat')"
   ]
  },
  {
   "cell_type": "code",
   "execution_count": null,
   "metadata": {},
   "outputs": [],
   "source": [
    "from tkinter import PROJECTING\n",
    "import cartopy.crs as ccrs\n",
    "map_projection = ccrs.Globe()\n",
    "#testdata['g0vv'].plot(transform = map_projection)"
   ]
  },
  {
   "cell_type": "code",
   "execution_count": null,
   "metadata": {},
   "outputs": [],
   "source": [
    "#coarsening van de projecties\n"
   ]
  },
  {
   "cell_type": "code",
   "execution_count": null,
   "metadata": {},
   "outputs": [],
   "source": [
    "#testdata['g0vv'].hvplot(cmap = 'cividis', crs = ccrs.epsg(4236), projection = ccrs.epsg(4326))\n",
    "#testdata['g0vv'].hvplot(x = 'lat', y = 'lon', cmap = 'cividis', geo = True)"
   ]
  },
  {
   "cell_type": "markdown",
   "metadata": {},
   "source": [
    "duurt te lang via hv plot! "
   ]
  },
  {
   "cell_type": "markdown",
   "metadata": {},
   "source": [
    "## Resampling "
   ]
  },
  {
   "cell_type": "markdown",
   "metadata": {},
   "source": [
    "https://corteva.github.io/rioxarray/stable/examples/resampling.html"
   ]
  },
  {
   "cell_type": "markdown",
   "metadata": {},
   "source": [
    "## doel van de zwalm er uit te clippen "
   ]
  },
  {
   "cell_type": "code",
   "execution_count": null,
   "metadata": {},
   "outputs": [],
   "source": [
    "import fiona\n",
    "import rasterio.mask\n",
    "zwalm_shape = fiona.open(\"../data/Zwalm_shape/OS266.shp\")"
   ]
  },
  {
   "cell_type": "code",
   "execution_count": null,
   "metadata": {},
   "outputs": [],
   "source": [
    "zwalm_shape.crs"
   ]
  },
  {
   "cell_type": "markdown",
   "metadata": {},
   "source": [
    "nieuw idee: via geopandas omzetten van 31370 naar WGS84 en dan \n",
    "`` from rasterio.mask`` en  ``import mask out, _ = mask(data, gdf.geometry, invert=False)``"
   ]
  },
  {
   "cell_type": "code",
   "execution_count": null,
   "metadata": {},
   "outputs": [],
   "source": [
    "import geopandas as gpd\n",
    "zwalm_gpd_emma = gpd.read_file(\"../data/Zwalm_shape/OS266.shp\") #deze bevat de verschillende substroomgebieden\n",
    "zwalm_gpd = gpd.read_file(\"../data/Zwalm_shape/zwalm_shapefile.shp\")\n",
    "zwalm_gpd.plot()\n",
    "zwalm_gpd_emma.plot()\n",
    "zwalm_gpd_emma"
   ]
  },
  {
   "cell_type": "code",
   "execution_count": null,
   "metadata": {},
   "outputs": [],
   "source": [
    "omtrekking_zwalm = zwalm_gpd_emma.unary_union\n",
    "omtrekking_zwalm.area\n",
    "d = {'PolygonId': 15, 'Area': omtrekking_zwalm.area, 'Subbasin':0,'geometry':omtrekking_zwalm}\n",
    "zwalm_gpd_emma = zwalm_gpd_emma.append(d, ignore_index= True)\n",
    "zwalm_gpd_emma"
   ]
  },
  {
   "cell_type": "code",
   "execution_count": null,
   "metadata": {},
   "outputs": [],
   "source": []
  },
  {
   "cell_type": "code",
   "execution_count": null,
   "metadata": {},
   "outputs": [],
   "source": [
    "zwalm_gpd.crs"
   ]
  },
  {
   "cell_type": "code",
   "execution_count": null,
   "metadata": {},
   "outputs": [],
   "source": [
    "zwalm_gpd_emma.crs = 31370\n",
    "zwalm_gpd_emma.crs"
   ]
  },
  {
   "cell_type": "code",
   "execution_count": null,
   "metadata": {},
   "outputs": [],
   "source": [
    "zwalm_gpd['geometry'] = zwalm_gpd['geometry'].to_crs(epsg = 4326)\n",
    "zwalm_gpd.plot()\n",
    "zwalm_gpd_emma['geometry'] = zwalm_gpd_emma['geometry'].to_crs(epsg = 4326)\n",
    "zwalm_gpd_emma.plot()"
   ]
  },
  {
   "cell_type": "code",
   "execution_count": null,
   "metadata": {},
   "outputs": [],
   "source": [
    "#raster_lambert = testdata.rio.reproject(\"epsg:31370\")\n",
    "#FAALT!"
   ]
  },
  {
   "cell_type": "code",
   "execution_count": null,
   "metadata": {},
   "outputs": [],
   "source": [
    "len(zwalm_gpd_emma)"
   ]
  },
  {
   "cell_type": "code",
   "execution_count": null,
   "metadata": {},
   "outputs": [],
   "source": [
    "zwalm_shape_epsg4326 = zwalm_gpd_emma.iloc[[15]]\n",
    "type(zwalm_shape_epsg4326)\n",
    "#zwalm_shape_epsg4326 = gpd.GeoDataFrame(zwalm_shape_epsg4326)\n",
    "zwalm_shape_epsg4326\n",
    "zwalm_shape_epsg4326.crs\n",
    "zwalm_shape_epsg4326.to_file(Path(r\"../data/Zwalm_shape/zwalm_shapefile_emma.shp\"))\n"
   ]
  },
  {
   "cell_type": "code",
   "execution_count": null,
   "metadata": {},
   "outputs": [],
   "source": [
    "zwalm_gpd_emma.iloc[[15]]"
   ]
  },
  {
   "cell_type": "markdown",
   "metadata": {},
   "source": [
    "Rasterising this polygon"
   ]
  },
  {
   "cell_type": "code",
   "execution_count": null,
   "metadata": {},
   "outputs": [],
   "source": [
    "testdata['g0vv'].shape"
   ]
  },
  {
   "cell_type": "code",
   "execution_count": null,
   "metadata": {},
   "outputs": [],
   "source": [
    "geom = [shapes for shapes in zwalm_shape_epsg4326['geometry']]\n",
    "geom"
   ]
  },
  {
   "cell_type": "code",
   "execution_count": null,
   "metadata": {},
   "outputs": [],
   "source": [
    "testdata_rasterio = rasterio.open('netcdf:../data/g0_020m/20141118_S1A_D_110.nc:g0vh')\n",
    "from rasterio.crs import CRS\n",
    "crs = CRS.from_epsg(4326)\n",
    "crs"
   ]
  },
  {
   "cell_type": "code",
   "execution_count": null,
   "metadata": {},
   "outputs": [],
   "source": [
    "testdata_rasterio.transform"
   ]
  },
  {
   "cell_type": "code",
   "execution_count": null,
   "metadata": {},
   "outputs": [],
   "source": [
    "testdata_rasterio.bounds"
   ]
  },
  {
   "cell_type": "code",
   "execution_count": null,
   "metadata": {},
   "outputs": [],
   "source": [
    "left = testdata_rasterio.bounds.left\n",
    "right = testdata_rasterio.bounds.right\n",
    "top = testdata_rasterio.bounds.top\n",
    "bottom = testdata_rasterio.bounds.bottom\n",
    "print(left, right)\n",
    "from rasterio.coords import BoundingBox\n",
    "#testdata_rasterio.bounds = BoundingBox(right, bottom, left, top)\n",
    "#testdata_rasterio.bounds.left = right\n",
    "#testdata.bounds._right = left"
   ]
  },
  {
   "cell_type": "code",
   "execution_count": null,
   "metadata": {},
   "outputs": [],
   "source": [
    "from rasterio.features import rasterize\n",
    "rasterized_zwalm_shape = rasterize(\n",
    "    zwalm_shape_epsg4326['geometry'],\n",
    "    out_shape = testdata['g0vv'].shape,\n",
    "    fill = 0,\n",
    "    transform= testdata_rasterio.transform,\n",
    "    all_touched= False,\n",
    "    default_value = 1\n",
    ")"
   ]
  },
  {
   "cell_type": "code",
   "execution_count": null,
   "metadata": {},
   "outputs": [],
   "source": [
    "#rasterized_zwalm_shape_bis = rasterize(geom, out_shape = )"
   ]
  },
  {
   "cell_type": "code",
   "execution_count": null,
   "metadata": {},
   "outputs": [],
   "source": [
    "import matplotlib.pyplot as plt\n",
    "plt.imshow(rasterized_zwalm_shape)\n",
    "plt.colorbar()"
   ]
  },
  {
   "cell_type": "code",
   "execution_count": null,
   "metadata": {},
   "outputs": [],
   "source": [
    "testdata.attrs"
   ]
  },
  {
   "cell_type": "code",
   "execution_count": null,
   "metadata": {},
   "outputs": [],
   "source": [
    "#zwalm_gpd_emma.iloc[15,1]\n",
    "zwalm_gpd_emma.loc[len(zwalm_gpd_emma)-1,\"geometry\"]"
   ]
  },
  {
   "cell_type": "code",
   "execution_count": null,
   "metadata": {},
   "outputs": [],
   "source": [
    "out_image, out_transform = rasterio.mask.mask(testdata_rasterio,zwalm_shape_epsg4326['geometry'], invert = False)"
   ]
  },
  {
   "cell_type": "code",
   "execution_count": null,
   "metadata": {},
   "outputs": [],
   "source": [
    "zwalm_shape_epsg4326['geometry']"
   ]
  },
  {
   "cell_type": "code",
   "execution_count": null,
   "metadata": {},
   "outputs": [],
   "source": [
    "testdata_rasterio"
   ]
  },
  {
   "cell_type": "markdown",
   "metadata": {},
   "source": [
    "## Zet raster om naar Tif voor masking"
   ]
  },
  {
   "cell_type": "code",
   "execution_count": null,
   "metadata": {},
   "outputs": [],
   "source": [
    "#totiff = testdata['g0vv']\n",
    "totiff = testdata\n",
    "totiff"
   ]
  },
  {
   "cell_type": "code",
   "execution_count": null,
   "metadata": {},
   "outputs": [],
   "source": [
    "totiff = totiff.rio.set_spatial_dims(x_dim = 'lon', y_dim = 'lat')\n",
    "totiff = totiff.transpose('lat','lon')\n",
    "totiff.rio.crs"
   ]
  },
  {
   "cell_type": "code",
   "execution_count": null,
   "metadata": {},
   "outputs": [],
   "source": [
    "#totiff.rio.to_raster(r\"../data/g0_020m_tiff/test_raster_test.tiff\")"
   ]
  },
  {
   "cell_type": "code",
   "execution_count": null,
   "metadata": {},
   "outputs": [],
   "source": [
    "#totiff.to_netcdf(r\"../data/g0_020m_tiff/test_raster_test.nc\", engine = 'h5netcdf')\n",
    "#from osgeo import gdal\n",
    "#gdal.Translate(r\"../data/g0_020m_tiff/test_raster_test.tiff\",\n",
    "#    r\"../data/g0_020m_tiff/test_raster_test.nc\",\n",
    "#    format = 'GeoTIFF'\n",
    "#)"
   ]
  },
  {
   "cell_type": "code",
   "execution_count": null,
   "metadata": {},
   "outputs": [],
   "source": [
    "#from osgeo import gdal\n",
    "#gdal.Translate(r\"../data/g0_020m_tiff/test_raster_test.tiff\",\n",
    "#    r'..\\data\\g0_020m\\20141118_S1A_D_110.nc',\n",
    "#    format = 'GeoTIFF'\n",
    "#)"
   ]
  },
  {
   "cell_type": "code",
   "execution_count": null,
   "metadata": {},
   "outputs": [],
   "source": [
    "testdata_rasterio_bis = rasterio.open(r\"../data/g0_020m_tiff/test_raster_test.tiff\")"
   ]
  },
  {
   "cell_type": "code",
   "execution_count": null,
   "metadata": {},
   "outputs": [],
   "source": [
    "type(testdata_rasterio_bis)"
   ]
  },
  {
   "cell_type": "code",
   "execution_count": null,
   "metadata": {},
   "outputs": [],
   "source": [
    "testdata_rasterio_bis.crs"
   ]
  },
  {
   "cell_type": "code",
   "execution_count": null,
   "metadata": {},
   "outputs": [],
   "source": [
    "testdata_rasterio_bis.bounds"
   ]
  },
  {
   "cell_type": "code",
   "execution_count": null,
   "metadata": {},
   "outputs": [],
   "source": [
    "out_image, out_transform = rasterio.mask.mask(testdata_rasterio_bis,zwalm_shape_epsg4326['geometry'], invert = False, crop = True)\n",
    "print(type(out_image))\n",
    "print(out_image.shape)\n",
    "out_image_vv = out_image[0,:,:]\n",
    "out_image_masked = np.ma.masked_where(out_image_vv == -9999, out_image_vv)\n",
    "print(out_image_masked.shape)\n",
    "plt.imshow(out_image_masked)\n",
    "plt.colorbar()\n",
    "plt.title('Backscatter vv [dB]')"
   ]
  },
  {
   "cell_type": "code",
   "execution_count": null,
   "metadata": {},
   "outputs": [],
   "source": [
    "out_transform"
   ]
  },
  {
   "cell_type": "code",
   "execution_count": null,
   "metadata": {},
   "outputs": [],
   "source": [
    "out_image.dtype"
   ]
  },
  {
   "cell_type": "code",
   "execution_count": null,
   "metadata": {},
   "outputs": [],
   "source": [
    "len(out_image.shape)"
   ]
  },
  {
   "cell_type": "code",
   "execution_count": null,
   "metadata": {},
   "outputs": [],
   "source": [
    "tiff_zwalm_out = rasterio.open(\n",
    "    '../data/g0_020m_Zwalm/zwalm_sentinel_test_test.tiff',\n",
    "    'w',\n",
    "    driver = 'GTiff',\n",
    "    height = out_image_vv.shape[0],\n",
    "    width = out_image_vv.shape[1],\n",
    "    count = out_image.shape[0],\n",
    "    dtype = out_image.dtype,\n",
    "    crs = testdata_rasterio_bis.crs,\n",
    "    transform = out_transform,\n",
    "    nodata = -9999\n",
    ")\n",
    "print(type(tiff_zwalm_out))\n",
    "tiff_zwalm_out.write(out_image)\n",
    "tiff_zwalm_out.close()"
   ]
  },
  {
   "cell_type": "code",
   "execution_count": null,
   "metadata": {},
   "outputs": [],
   "source": [
    "type(tiff_zwalm_out)"
   ]
  },
  {
   "cell_type": "code",
   "execution_count": null,
   "metadata": {},
   "outputs": [],
   "source": [
    "#save clipped ans masked image as geotiff, then to cdf\n",
    "out_image.shape[1]\n"
   ]
  },
  {
   "cell_type": "code",
   "execution_count": null,
   "metadata": {},
   "outputs": [],
   "source": [
    "out_image"
   ]
  },
  {
   "cell_type": "code",
   "execution_count": null,
   "metadata": {},
   "outputs": [],
   "source": [
    "out_image.shape"
   ]
  },
  {
   "cell_type": "markdown",
   "metadata": {},
   "source": [
    "Transform to netcdf again in GDAL"
   ]
  },
  {
   "cell_type": "code",
   "execution_count": null,
   "metadata": {},
   "outputs": [],
   "source": [
    "inputfile =  '../data/g0_020m_Zwalm/zwalm_sentinel_test_test.tiff'\n",
    "outputfile = '../data/g0_020m_Zwalm/zwalm_sentinel_test_test.nc'\n",
    "from osgeo import gdal\n",
    "ds = gdal.Translate(outputfile, inputfile, format = 'NetCDF')\n",
    "ds"
   ]
  },
  {
   "cell_type": "code",
   "execution_count": null,
   "metadata": {},
   "outputs": [],
   "source": [
    "test_clipped_xarray = xr.open_dataset('../data/g0_020m_Zwalm/zwalm_sentinel_test_test.nc')"
   ]
  },
  {
   "cell_type": "code",
   "execution_count": null,
   "metadata": {},
   "outputs": [],
   "source": [
    "test_clipped_xarray['Band1'].hvplot(geo = True, cmap = 'cividis', tiles = 'OSM', frame_width = 400, alpha = 0.9, title = 'Backscatter [dB]')"
   ]
  },
  {
   "cell_type": "code",
   "execution_count": null,
   "metadata": {},
   "outputs": [],
   "source": [
    "test_clipped_xarray.rio.write_crs('EPSG:4326', inplace = True)\n"
   ]
  },
  {
   "cell_type": "code",
   "execution_count": null,
   "metadata": {},
   "outputs": [],
   "source": []
  }
 ],
 "metadata": {
  "kernelspec": {
   "display_name": "Python 3.10.6 ('thesis')",
   "language": "python",
   "name": "python3"
  },
  "language_info": {
   "codemirror_mode": {
    "name": "ipython",
    "version": 3
   },
   "file_extension": ".py",
   "mimetype": "text/x-python",
   "name": "python",
   "nbconvert_exporter": "python",
   "pygments_lexer": "ipython3",
   "version": "3.10.6"
  },
  "orig_nbformat": 4,
  "vscode": {
   "interpreter": {
    "hash": "a6b8480143e45034b950661dc46ed3131c1d39c9fcb21ab7eff1dd297a31067d"
   }
  }
 },
 "nbformat": 4,
 "nbformat_minor": 2
}
