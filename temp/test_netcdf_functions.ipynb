{
 "cells": [
  {
   "cell_type": "markdown",
   "metadata": {},
   "source": [
    "# Testing the functions for NetCDF processing"
   ]
  },
  {
   "cell_type": "markdown",
   "metadata": {},
   "source": [
    "Set Path for being able to import modules! "
   ]
  },
  {
   "cell_type": "code",
   "execution_count": null,
   "metadata": {},
   "outputs": [],
   "source": [
    "%load_ext autoreload\n",
    "%autoreload 2"
   ]
  },
  {
   "cell_type": "code",
   "execution_count": null,
   "metadata": {},
   "outputs": [],
   "source": [
    "import sys\n",
    "import geopandas as gpd\n",
    "import os\n",
    "import rasterio\n",
    "from pathlib import Path\n",
    "import xarray as xr\n",
    "import hvplot.xarray\n",
    "import datetime\n",
    "import netCDF4\n",
    "sys.path.insert(1,r\"C:\\Users\\olivi\\Documents\\Masterthesis_lokaal\\Python\")"
   ]
  },
  {
   "cell_type": "code",
   "execution_count": null,
   "metadata": {},
   "outputs": [],
   "source": [
    "from functions.pre_processing import (\n",
    "    read_netcdf, \n",
    "    netcdf_to_tiff,\n",
    "    mask_tiff_with_shape,\n",
    "    tiff_to_netcdf,\n",
    "    pre_processing_pipeline\n",
    ")"
   ]
  },
  {
   "cell_type": "code",
   "execution_count": null,
   "metadata": {},
   "outputs": [],
   "source": [
    "if os.path.exists(\"data/temp/masked.tiff\"):\n",
    "    os.remove(\"data/temp/masked.tiff\")\n",
    "if os.path.exists(\"data/temp/raw.tiff\"):\n",
    "    os.remove(\"data/temp/raw.tiff\")"
   ]
  },
  {
   "cell_type": "code",
   "execution_count": null,
   "metadata": {},
   "outputs": [],
   "source": [
    "sentinel_folder_raw = Path('../data/g0_020m')\n",
    "testdata = read_netcdf(filepath=sentinel_folder_raw/'20141118_S1A_D_110.nc',\n",
    "                      epsg = 4326,\n",
    "                      transpose = True)\n",
    "testdata"
   ]
  },
  {
   "cell_type": "code",
   "execution_count": null,
   "metadata": {},
   "outputs": [],
   "source": [
    "#os.remove(\"data/tifftemp.tiff\")\n",
    "raster_rio_tiff = netcdf_to_tiff(testdata, \"data/tifftemp.tiff\")\n",
    "raster_rio_tiff"
   ]
  },
  {
   "cell_type": "code",
   "execution_count": null,
   "metadata": {},
   "outputs": [],
   "source": [
    "#from osgeo import gdal\n",
    "#gdal.Translate('data/unmasked_gdal.tiff',\n",
    "#               '../data/g0_020m/20141118_S1A_D_110.nc',\n",
    "#                format = 'GeoTIFF')\n",
    "#raster_rio_tiff = rasterio.open('data/unmasked_gdal.tiff')"
   ]
  },
  {
   "cell_type": "code",
   "execution_count": null,
   "metadata": {},
   "outputs": [],
   "source": [
    "#gpd_df = gpd.read_file(\"../data/Zwalm_shape/zwalm_shapefile_emma.shp\")\n",
    "#gpd_df.plot()\n",
    "#gpd_df.explore()"
   ]
  },
  {
   "cell_type": "code",
   "execution_count": null,
   "metadata": {},
   "outputs": [],
   "source": [
    "path_shapefile = Path(\"../data/Zwalm_shape/zwalm_shapefile_emma.shp\")\n",
    "path_out = \"data/masked_tiff.tiff\"\n",
    "mask_tiff_with_shape(raster_rio_tiff, path_shapefile, path_out)"
   ]
  },
  {
   "cell_type": "code",
   "execution_count": null,
   "metadata": {},
   "outputs": [],
   "source": [
    "masked_xarray = tiff_to_netcdf(\"data/masked_tiff.tiff\", \"data/masked.nc\",\"data/masked_temp.nc\", return_bool = True, \n",
    "add_time = True, filepath_nc_raw = sentinel_folder_raw/'20141118_S1A_D_110.nc')"
   ]
  },
  {
   "cell_type": "code",
   "execution_count": null,
   "metadata": {},
   "outputs": [],
   "source": [
    "? tiff_to_netcdf"
   ]
  },
  {
   "cell_type": "code",
   "execution_count": null,
   "metadata": {},
   "outputs": [],
   "source": [
    "#masked_xarray = xr.open_dataset(\"data/masked.nc\")\n",
    "masked_xarray"
   ]
  },
  {
   "cell_type": "code",
   "execution_count": null,
   "metadata": {},
   "outputs": [],
   "source": [
    "import matplotlib.pyplot as plt\n",
    "plt.imshow(masked_xarray['g0vv'].sel(time =\"2014-11-18\").values)"
   ]
  },
  {
   "cell_type": "code",
   "execution_count": null,
   "metadata": {},
   "outputs": [],
   "source": [
    "#masked_xarray['g0vv'].hvplot.image(geo = True, tiles = 'OSM', cmap = 'cividis', frame_width = 350)"
   ]
  },
  {
   "cell_type": "markdown",
   "metadata": {},
   "source": [
    "In one pipeline"
   ]
  },
  {
   "cell_type": "code",
   "execution_count": null,
   "metadata": {},
   "outputs": [],
   "source": [
    "if os.path.exists(\"../data/temp/masked.tiff\"):\n",
    "    os.remove(\"../data/temp/masked.tiff\")\n",
    "if os.path.exists(\"../data/temp/raw.tiff\"):\n",
    "    os.remove(\"../data/temp/raw.tiff\")\n",
    "masked_xarray = pre_processing_pipeline(\n",
    "    filepath_nc_raw = sentinel_folder_raw/'20141118_S1A_D_110.nc',\n",
    "    filepath_shapefile = '../data/Zwalm_shape/zwalm_shapefile_emma.shp',\n",
    "    filepath_nc_processed = '../data/g0_020m_Zwalm/20141118_S1A_D_110_Zwalm_test.nc',\n",
    "    filepath_temp_data = '../data/temp',\n",
    "    epsg = 4326,\n",
    "    return_bool = True\n",
    ")\n",
    "masked_xarray"
   ]
  },
  {
   "cell_type": "markdown",
   "metadata": {},
   "source": [
    "Ooit voor direct meerder samen inlezen: ``xr.open_mfdataset('my/files/*.nc', parallel=True)``"
   ]
  },
  {
   "cell_type": "code",
   "execution_count": null,
   "metadata": {},
   "outputs": [],
   "source": [
    "masked_xarray['g0vv'].plot()"
   ]
  },
  {
   "cell_type": "code",
   "execution_count": null,
   "metadata": {},
   "outputs": [],
   "source": [
    "masked_xarray['g0vv'].hvplot.image(geo = True, tiles = 'OSM')"
   ]
  },
  {
   "cell_type": "markdown",
   "metadata": {},
   "source": [
    "## Other bands"
   ]
  },
  {
   "cell_type": "markdown",
   "metadata": {},
   "source": [
    "Wiki: 'The orbit has a 12-day repeat cycle and completes 175 orbits per cycle.' These are indicated by the number!! \n",
    "Satellite can pass coming down or going up\n",
    "* D = Down\n",
    "* U = Up\n",
    "S1A and S1B are 2 different satelites!"
   ]
  },
  {
   "cell_type": "markdown",
   "metadata": {},
   "source": [
    "For data at the beginning of the timeseries: only 110 properly"
   ]
  },
  {
   "cell_type": "markdown",
   "metadata": {},
   "source": [
    "### Band 37"
   ]
  },
  {
   "cell_type": "code",
   "execution_count": null,
   "metadata": {},
   "outputs": [],
   "source": [
    "masked_xarray_037 = pre_processing_pipeline(\n",
    "    #filepath_nc_raw = '../data/g0_020m/20141008_S1A_D_037.nc',\n",
    "    filepath_nc_raw = sentinel_folder_raw/'20141008_S1A_D_037.nc',\n",
    "    filepath_shapefile = '../data/Zwalm_shape/zwalm_shapefile_emma.shp',\n",
    "    filepath_nc_processed = '../data/g0_020m_Zwalm/20141008_S1A_D_037_Zwalm.nc',\n",
    "    filepath_temp_data = '../data/temp',\n",
    "    epsg = 4326,\n",
    "    return_bool = True,\n",
    ")\n",
    "masked_xarray_037"
   ]
  },
  {
   "cell_type": "code",
   "execution_count": null,
   "metadata": {},
   "outputs": [],
   "source": [
    "#masked_xarray_037['g0vv'].hvplot(geo = True, tiles = 'OSM', cmap = 'cividis', frame_width = 350)\n",
    "masked_xarray_037['g0vv'].plot()"
   ]
  },
  {
   "cell_type": "markdown",
   "metadata": {},
   "source": [
    "### Band 59"
   ]
  },
  {
   "cell_type": "code",
   "execution_count": null,
   "metadata": {},
   "outputs": [],
   "source": [
    "masked_xarray_059 = pre_processing_pipeline(\n",
    "    filepath_nc_raw = sentinel_folder_raw/'20141021_S1A_A_059.nc',\n",
    "    filepath_shapefile = '../data/Zwalm_shape/zwalm_shapefile_emma.shp',\n",
    "    filepath_nc_processed = '../data/g0_020m_Zwalm/20141021_S1A_A_059_Zwalm.nc',\n",
    "    filepath_temp_data = '../data/temp',\n",
    "    epsg = 4326,\n",
    "    return_bool = True\n",
    ")\n",
    "masked_xarray_059"
   ]
  },
  {
   "cell_type": "code",
   "execution_count": null,
   "metadata": {},
   "outputs": [],
   "source": [
    "masked_xarray_059['g0vv'].plot()"
   ]
  },
  {
   "cell_type": "markdown",
   "metadata": {},
   "source": [
    "## Band 88"
   ]
  },
  {
   "cell_type": "code",
   "execution_count": null,
   "metadata": {},
   "outputs": [],
   "source": [
    "masked_xarray_088 = pre_processing_pipeline(\n",
    "    filepath_nc_raw = sentinel_folder_raw/'20141104_S1A_A_088.nc',\n",
    "    filepath_shapefile = '../data/Zwalm_shape/zwalm_shapefile_emma.shp',\n",
    "    filepath_nc_processed = '../data/g0_020m_Zwalm/20141104_S1A_A_088_Zwalm.nc',\n",
    "    filepath_temp_data = '../data/temp',\n",
    "    epsg = 4326,\n",
    "    return_bool = True\n",
    ")\n",
    "masked_xarray_088"
   ]
  },
  {
   "cell_type": "code",
   "execution_count": null,
   "metadata": {},
   "outputs": [],
   "source": [
    "import numpy as np\n",
    "np.all(np.isnan(masked_xarray_088['g0vv'].values))"
   ]
  },
  {
   "cell_type": "code",
   "execution_count": null,
   "metadata": {},
   "outputs": [],
   "source": [
    "masked_xarray_088['g0vv'].plot()"
   ]
  },
  {
   "cell_type": "markdown",
   "metadata": {},
   "source": [
    "## Band 8"
   ]
  },
  {
   "cell_type": "code",
   "execution_count": null,
   "metadata": {},
   "outputs": [],
   "source": [
    "masked_xarray_08 = pre_processing_pipeline(\n",
    "    filepath_nc_raw = sentinel_folder_raw/'20141111_S1A_D_008.nc',\n",
    "    filepath_shapefile = '../data/Zwalm_shape/zwalm_shapefile_emma.shp',\n",
    "    filepath_nc_processed = '../data/g0_020m_Zwalm/20141111_S1A_D_008_Zwalm.nc',\n",
    "    filepath_temp_data = '../data/temp',\n",
    "    epsg = 4326,\n",
    "    return_bool = True\n",
    ")\n",
    "masked_xarray_08"
   ]
  },
  {
   "cell_type": "code",
   "execution_count": null,
   "metadata": {},
   "outputs": [],
   "source": [
    "masked_xarray_08['g0vv'].plot()"
   ]
  },
  {
   "cell_type": "markdown",
   "metadata": {},
   "source": [
    "### Band 161"
   ]
  },
  {
   "cell_type": "code",
   "execution_count": null,
   "metadata": {},
   "outputs": [],
   "source": [
    "masked_xarray_161 = pre_processing_pipeline(\n",
    "    filepath_nc_raw = sentinel_folder_raw/'20141121_S1A_A_161.nc',\n",
    "    filepath_shapefile = '../data/Zwalm_shape/zwalm_shapefile_emma.shp',\n",
    "    filepath_nc_processed = '../data/g0_020m_Zwalm/20141121_S1A_A_161_Zwalm.nc',\n",
    "    filepath_temp_data = '../data/temp',\n",
    "    epsg = 4326,\n",
    "    return_bool = True\n",
    ")\n",
    "masked_xarray_161"
   ]
  },
  {
   "cell_type": "code",
   "execution_count": null,
   "metadata": {},
   "outputs": [],
   "source": [
    "masked_xarray_161['g0vv'].plot()"
   ]
  },
  {
   "cell_type": "code",
   "execution_count": null,
   "metadata": {},
   "outputs": [],
   "source": []
  }
 ],
 "metadata": {
  "kernelspec": {
   "display_name": "Python 3 (ipykernel)",
   "language": "python",
   "name": "python3"
  },
  "language_info": {
   "codemirror_mode": {
    "name": "ipython",
    "version": 3
   },
   "file_extension": ".py",
   "mimetype": "text/x-python",
   "name": "python",
   "nbconvert_exporter": "python",
   "pygments_lexer": "ipython3",
   "version": "3.10.6"
  },
  "vscode": {
   "interpreter": {
    "hash": "a6b8480143e45034b950661dc46ed3131c1d39c9fcb21ab7eff1dd297a31067d"
   }
  }
 },
 "nbformat": 4,
 "nbformat_minor": 4
}
