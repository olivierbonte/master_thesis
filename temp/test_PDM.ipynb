{
 "cells": [
  {
   "cell_type": "markdown",
   "metadata": {},
   "source": [
    "## Testing the Python implementation of PDM"
   ]
  },
  {
   "cell_type": "code",
   "execution_count": null,
   "metadata": {},
   "outputs": [],
   "source": [
    "import os\n",
    "import numpy as np\n",
    "import pandas as pd\n",
    "from pathlib import Path\n",
    "import matplotlib.pyplot as plt\n",
    "import hvplot\n",
    "import hvplot.pandas\n",
    "from datetime import timedelta\n",
    "\n",
    "%load_ext autoreload\n",
    "%autoreload 2"
   ]
  },
  {
   "cell_type": "code",
   "execution_count": null,
   "metadata": {},
   "outputs": [],
   "source": [
    "pad = Path(os.getcwd())\n",
    "pad.name"
   ]
  },
  {
   "cell_type": "markdown",
   "metadata": {},
   "source": [
    "Set Path to the above folder = the main Python folder"
   ]
  },
  {
   "cell_type": "code",
   "execution_count": null,
   "metadata": {},
   "outputs": [],
   "source": [
    "if pad.name != \"Python\":\n",
    "    pad_correct = Path(\"../../Python\")\n",
    "    os.chdir(pad_correct)\n",
    "from functions.PDM import PDM"
   ]
  },
  {
   "cell_type": "code",
   "execution_count": null,
   "metadata": {},
   "outputs": [],
   "source": [
    "area = pd.read_csv('matlab/data/Area.csv', header= None, dtype = np.float32)\n",
    "A = np.single(area.values[0][0])\n",
    "display(area)\n",
    "display(A)\n",
    "type(A)"
   ]
  },
  {
   "cell_type": "code",
   "execution_count": null,
   "metadata": {},
   "outputs": [],
   "source": [
    "A"
   ]
  },
  {
   "cell_type": "code",
   "execution_count": null,
   "metadata": {},
   "outputs": [],
   "source": [
    "colnames = ['cmax','cmin','b','be','k1','k2','kb',\n",
    "            'kg','St','bg','tdly','qconst','rainfac']\n",
    "parameters = pd.read_csv('matlab/data/paramPDM.csv', names = colnames, header = None,\n",
    "dtype = np.float32)\n",
    "parameters"
   ]
  },
  {
   "cell_type": "code",
   "execution_count": null,
   "metadata": {},
   "outputs": [],
   "source": [
    "P = pd.read_csv(\"matlab/data/P.csv\", names = ['P'], dtype = np.float32)\n",
    "fig, ax = plt.subplots()\n",
    "ax.plot(P)"
   ]
  },
  {
   "cell_type": "code",
   "execution_count": null,
   "metadata": {},
   "outputs": [],
   "source": [
    "any(np.isnan(P))"
   ]
  },
  {
   "cell_type": "code",
   "execution_count": null,
   "metadata": {},
   "outputs": [],
   "source": [
    "EP = pd.read_csv(\"matlab/data/EP.csv\", names = ['EP'], dtype = np.float32)\n",
    "fig, ax = plt.subplots()\n",
    "ax.plot(EP)"
   ]
  },
  {
   "cell_type": "code",
   "execution_count": null,
   "metadata": {},
   "outputs": [],
   "source": [
    "time = pd.date_range(start = '01/01/1971', end = '31/12/2000', freq = 'H')\n",
    "print(type(time))\n",
    "time"
   ]
  },
  {
   "cell_type": "code",
   "execution_count": null,
   "metadata": {},
   "outputs": [],
   "source": [
    "time_daily = pd.date_range(start = time[0], end = time[-1], freq ='4D')\n",
    "time_daily"
   ]
  },
  {
   "cell_type": "code",
   "execution_count": null,
   "metadata": {},
   "outputs": [],
   "source": [
    "observations = pd.read_csv(Path(\"matlab/output/Qmod.csv\"), names = [\"Q_obs\"])\n",
    "observations.shape"
   ]
  },
  {
   "cell_type": "markdown",
   "metadata": {},
   "source": [
    "## Calling the function and comparing with matlab function and observed data"
   ]
  },
  {
   "cell_type": "code",
   "execution_count": null,
   "metadata": {},
   "outputs": [],
   "source": [
    "deltat = 1\n",
    "deltat_out = 24\n",
    "time_in = time[:len(P.values)]\n",
    "#qmod, tmod, Cstar, qbm3s, qsm3s, Eiacc = PDM(P.values, EP.values, time_in, A,deltat, deltat_out, parameters)\n",
    "pd_out = PDM(P.values, EP.values, time_in, A,deltat, deltat_out, parameters)"
   ]
  },
  {
   "cell_type": "code",
   "execution_count": null,
   "metadata": {},
   "outputs": [],
   "source": [
    "P.values.shape"
   ]
  },
  {
   "cell_type": "code",
   "execution_count": null,
   "metadata": {},
   "outputs": [],
   "source": [
    "pd_out"
   ]
  },
  {
   "cell_type": "markdown",
   "metadata": {},
   "source": [
    "Loading in matlab output"
   ]
  },
  {
   "cell_type": "code",
   "execution_count": null,
   "metadata": {},
   "outputs": [],
   "source": [
    "qmod_pd = pd.read_csv(\"matlab/output/Qmod.csv\", dtype = np.float32, header = None,names = ['Matlab'])\n",
    "pd_qmod_obs = pd.read_csv(\"matlab/data/observations.csv\", dtype = np.float32, header = None, names = ['Observed'])\n",
    "qmod_matlab = qmod_pd['Matlab'].values\n",
    "qmod_obs = pd_qmod_obs['Observed'].values\n",
    "qmod_pd['Python'] = pd_out['qmodm3s']\n",
    "qmod_pd['Observed'] = pd_qmod_obs\n",
    "qmod_pd['Time'] = pd_out['Time']\n",
    "display(qmod_pd)"
   ]
  },
  {
   "cell_type": "code",
   "execution_count": null,
   "metadata": {},
   "outputs": [],
   "source": [
    "#fig, ax = plt.subplots(figsize = (10,8))\n",
    "#ax.plot(tmod, qmod, label = 'Python')\n",
    "#ax.plot(tmod, qmod_matlab, linestyle = 'dotted', label ='Matlab')\n",
    "#ax.plot(tmod, qmod_obs, linestyle = 'dashed', label = 'observed')\n",
    "#ax.legend()\n",
    "qmod_pd.plot(x = 'Time', y = ['Python','Observed','Matlab'])"
   ]
  },
  {
   "cell_type": "code",
   "execution_count": null,
   "metadata": {},
   "outputs": [],
   "source": [
    "qmod_pd.hvplot.line(x = 'Time', y = ['Matlab','Python','Observed'],height = 500, width = 800)\n"
   ]
  },
  {
   "cell_type": "code",
   "execution_count": null,
   "metadata": {},
   "outputs": [],
   "source": [
    "fig, ax = plt.subplots(figsize = (6,6))\n",
    "ax.plot(pd_out['Cstar'])"
   ]
  },
  {
   "cell_type": "code",
   "execution_count": null,
   "metadata": {},
   "outputs": [],
   "source": [
    "#fig, ax = plt.subplots(figsize = (6,6))\n",
    "#ax.plot(S1)"
   ]
  },
  {
   "cell_type": "code",
   "execution_count": null,
   "metadata": {},
   "outputs": [],
   "source": [
    "#fig, ax = plt.subplots(figsize = (6,6))\n",
    "#ax.plot(V)"
   ]
  },
  {
   "cell_type": "code",
   "execution_count": null,
   "metadata": {},
   "outputs": [],
   "source": [
    "#fig, ax = plt.subplots(figsize = (6,6))\n",
    "#ax.plot(qbm3s)"
   ]
  },
  {
   "cell_type": "code",
   "execution_count": null,
   "metadata": {},
   "outputs": [],
   "source": [
    "#fig, ax = plt.subplots(figsize = (6,6))\n",
    "#ax.plot(S3)"
   ]
  },
  {
   "cell_type": "code",
   "execution_count": null,
   "metadata": {},
   "outputs": [],
   "source": [
    "#fig, ax = plt.subplots(figsize = (6,6))\n",
    "#ax.plot(qsm3s)"
   ]
  },
  {
   "cell_type": "code",
   "execution_count": null,
   "metadata": {},
   "outputs": [],
   "source": [
    "#fig, ax = plt.subplots(figsize = (6,6))\n",
    "#ax.plot(di)"
   ]
  },
  {
   "cell_type": "markdown",
   "metadata": {},
   "source": [
    "### hourly comparison instead of daily"
   ]
  },
  {
   "cell_type": "code",
   "execution_count": null,
   "metadata": {},
   "outputs": [],
   "source": [
    "deltat_out_bis = 1\n",
    "pd_out_hr = PDM(P.values, EP.values, time_in, A,deltat, deltat_out_bis, parameters)\n",
    "qmod_hr_matlab = pd.read_csv(Path(\"matlab/output/Qmod_hr.csv\"), dtype = np.float32, header = None)"
   ]
  },
  {
   "cell_type": "code",
   "execution_count": null,
   "metadata": {},
   "outputs": [],
   "source": [
    "pd_out_hr"
   ]
  },
  {
   "cell_type": "code",
   "execution_count": null,
   "metadata": {},
   "outputs": [],
   "source": [
    "print(len(pd_out_hr))\n",
    "print(len(qmod_hr_matlab))"
   ]
  },
  {
   "cell_type": "code",
   "execution_count": null,
   "metadata": {},
   "outputs": [],
   "source": [
    "#qmod_hr_nonan = qmod_hr[~np.isnan(qmod_hr)]\n",
    "#tmod_hr_nonan = tmod_hr[~np.isnan(qmod_hr)]"
   ]
  },
  {
   "cell_type": "code",
   "execution_count": null,
   "metadata": {},
   "outputs": [],
   "source": [
    "qmod_hr_matlab = qmod_hr_matlab[:len(pd_out_hr)]"
   ]
  },
  {
   "cell_type": "code",
   "execution_count": null,
   "metadata": {},
   "outputs": [],
   "source": [
    "#concatted = np.concatenate((qmod_hr.reshape((len(qmod_hr),-1)),qmod_hr_matlab.values),axis = 1)\n",
    "#pd_out_hr= pd.DataFrame(concatted, columns = ['Python','Matlab'])\n",
    "#pd_out_hr['Time'] = tmod_hr_nonan\n",
    "pd_out_hr = pd_out_hr.rename(columns = {'qmodm3s':'Python'})\n",
    "pd_out_hr['Matlab'] = qmod_hr_matlab\n",
    "pd_out_hr"
   ]
  },
  {
   "cell_type": "code",
   "execution_count": null,
   "metadata": {},
   "outputs": [],
   "source": [
    "pd_out_hr.plot(x= 'Time', y = ['Python','Matlab'])"
   ]
  },
  {
   "cell_type": "code",
   "execution_count": null,
   "metadata": {},
   "outputs": [],
   "source": [
    "pd_out_hr.hvplot(x= 'Time', y = ['Python','Matlab'])"
   ]
  },
  {
   "cell_type": "code",
   "execution_count": null,
   "metadata": {},
   "outputs": [],
   "source": [
    "pd_out_hr['100*(Python-Matlab)'] = (pd_out_hr['Python'] - pd_out_hr['Matlab'])*100"
   ]
  },
  {
   "cell_type": "code",
   "execution_count": null,
   "metadata": {},
   "outputs": [],
   "source": [
    "#pd_out_hr.hvplot(x= 'Time', y = 'Python-Matlab') + pd_out_hr.hvplot(x = 'Time', y = 'Python')\n",
    "pd_out_hr.hvplot(x= 'Time', y = ['100*(Python-Matlab)','Python'],subplots = True).cols(1)"
   ]
  },
  {
   "cell_type": "markdown",
   "metadata": {},
   "source": [
    "Clear conclusion: the difference in the implementation when Cstar reaches cmax"
   ]
  },
  {
   "cell_type": "markdown",
   "metadata": {},
   "source": [
    "### Compare with the adapated matlab version on hourly basis"
   ]
  },
  {
   "cell_type": "code",
   "execution_count": null,
   "metadata": {},
   "outputs": [],
   "source": [
    "qmod_hr_matlab_adapted = pd.read_csv(Path(\"matlab/output/Qmod_adapted_hr.csv\"), dtype = np.float32, header = None)\n",
    "pd_out_hr['Matlab_adapted'] = qmod_hr_matlab_adapted.values[0:len(pd_out_hr)]\n",
    "pd_out_hr['100*(Python-Matlab_adapted)'] = (pd_out_hr['Python'] - pd_out_hr['Matlab_adapted'])*100\n",
    "pd_out_hr.hvplot(x= 'Time', y = ['100*(Python-Matlab_adapted)','Python'],subplots = True).cols(1)"
   ]
  },
  {
   "cell_type": "markdown",
   "metadata": {},
   "source": [
    "## Mass Balance"
   ]
  },
  {
   "cell_type": "markdown",
   "metadata": {},
   "source": [
    "All evapotranspiration and precipitation data are expressed in mm/h and are valid for deltat = 1 hour"
   ]
  },
  {
   "cell_type": "code",
   "execution_count": null,
   "metadata": {},
   "outputs": [],
   "source": [
    "total_actual_EP = np.nansum(pd_out_hr['Eiacc'])\n",
    "total_P = np.sum(P.values)\n",
    "total_qm3= np.nansum(pd_out_hr['Python'])*3600 #for 1 hour = 3600s\n",
    "total_qmod = total_qm3*1000/(A*1000**2) #m^3/m^2 and then *1000 for m-> mm\n",
    "totaltime = totaltime = pd_out_hr['Time'].iloc[-1] - pd_out_hr['Time'].iloc[0]\n",
    "totaltime_days = totaltime.days + totaltime.seconds/(3600*24)\n",
    "total_qconstm3 = parameters['qconst'].values*3600*24*totaltime_days\n",
    "total_qconst = total_qconstm3*1000/(A*1000**2) #to mm\n",
    "total_net_rain = total_P - total_actual_EP + total_qconst #so account for constant abstraction!!\n",
    "print(total_net_rain, total_qmod, total_qconst)"
   ]
  },
  {
   "cell_type": "code",
   "execution_count": null,
   "metadata": {},
   "outputs": [],
   "source": [
    "total_qconst"
   ]
  },
  {
   "cell_type": "code",
   "execution_count": null,
   "metadata": {},
   "outputs": [],
   "source": [
    "fig, ax = plt.subplots(figsize = (6,6))\n",
    "ax.bar(x = ['P','actual_EP','P-actual_EP','Qtot','Qconst'],\n",
    "height = [total_P, total_actual_EP, total_net_rain[0], total_qmod[0], total_qconst[0]])"
   ]
  },
  {
   "cell_type": "code",
   "execution_count": null,
   "metadata": {},
   "outputs": [],
   "source": [
    "fig, ax = plt.subplots(figsize = (6,6))\n",
    "ax.bar(x = ['P-actual_EP+Qconst','Qtot'],height = [total_net_rain.item(), total_qmod.item()])"
   ]
  },
  {
   "cell_type": "code",
   "execution_count": null,
   "metadata": {},
   "outputs": [],
   "source": [
    "total_net_rain.item()"
   ]
  },
  {
   "cell_type": "code",
   "execution_count": null,
   "metadata": {},
   "outputs": [],
   "source": [
    "total_net_rain.flatten()"
   ]
  },
  {
   "cell_type": "code",
   "execution_count": null,
   "metadata": {},
   "outputs": [],
   "source": []
  }
 ],
 "metadata": {
  "kernelspec": {
   "display_name": "Python 3 (ipykernel)",
   "language": "python",
   "name": "python3"
  },
  "language_info": {
   "codemirror_mode": {
    "name": "ipython",
    "version": 3
   },
   "file_extension": ".py",
   "mimetype": "text/x-python",
   "name": "python",
   "nbconvert_exporter": "python",
   "pygments_lexer": "ipython3",
   "version": "3.10.6"
  },
  "vscode": {
   "interpreter": {
    "hash": "a6b8480143e45034b950661dc46ed3131c1d39c9fcb21ab7eff1dd297a31067d"
   }
  }
 },
 "nbformat": 4,
 "nbformat_minor": 4
}
