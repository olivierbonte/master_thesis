{
 "cells": [
  {
   "cell_type": "markdown",
   "metadata": {},
   "source": [
    "## Testing the Python implementation of PDM"
   ]
  },
  {
   "cell_type": "code",
   "execution_count": null,
   "metadata": {},
   "outputs": [],
   "source": [
    "import sys\n",
    "import pandas as pd\n",
    "print(sys.path)"
   ]
  },
  {
   "cell_type": "code",
   "execution_count": null,
   "metadata": {},
   "outputs": [],
   "source": [
    "# some_file.py\n",
    "#import sys\n",
    "#from setuptools import setup, find_packages\n",
    "#setup(\n",
    "#  name = 'functions',\n",
    "#  packages = ['functions'],#find_packages(where = './functions')\n",
    "#)\n",
    "# caution: path[0] is reserved for script path (or '' in REPL)\n",
    "#sys.path.insert(1, 'Python')\n",
    "sys.path.insert(1,r'c:\\Users\\olivi\\OneDrive - UGent\\Bio-ingenieur_master_2022-2023\\Masterthesis\\Python')\n",
    "#print(sys.path)\n",
    "#from ..functions.PDM import PDM\n",
    "from functions.PDM import PDM\n",
    "#print(sys.path)"
   ]
  },
  {
   "cell_type": "code",
   "execution_count": null,
   "metadata": {},
   "outputs": [],
   "source": [
    "area = pd.read_csv('../matlab/data/Area.csv', header= None)\n",
    "A = area.values\n",
    "display(area)\n",
    "display(A)"
   ]
  },
  {
   "cell_type": "code",
   "execution_count": null,
   "metadata": {},
   "outputs": [],
   "source": [
    "colnames = ['cmax','cmin','b','be','k1','k2','kb',\n",
    "            'kg','St','bg','tdly','qconst','rainfac']\n",
    "parameters = pd.read_csv('../matlab/data/paramPDM.csv', names = colnames, header = None)\n",
    "parameters"
   ]
  },
  {
   "cell_type": "code",
   "execution_count": null,
   "metadata": {},
   "outputs": [],
   "source": [
    "P = pd.read_csv(\"../matlab/data/P.csv\", names = ['P'])\n",
    "P"
   ]
  },
  {
   "cell_type": "code",
   "execution_count": null,
   "metadata": {},
   "outputs": [],
   "source": [
    "EP = pd.read_csv(\"../matlab/data/EP.csv\", names = ['EP'])\n",
    "EP"
   ]
  },
  {
   "cell_type": "code",
   "execution_count": null,
   "metadata": {},
   "outputs": [],
   "source": [
    "forcings = P.join(EP)\n",
    "forcings"
   ]
  },
  {
   "cell_type": "code",
   "execution_count": null,
   "metadata": {},
   "outputs": [],
   "source": [
    "pd.date_range(start = '01/01/1971', end = '31/12/2000', freq = 'H')"
   ]
  },
  {
   "cell_type": "code",
   "execution_count": null,
   "metadata": {},
   "outputs": [],
   "source": []
  }
 ],
 "metadata": {
  "kernelspec": {
   "display_name": "Python 3 (ipykernel)",
   "language": "python",
   "name": "python3"
  },
  "language_info": {
   "codemirror_mode": {
    "name": "ipython",
    "version": 3
   },
   "file_extension": ".py",
   "mimetype": "text/x-python",
   "name": "python",
   "nbconvert_exporter": "python",
   "pygments_lexer": "ipython3",
   "version": "3.10.6"
  },
  "vscode": {
   "interpreter": {
    "hash": "a6b8480143e45034b950661dc46ed3131c1d39c9fcb21ab7eff1dd297a31067d"
   }
  }
 },
 "nbformat": 4,
 "nbformat_minor": 4
}
