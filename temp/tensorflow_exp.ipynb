{
 "cells": [
  {
   "attachments": {},
   "cell_type": "markdown",
   "metadata": {},
   "source": [
    "# Tensorflow learning"
   ]
  },
  {
   "attachments": {},
   "cell_type": "markdown",
   "metadata": {},
   "source": [
    "## 1 Basics\n",
    "\n",
    "https://www.tensorflow.org/guide/basics"
   ]
  },
  {
   "attachments": {},
   "cell_type": "markdown",
   "metadata": {},
   "source": [
    "### 1.1 Tensors"
   ]
  },
  {
   "cell_type": "code",
   "execution_count": 4,
   "metadata": {},
   "outputs": [],
   "source": [
    "import tensorflow as tf"
   ]
  },
  {
   "cell_type": "code",
   "execution_count": 5,
   "metadata": {},
   "outputs": [
    {
     "name": "stdout",
     "output_type": "stream",
     "text": [
      "tf.Tensor(\n",
      "[[1. 2. 3.]\n",
      " [4. 5. 6.]], shape=(2, 3), dtype=float32)\n",
      "(2, 3)\n",
      "<dtype: 'float32'>\n"
     ]
    }
   ],
   "source": [
    "x = tf.constant([[1., 2., 3.],\n",
    "                 [4., 5., 6.]])\n",
    "\n",
    "print(x)\n",
    "print(x.shape)\n",
    "print(x.dtype)"
   ]
  },
  {
   "cell_type": "code",
   "execution_count": 6,
   "metadata": {},
   "outputs": [
    {
     "data": {
      "text/plain": [
       "<tf.Tensor: shape=(2, 3), dtype=float32, numpy=\n",
       "array([[0.09003057, 0.24472848, 0.66524094],\n",
       "       [0.09003057, 0.24472848, 0.66524094]], dtype=float32)>"
      ]
     },
     "execution_count": 6,
     "metadata": {},
     "output_type": "execute_result"
    }
   ],
   "source": [
    "tf.nn.softmax(x, axis= -1)"
   ]
  },
  {
   "cell_type": "code",
   "execution_count": 7,
   "metadata": {},
   "outputs": [
    {
     "name": "stdout",
     "output_type": "stream",
     "text": [
      "TensorFlow **IS NOT** using the GPU\n"
     ]
    }
   ],
   "source": [
    "if tf.config.list_physical_devices('GPU'):\n",
    "  print(\"TensorFlow **IS** using the GPU\")\n",
    "else:\n",
    "  print(\"TensorFlow **IS NOT** using the GPU\")"
   ]
  },
  {
   "attachments": {},
   "cell_type": "markdown",
   "metadata": {},
   "source": [
    "### 1.2 Variables"
   ]
  },
  {
   "attachments": {},
   "cell_type": "markdown",
   "metadata": {},
   "source": [
    "`tf.Tensor` zijn onveanderlijk <-> `tf.Variable` zijn veranderlijk = nodig voor modelgewichten"
   ]
  },
  {
   "cell_type": "code",
   "execution_count": 8,
   "metadata": {},
   "outputs": [
    {
     "data": {
      "text/plain": [
       "<tf.Variable 'UnreadVariable' shape=(3,) dtype=float32, numpy=array([1., 2., 3.], dtype=float32)>"
      ]
     },
     "execution_count": 8,
     "metadata": {},
     "output_type": "execute_result"
    }
   ],
   "source": [
    "var = tf.Variable([0.0, 0.0, 0.0])\n",
    "var.assign([1, 2, 3])"
   ]
  },
  {
   "attachments": {},
   "cell_type": "markdown",
   "metadata": {},
   "source": [
    "### 1.3 Automatic differentiation"
   ]
  },
  {
   "attachments": {},
   "cell_type": "markdown",
   "metadata": {},
   "source": [
    "Use calculus to compute the gradients!"
   ]
  },
  {
   "cell_type": "code",
   "execution_count": 9,
   "metadata": {},
   "outputs": [],
   "source": [
    "x = tf.Variable(1.0) #variable since mutable\n",
    "\n",
    "def f(x):\n",
    "  y = x**2 + 2*x - 5\n",
    "  return y"
   ]
  },
  {
   "cell_type": "code",
   "execution_count": 10,
   "metadata": {},
   "outputs": [
    {
     "data": {
      "text/plain": [
       "<tf.Tensor: shape=(), dtype=float32, numpy=-2.0>"
      ]
     },
     "execution_count": 10,
     "metadata": {},
     "output_type": "execute_result"
    }
   ],
   "source": [
    "f(x)"
   ]
  },
  {
   "cell_type": "code",
   "execution_count": 11,
   "metadata": {},
   "outputs": [
    {
     "data": {
      "text/plain": [
       "<tf.Tensor: shape=(), dtype=float32, numpy=4.0>"
      ]
     },
     "execution_count": 11,
     "metadata": {},
     "output_type": "execute_result"
    }
   ],
   "source": [
    "with tf.GradientTape() as tape: #only works on variables\n",
    "  y = f(x)\n",
    "\n",
    "g_x = tape.gradient(y, x)  # g(x) = dy/dx\n",
    "\n",
    "g_x"
   ]
  },
  {
   "attachments": {},
   "cell_type": "markdown",
   "metadata": {},
   "source": [
    "Also works for non scalars"
   ]
  },
  {
   "attachments": {},
   "cell_type": "markdown",
   "metadata": {},
   "source": [
    "### 1.4 Graphs and tf.function"
   ]
  },
  {
   "cell_type": "code",
   "execution_count": 12,
   "metadata": {},
   "outputs": [],
   "source": [
    "#seperate the pure tensorflow code!\n",
    "class test(tf.Module):\n",
    "  @tf.function #compiles to tf graph\n",
    "  def my_func(x):\n",
    "    print('Tracing.\\n')\n",
    "    return tf.reduce_sum(x)"
   ]
  },
  {
   "cell_type": "code",
   "execution_count": 13,
   "metadata": {},
   "outputs": [],
   "source": [
    "x = tf.constant([1, 2, 3])\n",
    "test_obj = test()\n",
    "# test_obj.my_func(x)"
   ]
  },
  {
   "attachments": {},
   "cell_type": "markdown",
   "metadata": {},
   "source": [
    "You can export for system not having python!"
   ]
  },
  {
   "cell_type": "code",
   "execution_count": 14,
   "metadata": {},
   "outputs": [
    {
     "name": "stderr",
     "output_type": "stream",
     "text": [
      "WARNING:absl:Found untraced functions such as my_func while saving (showing 1 of 1). These functions will not be directly callable after loading.\n"
     ]
    },
    {
     "name": "stdout",
     "output_type": "stream",
     "text": [
      "INFO:tensorflow:Assets written to: data/assets\n"
     ]
    },
    {
     "name": "stderr",
     "output_type": "stream",
     "text": [
      "INFO:tensorflow:Assets written to: data/assets\n"
     ]
    }
   ],
   "source": [
    "tf.saved_model.save(test_obj, 'data/')"
   ]
  },
  {
   "attachments": {},
   "cell_type": "markdown",
   "metadata": {},
   "source": [
    "### 1.5 Modules, layers and models"
   ]
  },
  {
   "attachments": {},
   "cell_type": "markdown",
   "metadata": {},
   "source": [
    "`tf.Module` is a class for managing your `tf.Variable` objects, and the `tf.function` objects that operate on them"
   ]
  },
  {
   "cell_type": "code",
   "execution_count": 15,
   "metadata": {},
   "outputs": [],
   "source": [
    "class MyModule(tf.Module):\n",
    "  def __init__(self, value):\n",
    "    self.weight = tf.Variable(value)\n",
    "\n",
    "  @tf.function\n",
    "  def multiply(self, x):\n",
    "    return x * self.weight"
   ]
  },
  {
   "cell_type": "code",
   "execution_count": 16,
   "metadata": {},
   "outputs": [
    {
     "data": {
      "text/plain": [
       "3"
      ]
     },
     "execution_count": 16,
     "metadata": {},
     "output_type": "execute_result"
    }
   ],
   "source": [
    "mod = MyModule(3)\n",
    "mod.weight.numpy()"
   ]
  },
  {
   "cell_type": "code",
   "execution_count": 17,
   "metadata": {},
   "outputs": [
    {
     "data": {
      "text/plain": [
       "<tf.Tensor: shape=(3,), dtype=int32, numpy=array([3, 6, 9])>"
      ]
     },
     "execution_count": 17,
     "metadata": {},
     "output_type": "execute_result"
    }
   ],
   "source": [
    "mod.multiply(tf.constant([1,2,3]))"
   ]
  },
  {
   "cell_type": "code",
   "execution_count": 18,
   "metadata": {},
   "outputs": [
    {
     "name": "stdout",
     "output_type": "stream",
     "text": [
      "INFO:tensorflow:Assets written to: ./data\\assets\n"
     ]
    },
    {
     "name": "stderr",
     "output_type": "stream",
     "text": [
      "INFO:tensorflow:Assets written to: ./data\\assets\n"
     ]
    }
   ],
   "source": [
    "save_path = './data'\n",
    "tf.saved_model.save(mod, save_path)"
   ]
  },
  {
   "cell_type": "code",
   "execution_count": 19,
   "metadata": {},
   "outputs": [
    {
     "data": {
      "text/plain": [
       "<tf.Tensor: shape=(3,), dtype=int32, numpy=array([3, 6, 9])>"
      ]
     },
     "execution_count": 19,
     "metadata": {},
     "output_type": "execute_result"
    }
   ],
   "source": [
    "reloaded = tf.saved_model.load(save_path)\n",
    "reloaded.multiply(tf.constant([1,2,3]))"
   ]
  },
  {
   "cell_type": "code",
   "execution_count": 20,
   "metadata": {},
   "outputs": [
    {
     "data": {
      "text/plain": [
       "<tf.Variable 'Variable:0' shape=() dtype=int32, numpy=3>"
      ]
     },
     "execution_count": 20,
     "metadata": {},
     "output_type": "execute_result"
    }
   ],
   "source": [
    "reloaded.weight"
   ]
  },
  {
   "attachments": {},
   "cell_type": "markdown",
   "metadata": {},
   "source": [
    "### 1.6 Training loops"
   ]
  },
  {
   "cell_type": "code",
   "execution_count": 21,
   "metadata": {},
   "outputs": [],
   "source": [
    "import matplotlib\n",
    "from matplotlib import pyplot as plt\n",
    "\n",
    "matplotlib.rcParams['figure.figsize'] = [9, 6]"
   ]
  },
  {
   "cell_type": "code",
   "execution_count": 22,
   "metadata": {},
   "outputs": [
    {
     "data": {
      "text/plain": [
       "<tf.Tensor: shape=(201,), dtype=float64, numpy=\n",
       "array([-2.  , -1.98, -1.96, -1.94, -1.92, -1.9 , -1.88, -1.86, -1.84,\n",
       "       -1.82, -1.8 , -1.78, -1.76, -1.74, -1.72, -1.7 , -1.68, -1.66,\n",
       "       -1.64, -1.62, -1.6 , -1.58, -1.56, -1.54, -1.52, -1.5 , -1.48,\n",
       "       -1.46, -1.44, -1.42, -1.4 , -1.38, -1.36, -1.34, -1.32, -1.3 ,\n",
       "       -1.28, -1.26, -1.24, -1.22, -1.2 , -1.18, -1.16, -1.14, -1.12,\n",
       "       -1.1 , -1.08, -1.06, -1.04, -1.02, -1.  , -0.98, -0.96, -0.94,\n",
       "       -0.92, -0.9 , -0.88, -0.86, -0.84, -0.82, -0.8 , -0.78, -0.76,\n",
       "       -0.74, -0.72, -0.7 , -0.68, -0.66, -0.64, -0.62, -0.6 , -0.58,\n",
       "       -0.56, -0.54, -0.52, -0.5 , -0.48, -0.46, -0.44, -0.42, -0.4 ,\n",
       "       -0.38, -0.36, -0.34, -0.32, -0.3 , -0.28, -0.26, -0.24, -0.22,\n",
       "       -0.2 , -0.18, -0.16, -0.14, -0.12, -0.1 , -0.08, -0.06, -0.04,\n",
       "       -0.02,  0.  ,  0.02,  0.04,  0.06,  0.08,  0.1 ,  0.12,  0.14,\n",
       "        0.16,  0.18,  0.2 ,  0.22,  0.24,  0.26,  0.28,  0.3 ,  0.32,\n",
       "        0.34,  0.36,  0.38,  0.4 ,  0.42,  0.44,  0.46,  0.48,  0.5 ,\n",
       "        0.52,  0.54,  0.56,  0.58,  0.6 ,  0.62,  0.64,  0.66,  0.68,\n",
       "        0.7 ,  0.72,  0.74,  0.76,  0.78,  0.8 ,  0.82,  0.84,  0.86,\n",
       "        0.88,  0.9 ,  0.92,  0.94,  0.96,  0.98,  1.  ,  1.02,  1.04,\n",
       "        1.06,  1.08,  1.1 ,  1.12,  1.14,  1.16,  1.18,  1.2 ,  1.22,\n",
       "        1.24,  1.26,  1.28,  1.3 ,  1.32,  1.34,  1.36,  1.38,  1.4 ,\n",
       "        1.42,  1.44,  1.46,  1.48,  1.5 ,  1.52,  1.54,  1.56,  1.58,\n",
       "        1.6 ,  1.62,  1.64,  1.66,  1.68,  1.7 ,  1.72,  1.74,  1.76,\n",
       "        1.78,  1.8 ,  1.82,  1.84,  1.86,  1.88,  1.9 ,  1.92,  1.94,\n",
       "        1.96,  1.98,  2.  ])>"
      ]
     },
     "execution_count": 22,
     "metadata": {},
     "output_type": "execute_result"
    }
   ],
   "source": [
    "x = tf.linspace(-2, 2, 201)\n",
    "x"
   ]
  },
  {
   "cell_type": "code",
   "execution_count": 23,
   "metadata": {},
   "outputs": [
    {
     "data": {
      "text/plain": [
       "<tf.Tensor: shape=(201,), dtype=float32, numpy=\n",
       "array([-2.  , -1.98, -1.96, -1.94, -1.92, -1.9 , -1.88, -1.86, -1.84,\n",
       "       -1.82, -1.8 , -1.78, -1.76, -1.74, -1.72, -1.7 , -1.68, -1.66,\n",
       "       -1.64, -1.62, -1.6 , -1.58, -1.56, -1.54, -1.52, -1.5 , -1.48,\n",
       "       -1.46, -1.44, -1.42, -1.4 , -1.38, -1.36, -1.34, -1.32, -1.3 ,\n",
       "       -1.28, -1.26, -1.24, -1.22, -1.2 , -1.18, -1.16, -1.14, -1.12,\n",
       "       -1.1 , -1.08, -1.06, -1.04, -1.02, -1.  , -0.98, -0.96, -0.94,\n",
       "       -0.92, -0.9 , -0.88, -0.86, -0.84, -0.82, -0.8 , -0.78, -0.76,\n",
       "       -0.74, -0.72, -0.7 , -0.68, -0.66, -0.64, -0.62, -0.6 , -0.58,\n",
       "       -0.56, -0.54, -0.52, -0.5 , -0.48, -0.46, -0.44, -0.42, -0.4 ,\n",
       "       -0.38, -0.36, -0.34, -0.32, -0.3 , -0.28, -0.26, -0.24, -0.22,\n",
       "       -0.2 , -0.18, -0.16, -0.14, -0.12, -0.1 , -0.08, -0.06, -0.04,\n",
       "       -0.02,  0.  ,  0.02,  0.04,  0.06,  0.08,  0.1 ,  0.12,  0.14,\n",
       "        0.16,  0.18,  0.2 ,  0.22,  0.24,  0.26,  0.28,  0.3 ,  0.32,\n",
       "        0.34,  0.36,  0.38,  0.4 ,  0.42,  0.44,  0.46,  0.48,  0.5 ,\n",
       "        0.52,  0.54,  0.56,  0.58,  0.6 ,  0.62,  0.64,  0.66,  0.68,\n",
       "        0.7 ,  0.72,  0.74,  0.76,  0.78,  0.8 ,  0.82,  0.84,  0.86,\n",
       "        0.88,  0.9 ,  0.92,  0.94,  0.96,  0.98,  1.  ,  1.02,  1.04,\n",
       "        1.06,  1.08,  1.1 ,  1.12,  1.14,  1.16,  1.18,  1.2 ,  1.22,\n",
       "        1.24,  1.26,  1.28,  1.3 ,  1.32,  1.34,  1.36,  1.38,  1.4 ,\n",
       "        1.42,  1.44,  1.46,  1.48,  1.5 ,  1.52,  1.54,  1.56,  1.58,\n",
       "        1.6 ,  1.62,  1.64,  1.66,  1.68,  1.7 ,  1.72,  1.74,  1.76,\n",
       "        1.78,  1.8 ,  1.82,  1.84,  1.86,  1.88,  1.9 ,  1.92,  1.94,\n",
       "        1.96,  1.98,  2.  ], dtype=float32)>"
      ]
     },
     "execution_count": 23,
     "metadata": {},
     "output_type": "execute_result"
    }
   ],
   "source": [
    "x = tf.cast(x, tf.float32) #from float64 to float32\n",
    "x"
   ]
  },
  {
   "cell_type": "code",
   "execution_count": 24,
   "metadata": {},
   "outputs": [
    {
     "data": {
      "text/plain": [
       "<matplotlib.legend.Legend at 0x199f1e54100>"
      ]
     },
     "execution_count": 24,
     "metadata": {},
     "output_type": "execute_result"
    },
    {
     "data": {
      "image/png": "[encoded data removed]",
      "text/plain": [
       "<Figure size 900x600 with 1 Axes>"
      ]
     },
     "metadata": {},
     "output_type": "display_data"
    }
   ],
   "source": [
    "def f(x):\n",
    "  y = x**2 + 2*x - 5\n",
    "  return y\n",
    "\n",
    "y = f(x) + tf.random.normal(shape=[201])\n",
    "\n",
    "plt.plot(x.numpy(), y.numpy(), '.', label='Data')\n",
    "#so .numpy() is method to convert to numpy!\n",
    "plt.plot(x, f(x), label='Ground truth')\n",
    "plt.legend()"
   ]
  },
  {
   "cell_type": "code",
   "execution_count": 25,
   "metadata": {},
   "outputs": [
    {
     "data": {
      "text/plain": [
       "array([-2.  , -1.98, -1.96, -1.94, -1.92, -1.9 , -1.88, -1.86, -1.84,\n",
       "       -1.82, -1.8 , -1.78, -1.76, -1.74, -1.72, -1.7 , -1.68, -1.66,\n",
       "       -1.64, -1.62, -1.6 , -1.58, -1.56, -1.54, -1.52, -1.5 , -1.48,\n",
       "       -1.46, -1.44, -1.42, -1.4 , -1.38, -1.36, -1.34, -1.32, -1.3 ,\n",
       "       -1.28, -1.26, -1.24, -1.22, -1.2 , -1.18, -1.16, -1.14, -1.12,\n",
       "       -1.1 , -1.08, -1.06, -1.04, -1.02, -1.  , -0.98, -0.96, -0.94,\n",
       "       -0.92, -0.9 , -0.88, -0.86, -0.84, -0.82, -0.8 , -0.78, -0.76,\n",
       "       -0.74, -0.72, -0.7 , -0.68, -0.66, -0.64, -0.62, -0.6 , -0.58,\n",
       "       -0.56, -0.54, -0.52, -0.5 , -0.48, -0.46, -0.44, -0.42, -0.4 ,\n",
       "       -0.38, -0.36, -0.34, -0.32, -0.3 , -0.28, -0.26, -0.24, -0.22,\n",
       "       -0.2 , -0.18, -0.16, -0.14, -0.12, -0.1 , -0.08, -0.06, -0.04,\n",
       "       -0.02,  0.  ,  0.02,  0.04,  0.06,  0.08,  0.1 ,  0.12,  0.14,\n",
       "        0.16,  0.18,  0.2 ,  0.22,  0.24,  0.26,  0.28,  0.3 ,  0.32,\n",
       "        0.34,  0.36,  0.38,  0.4 ,  0.42,  0.44,  0.46,  0.48,  0.5 ,\n",
       "        0.52,  0.54,  0.56,  0.58,  0.6 ,  0.62,  0.64,  0.66,  0.68,\n",
       "        0.7 ,  0.72,  0.74,  0.76,  0.78,  0.8 ,  0.82,  0.84,  0.86,\n",
       "        0.88,  0.9 ,  0.92,  0.94,  0.96,  0.98,  1.  ,  1.02,  1.04,\n",
       "        1.06,  1.08,  1.1 ,  1.12,  1.14,  1.16,  1.18,  1.2 ,  1.22,\n",
       "        1.24,  1.26,  1.28,  1.3 ,  1.32,  1.34,  1.36,  1.38,  1.4 ,\n",
       "        1.42,  1.44,  1.46,  1.48,  1.5 ,  1.52,  1.54,  1.56,  1.58,\n",
       "        1.6 ,  1.62,  1.64,  1.66,  1.68,  1.7 ,  1.72,  1.74,  1.76,\n",
       "        1.78,  1.8 ,  1.82,  1.84,  1.86,  1.88,  1.9 ,  1.92,  1.94,\n",
       "        1.96,  1.98,  2.  ], dtype=float32)"
      ]
     },
     "execution_count": 25,
     "metadata": {},
     "output_type": "execute_result"
    }
   ],
   "source": [
    "x.numpy()"
   ]
  },
  {
   "cell_type": "code",
   "execution_count": 26,
   "metadata": {},
   "outputs": [],
   "source": [
    "class Model(tf.Module):\n",
    "\n",
    "  def __init__(self): #initialise the model! \n",
    "    # Randomly generate weight and bias terms\n",
    "    rand_init = tf.random.uniform(shape=[3], minval=0., maxval=5., seed=22)\n",
    "    # Initialize model parameters\n",
    "    #Needs to be variables since needs to have possibility to update \n",
    "    self.w_q = tf.Variable(rand_init[0])\n",
    "    self.w_l = tf.Variable(rand_init[1])\n",
    "    self.b = tf.Variable(rand_init[2])\n",
    "    print('I am initalised')\n",
    "\n",
    "  @tf.function #always need this decorator!\n",
    "  def __call__(self, x): #this allows calss to act like function\n",
    "    # Quadratic Model : quadratic_weight * x^2 + linear_weight * x + bias\n",
    "    print('I am being called as a function')\n",
    "    return self.w_q * (x**2) + self.w_l * x + self.b\n",
    "  "
   ]
  },
  {
   "cell_type": "code",
   "execution_count": 27,
   "metadata": {},
   "outputs": [
    {
     "name": "stdout",
     "output_type": "stream",
     "text": [
      "I am initalised\n"
     ]
    }
   ],
   "source": [
    "model_instance = Model()"
   ]
  },
  {
   "cell_type": "code",
   "execution_count": 28,
   "metadata": {},
   "outputs": [
    {
     "name": "stdout",
     "output_type": "stream",
     "text": [
      "I am being called as a function\n"
     ]
    }
   ],
   "source": [
    "y_mod = model_instance(x)\n",
    "# y is a tensor"
   ]
  },
  {
   "cell_type": "code",
   "execution_count": 29,
   "metadata": {},
   "outputs": [
    {
     "data": {
      "text/plain": [
       "<matplotlib.legend.Legend at 0x199f1dd9c00>"
      ]
     },
     "execution_count": 29,
     "metadata": {},
     "output_type": "execute_result"
    },
    {
     "data": {
      "image/png": "[encoded data removed]",
      "text/plain": [
       "<Figure size 900x600 with 1 Axes>"
      ]
     },
     "metadata": {},
     "output_type": "display_data"
    }
   ],
   "source": [
    "plt.figure()\n",
    "plt.plot(x, y, '.', label='Data')\n",
    "plt.plot(x, f(x), label='Ground truth')\n",
    "plt.plot(x, model_instance(x), label='Predictions')\n",
    "plt.title('Before training')\n",
    "plt.legend()"
   ]
  },
  {
   "cell_type": "code",
   "execution_count": 30,
   "metadata": {},
   "outputs": [],
   "source": [
    "def mse_loss(y_pred, y):\n",
    "  return tf.reduce_mean(tf.square(y_pred - y))"
   ]
  },
  {
   "cell_type": "code",
   "execution_count": 31,
   "metadata": {},
   "outputs": [
    {
     "data": {
      "text/plain": [
       "[(-2.0, -3.2943912),\n",
       " (-1.98, -4.2058043),\n",
       " (-1.96, -4.0297666),\n",
       " (-1.94, -5.7184486),\n",
       " (-1.92, -4.212438),\n",
       " (-1.9, -4.980091),\n",
       " (-1.88, -5.2243314),\n",
       " (-1.86, -6.012889),\n",
       " (-1.84, -3.7758055),\n",
       " (-1.82, -4.181939),\n",
       " (-1.8, -5.4005523),\n",
       " (-1.78, -6.254741),\n",
       " (-1.76, -4.8046575),\n",
       " (-1.74, -2.8615432),\n",
       " (-1.72, -6.8987713),\n",
       " (-1.7, -4.245316),\n",
       " (-1.68, -5.9419346),\n",
       " (-1.66, -4.3764334),\n",
       " (-1.64, -5.8178964),\n",
       " (-1.62, -5.4385977),\n",
       " (-1.6, -5.1483603),\n",
       " (-1.58, -5.4578986),\n",
       " (-1.56, -4.9323015),\n",
       " (-1.54, -6.162622),\n",
       " (-1.52, -4.9950104),\n",
       " (-1.5, -6.109399),\n",
       " (-1.48, -4.764264),\n",
       " (-1.46, -4.605366),\n",
       " (-1.44, -7.007213),\n",
       " (-1.42, -6.468287),\n",
       " (-1.4, -5.2954564),\n",
       " (-1.38, -8.14543),\n",
       " (-1.36, -5.321705),\n",
       " (-1.34, -5.8609896),\n",
       " (-1.32, -6.118912),\n",
       " (-1.3, -5.967331),\n",
       " (-1.28, -6.421193),\n",
       " (-1.26, -5.3543725),\n",
       " (-1.24, -4.791391),\n",
       " (-1.22, -5.0966887),\n",
       " (-1.2, -5.8843184),\n",
       " (-1.18, -4.624037),\n",
       " (-1.16, -6.3929243),\n",
       " (-1.14, -5.688319),\n",
       " (-1.12, -6.0545664),\n",
       " (-1.1, -5.428941),\n",
       " (-1.08, -5.6871586),\n",
       " (-1.06, -5.1547985),\n",
       " (-1.04, -5.2353535),\n",
       " (-1.02, -4.483122),\n",
       " (-1.0, -6.3305297),\n",
       " (-0.98, -6.2247615),\n",
       " (-0.96, -6.960939),\n",
       " (-0.94, -5.6957765),\n",
       " (-0.92, -6.7001877),\n",
       " (-0.9, -5.0105762),\n",
       " (-0.88, -5.139991),\n",
       " (-0.86, -5.835125),\n",
       " (-0.84, -6.129952),\n",
       " (-0.82, -6.402512),\n",
       " (-0.8, -6.0392675),\n",
       " (-0.78, -5.0448747),\n",
       " (-0.76, -5.6499796),\n",
       " (-0.74, -3.8156736),\n",
       " (-0.72, -6.377953),\n",
       " (-0.7, -5.523461),\n",
       " (-0.68, -7.3772993),\n",
       " (-0.66, -6.251192),\n",
       " (-0.64, -5.6991386),\n",
       " (-0.62, -4.8092146),\n",
       " (-0.6, -6.1057715),\n",
       " (-0.58, -5.9880824),\n",
       " (-0.56, -6.7358074),\n",
       " (-0.54, -4.8532696),\n",
       " (-0.52, -3.8438082),\n",
       " (-0.5, -6.7089076),\n",
       " (-0.48, -5.5932665),\n",
       " (-0.46, -4.4800406),\n",
       " (-0.44, -6.033268),\n",
       " (-0.42, -5.072431),\n",
       " (-0.4, -5.1466546),\n",
       " (-0.38, -5.186083),\n",
       " (-0.36, -7.3602877),\n",
       " (-0.34, -5.104219),\n",
       " (-0.32, -4.903279),\n",
       " (-0.3, -5.495481),\n",
       " (-0.28, -6.5329833),\n",
       " (-0.26, -6.0398383),\n",
       " (-0.24, -3.3557122),\n",
       " (-0.22, -6.6470804),\n",
       " (-0.2, -4.045196),\n",
       " (-0.18, -4.8456984),\n",
       " (-0.16, -6.3764114),\n",
       " (-0.14, -4.4040995),\n",
       " (-0.12, -5.9636703),\n",
       " (-0.1, -5.5618296),\n",
       " (-0.08, -6.2011843),\n",
       " (-0.06, -5.7970138),\n",
       " (-0.04, -5.939355),\n",
       " (-0.02, -5.196061),\n",
       " (0.0, -5.396271),\n",
       " (0.02, -0.89659405),\n",
       " (0.04, -4.9786673),\n",
       " (0.06, -4.078753),\n",
       " (0.08, -4.389799),\n",
       " (0.1, -5.448986),\n",
       " (0.12, -4.6568046),\n",
       " (0.14, -5.6981573),\n",
       " (0.16, -3.9233313),\n",
       " (0.18, -6.1809444),\n",
       " (0.2, -2.7882404),\n",
       " (0.22, -4.644524),\n",
       " (0.24, -4.399816),\n",
       " (0.26, -4.3918824),\n",
       " (0.28, -5.2687445),\n",
       " (0.3, -5.312849),\n",
       " (0.32, -3.8615978),\n",
       " (0.34, -3.9622085),\n",
       " (0.36, -4.39635),\n",
       " (0.38, -3.7429795),\n",
       " (0.4, -5.6961846),\n",
       " (0.42, -2.9727097),\n",
       " (0.44, -2.1331587),\n",
       " (0.46, -2.8634171),\n",
       " (0.48, -4.3341956),\n",
       " (0.5, -4.247708),\n",
       " (0.52, -3.6580582),\n",
       " (0.54, -3.2697783),\n",
       " (0.56, -3.7002525),\n",
       " (0.58, -2.179983),\n",
       " (0.6, -3.804495),\n",
       " (0.62, -3.4054742),\n",
       " (0.64, -3.0938375),\n",
       " (0.66, -5.2828083),\n",
       " (0.68, -3.8519182),\n",
       " (0.7, -3.2700229),\n",
       " (0.72, -3.9317),\n",
       " (0.74, -2.2662508),\n",
       " (0.76, -3.4342406),\n",
       " (0.78, -3.5710146),\n",
       " (0.8, -1.4740906),\n",
       " (0.82, -4.2622795),\n",
       " (0.84, -3.0763164),\n",
       " (0.86, -1.7948139),\n",
       " (0.88, -2.851315),\n",
       " (0.9, -2.0692825),\n",
       " (0.92, -1.9425266),\n",
       " (0.94, -3.0473468),\n",
       " (0.96, -2.4064782),\n",
       " (0.98, -2.2838805),\n",
       " (1.0, -0.7760308),\n",
       " (1.02, -1.657767),\n",
       " (1.04, -0.01988995),\n",
       " (1.06, -2.3371825),\n",
       " (1.08, -0.8077163),\n",
       " (1.1, -0.610188),\n",
       " (1.12, -1.1823047),\n",
       " (1.14, 0.8221717),\n",
       " (1.16, -1.1112903),\n",
       " (1.18, -1.6328671),\n",
       " (1.2, -2.309051),\n",
       " (1.22, -2.2256553),\n",
       " (1.24, -0.68006575),\n",
       " (1.26, -0.41720605),\n",
       " (1.28, 1.528836),\n",
       " (1.3, -0.9407035),\n",
       " (1.32, -0.8033577),\n",
       " (1.34, -0.023297906),\n",
       " (1.36, 0.5368088),\n",
       " (1.38, -2.8504462),\n",
       " (1.4, 0.36236632),\n",
       " (1.42, 0.6129427),\n",
       " (1.44, 1.0952185),\n",
       " (1.46, -0.5764846),\n",
       " (1.48, 2.617262),\n",
       " (1.5, 1.3581878),\n",
       " (1.52, -0.43667907),\n",
       " (1.54, -0.07773054),\n",
       " (1.56, 0.8840945),\n",
       " (1.58, 0.21458837),\n",
       " (1.6, 1.3573729),\n",
       " (1.62, -0.13340163),\n",
       " (1.64, 1.8944256),\n",
       " (1.66, 1.3078455),\n",
       " (1.68, 1.477865),\n",
       " (1.7, 0.36926925),\n",
       " (1.72, 2.9601965),\n",
       " (1.74, 1.4393568),\n",
       " (1.76, 3.0720725),\n",
       " (1.78, 1.6619916),\n",
       " (1.8, 0.6853161),\n",
       " (1.82, 0.74085236),\n",
       " (1.84, 3.7732816),\n",
       " (1.86, 2.2899904),\n",
       " (1.88, 2.9228942),\n",
       " (1.9, 3.354703),\n",
       " (1.92, 4.161742),\n",
       " (1.94, 1.2516674),\n",
       " (1.96, 2.7444105),\n",
       " (1.98, 3.138336),\n",
       " (2.0, 1.9366003)]"
      ]
     },
     "execution_count": 31,
     "metadata": {},
     "output_type": "execute_result"
    }
   ],
   "source": [
    "batch_size = 32 #standard batch size!\n",
    "dataset = tf.data.Dataset.from_tensor_slices((x,y))\n",
    "list(dataset.as_numpy_iterator()) #so all pairs of features and outputs"
   ]
  },
  {
   "attachments": {},
   "cell_type": "markdown",
   "metadata": {},
   "source": [
    "\"For perfect shuffling, a buffer size greater than or equal to the full size of the dataset is required.\" Here equal to is uzsed"
   ]
  },
  {
   "cell_type": "code",
   "execution_count": 32,
   "metadata": {},
   "outputs": [
    {
     "data": {
      "text/plain": [
       "[(1.12, -1.1823047),\n",
       " (1.56, 0.8840945),\n",
       " (-1.08, -5.6871586),\n",
       " (0.64, -3.0938375),\n",
       " (1.92, 4.161742),\n",
       " (-0.66, -6.251192),\n",
       " (0.26, -4.3918824),\n",
       " (1.22, -2.2256553),\n",
       " (-1.0, -6.3305297),\n",
       " (0.74, -2.2662508),\n",
       " (0.5, -4.247708),\n",
       " (-0.84, -6.129952),\n",
       " (0.14, -5.6981573),\n",
       " (0.54, -3.2697783),\n",
       " (-1.12, -6.0545664),\n",
       " (-1.02, -4.483122),\n",
       " (-0.42, -5.072431),\n",
       " (1.98, 3.138336),\n",
       " (1.68, 1.477865),\n",
       " (-1.46, -4.605366),\n",
       " (0.28, -5.2687445),\n",
       " (0.1, -5.448986),\n",
       " (-1.66, -4.3764334),\n",
       " (-0.98, -6.2247615),\n",
       " (-1.68, -5.9419346),\n",
       " (0.8, -1.4740906),\n",
       " (0.62, -3.4054742),\n",
       " (-1.98, -4.2058043),\n",
       " (1.5, 1.3581878),\n",
       " (1.2, -2.309051),\n",
       " (1.82, 0.74085236),\n",
       " (-0.72, -6.377953),\n",
       " (-0.5, -6.7089076),\n",
       " (1.18, -1.6328671),\n",
       " (-1.56, -4.9323015),\n",
       " (1.14, 0.8221717),\n",
       " (0.92, -1.9425266),\n",
       " (0.2, -2.7882404),\n",
       " (1.26, -0.41720605),\n",
       " (0.04, -4.9786673),\n",
       " (1.52, -0.43667907),\n",
       " (-0.22, -6.6470804),\n",
       " (1.46, -0.5764846),\n",
       " (-1.4, -5.2954564),\n",
       " (0.22, -4.644524),\n",
       " (-1.8, -5.4005523),\n",
       " (0.94, -3.0473468),\n",
       " (-0.52, -3.8438082),\n",
       " (-0.78, -5.0448747),\n",
       " (0.72, -3.9317),\n",
       " (-0.82, -6.402512),\n",
       " (-0.16, -6.3764114),\n",
       " (0.76, -3.4342406),\n",
       " (-1.36, -5.321705),\n",
       " (1.04, -0.01988995),\n",
       " (0.48, -4.3341956),\n",
       " (-0.64, -5.6991386),\n",
       " (1.96, 2.7444105),\n",
       " (1.32, -0.8033577),\n",
       " (-1.82, -4.181939),\n",
       " (-1.06, -5.1547985),\n",
       " (-1.52, -4.9950104),\n",
       " (-0.2, -4.045196),\n",
       " (-0.28, -6.5329833),\n",
       " (0.9, -2.0692825),\n",
       " (-0.92, -6.7001877),\n",
       " (-1.88, -5.2243314),\n",
       " (0.98, -2.2838805),\n",
       " (-0.04, -5.939355),\n",
       " (0.56, -3.7002525),\n",
       " (1.0, -0.7760308),\n",
       " (-0.02, -5.196061),\n",
       " (0.42, -2.9727097),\n",
       " (-0.36, -7.3602877),\n",
       " (-0.12, -5.9636703),\n",
       " (-1.28, -6.421193),\n",
       " (-0.32, -4.903279),\n",
       " (-0.48, -5.5932665),\n",
       " (1.6, 1.3573729),\n",
       " (0.88, -2.851315),\n",
       " (-1.04, -5.2353535),\n",
       " (0.68, -3.8519182),\n",
       " (-1.44, -7.007213),\n",
       " (-0.94, -5.6957765),\n",
       " (-1.86, -6.012889),\n",
       " (1.34, -0.023297906),\n",
       " (0.96, -2.4064782),\n",
       " (0.46, -2.8634171),\n",
       " (-1.72, -6.8987713),\n",
       " (0.52, -3.6580582),\n",
       " (-0.3, -5.495481),\n",
       " (-0.9, -5.0105762),\n",
       " (-0.24, -3.3557122),\n",
       " (0.06, -4.078753),\n",
       " (-0.7, -5.523461),\n",
       " (-1.22, -5.0966887),\n",
       " (0.66, -5.2828083),\n",
       " (-1.3, -5.967331),\n",
       " (1.8, 0.6853161),\n",
       " (1.42, 0.6129427),\n",
       " (0.24, -4.399816),\n",
       " (-1.48, -4.764264),\n",
       " (0.08, -4.389799),\n",
       " (-0.58, -5.9880824),\n",
       " (1.38, -2.8504462),\n",
       " (0.34, -3.9622085),\n",
       " (0.02, -0.89659405),\n",
       " (1.64, 1.8944256),\n",
       " (-1.34, -5.8609896),\n",
       " (0.38, -3.7429795),\n",
       " (0.86, -1.7948139),\n",
       " (0.12, -4.6568046),\n",
       " (-1.9, -4.980091),\n",
       " (1.1, -0.610188),\n",
       " (0.16, -3.9233313),\n",
       " (1.08, -0.8077163),\n",
       " (0.32, -3.8615978),\n",
       " (-1.2, -5.8843184),\n",
       " (-1.26, -5.3543725),\n",
       " (-1.38, -8.14543),\n",
       " (-1.16, -6.3929243),\n",
       " (1.48, 2.617262),\n",
       " (-0.08, -6.2011843),\n",
       " (-1.84, -3.7758055),\n",
       " (1.9, 3.354703),\n",
       " (-0.74, -3.8156736),\n",
       " (-0.4, -5.1466546),\n",
       " (-0.54, -4.8532696),\n",
       " (-1.32, -6.118912),\n",
       " (-0.34, -5.104219),\n",
       " (0.58, -2.179983),\n",
       " (1.06, -2.3371825),\n",
       " (1.84, 3.7732816),\n",
       " (-1.7, -4.245316),\n",
       " (0.0, -5.396271),\n",
       " (1.72, 2.9601965),\n",
       " (-0.06, -5.7970138),\n",
       " (1.86, 2.2899904),\n",
       " (1.16, -1.1112903),\n",
       " (-0.8, -6.0392675),\n",
       " (-1.58, -5.4578986),\n",
       " (-0.96, -6.960939),\n",
       " (0.82, -4.2622795),\n",
       " (-0.68, -7.3772993),\n",
       " (1.02, -1.657767),\n",
       " (0.7, -3.2700229),\n",
       " (-1.76, -4.8046575),\n",
       " (1.7, 0.36926925),\n",
       " (-1.24, -4.791391),\n",
       " (-0.18, -4.8456984),\n",
       " (-1.62, -5.4385977),\n",
       " (-1.94, -5.7184486),\n",
       " (1.78, 1.6619916),\n",
       " (0.18, -6.1809444),\n",
       " (-0.38, -5.186083),\n",
       " (1.62, -0.13340163),\n",
       " (1.28, 1.528836),\n",
       " (-1.92, -4.212438),\n",
       " (1.36, 0.5368088),\n",
       " (-1.74, -2.8615432),\n",
       " (-0.56, -6.7358074),\n",
       " (0.44, -2.1331587),\n",
       " (1.66, 1.3078455),\n",
       " (1.54, -0.07773054),\n",
       " (-1.5, -6.109399),\n",
       " (-1.54, -6.162622),\n",
       " (-0.86, -5.835125),\n",
       " (1.76, 3.0720725),\n",
       " (-0.1, -5.5618296),\n",
       " (-0.76, -5.6499796),\n",
       " (1.4, 0.36236632),\n",
       " (-1.64, -5.8178964),\n",
       " (1.94, 1.2516674),\n",
       " (0.84, -3.0763164),\n",
       " (0.78, -3.5710146),\n",
       " (-1.78, -6.254741),\n",
       " (-1.96, -4.0297666),\n",
       " (2.0, 1.9366003),\n",
       " (-1.6, -5.1483603),\n",
       " (-1.1, -5.428941),\n",
       " (-0.26, -6.0398383),\n",
       " (1.58, 0.21458837),\n",
       " (-0.62, -4.8092146),\n",
       " (0.3, -5.312849),\n",
       " (-1.18, -4.624037),\n",
       " (0.6, -3.804495),\n",
       " (-0.46, -4.4800406),\n",
       " (-1.42, -6.468287),\n",
       " (-1.14, -5.688319),\n",
       " (1.74, 1.4393568),\n",
       " (0.36, -4.39635),\n",
       " (-2.0, -3.2943912),\n",
       " (1.88, 2.9228942),\n",
       " (1.24, -0.68006575),\n",
       " (1.44, 1.0952185),\n",
       " (-0.6, -6.1057715),\n",
       " (-0.44, -6.033268),\n",
       " (0.4, -5.6961846),\n",
       " (1.3, -0.9407035),\n",
       " (-0.14, -4.4040995),\n",
       " (-0.88, -5.139991)]"
      ]
     },
     "execution_count": 32,
     "metadata": {},
     "output_type": "execute_result"
    }
   ],
   "source": [
    "list(dataset.shuffle(buffer_size = x.shape[0]).as_numpy_iterator())"
   ]
  },
  {
   "attachments": {},
   "cell_type": "markdown",
   "metadata": {},
   "source": [
    "So clearly this just shuffeled the above dataset!"
   ]
  },
  {
   "cell_type": "code",
   "execution_count": 33,
   "metadata": {},
   "outputs": [],
   "source": [
    "dataset = dataset.shuffle(buffer_size = x.shape[0]).batch(batch_size)\n",
    "batch_list = list(dataset.as_numpy_iterator())"
   ]
  },
  {
   "cell_type": "code",
   "execution_count": 34,
   "metadata": {},
   "outputs": [
    {
     "data": {
      "text/plain": [
       "(array([-1.94,  1.98, -0.02, -1.58,  1.06,  1.62,  0.04,  0.92, -0.22,\n",
       "        -1.54,  0.96,  2.  ,  1.28,  0.34,  0.16,  1.18, -0.2 ,  1.72,\n",
       "        -1.24, -1.3 , -1.5 ,  1.46,  1.78, -1.74,  0.28,  0.48, -0.5 ,\n",
       "        -0.08,  0.1 , -1.68,  1.32, -0.16], dtype=float32),\n",
       " array([-5.7184486 ,  3.138336  , -5.196061  , -5.4578986 , -2.3371825 ,\n",
       "        -0.13340163, -4.9786673 , -1.9425266 , -6.6470804 , -6.162622  ,\n",
       "        -2.4064782 ,  1.9366003 ,  1.528836  , -3.9622085 , -3.9233313 ,\n",
       "        -1.6328671 , -4.045196  ,  2.9601965 , -4.791391  , -5.967331  ,\n",
       "        -6.109399  , -0.5764846 ,  1.6619916 , -2.8615432 , -5.2687445 ,\n",
       "        -4.3341956 , -6.7089076 , -6.2011843 , -5.448986  , -5.9419346 ,\n",
       "        -0.8033577 , -6.3764114 ], dtype=float32))"
      ]
     },
     "execution_count": 34,
     "metadata": {},
     "output_type": "execute_result"
    }
   ],
   "source": [
    "batch_list[0]"
   ]
  },
  {
   "attachments": {},
   "cell_type": "markdown",
   "metadata": {},
   "source": [
    "Example trainig"
   ]
  },
  {
   "cell_type": "code",
   "execution_count": 35,
   "metadata": {},
   "outputs": [
    {
     "data": {
      "text/plain": [
       "(<tf.Variable 'Variable:0' shape=() dtype=float32, numpy=4.6892653>,\n",
       " <tf.Variable 'Variable:0' shape=() dtype=float32, numpy=4.3870163>,\n",
       " <tf.Variable 'Variable:0' shape=() dtype=float32, numpy=1.4291573>)"
      ]
     },
     "execution_count": 35,
     "metadata": {},
     "output_type": "execute_result"
    }
   ],
   "source": [
    "model_instance.variables"
   ]
  },
  {
   "cell_type": "code",
   "execution_count": 36,
   "metadata": {},
   "outputs": [
    {
     "name": "stdout",
     "output_type": "stream",
     "text": [
      "I am being called as a function\n",
      "I am being called as a function\n",
      "Mean squared error for step 0: 55.295\n",
      "Mean squared error for step 10: 9.744\n",
      "Mean squared error for step 20: 3.985\n",
      "Mean squared error for step 30: 1.978\n",
      "Mean squared error for step 40: 1.289\n",
      "Mean squared error for step 50: 1.058\n",
      "Mean squared error for step 60: 0.970\n",
      "Mean squared error for step 70: 0.943\n",
      "Mean squared error for step 80: 0.934\n",
      "Mean squared error for step 90: 0.931\n",
      "Mean squared error for step 100: 0.932\n",
      "Mean squared error for step 110: 0.932\n",
      "Mean squared error for step 120: 0.929\n",
      "Mean squared error for step 130: 0.931\n",
      "Mean squared error for step 140: 0.930\n",
      "Mean squared error for step 150: 0.929\n",
      "Mean squared error for step 160: 0.930\n",
      "Mean squared error for step 170: 0.930\n",
      "Mean squared error for step 180: 0.930\n",
      "Mean squared error for step 190: 0.929\n",
      "\n",
      "\n"
     ]
    },
    {
     "data": {
      "image/png": "[encoded data removed]",
      "text/plain": [
       "<Figure size 900x600 with 1 Axes>"
      ]
     },
     "metadata": {},
     "output_type": "display_data"
    }
   ],
   "source": [
    "epochs = 200\n",
    "learning_rate = 0.01\n",
    "losses = []\n",
    "\n",
    "# Format training loop\n",
    "for epoch in range(epochs):\n",
    "    for x_batch, y_batch in dataset:\n",
    "        with tf.GradientTape() as tape:\n",
    "            batch_loss = mse_loss(model_instance(x_batch), y_batch) #so cacluate loss\n",
    "        grads = tape.gradient(batch_loss, model_instance.variables)\n",
    "        for g,v in zip(grads, model_instance.variables):\n",
    "            v.assign_sub(learning_rate*g)\n",
    "    loss = mse_loss(model_instance(x),y) #loss per epoch!\n",
    "    losses.append(loss)\n",
    "    if epoch % 10 == 0:\n",
    "        print(f'Mean squared error for step {epoch}: {loss.numpy():0.3f}')\n",
    "\n",
    "# Plot model results\n",
    "print(\"\\n\")\n",
    "plt.plot(range(epochs), losses)\n",
    "plt.xlabel(\"Epoch\")\n",
    "plt.ylabel(\"Mean Squared Error (MSE)\")\n",
    "plt.title('MSE loss vs training iterations');\n"
   ]
  },
  {
   "cell_type": "code",
   "execution_count": 37,
   "metadata": {},
   "outputs": [
    {
     "data": {
      "text/plain": [
       "<matplotlib.legend.Legend at 0x199f205ff70>"
      ]
     },
     "execution_count": 37,
     "metadata": {},
     "output_type": "execute_result"
    },
    {
     "data": {
      "image/png": "[encoded data removed]",
      "text/plain": [
       "<Figure size 900x600 with 1 Axes>"
      ]
     },
     "metadata": {},
     "output_type": "display_data"
    }
   ],
   "source": [
    "plt.figure()\n",
    "plt.plot(x, y, '.', label='Data')\n",
    "plt.plot(x, f(x), label='Ground truth')\n",
    "plt.plot(x, model_instance(x), label='Predictions')\n",
    "plt.title('After training')\n",
    "plt.legend()"
   ]
  },
  {
   "attachments": {},
   "cell_type": "markdown",
   "metadata": {},
   "source": [
    "A lot of these things are availbale with Keras API!\n",
    "\n",
    "- start with `tf.keras.Sequential` for sequential group of layers! https://www.tensorflow.org/api_docs/python/tf/keras/Sequential \n",
    "- `tf.keras.layers.Dense` is the standard linear regression layer: $Y = WX + \\mathbf{b}$. Note that you CAN use an activatio function here by specifying e..g 'acitvation = relu' https://www.tensorflow.org/api_docs/python/tf/keras/layers/Dense \n",
    "\n",
    "Here we want both $x$ and $x^2$ as input!\n"
   ]
  },
  {
   "cell_type": "code",
   "execution_count": 38,
   "metadata": {},
   "outputs": [
    {
     "data": {
      "text/plain": [
       "<tf.Tensor: shape=(3, 2), dtype=int32, numpy=\n",
       "array([[ 3,  9],\n",
       "       [ 4, 16],\n",
       "       [ 5, 25]])>"
      ]
     },
     "execution_count": 38,
     "metadata": {},
     "output_type": "execute_result"
    }
   ],
   "source": [
    "test_fun = lambda x: tf.stack([x, x**2], axis=1)\n",
    "test_fun(tf.constant([3,4,5]))"
   ]
  },
  {
   "cell_type": "code",
   "execution_count": 39,
   "metadata": {},
   "outputs": [],
   "source": [
    "new_model = tf.keras.Sequential([\n",
    "    tf.keras.layers.Lambda(lambda x: tf.stack([x, x**2], axis=1)), #Wraps arbitrary expressions as a Layer object.! \n",
    "    tf.keras.layers.Dense(units=1, kernel_initializer=tf.random.normal)]) #units1"
   ]
  },
  {
   "cell_type": "code",
   "execution_count": 40,
   "metadata": {},
   "outputs": [
    {
     "name": "stdout",
     "output_type": "stream",
     "text": [
      "Epoch 1/100\n",
      "7/7 [==============================] - 0s 1ms/step - loss: 35.7189\n",
      "Epoch 2/100\n",
      "7/7 [==============================] - 0s 1ms/step - loss: 21.9569\n",
      "Epoch 3/100\n",
      "7/7 [==============================] - 0s 1ms/step - loss: 15.9710\n",
      "Epoch 4/100\n",
      "7/7 [==============================] - 0s 1ms/step - loss: 12.1964\n",
      "Epoch 5/100\n",
      "7/7 [==============================] - 0s 1ms/step - loss: 9.8437\n",
      "Epoch 6/100\n",
      "7/7 [==============================] - 0s 2ms/step - loss: 8.1215\n",
      "Epoch 7/100\n",
      "7/7 [==============================] - 0s 2ms/step - loss: 6.7839\n",
      "Epoch 8/100\n",
      "7/7 [==============================] - 0s 2ms/step - loss: 5.8129\n",
      "Epoch 9/100\n",
      "7/7 [==============================] - 0s 2ms/step - loss: 5.0460\n",
      "Epoch 10/100\n",
      "7/7 [==============================] - 0s 2ms/step - loss: 4.4212\n",
      "Epoch 11/100\n",
      "7/7 [==============================] - 0s 2ms/step - loss: 3.9504\n",
      "Epoch 12/100\n",
      "7/7 [==============================] - 0s 1ms/step - loss: 3.5617\n",
      "Epoch 13/100\n",
      "7/7 [==============================] - 0s 1ms/step - loss: 3.2581\n",
      "Epoch 14/100\n",
      "7/7 [==============================] - 0s 2ms/step - loss: 2.9966\n",
      "Epoch 15/100\n",
      "7/7 [==============================] - 0s 1ms/step - loss: 2.7663\n",
      "Epoch 16/100\n",
      "7/7 [==============================] - 0s 2ms/step - loss: 2.5630\n",
      "Epoch 17/100\n",
      "7/7 [==============================] - 0s 999us/step - loss: 2.3873\n",
      "Epoch 18/100\n",
      "7/7 [==============================] - 0s 2ms/step - loss: 2.2388\n",
      "Epoch 19/100\n",
      "7/7 [==============================] - 0s 1ms/step - loss: 2.1025\n",
      "Epoch 20/100\n",
      "7/7 [==============================] - 0s 1ms/step - loss: 1.9837\n",
      "Epoch 21/100\n",
      "7/7 [==============================] - 0s 1ms/step - loss: 1.8717\n",
      "Epoch 22/100\n",
      "7/7 [==============================] - 0s 1000us/step - loss: 1.7754\n",
      "Epoch 23/100\n",
      "7/7 [==============================] - 0s 1ms/step - loss: 1.6889\n",
      "Epoch 24/100\n",
      "7/7 [==============================] - 0s 2ms/step - loss: 1.6176\n",
      "Epoch 25/100\n",
      "7/7 [==============================] - 0s 2ms/step - loss: 1.5419\n",
      "Epoch 26/100\n",
      "7/7 [==============================] - 0s 1ms/step - loss: 1.4788\n",
      "Epoch 27/100\n",
      "7/7 [==============================] - 0s 1ms/step - loss: 1.4269\n",
      "Epoch 28/100\n",
      "7/7 [==============================] - 0s 2ms/step - loss: 1.3759\n",
      "Epoch 29/100\n",
      "7/7 [==============================] - 0s 2ms/step - loss: 1.3356\n",
      "Epoch 30/100\n",
      "7/7 [==============================] - 0s 1ms/step - loss: 1.2908\n",
      "Epoch 31/100\n",
      "7/7 [==============================] - 0s 1ms/step - loss: 1.2564\n",
      "Epoch 32/100\n",
      "7/7 [==============================] - 0s 2ms/step - loss: 1.2247\n",
      "Epoch 33/100\n",
      "7/7 [==============================] - 0s 1ms/step - loss: 1.1974\n",
      "Epoch 34/100\n",
      "7/7 [==============================] - 0s 1ms/step - loss: 1.1686\n",
      "Epoch 35/100\n",
      "7/7 [==============================] - 0s 2ms/step - loss: 1.1479\n",
      "Epoch 36/100\n",
      "7/7 [==============================] - 0s 1000us/step - loss: 1.1221\n",
      "Epoch 37/100\n",
      "7/7 [==============================] - 0s 2ms/step - loss: 1.1012\n",
      "Epoch 38/100\n",
      "7/7 [==============================] - 0s 1ms/step - loss: 1.0856\n",
      "Epoch 39/100\n",
      "7/7 [==============================] - 0s 2ms/step - loss: 1.0687\n",
      "Epoch 40/100\n",
      "7/7 [==============================] - 0s 1ms/step - loss: 1.0568\n",
      "Epoch 41/100\n",
      "7/7 [==============================] - 0s 1ms/step - loss: 1.0466\n",
      "Epoch 42/100\n",
      "7/7 [==============================] - 0s 999us/step - loss: 1.0350\n",
      "Epoch 43/100\n",
      "7/7 [==============================] - 0s 2ms/step - loss: 1.0245\n",
      "Epoch 44/100\n",
      "7/7 [==============================] - 0s 2ms/step - loss: 1.0168\n",
      "Epoch 45/100\n",
      "7/7 [==============================] - 0s 2ms/step - loss: 1.0156\n",
      "Epoch 46/100\n",
      "7/7 [==============================] - 0s 2ms/step - loss: 1.0024\n",
      "Epoch 47/100\n",
      "7/7 [==============================] - 0s 2ms/step - loss: 0.9948\n",
      "Epoch 48/100\n",
      "7/7 [==============================] - 0s 1ms/step - loss: 0.9903\n",
      "Epoch 49/100\n",
      "7/7 [==============================] - 0s 2ms/step - loss: 0.9828\n",
      "Epoch 50/100\n",
      "7/7 [==============================] - 0s 1ms/step - loss: 0.9802\n",
      "Epoch 51/100\n",
      "7/7 [==============================] - 0s 1ms/step - loss: 0.9765\n",
      "Epoch 52/100\n",
      "7/7 [==============================] - 0s 1ms/step - loss: 0.9693\n",
      "Epoch 53/100\n",
      "7/7 [==============================] - 0s 1ms/step - loss: 0.9661\n",
      "Epoch 54/100\n",
      "7/7 [==============================] - 0s 1ms/step - loss: 0.9631\n",
      "Epoch 55/100\n",
      "7/7 [==============================] - 0s 2ms/step - loss: 0.9601\n",
      "Epoch 56/100\n",
      "7/7 [==============================] - 0s 2ms/step - loss: 0.9588\n",
      "Epoch 57/100\n",
      "7/7 [==============================] - 0s 2ms/step - loss: 0.9545\n",
      "Epoch 58/100\n",
      "7/7 [==============================] - 0s 2ms/step - loss: 0.9550\n",
      "Epoch 59/100\n",
      "7/7 [==============================] - 0s 918us/step - loss: 0.9524\n",
      "Epoch 60/100\n",
      "7/7 [==============================] - 0s 2ms/step - loss: 0.9524\n",
      "Epoch 61/100\n",
      "7/7 [==============================] - 0s 1ms/step - loss: 0.9506\n",
      "Epoch 62/100\n",
      "7/7 [==============================] - 0s 1ms/step - loss: 0.9504\n",
      "Epoch 63/100\n",
      "7/7 [==============================] - 0s 1ms/step - loss: 0.9504\n",
      "Epoch 64/100\n",
      "7/7 [==============================] - 0s 1ms/step - loss: 0.9449\n",
      "Epoch 65/100\n",
      "7/7 [==============================] - 0s 1ms/step - loss: 0.9464\n",
      "Epoch 66/100\n",
      "7/7 [==============================] - 0s 833us/step - loss: 0.9435\n",
      "Epoch 67/100\n",
      "7/7 [==============================] - 0s 1ms/step - loss: 0.9401\n",
      "Epoch 68/100\n",
      "7/7 [==============================] - 0s 1ms/step - loss: 0.9421\n",
      "Epoch 69/100\n",
      "7/7 [==============================] - 0s 2ms/step - loss: 0.9400\n",
      "Epoch 70/100\n",
      "7/7 [==============================] - 0s 2ms/step - loss: 0.9387\n",
      "Epoch 71/100\n",
      "7/7 [==============================] - 0s 1ms/step - loss: 0.9404\n",
      "Epoch 72/100\n",
      "7/7 [==============================] - 0s 4ms/step - loss: 0.9364\n",
      "Epoch 73/100\n",
      "7/7 [==============================] - 0s 3ms/step - loss: 0.9358\n",
      "Epoch 74/100\n",
      "7/7 [==============================] - 0s 1ms/step - loss: 0.9357\n",
      "Epoch 75/100\n",
      "7/7 [==============================] - 0s 2ms/step - loss: 0.9399\n",
      "Epoch 76/100\n",
      "7/7 [==============================] - 0s 1ms/step - loss: 0.9367\n",
      "Epoch 77/100\n",
      "7/7 [==============================] - 0s 1ms/step - loss: 0.9365\n",
      "Epoch 78/100\n",
      "7/7 [==============================] - 0s 1ms/step - loss: 0.9344\n",
      "Epoch 79/100\n",
      "7/7 [==============================] - 0s 2ms/step - loss: 0.9352\n",
      "Epoch 80/100\n",
      "7/7 [==============================] - 0s 2ms/step - loss: 0.9342\n",
      "Epoch 81/100\n",
      "7/7 [==============================] - 0s 1ms/step - loss: 0.9342\n",
      "Epoch 82/100\n",
      "7/7 [==============================] - 0s 1ms/step - loss: 0.9351\n",
      "Epoch 83/100\n",
      "7/7 [==============================] - 0s 2ms/step - loss: 0.9351\n",
      "Epoch 84/100\n",
      "7/7 [==============================] - 0s 1ms/step - loss: 0.9370\n",
      "Epoch 85/100\n",
      "7/7 [==============================] - 0s 4ms/step - loss: 0.9345\n",
      "Epoch 86/100\n",
      "7/7 [==============================] - 0s 2ms/step - loss: 0.9377\n",
      "Epoch 87/100\n",
      "7/7 [==============================] - 0s 1ms/step - loss: 0.9367\n",
      "Epoch 88/100\n",
      "7/7 [==============================] - 0s 1ms/step - loss: 0.9342\n",
      "Epoch 89/100\n",
      "7/7 [==============================] - 0s 2ms/step - loss: 0.9330\n",
      "Epoch 90/100\n",
      "7/7 [==============================] - 0s 2ms/step - loss: 0.9317\n",
      "Epoch 91/100\n",
      "7/7 [==============================] - 0s 1ms/step - loss: 0.9313\n",
      "Epoch 92/100\n",
      "7/7 [==============================] - 0s 1ms/step - loss: 0.9346\n",
      "Epoch 93/100\n",
      "7/7 [==============================] - 0s 1ms/step - loss: 0.9335\n",
      "Epoch 94/100\n",
      "7/7 [==============================] - 0s 1ms/step - loss: 0.9312\n",
      "Epoch 95/100\n",
      "7/7 [==============================] - 0s 1ms/step - loss: 0.9313\n",
      "Epoch 96/100\n",
      "7/7 [==============================] - 0s 1ms/step - loss: 0.9325\n",
      "Epoch 97/100\n",
      "7/7 [==============================] - 0s 1ms/step - loss: 0.9335\n",
      "Epoch 98/100\n",
      "7/7 [==============================] - 0s 1ms/step - loss: 0.9340\n",
      "Epoch 99/100\n",
      "7/7 [==============================] - 0s 2ms/step - loss: 0.9330\n",
      "Epoch 100/100\n",
      "7/7 [==============================] - 0s 1ms/step - loss: 0.9328\n"
     ]
    }
   ],
   "source": [
    "new_model.compile(\n",
    "    optimizer = tf.keras.optimizers.SGD(learning_rate = 0.01), #SGD = Stochastic Gradient Descent\n",
    "    loss = tf.keras.losses.MSE\n",
    ")\n",
    "\n",
    "history = new_model.fit(x, y,\n",
    "                         epochs = 100,\n",
    "                         batch_size = 32,\n",
    "                         )"
   ]
  },
  {
   "cell_type": "code",
   "execution_count": 41,
   "metadata": {},
   "outputs": [
    {
     "data": {
      "image/png": "[encoded data removed]",
      "text/plain": [
       "<Figure size 900x600 with 1 Axes>"
      ]
     },
     "metadata": {},
     "output_type": "display_data"
    }
   ],
   "source": [
    "plt.plot(history.epoch, history.history['loss'])\n",
    "plt.xlabel('Epoch')\n",
    "plt.ylim([0, max(plt.ylim())])\n",
    "plt.ylabel('Loss [Mean Squared Error]')\n",
    "plt.title('Keras training progress');"
   ]
  },
  {
   "attachments": {},
   "cell_type": "markdown",
   "metadata": {},
   "source": [
    "## 2 Tensors\n",
    "\n",
    "https://www.tensorflow.org/guide/tensor\n",
    "\n",
    "tensors may have 0 (scalr) or 1 (vector),2, 3... (matrix) axes\n",
    "\n",
    "`np.array` for tensor to numpy array\n",
    "\n",
    "`.shape` voor vomr"
   ]
  },
  {
   "attachments": {},
   "cell_type": "markdown",
   "metadata": {},
   "source": [
    "## 3 Variables\n",
    "\n",
    "https://www.tensorflow.org/guide/variable\n"
   ]
  },
  {
   "attachments": {},
   "cell_type": "markdown",
   "metadata": {},
   "source": [
    "## 4 Automatic differentiation\n",
    "\n",
    "https://www.tensorflow.org/guide/autodiff\n",
    "\n",
    "Needed for backpropagation:\n",
    "\n",
    "Network: ${\\displaystyle g(x):=f^{L}(W^{L}f^{L-1}(W^{L-1}\\cdots f^{1}(W^{1}x)\\cdots ))}$\n",
    "\n",
    "Cost: ${\\displaystyle C(y_{i},g(x_{i}))}$\n",
    "\n",
    "\"Backpropagation efficiently computes the gradient by avoiding duplicate calculations and not computing unnecessary intermediate values, by computing the gradient of each layer – specifically, the gradient of the weighted input of each layer, denoted by  ${\\displaystyle \\delta ^{l}}$ – from back to front.\""
   ]
  },
  {
   "attachments": {},
   "cell_type": "markdown",
   "metadata": {},
   "source": [
    "*TensorFlow \"records\" relevant operations executed inside the context of a `tf.GradientTape` onto a \"tape\". TensorFlow then uses that tape to compute the gradients of a \"recorded\" computation using reverse mode differentiation.*"
   ]
  },
  {
   "cell_type": "code",
   "execution_count": 42,
   "metadata": {},
   "outputs": [
    {
     "data": {
      "text/plain": [
       "6.0"
      ]
     },
     "execution_count": 42,
     "metadata": {},
     "output_type": "execute_result"
    }
   ],
   "source": [
    "x = tf.Variable(3.0)\n",
    "\n",
    "with tf.GradientTape() as tape:\n",
    "  y = x**2\n",
    "\n",
    "# dy = 2x * dx\n",
    "dy_dx = tape.gradient(y, x)  #(taget, source)\n",
    "dy_dx.numpy() #dy/dx == 2*x = 3"
   ]
  },
  {
   "cell_type": "code",
   "execution_count": 43,
   "metadata": {},
   "outputs": [
    {
     "data": {
      "text/plain": [
       "[<tf.Tensor: shape=(3, 2), dtype=float32, numpy=\n",
       " array([[1.5221385, 2.1315384],\n",
       "        [3.044277 , 4.263077 ],\n",
       "        [4.5664153, 6.394615 ]], dtype=float32)>,\n",
       " <tf.Tensor: shape=(2,), dtype=float32, numpy=array([1.5221385, 2.1315384], dtype=float32)>]"
      ]
     },
     "execution_count": 43,
     "metadata": {},
     "output_type": "execute_result"
    }
   ],
   "source": [
    "layer = tf.keras.layers.Dense(2, activation='relu')\n",
    "x = tf.constant([[1., 2., 3.]])\n",
    "\n",
    "with tf.GradientTape() as tape:\n",
    "  # Forward pass\n",
    "  y = layer(x)\n",
    "  loss = tf.reduce_mean(y**2)\n",
    "\n",
    "# Calculate gradients with respect to every trainable variable\n",
    "grad = tape.gradient(loss, layer.trainable_variables)\n",
    "grad"
   ]
  },
  {
   "cell_type": "code",
   "execution_count": 44,
   "metadata": {},
   "outputs": [
    {
     "name": "stdout",
     "output_type": "stream",
     "text": [
      "dense_1/kernel:0, shape: (3, 2)\n",
      "dense_1/bias:0, shape: (2,)\n"
     ]
    }
   ],
   "source": [
    "for var, g in zip(layer.trainable_variables, grad):\n",
    "  print(f'{var.name}, shape: {g.shape}')"
   ]
  },
  {
   "attachments": {},
   "cell_type": "markdown",
   "metadata": {},
   "source": [
    "So both for bias and the $w$ values a gradient!"
   ]
  },
  {
   "attachments": {},
   "cell_type": "markdown",
   "metadata": {},
   "source": [
    "# Keras"
   ]
  },
  {
   "attachments": {},
   "cell_type": "markdown",
   "metadata": {},
   "source": [
    "## 1 The Sequential model"
   ]
  },
  {
   "attachments": {},
   "cell_type": "markdown",
   "metadata": {},
   "source": [
    "https://www.tensorflow.org/guide/keras/sequential_model\n",
    "\n"
   ]
  },
  {
   "cell_type": "code",
   "execution_count": 50,
   "metadata": {},
   "outputs": [],
   "source": [
    "from tensorflow import keras\n",
    "from keras import layers\n"
   ]
  },
  {
   "attachments": {},
   "cell_type": "markdown",
   "metadata": {},
   "source": [
    "goed voor 'plain stack', dus één input en één output tensor per laag!"
   ]
  },
  {
   "cell_type": "code",
   "execution_count": 52,
   "metadata": {},
   "outputs": [
    {
     "name": "stdout",
     "output_type": "stream",
     "text": [
      "tf.Tensor(\n",
      "[[1. 1. 1.]\n",
      " [1. 1. 1.]\n",
      " [1. 1. 1.]], shape=(3, 3), dtype=float32)\n",
      "tf.Tensor(\n",
      "[[ 0.04979995  0.02765248 -0.02600447 -0.03051421]\n",
      " [ 0.04979995  0.02765248 -0.02600447 -0.03051421]\n",
      " [ 0.04979995  0.02765248 -0.02600447 -0.03051421]], shape=(3, 4), dtype=float32)\n"
     ]
    }
   ],
   "source": [
    "model = keras.Sequential(\n",
    "    [\n",
    "    layers.Dense(2, activation = \"relu\", name = 'layer1'), #first number = dimensionality of the output space!\n",
    "    layers.Dense(3, activation = \"relu\", name = 'layer2'),\n",
    "    layers.Dense(4, name = 'layer3'),\n",
    "    ]\n",
    ")\n",
    "\n",
    "x = tf.ones((3,3))\n",
    "print(x)\n",
    "y = model(x)\n",
    "print(y)"
   ]
  },
  {
   "attachments": {},
   "cell_type": "markdown",
   "metadata": {},
   "source": [
    "you can equivalent also stack the layers (one in the other)"
   ]
  },
  {
   "cell_type": "code",
   "execution_count": 53,
   "metadata": {},
   "outputs": [
    {
     "data": {
      "text/plain": [
       "[<keras.layers.core.dense.Dense at 0x199f3e19900>,\n",
       " <keras.layers.core.dense.Dense at 0x199f3e1ad70>,\n",
       " <keras.layers.core.dense.Dense at 0x199f0017c70>]"
      ]
     },
     "execution_count": 53,
     "metadata": {},
     "output_type": "execute_result"
    }
   ],
   "source": [
    "model.layers"
   ]
  },
  {
   "attachments": {},
   "cell_type": "markdown",
   "metadata": {},
   "source": [
    "alternative below!"
   ]
  },
  {
   "cell_type": "code",
   "execution_count": 58,
   "metadata": {},
   "outputs": [],
   "source": [
    "model_alt = keras.Sequential()\n",
    "model_alt.add(layers.Dense(2, activation = 'relu'))\n",
    "model_alt.add(layers.Dense(3, activation = 'relu'))\n",
    "model_alt.add(layers.Dense(4))"
   ]
  },
  {
   "attachments": {},
   "cell_type": "markdown",
   "metadata": {},
   "source": [
    "`model.pop()` to remove a layer"
   ]
  },
  {
   "cell_type": "code",
   "execution_count": 59,
   "metadata": {},
   "outputs": [
    {
     "ename": "ValueError",
     "evalue": "Weights for model sequential_12 have not yet been created. Weights are created when the Model is first called on inputs or `build()` is called with an `input_shape`.",
     "output_type": "error",
     "traceback": [
      "\u001b[1;31m---------------------------------------------------------------------------\u001b[0m",
      "\u001b[1;31mValueError\u001b[0m                                Traceback (most recent call last)",
      "Cell \u001b[1;32mIn[59], line 1\u001b[0m\n\u001b[1;32m----> 1\u001b[0m model_alt\u001b[39m.\u001b[39;49mweights\n",
      "File \u001b[1;32mc:\\Users\\olivi\\miniconda3\\envs\\thesis\\lib\\site-packages\\keras\\engine\\training.py:3241\u001b[0m, in \u001b[0;36mModel.weights\u001b[1;34m(self)\u001b[0m\n\u001b[0;32m   3231\u001b[0m \u001b[39m@property\u001b[39m\n\u001b[0;32m   3232\u001b[0m \u001b[39mdef\u001b[39;00m \u001b[39mweights\u001b[39m(\u001b[39mself\u001b[39m):\n\u001b[0;32m   3233\u001b[0m \u001b[39m    \u001b[39m\u001b[39m\"\"\"Returns the list of all layer variables/weights.\u001b[39;00m\n\u001b[0;32m   3234\u001b[0m \n\u001b[0;32m   3235\u001b[0m \u001b[39m    Note: This will not track the weights of nested `tf.Modules` that are\u001b[39;00m\n\u001b[1;32m   (...)\u001b[0m\n\u001b[0;32m   3239\u001b[0m \u001b[39m      A list of variables.\u001b[39;00m\n\u001b[0;32m   3240\u001b[0m \u001b[39m    \"\"\"\u001b[39;00m\n\u001b[1;32m-> 3241\u001b[0m     \u001b[39mreturn\u001b[39;00m \u001b[39mself\u001b[39m\u001b[39m.\u001b[39m_dedup_weights(\u001b[39mself\u001b[39;49m\u001b[39m.\u001b[39;49m_undeduplicated_weights)\n",
      "File \u001b[1;32mc:\\Users\\olivi\\miniconda3\\envs\\thesis\\lib\\site-packages\\keras\\engine\\training.py:3246\u001b[0m, in \u001b[0;36mModel._undeduplicated_weights\u001b[1;34m(self)\u001b[0m\n\u001b[0;32m   3243\u001b[0m \u001b[39m@property\u001b[39m\n\u001b[0;32m   3244\u001b[0m \u001b[39mdef\u001b[39;00m \u001b[39m_undeduplicated_weights\u001b[39m(\u001b[39mself\u001b[39m):\n\u001b[0;32m   3245\u001b[0m \u001b[39m    \u001b[39m\u001b[39m\"\"\"Returns the undeduplicated list of all layer variables/weights.\"\"\"\u001b[39;00m\n\u001b[1;32m-> 3246\u001b[0m     \u001b[39mself\u001b[39;49m\u001b[39m.\u001b[39;49m_assert_weights_created()\n\u001b[0;32m   3247\u001b[0m     weights \u001b[39m=\u001b[39m []\n\u001b[0;32m   3248\u001b[0m     \u001b[39mfor\u001b[39;00m layer \u001b[39min\u001b[39;00m \u001b[39mself\u001b[39m\u001b[39m.\u001b[39m_self_tracked_trackables:\n",
      "File \u001b[1;32mc:\\Users\\olivi\\miniconda3\\envs\\thesis\\lib\\site-packages\\keras\\engine\\sequential.py:526\u001b[0m, in \u001b[0;36mSequential._assert_weights_created\u001b[1;34m(self)\u001b[0m\n\u001b[0;32m    523\u001b[0m     \u001b[39mreturn\u001b[39;00m\n\u001b[0;32m    524\u001b[0m \u001b[39m# When the graph has not been initialized, use the Model's\u001b[39;00m\n\u001b[0;32m    525\u001b[0m \u001b[39m# implementation to to check if the weights has been created.\u001b[39;00m\n\u001b[1;32m--> 526\u001b[0m \u001b[39msuper\u001b[39;49m(functional\u001b[39m.\u001b[39;49mFunctional, \u001b[39mself\u001b[39;49m)\u001b[39m.\u001b[39;49m_assert_weights_created()\n",
      "File \u001b[1;32mc:\\Users\\olivi\\miniconda3\\envs\\thesis\\lib\\site-packages\\keras\\engine\\training.py:3545\u001b[0m, in \u001b[0;36mModel._assert_weights_created\u001b[1;34m(self)\u001b[0m\n\u001b[0;32m   3534\u001b[0m     \u001b[39mreturn\u001b[39;00m\n\u001b[0;32m   3536\u001b[0m \u001b[39mif\u001b[39;00m (\n\u001b[0;32m   3537\u001b[0m     \u001b[39m\"\u001b[39m\u001b[39mbuild\u001b[39m\u001b[39m\"\u001b[39m \u001b[39min\u001b[39;00m \u001b[39mself\u001b[39m\u001b[39m.\u001b[39m\u001b[39m__class__\u001b[39m\u001b[39m.\u001b[39m\u001b[39m__dict__\u001b[39m\n\u001b[0;32m   3538\u001b[0m     \u001b[39mand\u001b[39;00m \u001b[39mself\u001b[39m\u001b[39m.\u001b[39m\u001b[39m__class__\u001b[39m \u001b[39m!=\u001b[39m Model\n\u001b[1;32m   (...)\u001b[0m\n\u001b[0;32m   3543\u001b[0m     \u001b[39m# Also make sure to exclude Model class itself which has build()\u001b[39;00m\n\u001b[0;32m   3544\u001b[0m     \u001b[39m# defined.\u001b[39;00m\n\u001b[1;32m-> 3545\u001b[0m     \u001b[39mraise\u001b[39;00m \u001b[39mValueError\u001b[39;00m(\n\u001b[0;32m   3546\u001b[0m         \u001b[39mf\u001b[39m\u001b[39m\"\u001b[39m\u001b[39mWeights for model \u001b[39m\u001b[39m{\u001b[39;00m\u001b[39mself\u001b[39m\u001b[39m.\u001b[39mname\u001b[39m}\u001b[39;00m\u001b[39m have not yet been \u001b[39m\u001b[39m\"\u001b[39m\n\u001b[0;32m   3547\u001b[0m         \u001b[39m\"\u001b[39m\u001b[39mcreated. \u001b[39m\u001b[39m\"\u001b[39m\n\u001b[0;32m   3548\u001b[0m         \u001b[39m\"\u001b[39m\u001b[39mWeights are created when the Model is first called on \u001b[39m\u001b[39m\"\u001b[39m\n\u001b[0;32m   3549\u001b[0m         \u001b[39m\"\u001b[39m\u001b[39minputs or `build()` is called with an `input_shape`.\u001b[39m\u001b[39m\"\u001b[39m\n\u001b[0;32m   3550\u001b[0m     )\n",
      "\u001b[1;31mValueError\u001b[0m: Weights for model sequential_12 have not yet been created. Weights are created when the Model is first called on inputs or `build()` is called with an `input_shape`."
     ]
    }
   ],
   "source": [
    "model_alt.weights"
   ]
  },
  {
   "attachments": {},
   "cell_type": "markdown",
   "metadata": {},
   "source": [
    "Before you give an input, no weights are given as these depend on the input size of your vector!"
   ]
  },
  {
   "cell_type": "code",
   "execution_count": 63,
   "metadata": {},
   "outputs": [
    {
     "data": {
      "text/plain": [
       "TensorShape([3, 3])"
      ]
     },
     "execution_count": 63,
     "metadata": {},
     "output_type": "execute_result"
    }
   ],
   "source": [
    "x.shape"
   ]
  },
  {
   "cell_type": "code",
   "execution_count": 61,
   "metadata": {},
   "outputs": [
    {
     "name": "stdout",
     "output_type": "stream",
     "text": [
      "Model: \"sequential_12\"\n",
      "_________________________________________________________________\n",
      " Layer (type)                Output Shape              Param #   \n",
      "=================================================================\n",
      " dense_14 (Dense)            (3, 2)                    8         \n",
      "                                                                 \n",
      " dense_15 (Dense)            (3, 3)                    9         \n",
      "                                                                 \n",
      " dense_16 (Dense)            (3, 4)                    16        \n",
      "                                                                 \n",
      "=================================================================\n",
      "Total params: 33\n",
      "Trainable params: 33\n",
      "Non-trainable params: 0\n",
      "_________________________________________________________________\n"
     ]
    }
   ],
   "source": [
    "y = model_alt(x)\n",
    "#now the model has been build\n",
    "model_alt.summary()"
   ]
  },
  {
   "attachments": {},
   "cell_type": "markdown",
   "metadata": {},
   "source": [
    "You can define the shape of your input in advance!"
   ]
  },
  {
   "cell_type": "code",
   "execution_count": 65,
   "metadata": {},
   "outputs": [
    {
     "name": "stdout",
     "output_type": "stream",
     "text": [
      "Model: \"sequential_15\"\n",
      "_________________________________________________________________\n",
      " Layer (type)                Output Shape              Param #   \n",
      "=================================================================\n",
      " dense_19 (Dense)            (None, 2)                 10        \n",
      "                                                                 \n",
      "=================================================================\n",
      "Total params: 10\n",
      "Trainable params: 10\n",
      "Non-trainable params: 0\n",
      "_________________________________________________________________\n"
     ]
    }
   ],
   "source": [
    "model = keras.Sequential()\n",
    "model.add(keras.Input(shape=(4,)))\n",
    "model.add(layers.Dense(2, activation=\"relu\"))\n",
    "\n",
    "model.summary()"
   ]
  },
  {
   "cell_type": "code",
   "execution_count": 67,
   "metadata": {},
   "outputs": [
    {
     "name": "stdout",
     "output_type": "stream",
     "text": [
      "Model: \"sequential_17\"\n",
      "_________________________________________________________________\n",
      " Layer (type)                Output Shape              Param #   \n",
      "=================================================================\n",
      " dense_21 (Dense)            (None, 2)                 10        \n",
      "                                                                 \n",
      "=================================================================\n",
      "Total params: 10\n",
      "Trainable params: 10\n",
      "Non-trainable params: 0\n",
      "_________________________________________________________________\n"
     ]
    }
   ],
   "source": [
    "#equivalent\n",
    "model = keras.Sequential()\n",
    "model.add(layers.Dense(2, activation='relu', input_shape = (4,)))\n",
    "model.summary()"
   ]
  },
  {
   "attachments": {},
   "cell_type": "markdown",
   "metadata": {},
   "source": [
    "**In general, it's a recommended best practice to always specify the input shape of a Sequential model in advance if you know what it is.**"
   ]
  },
  {
   "attachments": {},
   "cell_type": "markdown",
   "metadata": {},
   "source": [
    "## 2 RNN in Keras\n",
    "\n",
    "https://www.tensorflow.org/guide/keras/rnn"
   ]
  },
  {
   "cell_type": "code",
   "execution_count": 68,
   "metadata": {},
   "outputs": [],
   "source": [
    "import numpy as np"
   ]
  },
  {
   "cell_type": "code",
   "execution_count": 72,
   "metadata": {},
   "outputs": [
    {
     "name": "stdout",
     "output_type": "stream",
     "text": [
      "Model: \"sequential_20\"\n",
      "_________________________________________________________________\n",
      " Layer (type)                Output Shape              Param #   \n",
      "=================================================================\n",
      " embedding_1 (Embedding)     (None, None, 64)          64000     \n",
      "                                                                 \n",
      " lstm (LSTM)                 (None, 128)               98816     \n",
      "                                                                 \n",
      " dense_22 (Dense)            (None, 10)                1290      \n",
      "                                                                 \n",
      "=================================================================\n",
      "Total params: 164,106\n",
      "Trainable params: 164,106\n",
      "Non-trainable params: 0\n",
      "_________________________________________________________________\n"
     ]
    }
   ],
   "source": [
    "model = keras.Sequential()\n",
    "model.add(layers.Embedding(input_dim = 1000, output_dim = 64))\n",
    "#1000 characters input vocab to output embedding\n",
    "\n",
    "model.add(layers.LSTM(128)) #128 internal units\n",
    "\n",
    "model.add(layers.Dense(10))\n",
    "\n",
    "model.summary()\n"
   ]
  },
  {
   "cell_type": "markdown",
   "metadata": {},
   "source": []
  },
  {
   "cell_type": "code",
   "execution_count": 78,
   "metadata": {},
   "outputs": [
    {
     "name": "stdout",
     "output_type": "stream",
     "text": [
      "Model: \"sequential_26\"\n",
      "_________________________________________________________________\n",
      " Layer (type)                Output Shape              Param #   \n",
      "=================================================================\n",
      " lstm_6 (LSTM)               (None, 5)                 340       \n",
      "                                                                 \n",
      "=================================================================\n",
      "Total params: 340\n",
      "Trainable params: 340\n",
      "Non-trainable params: 0\n",
      "_________________________________________________________________\n"
     ]
    }
   ],
   "source": [
    "model_test = keras.Sequential()\n",
    "model_test.add(layers.LSTM(5, input_shape = (100,11,)))\n",
    "model_test.summary()"
   ]
  },
  {
   "cell_type": "markdown",
   "metadata": {},
   "source": []
  },
  {
   "attachments": {},
   "cell_type": "markdown",
   "metadata": {},
   "source": [
    "Default: only return last value of the OUTPUT so that output is of size `(batch_size, units)`\n",
    "If you want value for every timestep set `return_sequences = True` and then you get output of size `(batch_size, timesteps, units)`"
   ]
  },
  {
   "cell_type": "code",
   "execution_count": 79,
   "metadata": {},
   "outputs": [
    {
     "name": "stdout",
     "output_type": "stream",
     "text": [
      "Model: \"sequential_27\"\n",
      "_________________________________________________________________\n",
      " Layer (type)                Output Shape              Param #   \n",
      "=================================================================\n",
      " embedding_2 (Embedding)     (None, None, 64)          64000     \n",
      "                                                                 \n",
      " gru (GRU)                   (None, None, 256)         247296    \n",
      "                                                                 \n",
      " simple_rnn (SimpleRNN)      (None, 128)               49280     \n",
      "                                                                 \n",
      " dense_23 (Dense)            (None, 10)                1290      \n",
      "                                                                 \n",
      "=================================================================\n",
      "Total params: 361,866\n",
      "Trainable params: 361,866\n",
      "Non-trainable params: 0\n",
      "_________________________________________________________________\n"
     ]
    }
   ],
   "source": [
    "model = keras.Sequential()\n",
    "model.add(layers.Embedding(input_dim=1000, output_dim=64))\n",
    "\n",
    "# The output of GRU will be a 3D tensor of shape (batch_size, timesteps, 256)\n",
    "model.add(layers.GRU(256, return_sequences=True))\n",
    "\n",
    "# The output of SimpleRNN will be a 2D tensor of shape (batch_size, 128)\n",
    "model.add(layers.SimpleRNN(128))\n",
    "\n",
    "model.add(layers.Dense(10))\n",
    "\n",
    "model.summary()"
   ]
  },
  {
   "attachments": {},
   "cell_type": "markdown",
   "metadata": {},
   "source": [
    "If you also want to retrieve the (FINAl) internal states, you should specify this!"
   ]
  },
  {
   "cell_type": "code",
   "execution_count": 81,
   "metadata": {},
   "outputs": [
    {
     "name": "stdout",
     "output_type": "stream",
     "text": [
      "Model: \"model\"\n",
      "__________________________________________________________________________________________________\n",
      " Layer (type)                   Output Shape         Param #     Connected to                     \n",
      "==================================================================================================\n",
      " input_4 (InputLayer)           [(None, None)]       0           []                               \n",
      "                                                                                                  \n",
      " input_5 (InputLayer)           [(None, None)]       0           []                               \n",
      "                                                                                                  \n",
      " embedding_4 (Embedding)        (None, None, 64)     64000       ['input_4[0][0]']                \n",
      "                                                                                                  \n",
      " embedding_5 (Embedding)        (None, None, 64)     128000      ['input_5[0][0]']                \n",
      "                                                                                                  \n",
      " encoder (LSTM)                 [(None, 64),         33024       ['embedding_4[0][0]']            \n",
      "                                 (None, 64),                                                      \n",
      "                                 (None, 64)]                                                      \n",
      "                                                                                                  \n",
      " decoder (LSTM)                 (None, 64)           33024       ['embedding_5[0][0]',            \n",
      "                                                                  'encoder[0][1]',                \n",
      "                                                                  'encoder[0][2]']                \n",
      "                                                                                                  \n",
      " dense_24 (Dense)               (None, 10)           650         ['decoder[0][0]']                \n",
      "                                                                                                  \n",
      "==================================================================================================\n",
      "Total params: 258,698\n",
      "Trainable params: 258,698\n",
      "Non-trainable params: 0\n",
      "__________________________________________________________________________________________________\n"
     ]
    }
   ],
   "source": [
    "encoder_vocab = 1000\n",
    "decoder_vocab = 2000\n",
    "\n",
    "encoder_input = layers.Input(shape=(None,))\n",
    "encoder_embedded = layers.Embedding(input_dim=encoder_vocab, output_dim=64)(\n",
    "    encoder_input\n",
    ")\n",
    "\n",
    "# Return states in addition to output\n",
    "output, state_h, state_c = layers.LSTM(64, return_state=True, name=\"encoder\")(\n",
    "    encoder_embedded\n",
    ")\n",
    "encoder_state = [state_h, state_c]\n",
    "\n",
    "decoder_input = layers.Input(shape=(None,))\n",
    "decoder_embedded = layers.Embedding(input_dim=decoder_vocab, output_dim=64)(\n",
    "    decoder_input\n",
    ")\n",
    "\n",
    "# Pass the 2 states to a new LSTM layer, as initial state\n",
    "decoder_output = layers.LSTM(64, name=\"decoder\")(\n",
    "    decoder_embedded, initial_state=encoder_state\n",
    ")\n",
    "output = layers.Dense(10)(decoder_output)\n",
    "\n",
    "model = keras.Model([encoder_input, decoder_input], output)\n",
    "model.summary()"
   ]
  },
  {
   "attachments": {},
   "cell_type": "markdown",
   "metadata": {},
   "source": [
    "RNN cell = 1 timpestap at a time processes <=> RNN default all at the same time!\n",
    "\n",
    "`RNN(LSTMCel(10))` is a RNN 'for loop' around the `LSTMCel` structure!! "
   ]
  },
  {
   "attachments": {},
   "cell_type": "markdown",
   "metadata": {},
   "source": [
    "Maybe useful: https://www.tensorflow.org/guide/keras/rnn#cross-batch_statefulness however not sure that this is the goal..."
   ]
  },
  {
   "cell_type": "markdown",
   "metadata": {},
   "source": []
  },
  {
   "attachments": {},
   "cell_type": "markdown",
   "metadata": {},
   "source": [
    "# Basic regression with Keras"
   ]
  },
  {
   "attachments": {},
   "cell_type": "markdown",
   "metadata": {},
   "source": [
    "https://www.tensorflow.org/tutorials/keras/regression"
   ]
  },
  {
   "attachments": {},
   "cell_type": "markdown",
   "metadata": {},
   "source": [
    "# Frederik Kratzert LSTM for rainfall runoff modellin\n",
    "\n"
   ]
  }
 ],
 "metadata": {
  "kernelspec": {
   "display_name": "thesis",
   "language": "python",
   "name": "python3"
  },
  "language_info": {
   "codemirror_mode": {
    "name": "ipython",
    "version": 3
   },
   "file_extension": ".py",
   "mimetype": "text/x-python",
   "name": "python",
   "nbconvert_exporter": "python",
   "pygments_lexer": "ipython3",
   "version": "3.10.9"
  },
  "orig_nbformat": 4
 },
 "nbformat": 4,
 "nbformat_minor": 2
}
