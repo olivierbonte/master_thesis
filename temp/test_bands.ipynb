{
 "cells": [
  {
   "cell_type": "markdown",
   "metadata": {},
   "source": [
    "# Testing other bands"
   ]
  },
  {
   "cell_type": "markdown",
   "metadata": {},
   "source": [
    "Following advice of Hans: also ascending path should be present! "
   ]
  },
  {
   "cell_type": "markdown",
   "metadata": {},
   "source": [
    "## Band 88"
   ]
  },
  {
   "cell_type": "code",
   "execution_count": null,
   "metadata": {},
   "outputs": [],
   "source": [
    "import sys\n",
    "sys.path.insert(1,r\"C:\\Users\\olivi\\Documents\\Masterthesis_lokaal\\Python\")\n",
    "from pathlib import Path"
   ]
  },
  {
   "cell_type": "code",
   "execution_count": null,
   "metadata": {},
   "outputs": [],
   "source": [
    "from functions.pre_processing import pre_processing_pipeline"
   ]
  },
  {
   "cell_type": "code",
   "execution_count": null,
   "metadata": {},
   "outputs": [],
   "source": [
    "sentinel_folder_raw = Path('../data/g0_020m')"
   ]
  },
  {
   "cell_type": "code",
   "execution_count": null,
   "metadata": {},
   "outputs": [],
   "source": [
    "masked_xarray_088 = pre_processing_pipeline(\n",
    "    filepath_nc_raw = sentinel_folder_raw/'20190530_S1A_A_088.nc',\n",
    "    filepath_shapefile = '../data/Zwalm_shape/zwalm_shapefile_emma.shp',\n",
    "    filepath_nc_processed = '../data/g0_020m_Zwalm/20190530_S1A_A_088_Zwalm.nc',\n",
    "    filepath_temp_data = '../data/temp',\n",
    "    epsg = 4326,\n",
    "    return_bool = True,\n",
    ")\n",
    "masked_xarray_088"
   ]
  },
  {
   "cell_type": "code",
   "execution_count": null,
   "metadata": {},
   "outputs": [],
   "source": [
    "masked_xarray_088['g0vv'].plot()"
   ]
  },
  {
   "cell_type": "markdown",
   "metadata": {},
   "source": [
    "## Band 161"
   ]
  },
  {
   "cell_type": "code",
   "execution_count": null,
   "metadata": {},
   "outputs": [],
   "source": [
    "masked_xarray_161 = pre_processing_pipeline(\n",
    "    filepath_nc_raw = sentinel_folder_raw/'20190529_S1B_A_161.nc',\n",
    "    filepath_shapefile = '../data/Zwalm_shape/zwalm_shapefile_emma.shp',\n",
    "    filepath_nc_processed = '../data/g0_020m_Zwalm/20190529_S1B_A_161_Zwalm.nc',\n",
    "    filepath_temp_data = '../data/temp',\n",
    "    epsg = 4326,\n",
    "    return_bool = True,\n",
    ")\n",
    "masked_xarray_161['g0vv'].plot()"
   ]
  },
  {
   "cell_type": "markdown",
   "metadata": {},
   "source": [
    "## Band 59"
   ]
  },
  {
   "cell_type": "code",
   "execution_count": null,
   "metadata": {},
   "outputs": [],
   "source": [
    "masked_xarray_59 = pre_processing_pipeline(\n",
    "    filepath_nc_raw = sentinel_folder_raw/'20190528_S1A_A_059.nc',\n",
    "    filepath_shapefile = '../data/Zwalm_shape/zwalm_shapefile_emma.shp',\n",
    "    filepath_nc_processed = '../data/g0_020m_Zwalm/20190528_S1A_A_059_Zwalm.nc',\n",
    "    filepath_temp_data = '../data/temp',\n",
    "    epsg = 4326,\n",
    "    return_bool = True,\n",
    ")\n",
    "masked_xarray_59['g0vv'].plot()"
   ]
  },
  {
   "cell_type": "markdown",
   "metadata": {},
   "source": [
    "## Band 37"
   ]
  },
  {
   "cell_type": "code",
   "execution_count": null,
   "metadata": {},
   "outputs": [],
   "source": [
    "masked_xarray_37 = pre_processing_pipeline(\n",
    "    filepath_nc_raw = sentinel_folder_raw/'20190527_S1A_D_037.nc',\n",
    "    filepath_shapefile = '../data/Zwalm_shape/zwalm_shapefile_emma.shp',\n",
    "    filepath_nc_processed = '../data/g0_020m_Zwalm/20190527_S1A_D_037_Zwalm.nc',\n",
    "    filepath_temp_data = '../data/temp',\n",
    "    epsg = 4326,\n",
    "    return_bool = True,\n",
    ")\n",
    "masked_xarray_37['g0vv'].plot()"
   ]
  },
  {
   "cell_type": "markdown",
   "metadata": {},
   "source": [
    "## Band 110"
   ]
  },
  {
   "cell_type": "markdown",
   "metadata": {},
   "source": [
    "Reeds gekend dat deze goed is"
   ]
  },
  {
   "cell_type": "markdown",
   "metadata": {},
   "source": [
    "## Band 8"
   ]
  },
  {
   "cell_type": "code",
   "execution_count": null,
   "metadata": {},
   "outputs": [],
   "source": [
    "masked_xarray_8 = pre_processing_pipeline(\n",
    "    filepath_nc_raw = sentinel_folder_raw/'20190519_S1B_D_008.nc',\n",
    "    filepath_shapefile = '../data/Zwalm_shape/zwalm_shapefile_emma.shp',\n",
    "    filepath_nc_processed = '../data/g0_020m_Zwalm/20190519_S1B_D_008_Zwalm.nc',\n",
    "    filepath_temp_data = '../data/temp',\n",
    "    epsg = 4326,\n",
    "    return_bool = True,\n",
    ")\n",
    "masked_xarray_8['g0vv'].plot()"
   ]
  },
  {
   "cell_type": "code",
   "execution_count": null,
   "metadata": {},
   "outputs": [],
   "source": []
  }
 ],
 "metadata": {
  "kernelspec": {
   "display_name": "Python 3.10.6 ('thesis')",
   "language": "python",
   "name": "python3"
  },
  "language_info": {
   "codemirror_mode": {
    "name": "ipython",
    "version": 3
   },
   "file_extension": ".py",
   "mimetype": "text/x-python",
   "name": "python",
   "nbconvert_exporter": "python",
   "pygments_lexer": "ipython3",
   "version": "3.10.6"
  },
  "orig_nbformat": 4,
  "vscode": {
   "interpreter": {
    "hash": "a6b8480143e45034b950661dc46ed3131c1d39c9fcb21ab7eff1dd297a31067d"
   }
  }
 },
 "nbformat": 4,
 "nbformat_minor": 2
}
