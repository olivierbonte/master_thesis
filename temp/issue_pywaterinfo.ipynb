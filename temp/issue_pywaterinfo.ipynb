{
 "cells": [
  {
   "cell_type": "code",
   "execution_count": null,
   "metadata": {},
   "outputs": [],
   "source": [
    "from pywaterinfo import Waterinfo\n",
    "import pandas as pd\n",
    "import datetime\n",
    "import pytz\n",
    "vmm = Waterinfo('vmm')\n",
    "vmm.clear_cache()\n",
    "station = 'Zwalm'\n",
    "station_id = 'L06_342'\n",
    "stationsinfo_OG = vmm.get_timeseries_list(station_no = station_id)\n",
    "stationsinfo =  stationsinfo_OG[stationsinfo_OG['ts_name'] == 'DagGem']\n",
    "stationsinfo =  stationsinfo[stationsinfo['ts_unitsymbol'] == 'm³/s']\n",
    "dateparse_waterinfo = lambda x: datetime.datetime.strptime(x, \"%Y-%m-%d %H:%M:%S\")\n",
    "t_start = dateparse_waterinfo(\"2012-03-20 00:00:00\")\n",
    "belgian_timezone = pytz.timezone('Europe/Brussels')\n",
    "t_end = dateparse_waterinfo(\"2012-03-29 23:00:00\")\n",
    "t_start = belgian_timezone.localize(t_start)\n",
    "t_end = belgian_timezone.localize(t_end)\n",
    "flowdf = vmm.get_timeseries_values(\n",
    "                ts_id = str(int(stationsinfo['ts_id'].values)),#type:ignore\n",
    "                start = t_start,\n",
    "                end = t_end\n",
    ")\n",
    "# flowdf = vmm.request_kiwis({\"request\": \"getTimeseriesValues\",\n",
    "#  \"ts_id\": 68033042,\n",
    "#   \"from\": \"2012-01-01\",\n",
    "#    \"to\": \"2012-01-06\", \n",
    "#    \"timezone\": \"GMT+1\"})\n",
    "flowdf"
   ]
  },
  {
   "cell_type": "markdown",
   "metadata": {},
   "source": [
    "Use time delta to now shift to the correct, wanted hour!"
   ]
  },
  {
   "cell_type": "code",
   "execution_count": null,
   "metadata": {},
   "outputs": [],
   "source": [
    "flowdf['Timestamp'] = flowdf['Timestamp'] + pd.Timedelta(hours=1)"
   ]
  },
  {
   "cell_type": "code",
   "execution_count": null,
   "metadata": {},
   "outputs": [],
   "source": [
    "flowdf.head()"
   ]
  },
  {
   "cell_type": "code",
   "execution_count": null,
   "metadata": {},
   "outputs": [],
   "source": [
    "flowdf['Timestamp'].dt.tz_localize(None)"
   ]
  },
  {
   "cell_type": "code",
   "execution_count": null,
   "metadata": {},
   "outputs": [],
   "source": [
    "#flowdf['Timestamp'][0].replace(hour = 22)"
   ]
  },
  {
   "cell_type": "code",
   "execution_count": null,
   "metadata": {},
   "outputs": [],
   "source": [
    "flowdf['Timestamp'].dt.tz_convert(\"Europe/Brussels\")"
   ]
  },
  {
   "cell_type": "markdown",
   "metadata": {},
   "source": [
    "Je kan Europe/Brussesl niet gebruiken WANT deze gaat naar GMT+1 in de winter en naar GMT+2 in de zomer! Voor onze data willen we een constante GMT+1!"
   ]
  },
  {
   "cell_type": "code",
   "execution_count": null,
   "metadata": {},
   "outputs": [],
   "source": [
    "kiwisdf = vmm.request_kiwis({\"request\": \"getTimeseriesValues\",\n",
    " \"ts_id\": 68033042,\n",
    "  \"from\": \"2012-01-01\",\n",
    "   \"to\": \"2012-01-06\", \n",
    "   \"timezone\": \"GMT+1\"})"
   ]
  },
  {
   "cell_type": "code",
   "execution_count": null,
   "metadata": {},
   "outputs": [],
   "source": [
    "kiwisdf"
   ]
  }
 ],
 "metadata": {
  "kernelspec": {
   "display_name": "Python 3.10.6 ('thesis')",
   "language": "python",
   "name": "python3"
  },
  "language_info": {
   "codemirror_mode": {
    "name": "ipython",
    "version": 3
   },
   "file_extension": ".py",
   "mimetype": "text/x-python",
   "name": "python",
   "nbconvert_exporter": "python",
   "pygments_lexer": "ipython3",
   "version": "3.10.6 | packaged by conda-forge | (main, Aug 22 2022, 20:30:19) [MSC v.1929 64 bit (AMD64)]"
  },
  "orig_nbformat": 4,
  "vscode": {
   "interpreter": {
    "hash": "a6b8480143e45034b950661dc46ed3131c1d39c9fcb21ab7eff1dd297a31067d"
   }
  }
 },
 "nbformat": 4,
 "nbformat_minor": 2
}
