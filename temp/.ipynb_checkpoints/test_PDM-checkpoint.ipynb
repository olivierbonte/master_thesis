{
 "cells": [
  {
   "cell_type": "markdown",
   "metadata": {},
   "source": [
    "## Testing the Python implementation of PDM"
   ]
  },
  {
   "cell_type": "code",
   "execution_count": 9,
   "metadata": {},
   "outputs": [
    {
     "name": "stdout",
     "output_type": "stream",
     "text": [
      "['c:\\\\Users\\\\olivi\\\\OneDrive - UGent\\\\Bio-ingenieur_master_2022-2023\\\\Masterthesis\\\\Python', 'c:\\\\Users\\\\olivi\\\\OneDrive - UGent\\\\Bio-ingenieur_master_2022-2023\\\\Masterthesis\\\\Python', 'C:\\\\Users\\\\olivi\\\\OneDrive - UGent\\\\Bio-ingenieur_master_2022-2023\\\\Masterthesis\\\\Python\\\\temp', 'C:\\\\Users\\\\olivi\\\\miniconda3\\\\envs\\\\thesis\\\\python310.zip', 'C:\\\\Users\\\\olivi\\\\miniconda3\\\\envs\\\\thesis\\\\DLLs', 'C:\\\\Users\\\\olivi\\\\miniconda3\\\\envs\\\\thesis\\\\lib', 'C:\\\\Users\\\\olivi\\\\miniconda3\\\\envs\\\\thesis', '', 'C:\\\\Users\\\\olivi\\\\miniconda3\\\\envs\\\\thesis\\\\lib\\\\site-packages', 'C:\\\\Users\\\\olivi\\\\miniconda3\\\\envs\\\\thesis\\\\lib\\\\site-packages\\\\win32', 'C:\\\\Users\\\\olivi\\\\miniconda3\\\\envs\\\\thesis\\\\lib\\\\site-packages\\\\win32\\\\lib', 'C:\\\\Users\\\\olivi\\\\miniconda3\\\\envs\\\\thesis\\\\lib\\\\site-packages\\\\Pythonwin']\n"
     ]
    }
   ],
   "source": [
    "import sys\n",
    "import pandas as pd\n",
    "print(sys.path)"
   ]
  },
  {
   "cell_type": "code",
   "execution_count": 10,
   "metadata": {},
   "outputs": [],
   "source": [
    "# some_file.py\n",
    "#import sys\n",
    "#from setuptools import setup, find_packages\n",
    "#setup(\n",
    "#  name = 'functions',\n",
    "#  packages = ['functions'],#find_packages(where = './functions')\n",
    "#)\n",
    "# caution: path[0] is reserved for script path (or '' in REPL)\n",
    "#sys.path.insert(1, 'Python')\n",
    "sys.path.insert(0,r'c:\\Users\\olivi\\OneDrive - UGent\\Bio-ingenieur_master_2022-2023\\Masterthesis\\Python')\n",
    "#print(sys.path)\n",
    "#from ..functions.PDM import PDM\n",
    "from functions.PDM import PDM\n",
    "#print(sys.path)"
   ]
  },
  {
   "cell_type": "code",
   "execution_count": 22,
   "metadata": {},
   "outputs": [
    {
     "data": {
      "text/html": [
       "<div>\n",
       "<style scoped>\n",
       "    .dataframe tbody tr th:only-of-type {\n",
       "        vertical-align: middle;\n",
       "    }\n",
       "\n",
       "    .dataframe tbody tr th {\n",
       "        vertical-align: top;\n",
       "    }\n",
       "\n",
       "    .dataframe thead th {\n",
       "        text-align: right;\n",
       "    }\n",
       "</style>\n",
       "<table border=\"1\" class=\"dataframe\">\n",
       "  <thead>\n",
       "    <tr style=\"text-align: right;\">\n",
       "      <th></th>\n",
       "      <th>0</th>\n",
       "    </tr>\n",
       "  </thead>\n",
       "  <tbody>\n",
       "    <tr>\n",
       "      <th>0</th>\n",
       "      <td>385</td>\n",
       "    </tr>\n",
       "  </tbody>\n",
       "</table>\n",
       "</div>"
      ],
      "text/plain": [
       "     0\n",
       "0  385"
      ]
     },
     "metadata": {},
     "output_type": "display_data"
    },
    {
     "data": {
      "text/plain": [
       "array([[385]], dtype=int64)"
      ]
     },
     "metadata": {},
     "output_type": "display_data"
    }
   ],
   "source": [
    "area = pd.read_csv('../matlab/data/Area.csv', header= None)\n",
    "A = area.values\n",
    "display(area)\n",
    "display(A)"
   ]
  },
  {
   "cell_type": "code",
   "execution_count": 27,
   "metadata": {},
   "outputs": [
    {
     "data": {
      "text/html": [
       "<div>\n",
       "<style scoped>\n",
       "    .dataframe tbody tr th:only-of-type {\n",
       "        vertical-align: middle;\n",
       "    }\n",
       "\n",
       "    .dataframe tbody tr th {\n",
       "        vertical-align: top;\n",
       "    }\n",
       "\n",
       "    .dataframe thead th {\n",
       "        text-align: right;\n",
       "    }\n",
       "</style>\n",
       "<table border=\"1\" class=\"dataframe\">\n",
       "  <thead>\n",
       "    <tr style=\"text-align: right;\">\n",
       "      <th></th>\n",
       "      <th>cmax</th>\n",
       "      <th>cmin</th>\n",
       "      <th>b</th>\n",
       "      <th>be</th>\n",
       "      <th>k1</th>\n",
       "      <th>k2</th>\n",
       "      <th>kb</th>\n",
       "      <th>kg</th>\n",
       "      <th>St</th>\n",
       "      <th>bg</th>\n",
       "      <th>tdly</th>\n",
       "      <th>qconst</th>\n",
       "      <th>rainfac</th>\n",
       "    </tr>\n",
       "  </thead>\n",
       "  <tbody>\n",
       "    <tr>\n",
       "      <th>0</th>\n",
       "      <td>354.7</td>\n",
       "      <td>0.001</td>\n",
       "      <td>0.1225</td>\n",
       "      <td>1</td>\n",
       "      <td>40</td>\n",
       "      <td>15</td>\n",
       "      <td>2642</td>\n",
       "      <td>5513</td>\n",
       "      <td>0</td>\n",
       "      <td>1</td>\n",
       "      <td>7</td>\n",
       "      <td>-0.5306</td>\n",
       "      <td>0</td>\n",
       "    </tr>\n",
       "  </tbody>\n",
       "</table>\n",
       "</div>"
      ],
      "text/plain": [
       "    cmax   cmin       b  be  k1  k2    kb    kg  St  bg  tdly  qconst  rainfac\n",
       "0  354.7  0.001  0.1225   1  40  15  2642  5513   0   1     7 -0.5306        0"
      ]
     },
     "execution_count": 27,
     "metadata": {},
     "output_type": "execute_result"
    }
   ],
   "source": [
    "colnames = ['cmax','cmin','b','be','k1','k2','kb',\n",
    "            'kg','St','bg','tdly','qconst','rainfac']\n",
    "parameters = pd.read_csv('../matlab/data/paramPDM.csv', names = colnames, header = None)\n",
    "parameters"
   ]
  },
  {
   "cell_type": "code",
   "execution_count": null,
   "metadata": {},
   "outputs": [],
   "source": []
  }
 ],
 "metadata": {
  "kernelspec": {
   "display_name": "Python 3 (ipykernel)",
   "language": "python",
   "name": "python3"
  },
  "language_info": {
   "codemirror_mode": {
    "name": "ipython",
    "version": 3
   },
   "file_extension": ".py",
   "mimetype": "text/x-python",
   "name": "python",
   "nbconvert_exporter": "python",
   "pygments_lexer": "ipython3",
   "version": "3.10.6"
  },
  "vscode": {
   "interpreter": {
    "hash": "a6b8480143e45034b950661dc46ed3131c1d39c9fcb21ab7eff1dd297a31067d"
   }
  }
 },
 "nbformat": 4,
 "nbformat_minor": 4
}
