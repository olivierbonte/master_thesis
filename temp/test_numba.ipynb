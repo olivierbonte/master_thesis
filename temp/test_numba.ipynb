{
 "cells": [
  {
   "cell_type": "code",
   "execution_count": null,
   "metadata": {},
   "outputs": [],
   "source": [
    "from numba import jit\n",
    "import numpy as np\n",
    "\n",
    "\n",
    "voorbeeld_dict = {'a':np.single(3.5),'b':np.single(4.5)}\n",
    "\n",
    "def test_function(voorbeeld_dict):\n",
    "    a = voorbeeld_dict['a']\n",
    "    b = voorbeeld_dict['b']\n",
    "    c = 3\n",
    "\n",
    "    @jit(nopython = True)\n",
    "    def loop():\n",
    "        imax = 100000\n",
    "        result = 0\n",
    "        for i in range(imax):\n",
    "            result = result + np.sin(a) + np.exp(b) + c\n",
    "        return result\n",
    "    result = loop()\n",
    "    result = result +12\n",
    "    return result\n",
    "%timeit test_function(voorbeeld_dict)\n",
    "\n",
    "def test_function_slow(voorbeeld_dict):\n",
    "    a = voorbeeld_dict['a']\n",
    "    b = voorbeeld_dict['b']\n",
    "    imax = 100000\n",
    "    result = 0\n",
    "    for i in range(imax):\n",
    "        result = result + np.sin(a) + np.exp(b)\n",
    "    result = result +12\n",
    "    return result\n",
    "%timeit test_function_slow(voorbeeld_dict)"
   ]
  }
 ],
 "metadata": {
  "kernelspec": {
   "display_name": "thesis",
   "language": "python",
   "name": "python3"
  },
  "language_info": {
   "codemirror_mode": {
    "name": "ipython",
    "version": 3
   },
   "file_extension": ".py",
   "mimetype": "text/x-python",
   "name": "python",
   "nbconvert_exporter": "python",
   "pygments_lexer": "ipython3",
   "version": "3.10.9"
  },
  "orig_nbformat": 4,
  "vscode": {
   "interpreter": {
    "hash": "a6b8480143e45034b950661dc46ed3131c1d39c9fcb21ab7eff1dd297a31067d"
   }
  }
 },
 "nbformat": 4,
 "nbformat_minor": 2
}
