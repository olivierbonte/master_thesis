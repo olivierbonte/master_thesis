{
 "cells": [
  {
   "attachments": {},
   "cell_type": "markdown",
   "metadata": {},
   "source": [
    "# Terrascope gamma 0 download"
   ]
  },
  {
   "cell_type": "code",
   "execution_count": null,
   "metadata": {},
   "outputs": [],
   "source": [
    "import openeo\n",
    "import numpy as np\n",
    "import geopandas as gpd\n",
    "from pathlib import Path\n",
    "import numpy as np\n",
    "import xarray as xr\n",
    "import hvplot.xarray\n",
    "import pickle\n",
    "import os\n",
    "connection = openeo.connect(\"openeo.vito.be\").authenticate_oidc()\n",
    "pad = Path(os.getcwd())\n",
    "if pad.name != \"Python\":\n",
    "    pad_correct = Path(\"../../Python\")\n",
    "    os.chdir(pad_correct)\n",
    "from functions.pre_processing import pre_processing_pipeline"
   ]
  },
  {
   "cell_type": "code",
   "execution_count": null,
   "metadata": {},
   "outputs": [],
   "source": [
    "shape_zwalm = gpd.read_file('data/Zwalm_shape/zwalm_shapefile_emma.shp')\n",
    "shape_zwalm.plot()\n",
    "extent = shape_zwalm.total_bounds\n",
    "print(extent)"
   ]
  },
  {
   "cell_type": "code",
   "execution_count": null,
   "metadata": {},
   "outputs": [],
   "source": [
    "connection.list_collections()"
   ]
  },
  {
   "cell_type": "code",
   "execution_count": null,
   "metadata": {},
   "outputs": [],
   "source": [
    "connection.describe_collection(\"TERRASCOPE_S1_GAMMA0_V1\")"
   ]
  },
  {
   "attachments": {},
   "cell_type": "markdown",
   "metadata": {},
   "source": [
    "Deze dataset start op 07/06/2015"
   ]
  },
  {
   "attachments": {},
   "cell_type": "markdown",
   "metadata": {},
   "source": [
    "Bemerk dat ook 'TERRASCOPE_S2_LAI_V2' bevat vanaf 2015, lijkt met hogere resolutie te zijn (10m)"
   ]
  },
  {
   "cell_type": "code",
   "execution_count": null,
   "metadata": {},
   "outputs": [],
   "source": [
    "collection = 'TERRASCOPE_S1_GAMMA0_V1' #Ground Range Detected\n",
    "spatial_extent = {'west':extent[0],'east':extent[2],'south':extent[1],'north':extent[3]}\n",
    "temporal_extent = [\"2015-06-07\", \"2022-11-05\"]  #start same as Hans, end where pywaterinfo forcings stop\n",
    "bands = ['VV'] #enkel in deze geïnteresseerd \n",
    "# properties = {\n",
    "#     \"orbit_direction\":lambda od: od == \"ASCENDING\"\n",
    "# }\n",
    "properties = {\n",
    "    'sat:orbit_state': lambda od: od == \"ASCENDING\"\n",
    "}"
   ]
  },
  {
   "cell_type": "code",
   "execution_count": null,
   "metadata": {},
   "outputs": [],
   "source": [
    "list_temp_extent = []\n",
    "list_temp_extent.append([temporal_extent[0],\"2015-12-31\"])\n",
    "years = np.arange(2016,2023)\n",
    "for year in np.arange(2016,2023):\n",
    "    if year == 2022:\n",
    "        #print([str(year)+\"-01-01\",temporal_extent[1]])\n",
    "        list_temp_extent.append([str(year)+\"-01-01\",temporal_extent[1]])\n",
    "    else:\n",
    "        #print([str(year)+\"-01-01\",str(year)+ \"-12-31\"])\n",
    "        list_temp_extent.append([str(year)+\"-01-01\",str(year)+ \"-12-31\"])\n",
    "print(list_temp_extent)"
   ]
  },
  {
   "cell_type": "code",
   "execution_count": null,
   "metadata": {},
   "outputs": [],
   "source": [
    "years = np.arange(2015,2023)\n",
    "job_title_list = []\n",
    "job_id_list = []\n",
    "for i, temporal_extent in enumerate(list_temp_extent):\n",
    "    s1a = connection.load_collection(\n",
    "        collection_id = collection,\n",
    "        spatial_extent= spatial_extent,\n",
    "        temporal_extent = temporal_extent,\n",
    "        #bands = bands,\n",
    "        properties=properties\n",
    "    )\n",
    "    s1a = s1a.mask_polygon(shape_zwalm['geometry'].values[0])\n",
    "    job_title = \"s1a_terrascope-\" +  str(years[i])\n",
    "    job_title_list.append(job_title)\n",
    "    job_s1a = s1a.create_job(title = job_title, out_format= 'NetCDF')\n",
    "    job_s1a_id = job_s1a.job_id\n",
    "    if job_s1a_id:\n",
    "        print(\"Batch job created with id: \",job_s1a_id)\n",
    "        job_s1a.start_job()\n",
    "        job_id_list.append(job_s1a_id)\n",
    "    else:\n",
    "        print(\"Error! Job ID is None\")"
   ]
  },
  {
   "cell_type": "code",
   "execution_count": null,
   "metadata": {},
   "outputs": [],
   "source": [
    "if not os.path.exists('data/g0_a_terrascope'):\n",
    "    os.makedirs('data/g0_a_terrascope')\n",
    "for i,job_id in enumerate(job_id_list):\n",
    "    job_connection = connection.job(job_id)\n",
    "    results = job_connection.get_results()\n",
    "    name_netcdf = job_title_list[i] + '.nc'\n",
    "    filepath = \"data/g0_a_terrascope/\" + name_netcdf\n",
    "    print(filepath)\n",
    "    results.download_file(filepath)"
   ]
  },
  {
   "attachments": {},
   "cell_type": "markdown",
   "metadata": {},
   "source": [
    "## Visualisatie dataset"
   ]
  },
  {
   "cell_type": "code",
   "execution_count": null,
   "metadata": {},
   "outputs": [],
   "source": [
    "sentinel_a_terrascope = xr.open_mfdataset('data/g0_a_terrascope/*.nc')\n",
    "sentinel_a_terrascope"
   ]
  },
  {
   "cell_type": "code",
   "execution_count": null,
   "metadata": {},
   "outputs": [],
   "source": [
    "sentinel_a_terrascope['VV'].hvplot.image('x','y',geo = True, crs = 3857, tiles = 'OSM')"
   ]
  },
  {
   "attachments": {},
   "cell_type": "markdown",
   "metadata": {},
   "source": [
    "Vragen voor Hans:\n",
    "- Aanvaardbare preprocessing?\n",
    "- resamplen kan, zowel op resolutie als op projectie! zo kan dus multilook naar grotere resolutie indien gewenst! zo van 10 x 10 m naar 20 x 20 m\n",
    "- huidige projectie is https://epsg.io/32631  Dit is WGS84 maar dan in m precies"
   ]
  },
  {
   "attachments": {},
   "cell_type": "markdown",
   "metadata": {},
   "source": [
    "Bemerk: in OpenEO is dit beschrijven als een $\\gamma_0$ product. Ik denk echter dat dit een $\\sigma_0$. Dit is ook wat terrascope zelf zegt dat ze verschaffen, zie hiervoor [preprocessing_vito](https://terrascope.be/sites/terrascope/files/downloads/vito_s1-sigma0_grd.pdf)  \n",
    "\n"
   ]
  },
  {
   "cell_type": "markdown",
   "metadata": {},
   "source": []
  }
 ],
 "metadata": {
  "kernelspec": {
   "display_name": "thesis",
   "language": "python",
   "name": "python3"
  },
  "language_info": {
   "codemirror_mode": {
    "name": "ipython",
    "version": 3
   },
   "file_extension": ".py",
   "mimetype": "text/x-python",
   "name": "python",
   "nbconvert_exporter": "python",
   "pygments_lexer": "ipython3",
   "version": "3.10.9"
  },
  "orig_nbformat": 4,
  "vscode": {
   "interpreter": {
    "hash": "a6b8480143e45034b950661dc46ed3131c1d39c9fcb21ab7eff1dd297a31067d"
   }
  }
 },
 "nbformat": 4,
 "nbformat_minor": 2
}
