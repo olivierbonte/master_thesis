{
 "cells": [
  {
   "cell_type": "markdown",
   "id": "2dcc419a",
   "metadata": {},
   "source": [
    "# Normal ANN for observation operator"
   ]
  },
  {
   "cell_type": "markdown",
   "id": "539f0ffb",
   "metadata": {},
   "source": [
    "## Load in the required data"
   ]
  },
  {
   "cell_type": "code",
   "execution_count": null,
   "id": "53eadebb-d1ab-427b-9415-a3fa8fb281da",
   "metadata": {
    "tags": []
   },
   "outputs": [],
   "source": [
    "import os\n",
    "import pandas as pd\n",
    "from pathlib import Path\n",
    "pad = Path(os.getcwd())\n",
    "if pad.name == \"ml_observation_operator\":\n",
    "    pad_correct = pad.parent\n",
    "    os.chdir(pad_correct)\n",
    "%run \"ml_observation_operator/data_load_in.py\""
   ]
  },
  {
   "attachments": {},
   "cell_type": "markdown",
   "id": "ac46aaa2",
   "metadata": {},
   "source": [
    "Load in and select"
   ]
  },
  {
   "cell_type": "code",
   "execution_count": null,
   "id": "bf4cd07a",
   "metadata": {},
   "outputs": [],
   "source": [
    "ML_data_pad = Path(\"data/Zwalm_data/ML_data\")\n",
    "X_train_all = pd.read_pickle(ML_data_pad/\"X_train.pkl\")\n",
    "X_test_all = pd.read_pickle(ML_data_pad/\"X_test.pkl\")\n",
    "X_full_all = pd.read_pickle(ML_data_pad/\"X_full.pkl\")\n",
    "\n",
    "X_train = pd.read_pickle(ML_data_pad/\"X_train.pkl\")\n",
    "X_test = pd.read_pickle(ML_data_pad/\"X_test.pkl\")\n",
    "X_full = pd.read_pickle(ML_data_pad/\"X_full.pkl\")\n",
    "\n",
    "X_train_small = pd.read_pickle(ML_data_pad/\"X_train_small.pkl\")\n",
    "X_test_small = pd.read_pickle(ML_data_pad/\"X_test_small.pkl\")\n",
    "X_full_small = pd.read_pickle(ML_data_pad/\"X_full_small.pkl\")\n",
    "\n",
    "y_train = pd.read_pickle(ML_data_pad/\"y_train.pkl\")\n",
    "y_test = pd.read_pickle(ML_data_pad/\"y_test.pkl\")\n",
    "y_full = pd.read_pickle(ML_data_pad/\"y_full.pkl\")\n",
    "\n",
    "Cstar = pd.read_pickle(ML_data_pad/\"Cstar.pkl\")"
   ]
  },
  {
   "attachments": {},
   "cell_type": "markdown",
   "id": "da221c41",
   "metadata": {},
   "source": [
    "Analogous to the simple linear regression, delta_t is dropped because this does not contain valuable info when not including multiple timesteps!"
   ]
  },
  {
   "cell_type": "code",
   "execution_count": null,
   "id": "e1b7a30e",
   "metadata": {},
   "outputs": [],
   "source": [
    "X_train = X_train.drop('delta_t',axis = 1)\n",
    "X_test = X_test.drop('delta_t',axis = 1)\n",
    "X_full = X_full.drop('delta_t',axis = 1)\n",
    "display(X_full.head())\n",
    "\n",
    "X_train_small = X_train_small.drop('delta_t',axis = 1)\n",
    "X_test_small = X_test_small.drop('delta_t',axis = 1)\n",
    "X_full_small = X_full_small.drop('delta_t',axis = 1)\n",
    "display(X_full_small.head())"
   ]
  },
  {
   "cell_type": "markdown",
   "id": "fa73fe89",
   "metadata": {},
   "source": [
    "## Load in used packages"
   ]
  },
  {
   "cell_type": "code",
   "execution_count": null,
   "id": "36e2f683",
   "metadata": {
    "tags": []
   },
   "outputs": [],
   "source": [
    "import numpy as np\n",
    "import matplotlib.pyplot as plt\n",
    "import random as python_random\n",
    "import tensorflow as tf\n",
    "import tensorflow_addons as tfa\n",
    "from tensorflow import keras\n",
    "from keras import (models,layers)\n",
    "from sklearn.metrics import r2_score\n",
    "from sklearn.preprocessing import StandardScaler\n",
    "from functions.plotting_functions import plot_tf_history\n",
    "SEED =1234\n",
    "#os.environ['PYTHONHASHSEED'] = str(SEED)\n",
    "#os.environ['TF_DETERMINISTIC_OPS'] = '1'\n",
    "python_random.seed(SEED)\n",
    "np.random.seed(SEED)\n",
    "tf.random.set_seed(SEED)\n",
    "%load_ext autoreload \n",
    "%autoreload 2 "
   ]
  },
  {
   "attachments": {},
   "cell_type": "markdown",
   "id": "cab155e7",
   "metadata": {},
   "source": [
    "Normalisation of features"
   ]
  },
  {
   "cell_type": "code",
   "execution_count": null,
   "id": "868a89be",
   "metadata": {},
   "outputs": [],
   "source": [
    "n_features = X_full.shape[1]\n",
    "print(\"Number of features: \" + str(n_features))\n",
    "scaler = StandardScaler()\n",
    "scaler.fit(y_train.values.reshape(-1,1))\n",
    "y_train_norm = scaler.transform(y_train.values.reshape(-1,1))\n",
    "y_test_norm = scaler.transform(y_test.values.reshape(-1,1))\n",
    "\n",
    "X_scaler = StandardScaler()\n",
    "X_scaler.fit(X_train)\n",
    "X_train = X_scaler.transform(X_train)\n",
    "X_test = X_scaler.transform(X_test)\n",
    "\n",
    "X_scaler_small = StandardScaler()\n",
    "X_scaler_small.fit(X_train_small)\n",
    "X_train_small = X_scaler_small.transform(X_train_small)\n",
    "X_test_small = X_scaler_small.transform(X_test_small)"
   ]
  },
  {
   "attachments": {},
   "cell_type": "markdown",
   "id": "8e0490e2",
   "metadata": {},
   "source": [
    "# Recreate Linear Regression in tensorflow"
   ]
  },
  {
   "attachments": {},
   "cell_type": "markdown",
   "id": "3eda2ec7",
   "metadata": {},
   "source": [
    "https://stackoverflow.com/questions/75759597/typeerror-isinstance-arg-2-must-be-a-type-or-tuple-of-types-in-tensorflow-add why typeguard specification is needed"
   ]
  },
  {
   "cell_type": "code",
   "execution_count": null,
   "id": "a670762a",
   "metadata": {},
   "outputs": [],
   "source": [
    "lin_reg = models.Sequential(\n",
    "    [\n",
    "    layers.Input(shape = (n_features,)),\n",
    "    #layers.Normalization(),\n",
    "    layers.Dense(1, activation = \"linear\", name = 'layer1'), #first number = dimensionality of the output space!\n",
    "    ]\n",
    ")\n",
    "lin_reg.summary()\n",
    "\n",
    "lin_reg.compile(\n",
    "    loss = keras.losses.MeanSquaredError(),\n",
    "    optimizer = 'adam',\n",
    "    metrics = tfa.metrics.RSquare()\n",
    ")"
   ]
  },
  {
   "attachments": {},
   "cell_type": "markdown",
   "id": "cf0e3c38",
   "metadata": {},
   "source": [
    "Once the optimal number of epochs per method has been determined, set `VAL_FRAC` to zero"
   ]
  },
  {
   "cell_type": "code",
   "execution_count": null,
   "id": "8d568b59",
   "metadata": {},
   "outputs": [],
   "source": [
    "epochs = 200\n",
    "VAL_FRAC = 0 \n",
    "history = lin_reg.fit(\n",
    "    X_train, y_train_norm, batch_size= 32, epochs = epochs, \n",
    "    validation_split = VAL_FRAC, verbose = 1#, callbacks = callbacks\n",
    ")"
   ]
  },
  {
   "cell_type": "code",
   "execution_count": null,
   "id": "fc353801",
   "metadata": {},
   "outputs": [],
   "source": [
    "plot_tf_history(history, plot_object = 'r_square')"
   ]
  },
  {
   "cell_type": "code",
   "execution_count": null,
   "id": "49405686",
   "metadata": {},
   "outputs": [],
   "source": [
    "y_train_hat = lin_reg.predict(X_train)\n",
    "y_test_hat = lin_reg.predict(X_test)"
   ]
  },
  {
   "cell_type": "code",
   "execution_count": null,
   "id": "a573b187",
   "metadata": {},
   "outputs": [],
   "source": [
    "fig,ax = plt.subplots()\n",
    "Cstar_SAR_time = Cstar[X_full_all.index]\n",
    "Cstar_SAR_time.plot(ax = ax, ylabel = 'C* [mm]', label = 'PDM')\n",
    "plt.plot(X_train_all.index, scaler.inverse_transform(y_train_hat), label = 'Train', alpha = 0.7)\n",
    "plt.plot(X_test_all.index, scaler.inverse_transform(y_test_hat), label = 'Test', alpha = 0.7)\n",
    "ax.legend()\n",
    "ax.set_title('Linear regression tensorflow')"
   ]
  },
  {
   "cell_type": "code",
   "execution_count": null,
   "id": "4f269ab7",
   "metadata": {},
   "outputs": [],
   "source": [
    "r2_train = r2_score(y_train, scaler.inverse_transform(y_train_hat))\n",
    "r2_test = r2_score(y_test, scaler.inverse_transform(y_test_hat))\n",
    "print('R2 on training data: ' + str(r2_train))\n",
    "print('R2 on test data: ' + str(r2_test))"
   ]
  },
  {
   "attachments": {},
   "cell_type": "markdown",
   "id": "8ec432af",
   "metadata": {},
   "source": [
    "Performance basically equal to when Linear Regression or Lasso trained on normalised features!"
   ]
  },
  {
   "cell_type": "markdown",
   "id": "75adbfab",
   "metadata": {},
   "source": [
    "# Simple ANN model"
   ]
  },
  {
   "attachments": {},
   "cell_type": "markdown",
   "id": "afbe1407",
   "metadata": {},
   "source": [
    "https://github.com/keras-team/keras/issues/597 validation_split argument in `.fit()` does not shuffle the dataset! "
   ]
  },
  {
   "attachments": {},
   "cell_type": "markdown",
   "id": "6625f8c1",
   "metadata": {},
   "source": [
    "## Full dataset"
   ]
  },
  {
   "attachments": {},
   "cell_type": "markdown",
   "id": "a78ee533",
   "metadata": {},
   "source": [
    "Following the recommendataions as given in [understanding-deep-learning-chitta-ranjan-2021b](https://drive.google.com/file/d/1fejSMGPIDMO4eilsIDj-7QcFsCge4vdv/view)\n",
    "\n",
    "use 2 hidden layers as default\n",
    "- 1st layer: #nodes = 1/2 of of input nodes \n",
    "- 2nd layer: #nodes = 1/2 of number of nodes in previous layer\n",
    "\n",
    "relu as default activation and no dropout"
   ]
  },
  {
   "attachments": {},
   "cell_type": "markdown",
   "id": "86841861",
   "metadata": {},
   "source": [
    "notes from 18/03/2023:\n",
    "- to tanh activation layer: this allows -1 to 1 as output of activation function = seems better suited for prediction task at hand? above less important when using a linear output layer!"
   ]
  },
  {
   "cell_type": "code",
   "execution_count": null,
   "id": "d11c7c7f",
   "metadata": {
    "tags": []
   },
   "outputs": [],
   "source": [
    "ann = models.Sequential(\n",
    "    [\n",
    "    layers.Input(shape = (n_features,)),\n",
    "    #layers.Normalization(), #replaced by normalisation with sklearn\n",
    "    layers.Dense(8, activation = \"relu\", name = 'layer1'), #first number = dimensionality of the output space!\n",
    "    layers.Dense(4, activation = \"relu\", name = 'layer2'),\n",
    "    layers.Dense(1, activation = \"linear\", name = 'layer3'),\n",
    "    ]\n",
    ")\n",
    "\n",
    "ann.summary()"
   ]
  },
  {
   "cell_type": "code",
   "execution_count": null,
   "id": "553f81c3",
   "metadata": {
    "tags": []
   },
   "outputs": [],
   "source": [
    "# batch_size  = 32\n",
    "# dataset = tf.data.Dataset.from_tensor_slices((X_train, y_train))\n",
    "# print(list(dataset.as_numpy_iterator())[0])\n",
    "# dataset = dataset.shuffle(buffer_size=X_train.shape[0]).batch(batch_size)\n",
    "# print(list(dataset.as_numpy_iterator())[0])"
   ]
  },
  {
   "cell_type": "code",
   "execution_count": null,
   "id": "aebb710c",
   "metadata": {
    "tags": []
   },
   "outputs": [],
   "source": [
    "ann.compile(\n",
    "    loss = keras.losses.MeanSquaredError(),\n",
    "    optimizer = 'adam',\n",
    "    metrics = tfa.metrics.RSquare()   \n",
    ")"
   ]
  },
  {
   "cell_type": "markdown",
   "id": "ed1d9ec3",
   "metadata": {},
   "source": [
    "https://keras.io/guides/training_with_built_in_methods/"
   ]
  },
  {
   "cell_type": "markdown",
   "id": "50adf154",
   "metadata": {},
   "source": [
    "on Numpy array below"
   ]
  },
  {
   "cell_type": "code",
   "execution_count": null,
   "id": "75de8924",
   "metadata": {
    "tags": []
   },
   "outputs": [],
   "source": [
    "epochs = 50\n",
    "# callbacks = [\n",
    "#     keras.callbacks.EarlyStopping(\n",
    "#         # Stop training when `val_loss` is no longer improving\n",
    "#         monitor=\"val_loss\",\n",
    "#         # \"no longer improving\" being defined as \"no better than  less\"\n",
    "#         min_delta= 1e-3,\n",
    "#         # \"no longer improving\" being further defined as \"for at least 2 epochs\"\n",
    "#         patience=20,\n",
    "#         verbose=1,\n",
    "#     )\n",
    "# ]\n",
    "history = ann.fit(\n",
    "    X_train, y_train_norm, batch_size= 32, epochs = epochs, validation_split = VAL_FRAC#, callbacks = callbacks\n",
    ")"
   ]
  },
  {
   "cell_type": "code",
   "execution_count": null,
   "id": "53ab19a5",
   "metadata": {
    "tags": []
   },
   "outputs": [],
   "source": [
    "fig, ax = plot_tf_history(history, plot_object = 'r_square')\n"
   ]
  },
  {
   "cell_type": "markdown",
   "id": "c54ef7d4",
   "metadata": {},
   "source": [
    "Flattens "
   ]
  },
  {
   "cell_type": "code",
   "execution_count": null,
   "id": "e3694891",
   "metadata": {
    "tags": []
   },
   "outputs": [],
   "source": [
    "y_train_hat = ann.predict(X_train)\n",
    "y_test_hat = ann.predict(X_test)"
   ]
  },
  {
   "cell_type": "code",
   "execution_count": null,
   "id": "12105c8d-e919-4a9a-9c1d-17463e3756cd",
   "metadata": {
    "tags": []
   },
   "outputs": [],
   "source": [
    "fig,ax = plt.subplots()\n",
    "Cstar_SAR_time = Cstar[X_full_all.index]\n",
    "Cstar_SAR_time.plot(ax = ax, ylabel = 'C* [mm]', label = 'PDM')\n",
    "plt.plot(X_train_all.index, scaler.inverse_transform(y_train_hat), label = 'Train', alpha = 0.7)\n",
    "plt.plot(X_test_all.index, scaler.inverse_transform(y_test_hat), label = 'Test', alpha = 0.7)\n",
    "# plt.plot(X_train.index, y_train_hat, label = 'Train', alpha = 0.7)\n",
    "# plt.plot(X_test.index, y_test_hat, label = 'Test', alpha = 0.7)\n",
    "ax.legend()\n",
    "ax.set_title('ANN: limited nodes, full dataset')\n"
   ]
  },
  {
   "cell_type": "code",
   "execution_count": null,
   "id": "5ee10550-8c43-4e92-94d7-750b14e8e276",
   "metadata": {
    "tags": []
   },
   "outputs": [],
   "source": [
    "r2_train = r2_score(y_train, scaler.inverse_transform(y_train_hat))\n",
    "r2_test = r2_score(y_test, scaler.inverse_transform(y_test_hat))\n",
    "# r2_train = r2_score(y_train, y_train_hat)\n",
    "# r2_test = r2_score(y_test, y_test_hat)\n",
    "print('R2 on training data: ' + str(r2_train))\n",
    "print('R2 on test data: ' + str(r2_test))\n"
   ]
  },
  {
   "attachments": {},
   "cell_type": "markdown",
   "id": "63a55a38",
   "metadata": {},
   "source": [
    "Really analogous behaviour to the linear model!"
   ]
  },
  {
   "attachments": {},
   "cell_type": "markdown",
   "id": "25ae5a98",
   "metadata": {},
   "source": [
    " ## The limited dataset"
   ]
  },
  {
   "attachments": {},
   "cell_type": "markdown",
   "id": "1578b868",
   "metadata": {},
   "source": [
    "Working with only 4 and 2 seems to limited. Therefore sticking to 8 and 4.\n",
    "\n",
    "Alternative: 1 hidden layer, 1 "
   ]
  },
  {
   "cell_type": "code",
   "execution_count": null,
   "id": "be0a1a1a",
   "metadata": {},
   "outputs": [],
   "source": [
    "n_features_small = X_train_small.shape[1]\n",
    "print(n_features_small)\n",
    "ann = models.Sequential(\n",
    "    [\n",
    "    layers.Input(shape = (n_features_small,)),\n",
    "    #layers.Normalization(), #replaced by normalisation with sklearn\n",
    "    layers.Dense(8, activation = \"tanh\", name = 'layer1'), #first number = dimensionality of the output space!\n",
    "    layers.Dense(4, activation = \"tanh\", name = 'layer2'),\n",
    "    layers.Dense(1, activation = \"linear\", name = 'layer3'),\n",
    "    ]\n",
    ")\n",
    "ann.summary()\n",
    "ann.compile(\n",
    "    loss = keras.losses.MeanSquaredError(),\n",
    "    optimizer = keras.optimizers.Adam(),\n",
    "    metrics = tfa.metrics.RSquare()\n",
    ")"
   ]
  },
  {
   "cell_type": "code",
   "execution_count": null,
   "id": "aeac1480",
   "metadata": {},
   "outputs": [],
   "source": [
    "epochs = 15\n",
    "history = ann.fit(\n",
    "    X_train_small, y_train_norm, batch_size= 32, epochs = epochs, validation_split = VAL_FRAC\n",
    ")\n",
    "fig, ax = plot_tf_history(history, plot_object = 'r_square')"
   ]
  },
  {
   "cell_type": "code",
   "execution_count": null,
   "id": "c76a6f44",
   "metadata": {},
   "outputs": [],
   "source": [
    "y_train_hat = ann.predict(X_train_small)\n",
    "y_test_hat = ann.predict(X_test_small)\n",
    "fig,ax = plt.subplots()\n",
    "Cstar_SAR_time = Cstar[X_full_all.index]\n",
    "Cstar_SAR_time.plot(ax = ax, ylabel = 'C* [mm]', label = 'PDM')\n",
    "plt.plot(X_train_all.index, scaler.inverse_transform(y_train_hat), label = 'Train', alpha = 0.7)\n",
    "plt.plot(X_test_all.index, scaler.inverse_transform(y_test_hat), label = 'Test', alpha = 0.7)\n",
    "ax.legend()\n",
    "ax.set_title('ANN: limited nodes, limited dataset')\n",
    "r2_train = r2_score(y_train, scaler.inverse_transform(y_train_hat))\n",
    "r2_test = r2_score(y_test, scaler.inverse_transform(y_test_hat))\n",
    "print('R2 on training data: ' + str(r2_train))\n",
    "print('R2 on test data: ' + str(r2_test))"
   ]
  },
  {
   "attachments": {},
   "cell_type": "markdown",
   "id": "2bd1f2b7",
   "metadata": {},
   "source": [
    "Worse performance than the linear model"
   ]
  },
  {
   "attachments": {},
   "cell_type": "markdown",
   "id": "eb5c9d21",
   "metadata": {},
   "source": [
    "# More extended MLP model"
   ]
  },
  {
   "attachments": {},
   "cell_type": "markdown",
   "id": "ea793ee2",
   "metadata": {},
   "source": [
    "## Full dataset"
   ]
  },
  {
   "attachments": {},
   "cell_type": "markdown",
   "id": "462cb8b8",
   "metadata": {},
   "source": [
    "Recommendation of Hans: 2n+1 as number of nodes"
   ]
  },
  {
   "cell_type": "code",
   "execution_count": null,
   "id": "f766fa27",
   "metadata": {},
   "outputs": [],
   "source": [
    "2*n_features+1"
   ]
  },
  {
   "attachments": {},
   "cell_type": "markdown",
   "id": "d70e25b4",
   "metadata": {},
   "source": [
    "round off to 32 (a power of 2)"
   ]
  },
  {
   "cell_type": "code",
   "execution_count": null,
   "id": "e5bb2aa8",
   "metadata": {},
   "outputs": [],
   "source": [
    "ann_extended = models.Sequential(\n",
    "    [\n",
    "    layers.Input(shape = (n_features,)),\n",
    "    layers.Dense(32, activation = \"relu\", name = 'layer1'), #first number = dimensionality of the output space!\n",
    "    layers.Dropout(0.2),\n",
    "    layers.Dense(16, activation = \"relu\", name = 'layer2'),\n",
    "    layers.Dropout(0.2),    \n",
    "    layers.Dense(1, activation = \"linear\", name = 'layer3'),\n",
    "    ]\n",
    ")\n",
    "ann_extended.compile(\n",
    "    loss = keras.losses.MeanSquaredError(),\n",
    "    optimizer = keras.optimizers.Adam(),\n",
    "    metrics = tfa.metrics.RSquare()\n",
    ")\n",
    "ann_extended.summary()\n",
    "keras.utils.plot_model(ann_extended, show_shapes=True)"
   ]
  },
  {
   "cell_type": "code",
   "execution_count": null,
   "id": "ed441ba1",
   "metadata": {},
   "outputs": [],
   "source": [
    "history = ann_extended.fit(\n",
    "    X_train, y_train_norm, batch_size= 32, epochs = 100, validation_split = VAL_FRAC#, callbacks = callbacks\n",
    ")\n",
    "plot_tf_history(history, plot_object= 'r_square')"
   ]
  },
  {
   "cell_type": "code",
   "execution_count": null,
   "id": "b497f216",
   "metadata": {},
   "outputs": [],
   "source": [
    "y_train_hat = ann_extended.predict(X_train)\n",
    "y_test_hat = ann_extended.predict(X_test)\n",
    "fig,ax = plt.subplots()\n",
    "Cstar_SAR_time = Cstar[X_full_all.index]\n",
    "Cstar_SAR_time.plot(ax = ax, ylabel = 'C* [mm]', label = 'PDM')\n",
    "plt.plot(X_train_all.index, scaler.inverse_transform(y_train_hat), label = 'Train', alpha = 0.7)\n",
    "plt.plot(X_test_all.index, scaler.inverse_transform(y_test_hat), label = 'Test', alpha = 0.7)\n",
    "ax.legend()\n",
    "ax.set_title('ANN: extended nodes, extended dataset')\n",
    "r2_train = r2_score(y_train, scaler.inverse_transform(y_train_hat))\n",
    "r2_test = r2_score(y_test, scaler.inverse_transform(y_test_hat))\n",
    "print('R2 on training data: ' + str(r2_train))\n",
    "print('R2 on test data: ' + str(r2_test))"
   ]
  },
  {
   "attachments": {},
   "cell_type": "markdown",
   "id": "62d36705",
   "metadata": {},
   "source": [
    "### The limited dataset"
   ]
  },
  {
   "cell_type": "code",
   "execution_count": null,
   "id": "597de9e6",
   "metadata": {},
   "outputs": [],
   "source": [
    "n_features_small*2+1"
   ]
  },
  {
   "cell_type": "code",
   "execution_count": null,
   "id": "2db1158f",
   "metadata": {},
   "outputs": [],
   "source": [
    "ann_extended = models.Sequential(\n",
    "    [\n",
    "    layers.Input(shape = (n_features_small,)),\n",
    "    layers.Dense(16, activation = \"relu\", name = 'layer1'), #first number = dimensionality of the output space!\n",
    "    layers.Dense(8, activation = \"relu\", name = 'layer2'),\n",
    "    layers.Dense(1, activation = \"linear\", name = 'layer3'),\n",
    "    ]\n",
    ")\n",
    "ann_extended.compile(\n",
    "    loss = keras.losses.MeanSquaredError(),\n",
    "    optimizer = keras.optimizers.Adam(),\n",
    "    metrics = tfa.metrics.RSquare()\n",
    ")\n",
    "ann_extended.summary()"
   ]
  },
  {
   "cell_type": "code",
   "execution_count": null,
   "id": "7cd27229",
   "metadata": {},
   "outputs": [],
   "source": [
    "epochs = 20\n",
    "history = ann_extended.fit(\n",
    "    X_train_small, y_train_norm, batch_size= 32, epochs = epochs, validation_split = VAL_FRAC\n",
    ")\n",
    "fig, ax = plot_tf_history(history, plot_object='r_square')"
   ]
  },
  {
   "cell_type": "code",
   "execution_count": null,
   "metadata": {},
   "outputs": [],
   "source": [
    "y_train_hat = ann_extended.predict(X_train_small)\n",
    "y_test_hat = ann_extended.predict(X_test_small)\n",
    "fig,ax = plt.subplots()\n",
    "Cstar_SAR_time = Cstar[X_full_all.index]\n",
    "Cstar_SAR_time.plot(ax = ax, ylabel = 'C* [mm]', label = 'PDM')\n",
    "plt.plot(X_train_all.index, scaler.inverse_transform(y_train_hat), label = 'Train', alpha = 0.7)\n",
    "plt.plot(X_test_all.index, scaler.inverse_transform(y_test_hat), label = 'Test', alpha = 0.7)\n",
    "ax.legend()\n",
    "ax.set_title('ANN: extended nodes, limited dataset')\n",
    "r2_train = r2_score(y_train, scaler.inverse_transform(y_train_hat))\n",
    "r2_test = r2_score(y_test, scaler.inverse_transform(y_test_hat))\n",
    "print('R2 on training data: ' + str(r2_train))\n",
    "print('R2 on test data: ' + str(r2_test))"
   ]
  },
  {
   "attachments": {},
   "cell_type": "markdown",
   "id": "d4af43f5",
   "metadata": {},
   "source": [
    "# A more complex model structure"
   ]
  },
  {
   "attachments": {},
   "cell_type": "markdown",
   "id": "cfeaeb68",
   "metadata": {},
   "source": [
    "Hypothesis: the sin and cos wave allow for better prediction of the wave pattern. However putthing them trought the activation function destroy their shape. Therefore the idea to only add them at the end directly to the last linear output layer!\n",
    "\n",
    "https://keras.io/guides/functional_api/ will be needed to construct this model"
   ]
  },
  {
   "cell_type": "code",
   "execution_count": null,
   "id": "5fcf9575",
   "metadata": {},
   "outputs": [],
   "source": [
    "print(n_features-2)"
   ]
  },
  {
   "cell_type": "code",
   "execution_count": null,
   "id": "f036ddff",
   "metadata": {},
   "outputs": [],
   "source": [
    "no_time_input = layers.Input(\n",
    "    shape = (n_features-2,) #-2 since substract time features\n",
    " )\n",
    "time_input = layers.Input(\n",
    "    shape = (2,)\n",
    ")\n",
    "layer1_no_time = layers.Dense(8, activation='relu',name='layer1')(no_time_input)\n",
    "layer2_no_time = layers.Dense(4, activation='relu',name='layer2')(layer1_no_time)\n",
    "combined = layers.concatenate([layer2_no_time, time_input])\n",
    "C_star_out = layers.Dense(1,activation='linear',name='output_layer')(combined)\n",
    "complex_model = models.Model(\n",
    "    inputs = [no_time_input, time_input],\n",
    "    outputs = C_star_out,\n",
    ")\n",
    "keras.utils.plot_model(complex_model, show_shapes = True, show_layer_activations=True)"
   ]
  },
  {
   "cell_type": "code",
   "execution_count": null,
   "id": "0e3f0f8e",
   "metadata": {},
   "outputs": [],
   "source": [
    "complex_model.compile(\n",
    "    loss = keras.losses.MeanSquaredError(),\n",
    "    optimizer = 'adam',\n",
    "    metrics = tfa.metrics.RSquare()   \n",
    ")"
   ]
  },
  {
   "cell_type": "code",
   "execution_count": null,
   "id": "43796336",
   "metadata": {},
   "outputs": [],
   "source": [
    "X_train[:,-2:].shape"
   ]
  },
  {
   "cell_type": "code",
   "execution_count": null,
   "id": "b50ae515",
   "metadata": {},
   "outputs": [],
   "source": [
    "epochs = 40\n",
    "history = complex_model.fit(\n",
    "    [X_train[:,:-2],X_train[:,-2:]],\n",
    "    y_train_norm, batch_size= 32, epochs = epochs, validation_split = 0.2#, callbacks = callbacks\n",
    ")"
   ]
  },
  {
   "cell_type": "code",
   "execution_count": null,
   "id": "60f7de98",
   "metadata": {},
   "outputs": [],
   "source": [
    "fig, ax = plot_tf_history(history, \"r_square\")\n",
    "ax.set_ylim(0,1)"
   ]
  },
  {
   "cell_type": "code",
   "execution_count": null,
   "id": "3c46ed90",
   "metadata": {},
   "outputs": [],
   "source": [
    "y_train_hat = complex_model.predict([X_train[:,:-2],X_train[:,-2:]])\n",
    "y_test_hat = complex_model.predict([X_test[:,:-2],X_test[:,-2:]])\n",
    "fig,ax = plt.subplots()\n",
    "Cstar_SAR_time = Cstar[X_full_all.index]\n",
    "Cstar_SAR_time.plot(ax = ax, ylabel = 'C* [mm]', label = 'PDM')\n",
    "plt.plot(X_train_all.index, scaler.inverse_transform(y_train_hat), label = 'Train', alpha = 0.7)\n",
    "plt.plot(X_test_all.index, scaler.inverse_transform(y_test_hat), label = 'Test', alpha = 0.7)\n",
    "ax.legend()\n",
    "ax.set_title('more complex ANN strucutre')\n",
    "r2_train = r2_score(y_train, scaler.inverse_transform(y_train_hat))\n",
    "r2_test = r2_score(y_test, scaler.inverse_transform(y_test_hat))\n",
    "print('R2 on training data: ' + str(r2_train))\n",
    "print('R2 on test data: ' + str(r2_test))"
   ]
  },
  {
   "cell_type": "markdown",
   "id": "f882b55e-0730-4ff5-b5e2-7ec750516954",
   "metadata": {},
   "source": [
    "## Hyperparameter tuning\n",
    "\n",
    "https://www.tensorflow.org/tutorials/keras/keras_tuner\n",
    "\n"
   ]
  },
  {
   "cell_type": "code",
   "execution_count": null,
   "id": "4bf4881a-b5e0-4062-b713-6fa374b49fe3",
   "metadata": {
    "tags": []
   },
   "outputs": [],
   "source": [
    "import keras_tuner as kt"
   ]
  },
  {
   "cell_type": "code",
   "execution_count": null,
   "id": "a7595d34-7225-49e5-aef8-d2856492a089",
   "metadata": {
    "tags": []
   },
   "outputs": [],
   "source": [
    "# def model_builder(hp):\n",
    "#     model = keras.Sequential()\n",
    "#     model.add(layers.Input(shape = (n_features,)))\n",
    "#     model.add(layers.Normalization())\n",
    "#     hp_units = hp.Int('units', min_value = 5, max_value = 50, step = 5)\n",
    "#     model.add(layers.Dense(units = hp_units, activation = 'relu'))\n",
    "#     hp_units_2 = hp.Int('units', min_value = 5, max_value = 50, step = 5)\n",
    "#     model.add(layers.Dense(units = hp_units_2, activation = 'relu'))\n",
    "#     hp_units_3 = hp.Int('units', min_value = 5, max_value = 50, step = 5)\n",
    "#     model.add(layers.Dense(units = hp_units_3, activation = 'relu'))\n",
    "    \n",
    "#     hp_learning_rate = hp.Choice('learning_rate', values=[1e-2, 1e-3, 1e-4])\n",
    "#     model.compile(optimizer = keras.optimizers.Adam(learning_rate=hp_learning_rate),\n",
    "#                   loss = keras.losses.MeanSquaredError())\n",
    "    \n",
    "#     return model    "
   ]
  },
  {
   "attachments": {},
   "cell_type": "markdown",
   "id": "db243b99",
   "metadata": {},
   "source": [
    "https://keras.io/guides/keras_tuner/getting_started/"
   ]
  },
  {
   "attachments": {},
   "cell_type": "markdown",
   "id": "d5750046",
   "metadata": {},
   "source": [
    "Keep default learning rate to limit number of parameter choices "
   ]
  },
  {
   "cell_type": "code",
   "execution_count": null,
   "id": "f7693564-9931-4f07-adc5-ee4f49f0acd0",
   "metadata": {
    "tags": []
   },
   "outputs": [],
   "source": [
    "def build_model(hp):\n",
    "    \"\"\"\n",
    "    Builds model and sets up hyperparameter space to search.\n",
    "    \n",
    "    Parameters\n",
    "    ----------\n",
    "    hp : HyperParameter object\n",
    "        Configures hyperparameters to tune.\n",
    "        \n",
    "    Returns\n",
    "    -------\n",
    "    model : keras model\n",
    "        Compiled model with hyperparameters to tune.\n",
    "    \"\"\"\n",
    "    # Initialize sequential API and start building model.\n",
    "    model = models.Sequential()\n",
    "    model.add(layers.Input(shape = (n_features,)))\n",
    "    \n",
    "    # Tune the number of hidden layers and units in each.\n",
    "    # Number of hidden layers: 1 - 4\n",
    "    # Number of Units: 5 - 50 with stepsize of 5 \n",
    "    for i in range(hp.Int(\"num_layers\", 1, 4)):\n",
    "        model.add(\n",
    "            layers.Dense(\n",
    "                units=hp.Int(\"units_\" + str(i), min_value=4, max_value=32, step=4),\n",
    "                activation=\"relu\")\n",
    "            )\n",
    "        \n",
    "        # Tune dropout layer with values from 0 - 0.5 with stepsize of 0.1.\n",
    "        model.add(layers.Dropout(hp.Float(\"dropout_\" + str(i), 0, 0.5, step=0.2)))\n",
    "    \n",
    "    # Add output layer.\n",
    "    model.add(layers.Dense(units=1, activation='linear'))\n",
    "    \n",
    "    # Tune learning rate for Adam optimizer with values from 0.01, 0.001, or 0.0001\n",
    "    #hp_learning_rate = hp.Choice(\"learning_rate\", values=[1e-2, 1e-3, 1e-4])\n",
    "    \n",
    "    # Define optimizer, loss, and metrics\n",
    "    model.compile(optimizer=keras.optimizers.Adam(),#learning_rate=hp_learning_rate),\n",
    "                  loss=keras.losses.MeanSquaredError(),\n",
    "                  metrics = tfa.metrics.RSquare()\n",
    "                  )\n",
    "    \n",
    "    return model"
   ]
  },
  {
   "cell_type": "markdown",
   "id": "c1d8b3e9",
   "metadata": {},
   "source": [
    "https://keras.io/api/keras_tuner/tuners/sklearn/ is also a possibility"
   ]
  },
  {
   "attachments": {},
   "cell_type": "markdown",
   "id": "b53bf5af",
   "metadata": {},
   "source": [
    "Idea to use 20% validation data: based on this determine your optimal hyperparameters!"
   ]
  },
  {
   "cell_type": "code",
   "execution_count": null,
   "id": "d513da7b-3c55-4be2-984d-09ba7b25a95d",
   "metadata": {
    "tags": []
   },
   "outputs": [],
   "source": [
    "tuner = kt.GridSearch(build_model,\n",
    "                     objective='val_loss',\n",
    "                     project_name = 'Gridsearch',\n",
    "                     executions_per_trial = 1) #rounds of training per hyperparameter combo!\n",
    "                     #max_epochs=100)\n",
    "tuner.search_space_summary()"
   ]
  },
  {
   "attachments": {},
   "cell_type": "markdown",
   "id": "bec2686d",
   "metadata": {},
   "source": [
    "So default 20% is kept as validation!"
   ]
  },
  {
   "cell_type": "code",
   "execution_count": null,
   "id": "70d9774f-5ea8-4f8c-ba84-9e4616928fc4",
   "metadata": {
    "tags": []
   },
   "outputs": [],
   "source": [
    "tuner.search(X_train, y_train_norm, epochs = 100, batch_size = 32,  validation_split = 0.2)"
   ]
  },
  {
   "cell_type": "code",
   "execution_count": null,
   "id": "e68bec29",
   "metadata": {},
   "outputs": [],
   "source": [
    "best_hps=tuner.get_best_hyperparameters()\n",
    "print('The best learning rate: ' + str(best_hps[0].get('learning_rate')))\n",
    "print('Optimal number of layers: ' + str(best_hps[0].get('num_layers')))\n",
    "print('Best number of units first layer 1: ' +  str(best_hps[0].get('units_1')))\n",
    "print('Best number of units first layer 2: ' +  str(best_hps[0].get('units_2')))\n",
    "print('Best number of units first layer 3: ' +  str(best_hps[0].get('units_3')))"
   ]
  },
  {
   "cell_type": "code",
   "execution_count": null,
   "id": "3a4f83c3-0282-48ec-8ae4-0cfe333c2b3f",
   "metadata": {},
   "outputs": [],
   "source": [
    "model_tuned = tuner.hypermodel.build(best_hps[0])\n",
    "model_tuned.summary()"
   ]
  },
  {
   "cell_type": "code",
   "execution_count": null,
   "id": "4d785292",
   "metadata": {},
   "outputs": [],
   "source": [
    "history = model_tuned.fit(X_train, y_train_norm, epochs = 100, batch_size = 32,  validation_split = VAL_FRAC)"
   ]
  },
  {
   "cell_type": "code",
   "execution_count": null,
   "id": "71d549fe",
   "metadata": {},
   "outputs": [],
   "source": [
    "plot_tf_history(history, 'r_square')"
   ]
  },
  {
   "cell_type": "code",
   "execution_count": null,
   "id": "8a6b1df1",
   "metadata": {},
   "outputs": [],
   "source": [
    "y_train_tuned_hat = model_tuned.predict(X_train)\n",
    "y_test_tuned_hat = model_tuned.predict(X_test)"
   ]
  },
  {
   "cell_type": "code",
   "execution_count": null,
   "id": "7047e987",
   "metadata": {},
   "outputs": [],
   "source": [
    "fig,ax = plt.subplots()\n",
    "Cstar_SAR_time.plot(ax = ax, ylabel = 'C* [mm]', label = 'PDM')\n",
    "plt.plot(X_train_all.index, scaler.inverse_transform(y_train_tuned_hat), label = 'Train', alpha = 0.7)\n",
    "plt.plot(X_test_all.index, scaler.inverse_transform(y_test_tuned_hat), label = 'Test', alpha = 0.7)\n",
    "# plt.plot(X_train.index, y_train_hat, label = 'Train', alpha = 0.7)\n",
    "# plt.plot(X_test.index, y_test_hat, label = 'Test', alpha = 0.7)\n",
    "r2_train = r2_score(y_train, scaler.inverse_transform(y_train_tuned_hat))\n",
    "r2_test = r2_score(y_test, scaler.inverse_transform(y_test_tuned_hat))\n",
    "print('R2 on training data: ' + str(r2_train))\n",
    "print('R2 on test data: ' + str(r2_test))\n",
    "ax.legend()\n",
    "ax.set_title('ANN tuned')"
   ]
  },
  {
   "attachments": {
    "image-2.png": {
     "image/png": "[encoded data removed]"
    },
    "image.png": {
     "image/png": "[encoded data removed]"
    }
   },
   "cell_type": "markdown",
   "id": "a0eecacc",
   "metadata": {},
   "source": [
    "![image.png](attachment:image.png)\n",
    "\n",
    "![image.png](attachment:image-2.png)"
   ]
  },
  {
   "cell_type": "code",
   "execution_count": null,
   "id": "21c8bf65",
   "metadata": {},
   "outputs": [],
   "source": []
  }
 ],
 "metadata": {
  "kernelspec": {
   "display_name": "Python 3 (ipykernel)",
   "language": "python",
   "name": "python3"
  },
  "language_info": {
   "codemirror_mode": {
    "name": "ipython",
    "version": 3
   },
   "file_extension": ".py",
   "mimetype": "text/x-python",
   "name": "python",
   "nbconvert_exporter": "python",
   "pygments_lexer": "ipython3",
   "version": "3.10.10"
  }
 },
 "nbformat": 4,
 "nbformat_minor": 5
}
