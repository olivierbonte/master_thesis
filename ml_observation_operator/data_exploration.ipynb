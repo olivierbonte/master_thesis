{
 "cells": [
  {
   "attachments": {},
   "cell_type": "markdown",
   "metadata": {},
   "source": [
    "# Data exploration\n",
    "\n",
    "Notebook looking at correlation between variables and correlation between variables and $C^*$"
   ]
  },
  {
   "attachments": {},
   "cell_type": "markdown",
   "metadata": {},
   "source": [
    "## Feature correlation"
   ]
  },
  {
   "cell_type": "code",
   "execution_count": null,
   "metadata": {},
   "outputs": [],
   "source": [
    "import os\n",
    "import pandas as pd\n",
    "import matplotlib.pyplot as plt\n",
    "from pathlib import Path\n",
    "pad = Path(os.getcwd())\n",
    "if pad.name == \"ml_observation_operator\":\n",
    "    pad_correct = pad.parent\n",
    "    os.chdir(pad_correct)"
   ]
  },
  {
   "cell_type": "code",
   "execution_count": null,
   "metadata": {},
   "outputs": [],
   "source": [
    "ML_data_pad = Path(\"data/Zwalm_data/ML_data\")\n",
    "X_full_all = pd.read_pickle(ML_data_pad/\"X_full_all.pkl\")\n",
    "\n",
    "y_train = pd.read_pickle(ML_data_pad/\"y_train.pkl\")\n",
    "y_test = pd.read_pickle(ML_data_pad/\"y_test.pkl\")\n",
    "y_full = pd.read_pickle(ML_data_pad/\"y_full.pkl\")\n",
    "\n",
    "Cstar = pd.read_pickle(ML_data_pad/\"Cstar.pkl\")\n",
    "\n",
    "X_train = pd.read_pickle(ML_data_pad/\"X_train.pkl\")\n",
    "X_test = pd.read_pickle(ML_data_pad/\"X_test.pkl\")\n",
    "X_full = pd.read_pickle(ML_data_pad/\"X_full.pkl\")\n",
    "display(X_full.head())\n",
    "print(X_full.shape)\n",
    "\n",
    "X_train_small = pd.read_pickle(ML_data_pad/\"X_train_small.pkl\")\n",
    "X_test_small = pd.read_pickle(ML_data_pad/\"X_test_small.pkl\")\n",
    "X_full_small = pd.read_pickle(ML_data_pad/\"X_full_small.pkl\")\n",
    "display(X_full_small.head())\n"
   ]
  },
  {
   "cell_type": "code",
   "execution_count": null,
   "metadata": {},
   "outputs": [],
   "source": [
    "features_corr = X_full.corr(method = 'pearson')\n",
    "features_corr.style.background_gradient(cmap = 'coolwarm')"
   ]
  },
  {
   "cell_type": "code",
   "execution_count": null,
   "metadata": {},
   "outputs": [],
   "source": [
    "type(features_corr)\n",
    "features_corr.columns"
   ]
  },
  {
   "cell_type": "code",
   "execution_count": null,
   "metadata": {},
   "outputs": [],
   "source": [
    "fig, ax = plt.subplots()\n",
    "im = ax.imshow(features_corr.values, cmap = 'coolwarm')\n",
    "cb = fig.colorbar(im)\n",
    "cb.set_label(r'$\\rho$ [-]')\n",
    "column_names = ['$\\gamma^0_{\\mathrm{VV,forest}}$','$\\gamma^0_{\\mathrm{VH,forest}}$','$\\gamma^0_{\\mathrm{VV,pasture}}$','$\\gamma^0_{\\mathrm{VH,pasture}}$','$\\gamma^0_{\\mathrm{VV,agriculture}}$','$\\gamma^0_{\\mathrm{VV,agriculture}}$','LAI$_{\\mathrm{forest}}$','LAI$_{\\mathrm{pasture}}$','LAI$_{\\mathrm{agriculture}}$','Ascending',#'Descending',\n",
    "                '$\\Delta t$','DOY$_{\\sin}$','DOY$_{\\cos}$']\n",
    "ax.set_xticks(range(len(features_corr.columns)), column_names, rotation=90)\n",
    "ax.set_yticks(range(len(features_corr.columns)), column_names)"
   ]
  },
  {
   "attachments": {},
   "cell_type": "markdown",
   "metadata": {},
   "source": [
    "Now also the same plotted for the small dataset"
   ]
  },
  {
   "cell_type": "code",
   "execution_count": null,
   "metadata": {},
   "outputs": [],
   "source": [
    "features_corr_small = X_full_small.corr(method = 'pearson')\n",
    "features_corr_small.style.background_gradient(cmap = 'coolwarm')"
   ]
  },
  {
   "cell_type": "code",
   "execution_count": null,
   "metadata": {},
   "outputs": [],
   "source": [
    "fig, ax = plt.subplots()\n",
    "im = ax.imshow(features_corr_small.values, cmap = 'coolwarm')\n",
    "cb = fig.colorbar(im)\n",
    "cb.set_label(r'$\\rho$ [-]')\n",
    "column_names_small = ['$\\gamma^0_{\\mathrm{VV}}$','$\\gamma^0_{\\mathrm{VH}}$','LAI','Ascending',#'Descending',\n",
    "                      '$\\Delta t$','DOY$_{\\sin}$','DOY$_{\\cos}$']\n",
    "ax.set_xticks(range(len(features_corr_small.columns)), column_names_small, rotation=90)\n",
    "ax.set_yticks(range(len(features_corr_small.columns)), column_names_small)"
   ]
  },
  {
   "attachments": {},
   "cell_type": "markdown",
   "metadata": {},
   "source": [
    "Now combine the two figures"
   ]
  },
  {
   "cell_type": "code",
   "execution_count": null,
   "metadata": {},
   "outputs": [],
   "source": [
    "fig, axes = plt.subplots(1,2, constrained_layout = True,figsize = (9,4.5))\n",
    "im = axes[0].imshow(features_corr.values, cmap = 'coolwarm')\n",
    "#cb = fig.colorbar(im)\n",
    "axes[0].set_xticks(range(len(features_corr.columns)), column_names, rotation=90)\n",
    "axes[0].set_yticks(range(len(features_corr.columns)), column_names)\n",
    "axes[0].set_title('(a)')\n",
    "\n",
    "im = axes[1].imshow(features_corr_small.values, cmap = 'coolwarm')\n",
    "cb = fig.colorbar(im)\n",
    "cb.set_label(r'$\\rho$ [-]')\n",
    "axes[1].set_xticks(range(len(features_corr_small.columns)), column_names_small, rotation=90)\n",
    "axes[1].set_yticks(range(len(features_corr_small.columns)), column_names_small)\n",
    "axes[1].set_title('(b)')\n",
    "\n",
    "figures_pad = Path('Figures/Figures_chapter_ML_obs_op')\n",
    "if not os.path.exists(figures_pad):\n",
    "    os.makedirs(figures_pad)\n",
    "fig.savefig(figures_pad/'feature_correlations.pdf',format = 'pdf')"
   ]
  },
  {
   "attachments": {},
   "cell_type": "markdown",
   "metadata": {},
   "source": [
    "Only as an experiment: PCA"
   ]
  },
  {
   "cell_type": "code",
   "execution_count": null,
   "metadata": {},
   "outputs": [],
   "source": [
    "from statsmodels.multivariate.pca import PCA\n",
    "pca_test = PCA(X_full, standardize=True)\n",
    "display(pca_test.scores)\n",
    "fig, ax = plt.subplots()\n",
    "pca_test.plot_scree(ax = ax, ncomp = 10)\n"
   ]
  },
  {
   "cell_type": "code",
   "execution_count": null,
   "metadata": {},
   "outputs": [],
   "source": []
  }
 ],
 "metadata": {
  "kernelspec": {
   "display_name": "thesis",
   "language": "python",
   "name": "python3"
  },
  "language_info": {
   "codemirror_mode": {
    "name": "ipython",
    "version": 3
   },
   "file_extension": ".py",
   "mimetype": "text/x-python",
   "name": "python",
   "nbconvert_exporter": "python",
   "pygments_lexer": "ipython3",
   "version": "3.10.10"
  },
  "orig_nbformat": 4
 },
 "nbformat": 4,
 "nbformat_minor": 2
}
