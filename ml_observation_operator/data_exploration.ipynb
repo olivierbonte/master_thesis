{
 "cells": [
  {
   "attachments": {},
   "cell_type": "markdown",
   "metadata": {},
   "source": [
    "# Data exploration\n",
    "\n",
    "Notebook looking at correlation between variables and correlation between variables and $C^*$"
   ]
  },
  {
   "attachments": {},
   "cell_type": "markdown",
   "metadata": {},
   "source": [
    "## Feature correlation"
   ]
  },
  {
   "cell_type": "code",
   "execution_count": null,
   "metadata": {},
   "outputs": [],
   "source": [
    "import os\n",
    "import pandas as pd\n",
    "import numpy as np\n",
    "import matplotlib.pyplot as plt\n",
    "from pathlib import Path\n",
    "pad = Path(os.getcwd())\n",
    "if pad.name == \"ml_observation_operator\":\n",
    "    pad_correct = pad.parent\n",
    "    os.chdir(pad_correct)"
   ]
  },
  {
   "cell_type": "code",
   "execution_count": null,
   "metadata": {},
   "outputs": [],
   "source": [
    "ML_data_pad = Path(\"data/Zwalm_data/ML_data\")\n",
    "X_full_all = pd.read_pickle(ML_data_pad/\"X_full_all.pkl\")\n",
    "\n",
    "y_train = pd.read_pickle(ML_data_pad/\"y_train.pkl\")\n",
    "y_test = pd.read_pickle(ML_data_pad/\"y_test.pkl\")\n",
    "y_full = pd.read_pickle(ML_data_pad/\"y_full.pkl\")\n",
    "\n",
    "Cstar = pd.read_pickle(ML_data_pad/\"Cstar.pkl\")\n",
    "\n",
    "X_train = pd.read_pickle(ML_data_pad/\"X_train.pkl\")\n",
    "X_test = pd.read_pickle(ML_data_pad/\"X_test.pkl\")\n",
    "X_full = pd.read_pickle(ML_data_pad/\"X_full.pkl\")\n",
    "display(X_full.head())\n",
    "print(X_full.shape)\n",
    "\n",
    "X_train_small = pd.read_pickle(ML_data_pad/\"X_train_small.pkl\")\n",
    "X_test_small = pd.read_pickle(ML_data_pad/\"X_test_small.pkl\")\n",
    "X_full_small = pd.read_pickle(ML_data_pad/\"X_full_small.pkl\")\n",
    "display(X_full_small.head())\n"
   ]
  },
  {
   "cell_type": "code",
   "execution_count": null,
   "metadata": {},
   "outputs": [],
   "source": [
    "features_corr = X_full.corr(method = 'pearson')\n",
    "features_corr.style.background_gradient(cmap = 'coolwarm')"
   ]
  },
  {
   "cell_type": "code",
   "execution_count": null,
   "metadata": {},
   "outputs": [],
   "source": [
    "type(features_corr)\n",
    "features_corr.columns"
   ]
  },
  {
   "cell_type": "code",
   "execution_count": null,
   "metadata": {},
   "outputs": [],
   "source": [
    "fig, ax = plt.subplots()\n",
    "im = ax.imshow(features_corr.values, cmap = 'coolwarm',vmin= -1, vmax = 1)\n",
    "cb = fig.colorbar(im)\n",
    "cb.set_label(r'$\\rho$ [-]')\n",
    "column_names = ['$\\gamma^0_{\\mathrm{VV,forest}}$','$\\gamma^0_{\\mathrm{VH,forest}}$','$\\gamma^0_{\\mathrm{VV,pasture}}$','$\\gamma^0_{\\mathrm{VH,pasture}}$','$\\gamma^0_{\\mathrm{VV,agriculture}}$','$\\gamma^0_{\\mathrm{VV,agriculture}}$','LAI$_{\\mathrm{forest}}$','LAI$_{\\mathrm{pasture}}$','LAI$_{\\mathrm{agriculture}}$','Ascending',#'Descending',\n",
    "                '$\\Delta t$','DOY$_{\\sin}$','DOY$_{\\cos}$']\n",
    "ax.set_xticks(range(len(features_corr.columns)), column_names, rotation=90)\n",
    "ax.set_yticks(range(len(features_corr.columns)), column_names)"
   ]
  },
  {
   "attachments": {},
   "cell_type": "markdown",
   "metadata": {},
   "source": [
    "Now also the same plotted for the small dataset"
   ]
  },
  {
   "cell_type": "code",
   "execution_count": null,
   "metadata": {},
   "outputs": [],
   "source": [
    "features_corr_small = X_full_small.corr(method = 'pearson')\n",
    "features_corr_small.style.background_gradient(cmap = 'coolwarm')"
   ]
  },
  {
   "cell_type": "code",
   "execution_count": null,
   "metadata": {},
   "outputs": [],
   "source": [
    "fig, ax = plt.subplots()\n",
    "im = ax.imshow(features_corr_small.values, cmap = 'coolwarm',vmin = -1, vmax = 1)\n",
    "cb = fig.colorbar(im)\n",
    "cb.set_label(r'$\\rho$ [-]')\n",
    "column_names_small = ['$\\gamma^0_{\\mathrm{VV}}$','$\\gamma^0_{\\mathrm{VH}}$','LAI','Ascending',#'Descending',\n",
    "                      '$\\Delta t$','DOY$_{\\sin}$','DOY$_{\\cos}$']\n",
    "ax.set_xticks(range(len(features_corr_small.columns)), column_names_small, rotation=90)\n",
    "ax.set_yticks(range(len(features_corr_small.columns)), column_names_small)"
   ]
  },
  {
   "attachments": {},
   "cell_type": "markdown",
   "metadata": {},
   "source": [
    "Now combine the two figures"
   ]
  },
  {
   "cell_type": "code",
   "execution_count": null,
   "metadata": {},
   "outputs": [],
   "source": [
    "fig, axes = plt.subplots(1,2, constrained_layout = True,figsize = (9,4.5))\n",
    "im = axes[0].imshow(features_corr.values, cmap = 'coolwarm',vmin = -1, vmax = 1)\n",
    "#cb = fig.colorbar(im)\n",
    "axes[0].set_xticks(range(len(features_corr.columns)), column_names, rotation=90)\n",
    "axes[0].set_yticks(range(len(features_corr.columns)), column_names)\n",
    "axes[0].set_title('(a)')\n",
    "\n",
    "im = axes[1].imshow(features_corr_small.values, cmap = 'coolwarm', vmin = -1, vmax = 1)\n",
    "cb = fig.colorbar(im)\n",
    "cb.set_label(r'$\\rho$ [-]')\n",
    "axes[1].set_xticks(range(len(features_corr_small.columns)), column_names_small, rotation=90)\n",
    "axes[1].set_yticks(range(len(features_corr_small.columns)), column_names_small)\n",
    "axes[1].set_title('(b)')\n",
    "\n",
    "figures_pad = Path('Figures/Figures_chapter_ML_obs_op')\n",
    "if not os.path.exists(figures_pad):\n",
    "    os.makedirs(figures_pad)\n",
    "fig.savefig(figures_pad/'feature_correlations.pdf',format = 'pdf')"
   ]
  },
  {
   "attachments": {},
   "cell_type": "markdown",
   "metadata": {},
   "source": [
    "Only as an experiment: PCA"
   ]
  },
  {
   "cell_type": "code",
   "execution_count": null,
   "metadata": {},
   "outputs": [],
   "source": [
    "from statsmodels.multivariate.pca import PCA\n",
    "pca_test = PCA(X_full, standardize=True)\n",
    "display(pca_test.scores)\n",
    "fig, ax = plt.subplots()\n",
    "pca_test.plot_scree(ax = ax, ncomp = 10)\n"
   ]
  },
  {
   "attachments": {},
   "cell_type": "markdown",
   "metadata": {},
   "source": [
    "## Feature with $C^*$ correlation"
   ]
  },
  {
   "cell_type": "code",
   "execution_count": null,
   "metadata": {},
   "outputs": [],
   "source": [
    "Cstar = pd.read_pickle(ML_data_pad/\"Cstar.pkl\")\n",
    "Cstar = pd.DataFrame(Cstar)\n",
    "Cstar = Cstar.reset_index()\n",
    "Cstar = Cstar.rename(columns={'Time':'t'})\n",
    "Cstar = Cstar.set_index('t')\n",
    "pd_compare = X_full.merge(Cstar, on = 't' , how = 'left')\n",
    "corr_matrix_pd = pd_compare.groupby('ascending').corr(method = 'pearson')\n",
    "corr_matrix_pd_Cstar = pd.DataFrame(corr_matrix_pd['Cstar'])\n",
    "corr_matrix_pd_Cstar.style.background_gradient(cmap = 'coolwarm')"
   ]
  },
  {
   "cell_type": "code",
   "execution_count": null,
   "metadata": {},
   "outputs": [],
   "source": [
    "pd_compare_small = X_full_small.merge(Cstar, on = 't' , how = 'left')\n",
    "corr_matrix_pd_small = pd_compare_small.groupby('ascending').corr(method = 'pearson')\n",
    "corr_matrix_pd_Cstar_small = pd.DataFrame(corr_matrix_pd_small['Cstar'])\n",
    "corr_matrix_pd_Cstar_small.style.background_gradient(cmap = 'coolwarm')"
   ]
  },
  {
   "cell_type": "code",
   "execution_count": null,
   "metadata": {},
   "outputs": [],
   "source": [
    "X_full_small['VV_past_agr'].plot()"
   ]
  },
  {
   "cell_type": "code",
   "execution_count": null,
   "metadata": {},
   "outputs": [],
   "source": [
    "X_full['VHForest'].plot()"
   ]
  },
  {
   "attachments": {},
   "cell_type": "markdown",
   "metadata": {},
   "source": [
    "Now plot as more beautiful correlation matrices"
   ]
  },
  {
   "cell_type": "code",
   "execution_count": null,
   "metadata": {},
   "outputs": [],
   "source": [
    "column_names.count('Ascending') == 1"
   ]
  },
  {
   "cell_type": "code",
   "execution_count": null,
   "metadata": {},
   "outputs": [],
   "source": [
    "#data to right format\n",
    "np_corr_full = corr_matrix_pd_Cstar.values.reshape(-1,2, order = 'F')\n",
    "np_corr = np_corr_full[0:-1,:] #Drop the last row with Cstar itself!\n",
    "np_corr_full_small = corr_matrix_pd_Cstar_small.values.reshape(-1,2, order = 'F')\n",
    "np_corr_small = np_corr_full_small[0:-1,:] #Drop the last row with Cstar itself!\n",
    "#select highest absolute value\n",
    "max_1 = np.max(np.abs(np_corr))\n",
    "max_2 = np.max(np.abs(np_corr_small))\n",
    "max_val = np.max([max_1,max_2])\n",
    "print(max_val)\n",
    "\n",
    "\n",
    "\n",
    "fig, axes = plt.subplots(2,1,height_ratios = [0.75,0.25]) #constrained_layout #= True, )\n",
    "\n",
    "#row_names = ['Ascending', 'Descending']\n",
    "row_names = ['$C^*_{desc}$','$C^*_{asc}$']\n",
    "im = axes[0].imshow(np_corr.transpose(), cmap = 'coolwarm',vmin = -max_val, vmax = max_val)\n",
    "if column_names.count('Ascending') == 1:\n",
    "    print(column_names)\n",
    "    column_names.remove('Ascending')\n",
    "axes[0].set_yticks(range(len(row_names)), row_names)\n",
    "axes[0].set_xticks(range(len(column_names)), column_names, rotation = 90)\n",
    "axes[0].set_title('(a)')\n",
    "\n",
    "\n",
    "im = axes[1].imshow(np_corr_small.transpose(), cmap = 'coolwarm',vmin = -max_val, vmax = max_val)\n",
    "if column_names_small.count('Ascending') == 1:\n",
    "    column_names_small.remove('Ascending')\n",
    "axes[1].set_yticks(range(len(row_names)), row_names)\n",
    "axes[1].set_xticks(range(len(column_names_small)), column_names_small, rotation = 90)\n",
    "axes[1].set_title('(b)')\n",
    "\n",
    "fig.subplots_adjust(right=0.8)\n",
    "cbar_ax = fig.add_axes([0.85, 0.10, 0.03, 0.55])\n",
    "cb = fig.colorbar(im, cax=cbar_ax)\n",
    "cb.set_label(r'$\\rho$ [-]')\n",
    "fig.savefig(figures_pad/'Cstar_features_correlation.pdf',format = 'pdf', bbox_inches = 'tight')"
   ]
  },
  {
   "cell_type": "code",
   "execution_count": null,
   "metadata": {},
   "outputs": [],
   "source": [
    "np_corr_full.reshape(-1,2,order = 'F')"
   ]
  },
  {
   "attachments": {},
   "cell_type": "markdown",
   "metadata": {},
   "source": [
    "## Compare rainfall with signals from backscatter!\n",
    "\n",
    "Idea is that increases should be observed when rainfall event occurs?!"
   ]
  },
  {
   "cell_type": "code",
   "execution_count": null,
   "metadata": {},
   "outputs": [],
   "source": [
    "preprocess_output_folder = Path('data/Zwalm_data/preprocess_output')\n",
    "p_zwalm = pd.read_pickle(preprocess_output_folder / 'zwalm_p_thiessen.pkl')\n",
    "p_zwalm_t = p_zwalm.rename(columns={'Timestamp':'t'})\n",
    "p_zwalm_t = p_zwalm_t.set_index('t')\n",
    "p_zwalm_t_daily = p_zwalm_t['P_thiessen'].resample('D').sum()\n",
    "display(p_zwalm_t_daily.head())\n",
    "display(p_zwalm_t_daily.plot())\n",
    "#Merge with the features column!\n",
    "rain_comparison = X_full.merge(p_zwalm_t_daily, how = 'left', on = 't')\n",
    "rain_comparison.corr()['P_thiessen']"
   ]
  },
  {
   "attachments": {},
   "cell_type": "markdown",
   "metadata": {},
   "source": [
    "Plotting rain vs backscatter values for VH pasture"
   ]
  },
  {
   "cell_type": "code",
   "execution_count": null,
   "metadata": {},
   "outputs": [],
   "source": [
    "fig, ax = plt.subplots()\n",
    "rain_comparison.plot.scatter(x = 'P_thiessen', y = 'VHPasture',ax = ax)\n",
    "ax.set_xlim(0.001,)\n",
    "ax.set_xscale('log')\n"
   ]
  },
  {
   "attachments": {},
   "cell_type": "markdown",
   "metadata": {},
   "source": [
    "So there seems to be some correlation!\n",
    "Idea: mainly deviation from a long term mean should be related to deviation from a long term mean!"
   ]
  },
  {
   "cell_type": "code",
   "execution_count": null,
   "metadata": {},
   "outputs": [],
   "source": [
    "X_full_rm_30D = X_full.rolling('30D').mean()\n",
    "X_full_rm_30D['VVAgriculture'].plot()"
   ]
  },
  {
   "cell_type": "code",
   "execution_count": null,
   "metadata": {},
   "outputs": [],
   "source": [
    "X_full_diff_from_rm = X_full - X_full_rm_30D\n",
    "X_full_diff_from_rm['VVAgriculture'].plot()"
   ]
  },
  {
   "cell_type": "code",
   "execution_count": null,
   "metadata": {},
   "outputs": [],
   "source": [
    "diff_compare = X_full_diff_from_rm.merge(p_zwalm_t_daily, how = 'left', on = 't')\n",
    "diff_compare.corr()['P_thiessen']"
   ]
  },
  {
   "cell_type": "code",
   "execution_count": null,
   "metadata": {},
   "outputs": [],
   "source": [
    "fig, ax = plt.subplots()\n",
    "diff_compare.plot.scatter(x= 'P_thiessen', y = 'VVPasture',ax = ax)\n",
    "ax.set_xlim(1e-3,)\n",
    "ax.set_xscale('log')"
   ]
  },
  {
   "attachments": {},
   "cell_type": "markdown",
   "metadata": {},
   "source": [
    "## Compare $C^*$ deviations with backscatter signal deviations from seasonality"
   ]
  },
  {
   "cell_type": "code",
   "execution_count": null,
   "metadata": {},
   "outputs": [],
   "source": [
    "Cstar_rolling_mean =Cstar.rolling('30D', center = True).mean()\n",
    "fig, ax = plt.subplots()\n",
    "Cstar.plot(ax = ax, linestyle = '--', label = '$C^*$')\n",
    "Cstar_rolling_mean.plot(ax = ax, label = 'rolling mean')\n",
    "ax.legend()"
   ]
  },
  {
   "cell_type": "code",
   "execution_count": null,
   "metadata": {},
   "outputs": [],
   "source": [
    "Cstar_diff = Cstar - Cstar_rolling_mean \n",
    "Cstar_diff.plot()"
   ]
  },
  {
   "cell_type": "code",
   "execution_count": null,
   "metadata": {},
   "outputs": [],
   "source": [
    "compare_Cstar_diff = X_full.merge(Cstar_diff, how = 'left', on = 't')\n",
    "#ad daily rain\n",
    "compare_Cstar_diff = compare_Cstar_diff.merge(p_zwalm_t_daily, how = 'left', on = 't') \n",
    "corr_diff = compare_Cstar_diff.groupby('ascending').corr()['Cstar']\n",
    "corr_diff"
   ]
  },
  {
   "cell_type": "code",
   "execution_count": null,
   "metadata": {},
   "outputs": [],
   "source": [
    "compare_Cstar_diff.plot.scatter(x = 'VVAgriculture',y = 'Cstar')"
   ]
  },
  {
   "cell_type": "code",
   "execution_count": null,
   "metadata": {},
   "outputs": [],
   "source": [
    "ax = compare_Cstar_diff.plot.scatter(x = 'P_thiessen',y = 'Cstar')\n",
    "ax.set_xlim(1e-3,)\n",
    "ax.set_xscale('log')\n"
   ]
  },
  {
   "cell_type": "code",
   "execution_count": null,
   "metadata": {},
   "outputs": [],
   "source": [
    "compare_Cstar_diff_small = X_full_small.merge(Cstar_diff, how = 'left', on = 't')\n",
    "compare_Cstar_diff_small.groupby('ascending').corr()['Cstar']"
   ]
  },
  {
   "cell_type": "code",
   "execution_count": null,
   "metadata": {},
   "outputs": [],
   "source": []
  },
  {
   "cell_type": "code",
   "execution_count": null,
   "metadata": {},
   "outputs": [],
   "source": []
  }
 ],
 "metadata": {
  "kernelspec": {
   "display_name": "thesis",
   "language": "python",
   "name": "python3"
  },
  "language_info": {
   "codemirror_mode": {
    "name": "ipython",
    "version": 3
   },
   "file_extension": ".py",
   "mimetype": "text/x-python",
   "name": "python",
   "nbconvert_exporter": "python",
   "pygments_lexer": "ipython3",
   "version": "3.10.10"
  },
  "orig_nbformat": 4
 },
 "nbformat": 4,
 "nbformat_minor": 2
}
