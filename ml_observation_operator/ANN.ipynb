{
 "cells": [
  {
   "attachments": {},
   "cell_type": "markdown",
   "id": "2dcc419a",
   "metadata": {},
   "source": [
    "# Normal ANN for observation operator"
   ]
  },
  {
   "attachments": {},
   "cell_type": "markdown",
   "id": "539f0ffb",
   "metadata": {},
   "source": [
    "## Load in the required data"
   ]
  },
  {
   "cell_type": "code",
   "execution_count": null,
   "id": "53eadebb-d1ab-427b-9415-a3fa8fb281da",
   "metadata": {},
   "outputs": [],
   "source": [
    "import os\n",
    "from pathlib import Path\n",
    "pad = Path(os.getcwd())\n",
    "if pad.name == \"ml_observation_operator\":\n",
    "    pad_correct = pad.parent\n",
    "    os.chdir(pad_correct)\n",
    "%run \"ml_observation_operator/data_load_in.py\""
   ]
  },
  {
   "attachments": {},
   "cell_type": "markdown",
   "id": "fa73fe89",
   "metadata": {},
   "source": [
    "## Load in used packages"
   ]
  },
  {
   "cell_type": "code",
   "execution_count": null,
   "id": "36e2f683",
   "metadata": {},
   "outputs": [],
   "source": [
    "import numpy as np\n",
    "import matplotlib.pyplot as plt\n",
    "import tensorflow as tf\n",
    "from tensorflow import keras\n",
    "from keras import layers\n",
    "\n",
    "%load_ext autoreload \n",
    "%autoreload 2 "
   ]
  },
  {
   "attachments": {},
   "cell_type": "markdown",
   "id": "75adbfab",
   "metadata": {},
   "source": [
    "# Simple ANN model"
   ]
  },
  {
   "attachments": {},
   "cell_type": "markdown",
   "id": "f4a34c69",
   "metadata": {},
   "source": [
    "Set a fixed random seed"
   ]
  },
  {
   "cell_type": "code",
   "execution_count": null,
   "id": "7bac358a",
   "metadata": {},
   "outputs": [],
   "source": []
  },
  {
   "cell_type": "code",
   "execution_count": null,
   "id": "b3edf468",
   "metadata": {},
   "outputs": [],
   "source": [
    "n_features = features.shape[1]\n",
    "print(\"Number of features: \" + str(n_features))"
   ]
  },
  {
   "cell_type": "code",
   "execution_count": null,
   "id": "d11c7c7f",
   "metadata": {},
   "outputs": [],
   "source": [
    "ann = keras.Sequential(\n",
    "    [\n",
    "    layers.Input(shape = (n_features,)),\n",
    "    layers.Dense(4, activation = \"relu\", name = 'layer1'), #first number = dimensionality of the output space!\n",
    "    layers.Dense(4, activation = \"relu\", name = 'layer2'),\n",
    "    layers.Dense(1, name = 'layer3'),\n",
    "    ]\n",
    ")\n",
    "\n",
    "ann.summary()"
   ]
  },
  {
   "cell_type": "code",
   "execution_count": null,
   "id": "553f81c3",
   "metadata": {},
   "outputs": [],
   "source": [
    "batch_size  = 32\n",
    "dataset = tf.data.Dataset.from_tensor_slices((X_train, y_train))\n",
    "print(list(dataset.as_numpy_iterator())[0])\n",
    "dataset = dataset.shuffle(buffer_size=X_train.shape[0]).batch(batch_size)\n",
    "print(list(dataset.as_numpy_iterator())[0])"
   ]
  },
  {
   "cell_type": "code",
   "execution_count": null,
   "id": "aebb710c",
   "metadata": {},
   "outputs": [],
   "source": [
    "ann.compile(\n",
    "    loss = keras.losses.MeanSquaredError(),\n",
    "    optimizer = 'adam',\n",
    ")"
   ]
  },
  {
   "attachments": {},
   "cell_type": "markdown",
   "id": "ed1d9ec3",
   "metadata": {},
   "source": [
    "https://keras.io/guides/training_with_built_in_methods/"
   ]
  },
  {
   "attachments": {},
   "cell_type": "markdown",
   "id": "50adf154",
   "metadata": {},
   "source": [
    "on Numpy array below"
   ]
  },
  {
   "cell_type": "code",
   "execution_count": null,
   "id": "75de8924",
   "metadata": {},
   "outputs": [],
   "source": [
    "epochs = 100\n",
    "history = ann.fit(\n",
    "    X_train, y_train, batch_size= 32, epochs = epochs, validation_split = 0.2\n",
    ")"
   ]
  },
  {
   "cell_type": "code",
   "execution_count": null,
   "id": "53ab19a5",
   "metadata": {},
   "outputs": [],
   "source": [
    "fig, ax = plt.subplots()\n",
    "ax.plot(range(epochs),history.history[\"loss\"],label = 'Training loss')\n",
    "ax.plot(range(epochs),history.history[\"val_loss\"], label = 'Validation loss')\n",
    "ax.legend()\n",
    "\n"
   ]
  },
  {
   "attachments": {},
   "cell_type": "markdown",
   "id": "c54ef7d4",
   "metadata": {},
   "source": [
    "Flattens "
   ]
  },
  {
   "cell_type": "code",
   "execution_count": null,
   "id": "e3694891",
   "metadata": {},
   "outputs": [],
   "source": [
    "history.history.keys()"
   ]
  },
  {
   "cell_type": "markdown",
   "id": "e658a5b8",
   "metadata": {},
   "source": []
  }
 ],
 "metadata": {
  "kernelspec": {
   "display_name": "Python 3 (ipykernel)",
   "language": "python",
   "name": "python3"
  },
  "language_info": {
   "codemirror_mode": {
    "name": "ipython",
    "version": 3
   },
   "file_extension": ".py",
   "mimetype": "text/x-python",
   "name": "python",
   "nbconvert_exporter": "python",
   "pygments_lexer": "ipython3",
   "version": "3.10.9"
  }
 },
 "nbformat": 4,
 "nbformat_minor": 5
}
