{
 "cells": [
  {
   "attachments": {},
   "cell_type": "markdown",
   "metadata": {},
   "source": [
    "# Testing PSO as a calibration function"
   ]
  },
  {
   "cell_type": "code",
   "execution_count": null,
   "metadata": {},
   "outputs": [],
   "source": [
    "import os\n",
    "import numpy as np\n",
    "import pandas as pd\n",
    "import geopandas as gpd\n",
    "from pathlib import Path\n",
    "import matplotlib.pyplot as plt\n",
    "from datetime import timedelta, datetime\n",
    "from dateutil.relativedelta import relativedelta\n",
    "import hvplot\n",
    "import hvplot.pandas\n",
    "import scipy\n",
    "import winsound \n",
    "import warnings\n",
    "import pyswarms as ps\n",
    "from pyswarms.utils.plotters import plot_cost_history\n",
    "pad = Path(os.getcwd())\n",
    "if pad.name == \"model_training_and_calibration\":\n",
    "    pad_correct = pad.parent\n",
    "    os.chdir(pad_correct)\n",
    "from functions.PDM import PDM, PDM_calibration_wrapper_PSO\n",
    "from functions.performance_metrics import NSE, mNSE\n",
    "\n",
    "%load_ext autoreload\n",
    "%autoreload 2\n",
    "\n",
    "exec_optimisation = False\n",
    "if exec_optimisation:\n",
    "    exec_write = True\n",
    "    exec_read = False\n",
    "else:\n",
    "    exec_write = False\n",
    "    exec_read = True\n",
    "\n",
    "warnings.filterwarnings(action = 'ignore', category= RuntimeWarning)\n",
    "warnings.filterwarnings(action = 'ignore', category= UserWarning)\n",
    "parameters_initial = pd.DataFrame({\n",
    "    'cmax': 400.60999,\n",
    "    'cmin':87.67600,\n",
    "    'b':0.60000,\n",
    "    'be':3.00000,\n",
    "    'k1':8.00000,\n",
    "    'k2':0.70000,\n",
    "    'kb':5.04660,\n",
    "    'kg':9000.00000,\n",
    "    'St': 0.43043,\n",
    "    'bg':1.00000,\n",
    "    'tdly':2.00000,\n",
    "    'qconst':0.00000,\n",
    "    #'rainfac':0.00000 THIS IS NOT USED!\n",
    "}, dtype = np.float32, index =[0])\n",
    "display(parameters_initial)\n",
    "\n",
    "area_zwalm_initial = np.single(109.2300034)\n",
    "zwalm_shape = gpd.read_file('data/Zwalm_shape/zwalm_shapefile_emma_31370.shp')\n",
    "area_zwalm_new = np.single(zwalm_shape.area[0]/10**6)\n",
    "print('Area of the Zwalm by Cabus: ' + str(area_zwalm_initial) + '[km^2]')\n",
    "print('Area of the Zwalm by shapefile: ' + str(area_zwalm_new) + '[km^2]')"
   ]
  },
  {
   "cell_type": "code",
   "execution_count": null,
   "metadata": {},
   "outputs": [],
   "source": [
    "preprocess_output_folder = Path('data/Zwalm_data/preprocess_output')\n",
    "p_zwalm = pd.read_pickle(preprocess_output_folder/'zwalm_p_thiessen.pkl')\n",
    "ep_zwalm = pd.read_pickle(preprocess_output_folder/'zwalm_ep_thiessen.pkl')\n",
    "ep_zwalm.loc[ep_zwalm['EP_thiessen'] <0, 'EP_thiessen'] = 0 #ADVICE OF NIKO 21/12/2022\n",
    "#Temporary fix! \n",
    "#ep_zwalm.loc[np.isnan(ep_zwalm['EP_thiessen']),'EP_thiessen'] = 0\n",
    "\n",
    "pywaterinfo_output_folder = Path(\"data/Zwalm_data/pywaterinfo_output\")\n",
    "Q_day = pd.read_pickle(pywaterinfo_output_folder/\"Q_day.pkl\")\n",
    "Q_day = Q_day.set_index('Timestamp')\n",
    "warmup_months = 9\n",
    "start_p1 = p_zwalm['Timestamp'].iloc[0]\n",
    "start_endofwarmup_p1 = start_p1 + relativedelta(months = warmup_months)\n",
    "end_p1 =  pd.Timestamp(datetime(year = 2019, month = 12, day = 31, hour = 23))\n",
    "print('Characteristics of period 1: start = '  + str(start_p1) + ', start of post warmup = ' + str(start_endofwarmup_p1) + ' and end = ' + str(end_p1))\n",
    "\n",
    "start_p2 = pd.Timestamp(datetime(year = 2020, month= 1, day = 1, hour = 0))\n",
    "start_endofwarmup_p2 = start_p2 + relativedelta(months = warmup_months)\n",
    "end_p2 = p_zwalm['Timestamp'].iloc[-1]\n",
    "print('Characteristics of period 2: start = '  + str(start_p2) + ', start of post warmup = ' + str(start_endofwarmup_p2) + ' and end = ' + str(end_p2))\n",
    "\n",
    "p1_period_excl_warmup = pd.date_range(start_endofwarmup_p1,end_p1,\n",
    "freq = 'D') #used for scoring the model \n",
    "p1_period = pd.date_range(start_p1, end_p1, freq = 'H')\n",
    "p2_period_excl_warmup = pd.date_range(start_endofwarmup_p2,end_p2,\n",
    "freq = 'D') #used for scoring the model \n",
    "p2_period = pd.date_range(start_p2, end_p2, freq = 'H')\n",
    "p_all_nowarmup = pd.date_range(start_endofwarmup_p1, end_p2)\n",
    "p_all = pd.date_range(start_p1, end_p2)\n",
    "\n",
    "#now subdivide ep data on p1 and p2\n",
    "#for ease of selecting data, set time as index!\n",
    "#select forcings for p1 period\n",
    "p_zwalm_p1 = p_zwalm.set_index('Timestamp').loc[p1_period]\n",
    "ep_zwalm_p1 = ep_zwalm.set_index('Timestamp').loc[p1_period]\n",
    "#select forcings for p2 period\n",
    "p_zwalm_p2 = p_zwalm.set_index('Timestamp').loc[p2_period]\n",
    "ep_zwalm_p2 = ep_zwalm.set_index('Timestamp').loc[p2_period]\n"
   ]
  },
  {
   "attachments": {},
   "cell_type": "markdown",
   "metadata": {},
   "source": [
    "Changed calibration period from 2017 to end of 2019 on 06/03/2023"
   ]
  },
  {
   "cell_type": "code",
   "execution_count": null,
   "metadata": {},
   "outputs": [],
   "source": [
    "lower_bound = np.array([160,0,0.1,1,0.9,0.1,0,700,0,1,0,-0.03])\n",
    "#set q const very strict to not allow negative flows! (-0.03 being very strict, -0.3 moderately strict)\n",
    "upper_bound = np.array([5000,300,2,3,40,15,5000,25000,150,1.000000000000001,20,0.03])\n",
    "bounds = (lower_bound, upper_bound)\n",
    "print(bounds)"
   ]
  },
  {
   "attachments": {},
   "cell_type": "markdown",
   "metadata": {},
   "source": [
    "https://pyswarms.readthedocs.io/en/latest/api/pyswarms.single.html#module-pyswarms.single.global_best Documentation!\n",
    "\n",
    "https://www.sciencedirect.com/science/article/pii/S2210650220303710 70 tot 500 vaak goede swarm size"
   ]
  },
  {
   "cell_type": "code",
   "execution_count": null,
   "metadata": {},
   "outputs": [],
   "source": [
    "#options = {'c1': 0.5, 'c2': 0.3, 'w': 0.9} #the default parameter values from the documentaiton site\n",
    "\n",
    "#Update 19/03/2023: use adaptive parameters as defined in Obsidian\n",
    "max_iter = 100\n",
    "def update_params(iteration):\n",
    "    w_min = 0.4\n",
    "    w_max = 0.9\n",
    "    c_min = 0.5\n",
    "    c_max = 2.5\n",
    "    w = w_max + (w_min - w_max)*iteration/max_iter\n",
    "    c1 = c_max + (c_min - c_max)*iteration/max_iter\n",
    "    c2 = c_min + (c_min - c_max)*iteration/max_iter\n",
    "    iter_dict = {'w':w,'c1':c1,'c2':c2}\n",
    "    print(iter_dict)\n",
    "    return {'w':w,'c1':c1,'c2':c2}\n",
    "options = {'c1':2.5,'c2':0.5,'w':0.9,'update_interval':1,'update_function':update_params}\n",
    "n_particles = 70\n",
    "#optional to add initial positions!\n",
    "n_param = max(parameters_initial.shape)\n",
    "# init_pos = np.zeros((n_particles,n_param))\n",
    "# for i in range(n_particles):\n",
    "#     init_pos[i,:] = parameters_initial.values * np.random.uniform(0.5,1.5,n_param)\n",
    "#     init_pos[i, init_pos[i,:] < lower_bound] = lower_bound[init_pos[i,:] < lower_bound]\n",
    "#     init_pos[i, init_pos[i,:] > upper_bound] = upper_bound[init_pos[i,:] > upper_bound]\n",
    "#     #random perturbation from Cabus parameters!\n",
    "optimizer = ps.single.GlobalBestPSO(\n",
    "    n_particles= n_particles, dimensions = n_param,\n",
    "    options = options, bounds=bounds,# init_pos=init_pos\n",
    ")\n",
    "#init_pos"
   ]
  },
  {
   "cell_type": "code",
   "execution_count": null,
   "metadata": {},
   "outputs": [],
   "source": [
    "deltat = np.single(1)\n",
    "deltat_out = np.single(24)\n",
    "goal_function_NSE = lambda param: -PDM_calibration_wrapper_PSO(\n",
    "    param, parameters_initial.columns, 'NSE',p_zwalm_p1['P_thiessen'].values,\n",
    "    ep_zwalm_p1['EP_thiessen'].values, area_zwalm_new, deltat,\n",
    "    deltat_out, p1_period.values, p1_period_excl_warmup.values, Q_day['Value']\n",
    ")"
   ]
  },
  {
   "cell_type": "code",
   "execution_count": null,
   "metadata": {},
   "outputs": [],
   "source": [
    "parameters_initial"
   ]
  },
  {
   "attachments": {},
   "cell_type": "markdown",
   "metadata": {},
   "source": [
    "Idea copied from the documentation below (20/03/2023): https://pyswarms.readthedocs.io/en/latest/examples/tutorials/options_handler.html#Customizing-ending-options. Will be saved in `p1_opt_param_NSE_PSO_70_particles_qconst_strict_adap_param_3.csv`"
   ]
  },
  {
   "cell_type": "code",
   "execution_count": null,
   "metadata": {},
   "outputs": [],
   "source": [
    "from pyswarms.backend.operators import compute_pbest, compute_objective_function\n",
    "def optimize(objective_func, maxiters, oh_strategy,start_opts, end_opts):\n",
    "    opt = ps.single.GlobalBestPSO(n_particles=n_particles, dimensions=n_param,\n",
    "                                   options=start_opts, oh_strategy=oh_strategy, bounds =bounds)\n",
    "\n",
    "    swarm = opt.swarm\n",
    "    opt.bh.memory = swarm.position\n",
    "    opt.vh.memory = swarm.position\n",
    "    swarm.pbest_cost = np.full(opt.swarm_size[0], np.\n",
    "    inf)\n",
    "\n",
    "    for i in range(maxiters):\n",
    "        # Compute cost for current position and personal best\n",
    "        swarm.current_cost =  compute_objective_function(swarm, objective_func)\n",
    "        swarm.pbest_pos, swarm.pbest_cost = compute_pbest(swarm)\n",
    "\n",
    "        # Set best_cost_yet_found for ftol\n",
    "        best_cost_yet_found = swarm.best_cost\n",
    "        swarm.best_pos, swarm.best_cost = opt.top.compute_gbest(swarm)\n",
    "        # Perform options update\n",
    "        swarm.options = opt.oh( opt.options, iternow=i, itermax=maxiters, end_opts=end_opts )\n",
    "        print(\"Iteration:\", i,\" Options: \", swarm.options)    # print to see variation\n",
    "        print(\"Best cost: \", best_cost_yet_found)\n",
    "        # Perform velocity and position updates\n",
    "        swarm.velocity = opt.top.compute_velocity(\n",
    "            swarm, opt.velocity_clamp, opt.vh, opt.bounds\n",
    "        )\n",
    "        swarm.position = opt.top.compute_position(\n",
    "            swarm, opt.bounds, opt.bh\n",
    "        )\n",
    "    # Obtain the final best_cost and the final best_position\n",
    "    final_best_cost = swarm.best_cost.copy()\n",
    "    final_best_pos = swarm.pbest_pos[\n",
    "        swarm.pbest_cost.argmin()\n",
    "    ].copy()\n",
    "    return final_best_cost, final_best_pos"
   ]
  },
  {
   "cell_type": "markdown",
   "metadata": {},
   "source": [
    "https://lup.lub.lu.se/luur/download?func=downloadFile&recordOId=9101091&fileOId=9101257"
   ]
  },
  {
   "cell_type": "code",
   "execution_count": null,
   "metadata": {},
   "outputs": [],
   "source": [
    "if exec_optimisation:\n",
    "    maxiters = 100\n",
    "    start_opts = {'c1':2.5, 'c2':0.5, 'w':0.9}\n",
    "    end_opts= {'c1':0.5, 'c2':2.5, 'w':0.4}     # Ref:[1]\n",
    "    oh_strategy={ \"w\":'exp_decay', \"c1\":'lin_variation',\"c2\":'lin_variation'}\n",
    "    cos, pos=optimize(goal_function_NSE, maxiters, oh_strategy, start_opts, end_opts)"
   ]
  },
  {
   "cell_type": "code",
   "execution_count": null,
   "metadata": {},
   "outputs": [],
   "source": [
    "# if exec_optimisation:\n",
    "#     cos, pos = optimizer.optimize(goal_function_NSE, iters = 100) "
   ]
  },
  {
   "cell_type": "code",
   "execution_count": null,
   "metadata": {},
   "outputs": [],
   "source": [
    "# plot_cost_history(cost_history=optimizer.cost_history)\n",
    "# plt.show()"
   ]
  },
  {
   "attachments": {},
   "cell_type": "markdown",
   "metadata": {},
   "source": [
    "https://stackoverflow.com/questions/59637245/choosing-initial-positions-in-pyswarm-particle-swarm-optimization \n",
    "\n",
    "To add an initial position!"
   ]
  },
  {
   "attachments": {},
   "cell_type": "markdown",
   "metadata": {},
   "source": [
    "Add custom loop"
   ]
  },
  {
   "cell_type": "code",
   "execution_count": null,
   "metadata": {},
   "outputs": [],
   "source": [
    "parameters_initial"
   ]
  },
  {
   "cell_type": "code",
   "execution_count": null,
   "metadata": {},
   "outputs": [],
   "source": [
    "# import winsound\n",
    "# freq = 440\n",
    "# duration = 1000\n",
    "# winsound.Beep(freq, duration)"
   ]
  },
  {
   "cell_type": "code",
   "execution_count": null,
   "metadata": {},
   "outputs": [],
   "source": []
  },
  {
   "cell_type": "code",
   "execution_count": null,
   "metadata": {},
   "outputs": [],
   "source": [
    "if exec_write:\n",
    "    PSO_opt_param = pd.DataFrame(pos.reshape(1,-1))\n",
    "    PSO_opt_param.columns = parameters_initial.columns\n",
    "    PSO_opt_param.to_csv('data/Zwalm_PDM_parameters/p1_opt_param_NSE_PSO_70_particles_qconst_strict_adap_param_3.csv', index = False)\n",
    "if exec_read:\n",
    "    #PSO_opt_param = pd.read_csv('data/Zwalm_PDM_parameters/pall_opt_param_mNSE_PSO.csv')\n",
    "    PSO_opt_param = pd.read_csv('data/Zwalm_PDM_parameters/p1_opt_param_NSE_PSO_70_particles_qconst_strict_adap_param_2.csv')"
   ]
  },
  {
   "attachments": {},
   "cell_type": "markdown",
   "metadata": {},
   "source": [
    "20/03/2023: `p1_opt_param_NSE_PSO_70_particles_qconst_strict_adap_param_2.csv` is een vrij goede dataset\n",
    "\n",
    "Ook `data/Zwalm_PDM_parameters/p1_opt_param_mNSE_PSO_70_particles_qconst_strict.csv` vrij goed"
   ]
  },
  {
   "attachments": {},
   "cell_type": "markdown",
   "metadata": {},
   "source": [
    "mnse PSO 70 particles q const strict = vrij goede dataset IMO"
   ]
  },
  {
   "cell_type": "code",
   "execution_count": null,
   "metadata": {},
   "outputs": [],
   "source": [
    "#PSO_opt_param = pd.read_csv('data/Zwalm_PDM_parameters/p1_opt_param_mNSE_PSO_70_particles_qconst_strict.csv')\n",
    "pd_zwalm_out_PSO_opt = PDM(P = p_zwalm['P_thiessen'].values, \n",
    "    EP = ep_zwalm['EP_thiessen'].values,\n",
    "    t = p_zwalm['Timestamp'].values,\n",
    "    area = area_zwalm_new, deltat = deltat, deltatout = deltat_out ,\n",
    "    parameters = PSO_opt_param)\n",
    "pd_zwalm_out_PSO_opt = pd_zwalm_out_PSO_opt.set_index(['Time'])\n",
    "display( Q_day['Value'].hvplot(alpha = 0.7) * pd_zwalm_out_PSO_opt['qmodm3s'].hvplot(alpha = 0.7, frame_width = 900, \n",
    "frame_height = 400, title = 'PSO'))\n",
    "nse_PSO = NSE(\n",
    "    pd_zwalm_out_PSO_opt.loc[start_endofwarmup_p1:end_p2,'qmodm3s'].values,\n",
    "    Q_day.loc[start_endofwarmup_p1:end_p2,'Value'].values\n",
    ")\n",
    "mnse_PSO = mNSE(\n",
    "    pd_zwalm_out_PSO_opt.loc[start_endofwarmup_p1:end_p2,'qmodm3s'].values,\n",
    "    Q_day.loc[start_endofwarmup_p1:end_p2,'Value'].values\n",
    ")\n",
    "display(PSO_opt_param)\n",
    "print('NSE from end of warmup till end of dataset: ' + str(nse_PSO))\n",
    "print('mNSE from end of warmup till end of dataset: ' + str(mnse_PSO))\n"
   ]
  },
  {
   "attachments": {},
   "cell_type": "markdown",
   "metadata": {},
   "source": [
    "Bemerk: als baseflow goed zit op kalibratieperiode, dan niet op validatieperiode..."
   ]
  },
  {
   "attachments": {},
   "cell_type": "markdown",
   "metadata": {},
   "source": [
    "## example from site"
   ]
  },
  {
   "cell_type": "code",
   "execution_count": null,
   "metadata": {},
   "outputs": [],
   "source": [
    "import numpy as np\n",
    "\n",
    "# create a parameterized version of the classic Rosenbrock unconstrained optimzation function\n",
    "def rosenbrock_with_args(x, a, b, c=0):\n",
    "    f = (a - x[:, 0]) ** 2 + b * (x[:, 1] - x[:, 0] ** 2) ** 2 + c\n",
    "    return f"
   ]
  },
  {
   "cell_type": "code",
   "execution_count": null,
   "metadata": {},
   "outputs": [],
   "source": [
    "x_max = 10 * np.ones(2)\n",
    "x_min = -1 * x_max\n",
    "bounds = (x_min, x_max)\n",
    "options = {'c1': 0.5, 'c2': 0.3, 'w': 0.9}\n",
    "optimizer = ps.single.GlobalBestPSO(n_particles=10, dimensions=2, options=options, bounds=bounds)\n",
    "\n",
    "# now run the optimization, pass a=1 and b=100 as a tuple assigned to args\n",
    "\n",
    "cost, pos = optimizer.optimize(rosenbrock_with_args, 1000, a=1, b=100, c=0)"
   ]
  },
  {
   "cell_type": "code",
   "execution_count": null,
   "metadata": {},
   "outputs": [],
   "source": []
  }
 ],
 "metadata": {
  "kernelspec": {
   "display_name": "thesis",
   "language": "python",
   "name": "python3"
  },
  "language_info": {
   "codemirror_mode": {
    "name": "ipython",
    "version": 3
   },
   "file_extension": ".py",
   "mimetype": "text/x-python",
   "name": "python",
   "nbconvert_exporter": "python",
   "pygments_lexer": "ipython3",
   "version": "3.10.9"
  },
  "orig_nbformat": 4,
  "vscode": {
   "interpreter": {
    "hash": "a6b8480143e45034b950661dc46ed3131c1d39c9fcb21ab7eff1dd297a31067d"
   }
  }
 },
 "nbformat": 4,
 "nbformat_minor": 2
}
