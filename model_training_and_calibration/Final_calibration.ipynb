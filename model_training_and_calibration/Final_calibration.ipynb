{
 "cells": [
  {
   "attachments": {},
   "cell_type": "markdown",
   "metadata": {},
   "source": [
    "# Final calibration of PDM"
   ]
  },
  {
   "cell_type": "code",
   "execution_count": null,
   "metadata": {
    "tags": []
   },
   "outputs": [],
   "source": [
    "import os\n",
    "import numpy as np\n",
    "import pandas as pd\n",
    "import geopandas as gpd\n",
    "from pathlib import Path\n",
    "import matplotlib.pyplot as plt\n",
    "import hvplot\n",
    "import hvplot.pandas\n",
    "import warnings\n",
    "import pyswarms as ps\n",
    "from datetime import timedelta, datetime\n",
    "from dateutil.relativedelta import relativedelta\n",
    "from sklearn.preprocessing import StandardScaler\n",
    "\n",
    "pad = Path(os.getcwd())\n",
    "if pad.name == \"model_training_and_calibration\":\n",
    "    pad_correct = pad.parent\n",
    "    os.chdir(pad_correct)\n",
    "from functions.PDM import (PDM, parameter_sampling, \n",
    "                           Nelder_Mead_calibration,PDM_calibration_wrapper_PSO)\n",
    "from functions.performance_metrics import NSE, mNSE, FHV\n",
    "from functions.plotting_functions import plot_FDC\n",
    "#from wakepy import set_keepawake, unset_keepawake\n",
    "\n",
    "exec_optimisation = False\n",
    "append = True #Set to True if you want to continue optimisation where it halted\n",
    "%load_ext autoreload \n",
    "%autoreload 2 \n",
    "\n",
    "warnings.filterwarnings(action = 'ignore', category= RuntimeWarning)\n",
    "warnings.filterwarnings(action = 'ignore', category= UserWarning)"
   ]
  },
  {
   "attachments": {},
   "cell_type": "markdown",
   "metadata": {},
   "source": [
    "## Read in and process initial data"
   ]
  },
  {
   "cell_type": "code",
   "execution_count": null,
   "metadata": {
    "tags": []
   },
   "outputs": [],
   "source": [
    "parameters_initial = pd.DataFrame({\n",
    "    'cmax': 400.60999,\n",
    "    'cmin':87.67600,\n",
    "    'b':0.60000,\n",
    "    'be':3.00000,\n",
    "    'k1':8.00000,\n",
    "    'k2':0.70000,\n",
    "    'kb':5.04660,\n",
    "    'kg':9000.00000,\n",
    "    'St': 0.43043,\n",
    "    'bg':1.00000,\n",
    "    'tdly':2.00000,\n",
    "    'qconst':0.00000,\n",
    "    #'rainfac':0.00000 THIS IS NOT USED!\n",
    "}, dtype = np.float32, index =[0])\n",
    "display(parameters_initial)\n",
    "\n",
    "area_zwalm_initial = np.single(109.2300034)\n",
    "zwalm_shape = gpd.read_file('data/Zwalm_shape/zwalm_shapefile_emma_31370.shp')\n",
    "area_zwalm_new = np.single(zwalm_shape.area[0]/10**6)\n",
    "print('Area of the Zwalm by Cabus: ' + str(area_zwalm_initial) + '[km^2]')\n",
    "print('Area of the Zwalm by shapefile: ' + str(area_zwalm_new) + '[km^2]')"
   ]
  },
  {
   "attachments": {},
   "cell_type": "markdown",
   "metadata": {},
   "source": [
    "For calibration, the bounds from Cabus are used! Unless for:\n",
    "-  $b_e$  minimum from PDM as at LEAST a linear relationship!! take max 3 for $b_e$.\n",
    "- $b_g$ is set to 1 and not calibrated further!\n",
    "- $tdly$ suppose this can only be positive and not more than a day\n",
    "\n",
    "![image.png](cabus.png)\n",
    "\n",
    "Info from the VMM\n",
    "\n",
    "![image.png](VMM.png)"
   ]
  },
  {
   "cell_type": "code",
   "execution_count": null,
   "metadata": {
    "tags": []
   },
   "outputs": [],
   "source": [
    "lower_bound = np.array([160,0,0.1,1,0.9,0.1,0,700,0,1,0,-0.3]) \n",
    "upper_bound = np.array([5000,300,2,3,40,15,5000,25000,150,1.000000000000001,20,0.03])\n",
    "bounds_list = []\n",
    "for i in range(len(lower_bound)):\n",
    "    bounds_list.append((lower_bound[i],upper_bound[i]))\n",
    "#bounds_opt = tuple(bounds_list)\n",
    "bounds_opt = bounds_list\n",
    "print(bounds_opt)"
   ]
  },
  {
   "cell_type": "code",
   "execution_count": null,
   "metadata": {
    "tags": []
   },
   "outputs": [],
   "source": [
    "parameters_initial.columns.values[0]"
   ]
  },
  {
   "cell_type": "code",
   "execution_count": null,
   "metadata": {
    "tags": []
   },
   "outputs": [],
   "source": [
    "bounds_dict = {}\n",
    "for i in range(len(bounds_opt)):\n",
    "    bounds_dict[parameters_initial.columns.values[i]] = bounds_opt[i]\n",
    "bounds_dict"
   ]
  },
  {
   "cell_type": "code",
   "execution_count": null,
   "metadata": {
    "tags": []
   },
   "outputs": [],
   "source": [
    "preprocess_output_folder = Path('data/Zwalm_data/preprocess_output')\n",
    "p_zwalm = pd.read_pickle(preprocess_output_folder/'zwalm_p_thiessen.pkl')\n",
    "ep_zwalm = pd.read_pickle(preprocess_output_folder/'zwalm_ep_thiessen.pkl')\n",
    "\n",
    "pywaterinfo_output_folder = Path(\"data/Zwalm_data/pywaterinfo_output\")\n",
    "Q_day = pd.read_pickle(pywaterinfo_output_folder/\"Q_day.pkl\")\n",
    "Q_day = Q_day.set_index('Timestamp')\n",
    "p_zwalm.set_index('Timestamp').plot()\n",
    "ep_zwalm.set_index('Timestamp').plot()\n",
    "print('First day of forcing data: ' + str(p_zwalm['Timestamp'].iloc[0]))\n",
    "print('Last day of forcing data: ' + str(p_zwalm['Timestamp'].iloc[-1]))"
   ]
  },
  {
   "attachments": {},
   "cell_type": "markdown",
   "metadata": {},
   "source": [
    "Adapted to longer calibration period after suggestion Hans. \n",
    "- Calibration: 2012-01-01 00:00 -> 2019-12-31 23:00 (period1)\n",
    "- Validation: 2020-01-01 00:00 -> 2022-11-05 23:00 (period2)\n",
    "\n",
    "Take 9 months warmup period "
   ]
  },
  {
   "cell_type": "code",
   "execution_count": null,
   "metadata": {
    "tags": []
   },
   "outputs": [],
   "source": [
    "warmup_months = 9\n",
    "start_p1 = p_zwalm['Timestamp'].iloc[0]\n",
    "start_endofwarmup_p1 = start_p1 + relativedelta(months = warmup_months)\n",
    "end_p1 =  pd.Timestamp(datetime(year = 2019, month = 12, day = 31, hour = 23))\n",
    "print('Characteristics of period 1: start = '  + str(start_p1) + ', start of post warmup = ' + str(start_endofwarmup_p1) + ' and end = ' + str(end_p1))\n",
    "\n",
    "start_p2 = pd.Timestamp(datetime(year = 2020, month= 1, day = 1, hour = 0))\n",
    "start_endofwarmup_p2 = start_p2 + relativedelta(months = warmup_months)\n",
    "end_p2 = p_zwalm['Timestamp'].iloc[-1]\n",
    "print('Characteristics of period 2: start = '  + str(start_p2) + ', start of post warmup = ' + str(start_endofwarmup_p2) + ' and end = ' + str(end_p2))\n",
    "\n",
    "p1_period_excl_warmup = pd.date_range(start_endofwarmup_p1,end_p1,\n",
    "freq = 'D') #used for scoring the model \n",
    "p1_period = pd.date_range(start_p1, end_p1, freq = 'H')\n",
    "p2_period_excl_warmup = pd.date_range(start_endofwarmup_p2,end_p2,\n",
    "freq = 'D') #used for scoring the model \n",
    "p2_period = pd.date_range(start_p2, end_p2, freq = 'H')\n",
    "p_all_nowarmup = pd.date_range(start_endofwarmup_p1, end_p2)\n",
    "p_all = pd.date_range(start_p1, end_p2)\n",
    "\n",
    "#now subdivide ep data on p1 and p2\n",
    "#for ease of selecting data, set time as index!\n",
    "#select forcings for p1 period\n",
    "p_zwalm_p1 = p_zwalm.set_index('Timestamp').loc[p1_period]\n",
    "ep_zwalm_p1 = ep_zwalm.set_index('Timestamp').loc[p1_period]\n",
    "#select forcings for p2 period\n",
    "p_zwalm_p2 = p_zwalm.set_index('Timestamp').loc[p2_period]\n",
    "ep_zwalm_p2 = ep_zwalm.set_index('Timestamp').loc[p2_period]"
   ]
  },
  {
   "attachments": {},
   "cell_type": "markdown",
   "metadata": {},
   "source": [
    "## Check initial performance of the model"
   ]
  },
  {
   "attachments": {},
   "cell_type": "markdown",
   "metadata": {},
   "source": [
    "Update 02/05/2022: Only training period nine months of warmup!"
   ]
  },
  {
   "cell_type": "code",
   "execution_count": null,
   "metadata": {
    "tags": []
   },
   "outputs": [],
   "source": [
    "deltat = np.single(1) #internal resolution =  1 hour\n",
    "deltat_out = np.single(24) #output resolution = 24 hour\n",
    "pd_zwalm_out_initial = PDM(P = p_zwalm['P_thiessen'].values, \n",
    "    EP = ep_zwalm['EP_thiessen'].values,\n",
    "    t = p_zwalm['Timestamp'].values,\n",
    "    area = area_zwalm_initial, deltat = deltat, deltatout = deltat_out ,\n",
    "    parameters = parameters_initial)\n",
    "pd_zwalm_out_initial = pd_zwalm_out_initial.set_index(['Time'])\n",
    "pd_zwalm_out_initial_p2 = pd_zwalm_out_initial[start_p2:end_p2] #no warmup!\n",
    "pd_zwalm_out_initial_p1 = pd_zwalm_out_initial[start_endofwarmup_p1:end_p1]\n",
    "\n",
    "kwargs_p1 = {'Qmod':pd_zwalm_out_initial_p1['qmodm3s'].values, 'Qobs':Q_day.loc[start_endofwarmup_p1:end_p1,'Value'].values}\n",
    "kwargs_p2 = {'Qmod':pd_zwalm_out_initial_p2['qmodm3s'].values, 'Qobs':Q_day.loc[start_p2:end_p2,'Value'].values}\n",
    "kwargs_full = {'Qmod':pd_zwalm_out_initial.loc[start_endofwarmup_p1:end_p2,'qmodm3s'].values, 'Qobs':Q_day.loc[start_endofwarmup_p1:end_p2,'Value'].values}\n",
    "# check (m)NSE and FHV\n",
    "\n",
    "nse_initial_p2 = NSE(**kwargs_p2)\n",
    "mnse_initial_p2 = mNSE(**kwargs_p2)\n",
    "FHV_initial_p2 = FHV(**kwargs_p2)\n",
    "print('NSE on p2 for initial set:' + str(nse_initial_p2))\n",
    "print('mNSE on p2 for initial set:' + str(mnse_initial_p2))\n",
    "print('FHV on p2 for initial set: ' + str(FHV_initial_p2) + '%')\n",
    "\n",
    "nse_initial_p1 = NSE(**kwargs_p1)\n",
    "mnse_initial_p1 = mNSE(**kwargs_p1)\n",
    "FHV_initial_p1 = FHV(**kwargs_p1)\n",
    "print('NSE on p1 for initial set:' + str(nse_initial_p1))\n",
    "print('mNSE on p1 for initial set:' + str(mnse_initial_p1))\n",
    "print('FHV on p1 for initial set: ' + str(FHV_initial_p1) + '%')\n",
    "\n",
    "nse_initial = NSE(**kwargs_full)\n",
    "mnse_initial = mNSE(**kwargs_full)\n",
    "FHV_initial = FHV(**kwargs_full)\n",
    "print('NSE for initial set:' + str(nse_initial))\n",
    "print('mNSE for initial set:' + str(mnse_initial))\n",
    "print('FHV for for initial set: ' + str(FHV_initial) + '%')"
   ]
  },
  {
   "cell_type": "code",
   "execution_count": null,
   "metadata": {
    "tags": []
   },
   "outputs": [],
   "source": [
    "pd_zwalm_out_initial"
   ]
  },
  {
   "cell_type": "code",
   "execution_count": null,
   "metadata": {
    "tags": []
   },
   "outputs": [],
   "source": [
    "#fig, ax = plt.subplots(figsize = (10,6))\n",
    "Q_day['Value'].hvplot(alpha = 0.7, label = 'observed') * pd_zwalm_out_initial['qmodm3s'].hvplot(\n",
    "    alpha = 0.7, frame_width = 900, frame_height = 400,label = 'modelled', line_dash = 'dashed') "
   ]
  },
  {
   "attachments": {},
   "cell_type": "markdown",
   "metadata": {},
   "source": [
    "Plot for use in the thesis"
   ]
  },
  {
   "cell_type": "code",
   "execution_count": null,
   "metadata": {
    "tags": []
   },
   "outputs": [],
   "source": [
    "#plt.style.use('seaborn-v0_8-colorblind')\n",
    "plt.style.use('default')\n",
    "fig, ax = plt.subplots(figsize = (9,5), constrained_layout = True)\n",
    "Q_day['Value'].plot(alpha = 0.7, label = '$Q_o$',ax = ax)\n",
    "pd_zwalm_out_initial['qmodm3s'].plot(\n",
    "    alpha = 0.7, label = '$Q_{m,init}$', linestyle = '--', ax = ax\n",
    ")\n",
    "ax.set_ylabel('$Q$ [m$^3$/s]')\n",
    "ax.set_xlabel('Time')\n",
    "ax2 = ax.twinx()\n",
    "p_zwalm_t = p_zwalm.set_index('Timestamp')\n",
    "ax2.plot(p_zwalm_t.index, p_zwalm_t['P_thiessen'],c = 'grey')\n",
    "ax2.invert_yaxis()\n",
    "ax2.set_ylim(3*np.max(p_zwalm_t['P_thiessen']),0)\n",
    "ax2.set_ylabel('$P$ [mm/h]')\n",
    "# p_zwalm_t['P_thiessen'].plot(ax = ax2, alpha = 0.1)\n",
    "# box = ax.get_position()\n",
    "# ax.set_position([box.x0, box.y0, box.width * 0.8, box.height])\n",
    "\n",
    "# Put a legend to the right of the current axis\n",
    "ax.legend(bbox_to_anchor=(1.04, 1), loc=\"upper left\")\n",
    "pad = Path('Figures/Figures_chapter_PDM')\n",
    "if not os.path.exists(pad):\n",
    "    os.makedirs(pad)\n",
    "fig.savefig(pad/'Q_initial_set.pdf', format = 'pdf')\n"
   ]
  },
  {
   "cell_type": "code",
   "execution_count": null,
   "metadata": {},
   "outputs": [],
   "source": [
    "fig, ax = plt.subplots()\n",
    "fig, ax = plot_FDC(Q_day['Value'].values, label = '$Q_o$', fig = fig, ax = ax, cutoff_bool=False)\n",
    "fig, ax = plot_FDC(pd_zwalm_out_initial['qmodm3s'].values, fig = fig, ax = ax, label = '$Q_{m,init}$')"
   ]
  },
  {
   "attachments": {},
   "cell_type": "markdown",
   "metadata": {},
   "source": [
    "## Nelder-Mead Calibration: starting from multiple initial conditions"
   ]
  },
  {
   "cell_type": "code",
   "execution_count": null,
   "metadata": {},
   "outputs": [],
   "source": [
    "names = parameters_initial.columns.to_list()\n",
    "n_paramsets = 50\n",
    "pd_init_params = parameter_sampling(names, bounds_opt, n_paramsets)\n",
    "pd_init_params.head()\n",
    "pd_opt_params = parameters_initial.copy()\n",
    "col_names_perf = ['NSE_cal','NSE_val','NSE_full','mNSE_cal','mNSE_val','mNSE_full']\n",
    "#empyt dataframe for parameters and performance\n",
    "if append:\n",
    "    pd_perf = pd.read_csv('data/Zwalm_PDM_parameters/NM_NSE_performances.csv')\n",
    "    pd_opt_params = pd.read_csv('data/Zwalm_PDM_parameters/NM_NSE_parameters.csv')\n",
    "    start = pd_opt_params.shape[0]\n",
    "else:\n",
    "    pd_perf = pd.DataFrame(columns = col_names_perf)\n",
    "    pd_opt_params = pd.DataFrame(columns = names)\n",
    "    start = 0\n",
    "display(pd_perf.head())\n",
    "display(pd_opt_params.head())"
   ]
  },
  {
   "cell_type": "code",
   "execution_count": null,
   "metadata": {},
   "outputs": [],
   "source": [
    "start"
   ]
  },
  {
   "cell_type": "code",
   "execution_count": null,
   "metadata": {},
   "outputs": [],
   "source": [
    "#Specifications for calibration \n",
    "performance_metric = 'NSE'\n",
    "P_np = p_zwalm_p1['P_thiessen'].values\n",
    "EP_np = ep_zwalm_p1['EP_thiessen'].values\n",
    "deltat = np.single(1)\n",
    "deltatout = np.single(24)\n",
    "t_model = p1_period.values\n",
    "t_calibration = p1_period_excl_warmup.values\n",
    "Qobs = Q_day['Value']"
   ]
  },
  {
   "cell_type": "code",
   "execution_count": null,
   "metadata": {},
   "outputs": [],
   "source": [
    "if not os.path.exists('data/Zwalm_PDM_parameters'):\n",
    "    os.mkdir('data/Zwalm_PDM_parameters')"
   ]
  },
  {
   "cell_type": "code",
   "execution_count": null,
   "metadata": {},
   "outputs": [],
   "source": [
    "#set_keepawake(keep_screen_awake=True)\n",
    "if exec_optimisation:\n",
    "        for i in np.arange(start, n_paramsets):\n",
    "                # Optimize parametersets with NM\n",
    "                pd_init_temp = pd_init_params.iloc[i,:]\n",
    "                opt_out_NSE = Nelder_Mead_calibration(\n",
    "                        pd_init_temp.values, parameters_initial.columns, bounds_opt, performance_metric, P_np, EP_np,\n",
    "                        area_zwalm_new, deltat, deltatout, t_model, t_calibration, Qobs  \n",
    "                )\n",
    "                ## Assign optimized parameter sets\n",
    "                pd_temp = pd.DataFrame(opt_out_NSE.x.reshape(1,-1), columns = names)\n",
    "                pd_opt_params = pd.concat([pd_opt_params, pd_temp], axis = 0, ignore_index=True)\n",
    "                \n",
    "                ## Quantify performance of parameter sets \n",
    "                pd_zwalm_out = PDM(P = p_zwalm['P_thiessen'].values, \n",
    "                        EP = ep_zwalm['EP_thiessen'].values, t = p_zwalm['Timestamp'].values,\n",
    "                        area = area_zwalm_new, deltat = deltat, deltatout = deltat_out ,parameters = pd_temp\n",
    "                )\n",
    "                pd_zwalm_out = pd_zwalm_out.set_index('Time')\n",
    "                mnse_cal = mNSE(\n",
    "                        pd_zwalm_out.loc[start_endofwarmup_p1:end_p1,'qmodm3s'].values,\n",
    "                        Q_day.loc[start_endofwarmup_p1:end_p1,'Value'].values\n",
    "                )\n",
    "                nse_cal = NSE(\n",
    "                        pd_zwalm_out.loc[start_endofwarmup_p1:end_p1,'qmodm3s'].values,\n",
    "                        Q_day.loc[start_endofwarmup_p1:end_p1,'Value'].values\n",
    "                )\n",
    "                mnse_val = mNSE(\n",
    "                        pd_zwalm_out.loc[start_p2:end_p2,'qmodm3s'].values,\n",
    "                        Q_day.loc[start_p2:end_p2,'Value'].values\n",
    "                )\n",
    "                nse_val= NSE(\n",
    "                        pd_zwalm_out.loc[start_p2:end_p2,'qmodm3s'].values,\n",
    "                        Q_day.loc[start_p2:end_p2,'Value'].values\n",
    "                ) #mistake was made here (mNSE was used) => wrong data in dataframe\n",
    "                mnse_full = mNSE(\n",
    "                        pd_zwalm_out.loc[start_endofwarmup_p1:end_p2,'qmodm3s'].values,\n",
    "                        Q_day.loc[start_endofwarmup_p1:end_p2,'Value'].values\n",
    "                )\n",
    "                nse_full = NSE(\n",
    "                        pd_zwalm_out.loc[start_endofwarmup_p1:end_p2,'qmodm3s'].values,\n",
    "                        Q_day.loc[start_endofwarmup_p1:end_p2,'Value'].values\n",
    "                )\n",
    "                pd_temp_perf = pd.DataFrame(np.array([nse_cal, nse_val, nse_full, mnse_cal, mnse_val, mnse_full]).reshape(1,-1), columns= col_names_perf, index = [i])\n",
    "                pd_perf = pd.concat([pd_perf, pd_temp_perf], axis=0, ignore_index = True)\n",
    "\n",
    "                ## Write out\n",
    "                pd_opt_params.to_csv('data/Zwalm_PDM_parameters/NM_NSE_parameters.csv', mode = 'w', index = False)\n",
    "                pd_perf.to_csv('data/Zwalm_PDM_parameters/NM_NSE_performances.csv', mode = 'w', index = False)\n",
    "                print('dataset ' + str(i) + ' out of '  + str(n_paramsets) + ' has been calibrated')\n",
    "#unset_keepawake()"
   ]
  },
  {
   "attachments": {},
   "cell_type": "markdown",
   "metadata": {},
   "source": [
    "## Assess calibration results"
   ]
  },
  {
   "attachments": {},
   "cell_type": "markdown",
   "metadata": {},
   "source": [
    "Recalculate the results with the parametersets (as doubts about the values saved during calibration)"
   ]
  },
  {
   "cell_type": "code",
   "execution_count": null,
   "metadata": {},
   "outputs": [],
   "source": [
    "pd.DataFrame(pd_opt_params.iloc[0,:].values.reshape(1,-1), columns = pd_opt_params.columns)"
   ]
  },
  {
   "cell_type": "code",
   "execution_count": null,
   "metadata": {},
   "outputs": [],
   "source": [
    "metrics_names_list = pd_perf.columns.to_list()\n",
    "fhv_names = ['FHV_cal','FHV_val','FHV_full']\n",
    "for i in range(len(fhv_names)):\n",
    "    metrics_names_list.append(fhv_names[i])\n",
    "print(metrics_names_list)"
   ]
  },
  {
   "cell_type": "code",
   "execution_count": null,
   "metadata": {},
   "outputs": [],
   "source": [
    "n_param_sets = pd_opt_params.shape[0]\n",
    "# pd_perf_recalc = pd.DataFrame(columns=pd_perf.columns, index = range(0,n_param_sets))\n",
    "pd_perf_recalc = pd.DataFrame(columns=metrics_names_list, \n",
    "                              index = range(0,n_param_sets))\n",
    "pd_list = []\n",
    "for i in range(n_param_sets):\n",
    "    pd_temp = pd.DataFrame(pd_opt_params.iloc[i,:].values.reshape(1,-1), columns = pd_opt_params.columns)\n",
    "    pd_zwalm_out = PDM(P = p_zwalm['P_thiessen'].values, \n",
    "        EP = ep_zwalm['EP_thiessen'].values, t = p_zwalm['Timestamp'].values,\n",
    "        area = area_zwalm_new, deltat = deltat, deltatout = deltat_out ,parameters = pd_temp\n",
    "    )\n",
    "    pd_zwalm_out = pd_zwalm_out.set_index('Time')\n",
    "    pd_zwalm_out_p2 = pd_zwalm_out[start_p2:end_p2] #no warmup!\n",
    "    pd_zwalm_out_p1 = pd_zwalm_out[start_endofwarmup_p1:end_p1]\n",
    "    kwargs_p1 = {'Qmod':pd_zwalm_out_p1['qmodm3s'].values, 'Qobs':Q_day.loc[start_endofwarmup_p1:end_p1,'Value'].values}\n",
    "    kwargs_p2 = {'Qmod':pd_zwalm_out_p2['qmodm3s'].values, 'Qobs':Q_day.loc[start_p2:end_p2,'Value'].values}\n",
    "    kwargs_full = {'Qmod':pd_zwalm_out.loc[start_endofwarmup_p1:end_p2,'qmodm3s'].values, 'Qobs':Q_day.loc[start_endofwarmup_p1:end_p2,'Value'].values}   \n",
    "    \n",
    "    mnse_cal = mNSE(**kwargs_p1)\n",
    "    nse_cal = NSE(**kwargs_p1)\n",
    "    fhv_cal = FHV(**kwargs_p1)\n",
    "    \n",
    "    mnse_val = mNSE(**kwargs_p2)\n",
    "    nse_val= NSE(**kwargs_p2)\n",
    "    fhv_val = FHV(**kwargs_p2)\n",
    "    \n",
    "    mnse_full = mNSE(**kwargs_full)\n",
    "    nse_full = NSE(**kwargs_full)\n",
    "    fhv_full = FHV(**kwargs_full)\n",
    "    \n",
    "    pd_perf_recalc.iloc[i,:] =[nse_cal, nse_val, nse_full, mnse_cal, mnse_val, mnse_full,fhv_cal,fhv_val,fhv_full]"
   ]
  },
  {
   "cell_type": "code",
   "execution_count": null,
   "metadata": {},
   "outputs": [],
   "source": [
    "pd_perf_recalc.head(10)"
   ]
  },
  {
   "cell_type": "code",
   "execution_count": null,
   "metadata": {},
   "outputs": [],
   "source": [
    "fig, axes = plt.subplots(4,3, constrained_layout = True, figsize = (7,7))\n",
    "iter = 0\n",
    "for i in range(4):\n",
    "    for j in range(3):\n",
    "        axes[i,j].scatter(x = pd_opt_params.iloc[:,iter], y = pd_perf_recalc['NSE_cal'], edgecolor = 'k')\n",
    "        axes[i,j].set_xlabel(pd_opt_params.columns[iter])\n",
    "        iter = iter + 1\n",
    "fig.suptitle('NSE on calibration set')\n",
    "fig.supylabel('NSE')"
   ]
  },
  {
   "attachments": {},
   "cell_type": "markdown",
   "metadata": {},
   "source": [
    "Same Figure but now limit the axes"
   ]
  },
  {
   "cell_type": "code",
   "execution_count": null,
   "metadata": {},
   "outputs": [],
   "source": [
    "fig, axes = plt.subplots(4,3, constrained_layout = True, figsize = (7,7))\n",
    "iter = 0\n",
    "for i in range(4):\n",
    "    for j in range(3):\n",
    "        axes[i,j].scatter(x = pd_opt_params.iloc[:,iter], y = pd_perf['NSE_cal'], edgecolor = 'k')\n",
    "        axes[i,j].set_xlabel(pd_opt_params.columns[iter])\n",
    "        #axes[i,j].set_ylabel('NSE')\n",
    "        axes[i,j].set_ylim(0, pd_perf['NSE_cal'].max()+0.05)\n",
    "        iter = iter + 1\n",
    "fig.suptitle('NSE on calibration set')\n",
    "fig.supylabel('NSE')"
   ]
  },
  {
   "cell_type": "code",
   "execution_count": null,
   "metadata": {},
   "outputs": [],
   "source": [
    "#dict with names in math font\n",
    "names_dict = {'cmax':'$c_{max}$','cmin':'$c_{min}$','b':'$b$','be':'$b_e$','k1':'$k_1$','k2':'$k_2$','kb':'$k_b$','kg':'$k_g$','St':'$S_t$','bg':'$b_g$','tdly':'$t_d$','qconst':'$Q_c$'}"
   ]
  },
  {
   "cell_type": "code",
   "execution_count": null,
   "metadata": {},
   "outputs": [],
   "source": [
    "pd_opt_params_plot = pd_opt_params.drop('bg',axis = 1)\n",
    "fig, axes = plt.subplots(4,3, constrained_layout = True, figsize = (7,7))\n",
    "iter = 0\n",
    "for i in range(4):\n",
    "    for j in range(3):\n",
    "        if iter < pd_opt_params_plot.shape[1]:\n",
    "            axes[i,j].scatter(x = pd_opt_params_plot.iloc[:,iter], y = pd_perf_recalc['NSE_full'], edgecolor = 'k')\n",
    "            param_name = pd_opt_params_plot.columns[iter]\n",
    "            axes[i,j].set_xlabel(names_dict[param_name])\n",
    "            left_bound = bounds_dict[param_name][0]\n",
    "            right_bound = bounds_dict[param_name][1]\n",
    "            buffer = 0.05*(right_bound - left_bound)\n",
    "            axes[i,j].set_xlim(left_bound-buffer, right_bound+buffer)\n",
    "            axes[i,j].set_ylim(0.5, pd_perf['NSE_cal'].max()+0.05)\n",
    "            iter = iter + 1\n",
    "        else:\n",
    "            fig.delaxes(axes[i,j]) #delete empty subplot!\n",
    "#fig.suptitle('NSE on full set')\n",
    "fig.supylabel('NSE')\n",
    "fig.savefig('Figures/Figures_chapter_PDM/dottyplot_nsefull.pdf',format = 'pdf')"
   ]
  },
  {
   "attachments": {},
   "cell_type": "markdown",
   "metadata": {},
   "source": [
    " Count number of parmaetersets with NSE below 0.5"
   ]
  },
  {
   "cell_type": "code",
   "execution_count": null,
   "metadata": {},
   "outputs": [],
   "source": [
    "print(sum(pd_perf_recalc['NSE_full'] < 0.5))\n",
    "print(sum(pd_perf_recalc['NSE_full'] < 0))"
   ]
  },
  {
   "attachments": {},
   "cell_type": "markdown",
   "metadata": {},
   "source": [
    "So it seems acceptable to skip the few very bad perforer with NSE below"
   ]
  },
  {
   "attachments": {},
   "cell_type": "markdown",
   "metadata": {},
   "source": [
    "### Best dataset"
   ]
  },
  {
   "cell_type": "code",
   "execution_count": null,
   "metadata": {},
   "outputs": [],
   "source": [
    "pd_perf_recalc.head()"
   ]
  },
  {
   "attachments": {},
   "cell_type": "markdown",
   "metadata": {},
   "source": [
    "Idea: determine best dataset based on best NSE and mNSE value for validation set. (paper on mNSE https://agupubs.onlinelibrary.wiley.com/doi/abs/10.1029/1998WR900018). Goal = highest weighted sum. Update: Adapted to just best NSE value"
   ]
  },
  {
   "cell_type": "code",
   "execution_count": null,
   "metadata": {},
   "outputs": [],
   "source": [
    "sorted_NSE_val = pd_perf_recalc.sort_values('NSE_val', ascending=False)\n",
    "# sorted_NSE_val['NSE_val_score'] = np.arange(1,51)\n",
    "# sorted_mNSE_val = sorted_NSE_val.sort_values('mNSE_val',ascending=False)\n",
    "# sorted_mNSE_val['mNSE_val_score'] = np.arange(1,51)\n",
    "# sorted_NSE_full = sorted_mNSE_val.sort_values('NSE_full',ascending=False)\n",
    "# sorted_NSE_full['NSE_full_score'] = np.arange(1,51)\n",
    "# sorted_NSE_full['total_score'] = sorted_NSE_full['mNSE_val_score'] + sorted_NSE_full['NSE_val_score']\n",
    "# sorted_total_score_val = sorted_NSE_full.sort_values('total_score')\n",
    "#sorted_total_score_val.head(10)\n",
    "sorted_NSE_val['score'] = 1/2*sorted_NSE_val['NSE_val'] + 1/2*sorted_NSE_val['mNSE_val']\n",
    "sorted_score = sorted_NSE_val.sort_values('score',ascending=False)\n",
    "sorted_score.head(15)\n"
   ]
  },
  {
   "attachments": {},
   "cell_type": "markdown",
   "metadata": {},
   "source": [
    "Plotting the best dataset according to validation data"
   ]
  },
  {
   "cell_type": "code",
   "execution_count": null,
   "metadata": {},
   "outputs": [],
   "source": [
    "index_best_param_set = sorted_score.iloc[0,:].name\n",
    "print('original index of best parameter set: ' + str(index_best_param_set))\n",
    "best_param_set = pd_opt_params.iloc[index_best_param_set,:]\n",
    "display(best_param_set)\n",
    "pd_zwalm_out_opt = PDM(P = p_zwalm['P_thiessen'].values, \n",
    "    EP = ep_zwalm['EP_thiessen'].values,\n",
    "    t = p_zwalm['Timestamp'].values,\n",
    "    area = area_zwalm_new, deltat = deltat, deltatout = deltat_out ,\n",
    "    parameters = pd.DataFrame(best_param_set.to_dict(),index=[0]))\n",
    "pd_zwalm_out_opt = pd_zwalm_out_opt.set_index('Time')"
   ]
  },
  {
   "attachments": {},
   "cell_type": "markdown",
   "metadata": {},
   "source": [
    "Check the NSE"
   ]
  },
  {
   "cell_type": "code",
   "execution_count": null,
   "metadata": {},
   "outputs": [],
   "source": [
    "nse_full_opt = NSE(\n",
    "        pd_zwalm_out_opt.loc[start_endofwarmup_p1:end_p2,'qmodm3s'].values,\n",
    "        Q_day.loc[start_endofwarmup_p1:end_p2,'Value'].values\n",
    ")\n",
    "print('Caculated NSE on full set: ' + str(nse_full_opt) )\n",
    "print('NSE as obtained during the calibration exercise :' + str(pd_perf.loc[index_best_param_set,'NSE_full']) )"
   ]
  },
  {
   "cell_type": "code",
   "execution_count": null,
   "metadata": {},
   "outputs": [],
   "source": [
    "pd_perf.head(10)"
   ]
  },
  {
   "cell_type": "code",
   "execution_count": null,
   "metadata": {},
   "outputs": [],
   "source": [
    "hvplot.extension('bokeh')\n",
    "Q_day['Value'].hvplot(alpha = 0.7, label = 'observed', line_width = 1.5) * pd_zwalm_out_initial['qmodm3s'].hvplot(\n",
    "    alpha = 0.7, frame_width = 900, frame_height = 400,label = 'Modelled: initial',line_dash = 'dashed',line_width = 1.5) * pd_zwalm_out_opt['qmodm3s'].hvplot(\n",
    "    alpha = 0.7,label = 'Modelled: optimised', line_dash = 'dashed', line_width = 1.5, color = 'green')"
   ]
  },
  {
   "attachments": {},
   "cell_type": "markdown",
   "metadata": {},
   "source": [
    "Scatter plot"
   ]
  },
  {
   "cell_type": "code",
   "execution_count": null,
   "metadata": {},
   "outputs": [],
   "source": [
    "fig, ax = plt.subplots()\n",
    "ax.scatter(Q_day['Value'],pd_zwalm_out_opt['qmodm3s'], label = 'optimised parameterset',alpha = 0.5)\n",
    "ax.scatter(Q_day['Value'],pd_zwalm_out_initial['qmodm3s'], label = 'initial parameterset',alpha = 0.5)\n",
    "ax.legend()"
   ]
  },
  {
   "attachments": {},
   "cell_type": "markdown",
   "metadata": {},
   "source": [
    "QQ-plot"
   ]
  },
  {
   "cell_type": "code",
   "execution_count": null,
   "metadata": {},
   "outputs": [],
   "source": [
    "length = len(pd_zwalm_out_initial)\n",
    "quantiles = np.linspace(0, 1, length)\n",
    "# obs_quan = np.quantile(Q_day['Value'].dropna(),quantiles)\n",
    "# mod_opt_quan = np.quantile(pd_zwalm_out_opt['qmodm3s'],quantiles, method = 'inverted_cdf')\n",
    "# mod_init_quan = np.quantile(pd_zwalm_out_initial['qmodm3s'],quantiles, method = 'inverted_cdf')\n",
    "\n",
    "nan_bool = Q_day['Value'].isna()\n",
    "obs_quan = np.sort(Q_day['Value'].dropna())\n",
    "mod_opt_quan = np.sort(pd_zwalm_out_opt['qmodm3s'][~nan_bool])\n",
    "mod_init_quan = np.sort(pd_zwalm_out_initial['qmodm3s'][~nan_bool])\n",
    "\n",
    "fig, ax = plt.subplots()\n",
    "ax.plot(obs_quan, mod_opt_quan,marker = 'o',label = 'Optimised')\n",
    "ax.plot(obs_quan, mod_init_quan, marker = 'o', label = 'Initial')\n",
    "ax.plot(obs_quan, obs_quan, label = 'Ideal')\n",
    "ax.legend()\n",
    "ax.set_xlabel(r'$Q_{obs}$ [m$^3$/s]')\n",
    "ax.set_ylabel(r'$Q_{mod}$ [m$^3$/s]')\n",
    "ax.set_title('QQ-plot')\n",
    "fig"
   ]
  },
  {
   "cell_type": "code",
   "execution_count": null,
   "metadata": {},
   "outputs": [],
   "source": [
    "len(nan_bool)"
   ]
  },
  {
   "attachments": {},
   "cell_type": "markdown",
   "metadata": {},
   "source": [
    "## 20 best NM parametersets"
   ]
  },
  {
   "attachments": {},
   "cell_type": "markdown",
   "metadata": {},
   "source": [
    "Plotting the 5 best according to validation dataset score"
   ]
  },
  {
   "cell_type": "code",
   "execution_count": null,
   "metadata": {},
   "outputs": [],
   "source": [
    "flow_dict = {}\n",
    "Cstar_nm_dict = {}\n",
    "top_nr = 20\n",
    "for i in range(top_nr):\n",
    "    index_temp = sorted_score.iloc[i,:].name\n",
    "    param_set_temp = pd.DataFrame(pd_opt_params.iloc[index_temp,:].to_dict(), index = [0])\n",
    "    pd_zwalm_out_temp = PDM(P = p_zwalm['P_thiessen'].values, \n",
    "            EP = ep_zwalm['EP_thiessen'].values, t = p_zwalm['Timestamp'].values,\n",
    "            area = area_zwalm_new, deltat = deltat, deltatout = deltat_out ,parameters = param_set_temp\n",
    "    )\n",
    "    flow_dict[index_temp] = pd_zwalm_out_temp['qmodm3s']\n",
    "    Cstar_nm_dict[index_temp] = pd_zwalm_out_temp['Cstar']\n"
   ]
  },
  {
   "cell_type": "code",
   "execution_count": null,
   "metadata": {},
   "outputs": [],
   "source": [
    "flow_dict[32].values[~nan_bool]"
   ]
  },
  {
   "cell_type": "code",
   "execution_count": null,
   "metadata": {},
   "outputs": [],
   "source": [
    "# fig, ax = plt.subplots()\n",
    "# ax.plot(obs_quan, obs_quan, label = 'Ideal')\n",
    "# for key in flow_dict.keys():\n",
    "#     #temp_quantile = np.quantile(flow_dict[key],quantiles)\n",
    "#     temp_quantile = np.sort(flow_dict[key].values[~nan_bool])\n",
    "#     ax.plot(obs_quan, temp_quantile, linewidth = 1, marker = 'o', markersize = 2)\n",
    "#     ax.legend()\n",
    "#     ax.set_title('The best ' + str(top_nr) + ' parametersets')\n"
   ]
  },
  {
   "attachments": {},
   "cell_type": "markdown",
   "metadata": {},
   "source": [
    "Using sort has the same effect as quantile!"
   ]
  },
  {
   "cell_type": "code",
   "execution_count": null,
   "metadata": {},
   "outputs": [],
   "source": [
    "fig, ax = plt.subplots()\n",
    "ax.plot(obs_quan, obs_quan, label = 'Ideal')\n",
    "for key in flow_dict.keys():\n",
    "    temp_quantile = np.sort(flow_dict[key].values[~nan_bool])\n",
    "    ax.plot(obs_quan, temp_quantile, linewidth = 1, marker = 'o', markersize = 2)\n",
    "    ax.legend()\n",
    "    ax.set_title('The best ' + str(top_nr) + ' parametersets')\n",
    "fig"
   ]
  },
  {
   "attachments": {},
   "cell_type": "markdown",
   "metadata": {},
   "source": [
    "All very analogous behaviour\n",
    "\n",
    "Figure for comparison in presentation"
   ]
  },
  {
   "cell_type": "code",
   "execution_count": null,
   "metadata": {},
   "outputs": [],
   "source": [
    "fig, ax = plt.subplots(figsize = (8,5))\n",
    "plt.rcParams.update({'font.size': 13})\n",
    "Q_day['Value'].plot(label = 'Geobserveerd', ax = ax) \n",
    "pd_zwalm_out_opt['qmodm3s'].plot(label = 'Gekalibreerd PDM', ax =ax)\n",
    "ax.set_ylabel('$Q$ [m$^3$/s]')\n",
    "ax.set_xlabel('Tijd')\n",
    "ax.legend()\n",
    "pad = Path('Figures/presentation_12_04')\n",
    "if not os.path.exists(pad):\n",
    "    os.makedirs(pad)\n",
    "plt.savefig(pad/'hydrogram.svg')"
   ]
  },
  {
   "attachments": {},
   "cell_type": "markdown",
   "metadata": {},
   "source": [
    " # PSO calibration"
   ]
  },
  {
   "cell_type": "code",
   "execution_count": null,
   "metadata": {},
   "outputs": [],
   "source": [
    "if exec_optimisation:\n",
    "    exec_write = True\n",
    "    exec_read = False\n",
    "else:\n",
    "    exec_write = False\n",
    "    exec_read = True\n",
    "np.random.seed(1234)\n",
    "warnings.filterwarnings(action = 'ignore', category= RuntimeWarning)\n",
    "warnings.filterwarnings(action = 'ignore', category= UserWarning)"
   ]
  },
  {
   "attachments": {},
   "cell_type": "markdown",
   "metadata": {},
   "source": [
    "On the lower bound of $q_{const}$:\n",
    "\n",
    "During early calibration noted that negative $q_{const}$ led to negative flows. \n",
    "To prevent this, a quite strict lower boundary of -0.3 m^3/s was set for both NM and PSO calibration.\n",
    "\n",
    "Experiment: set lower bound to 0 (analogous to previous parameterset of Cabus) to see if this improves high flow performance\n"
   ]
  },
  {
   "cell_type": "code",
   "execution_count": null,
   "metadata": {},
   "outputs": [],
   "source": [
    "zero_qconst = False #set tot true to exectue experiment\n",
    "if not zero_qconst:\n",
    "    lower_bound = np.array([160,0,0.1,1,0.9,0.1,0,700,0,1,0,-0.3]) #same bounds as NM\n",
    "else:\n",
    "    lower_bound = np.array([160,0,0.1,1,0.9,0.1,0,700,0,1,0,-0])\n",
    "upper_bound = np.array([5000,300,2,3,40,15,5000,25000,150,1.000000000000001,20,0.03])\n",
    "bounds = (lower_bound, upper_bound)\n",
    "print(bounds)"
   ]
  },
  {
   "cell_type": "code",
   "execution_count": null,
   "metadata": {},
   "outputs": [],
   "source": [
    "max_iters = 50#100\n",
    "n_particles = 150#70\n",
    "n_param = max(parameters_initial.shape)\n",
    "deltat = np.single(1)\n",
    "deltat_out = np.single(24)\n",
    "goal_function_NSE = lambda param: -PDM_calibration_wrapper_PSO(\n",
    "    param, parameters_initial.columns, 'NSE',p_zwalm_p1['P_thiessen'].values,\n",
    "    ep_zwalm_p1['EP_thiessen'].values, area_zwalm_new, deltat,\n",
    "    deltat_out, p1_period.values, p1_period_excl_warmup.values, Q_day['Value'],\n",
    "    dask_bool = True\n",
    ")"
   ]
  },
  {
   "attachments": {},
   "cell_type": "markdown",
   "metadata": {},
   "source": [
    "Code below copied from the pyswarms documentation (https://pyswarms.readthedocs.io/en/latest/examples/tutorials/options_handler.html#Customizing-ending-options )"
   ]
  },
  {
   "cell_type": "code",
   "execution_count": null,
   "metadata": {},
   "outputs": [],
   "source": [
    "from pyswarms.backend.operators import compute_pbest, compute_objective_function\n",
    "def optimize(objective_func, maxiters, oh_strategy,start_opts, end_opts):\n",
    "    opt = ps.single.GlobalBestPSO(n_particles=n_particles, dimensions=n_param,\n",
    "                                   options=start_opts, oh_strategy=oh_strategy, bounds =bounds)\n",
    "\n",
    "    swarm = opt.swarm\n",
    "    opt.bh.memory = swarm.position\n",
    "    opt.vh.memory = swarm.position\n",
    "    swarm.pbest_cost = np.full(opt.swarm_size[0], np.\n",
    "    inf)\n",
    "\n",
    "    for i in range(maxiters):\n",
    "        # Compute cost for current position and personal best\n",
    "        swarm.current_cost =  compute_objective_function(swarm, objective_func)\n",
    "        swarm.pbest_pos, swarm.pbest_cost = compute_pbest(swarm)\n",
    "\n",
    "        # Set best_cost_yet_found for ftol\n",
    "        best_cost_yet_found = swarm.best_cost\n",
    "        swarm.best_pos, swarm.best_cost = opt.top.compute_gbest(swarm)\n",
    "        # Perform options update\n",
    "        swarm.options = opt.oh( opt.options, iternow=i, itermax=maxiters, end_opts=end_opts )\n",
    "        print(\"Iteration:\", i,\" Options: \", swarm.options)    # print to see variation\n",
    "        print(\"Best cost: \", best_cost_yet_found)\n",
    "        # Perform velocity and position updates\n",
    "        swarm.velocity = opt.top.compute_velocity(\n",
    "            swarm, opt.velocity_clamp, opt.vh, opt.bounds\n",
    "        )\n",
    "        swarm.position = opt.top.compute_position(\n",
    "            swarm, opt.bounds, opt.bh\n",
    "        )\n",
    "    # Obtain the final best_cost and the final best_position\n",
    "    final_best_cost = swarm.best_cost.copy()\n",
    "    final_best_pos = swarm.pbest_pos[\n",
    "        swarm.pbest_cost.argmin()\n",
    "    ].copy()\n",
    "    return final_best_cost, final_best_pos"
   ]
  },
  {
   "cell_type": "code",
   "execution_count": null,
   "metadata": {},
   "outputs": [],
   "source": [
    "if exec_optimisation:\n",
    "    #from the hydrology paper cf. Obsidian\n",
    "    start_opts = {'c1':2, 'c2':1.3, 'w':0.9}\n",
    "    end_opts= {'c1':1.3, 'c2':2, 'w':0.4}    \n",
    "    #oh_strategy={ \"w\":'exp_decay', \"c1\":'lin_variation',\"c2\":'lin_variation'}\n",
    "    oh_strategy={ \"w\":'lin_variation', \"c1\":'lin_variation',\"c2\":'lin_variation'} #01/05/2023 experiment\n",
    "    cos, pos=optimize(goal_function_NSE, max_iters, oh_strategy, start_opts, end_opts)"
   ]
  },
  {
   "cell_type": "code",
   "execution_count": null,
   "metadata": {},
   "outputs": [],
   "source": [
    "if exec_write:\n",
    "    PSO_opt_param = pd.DataFrame(pos.reshape(1,-1))\n",
    "    PSO_opt_param.columns = parameters_initial.columns\n",
    "    if not zero_qconst:\n",
    "        # PSO_opt_param.to_csv('data/Zwalm_PDM_parameters/PSO_adap_main_notebook.csv', index = False)\n",
    "        PSO_opt_param.to_csv('data/Zwalm_PDM_parameters/PSO_adap_main_notebook_w_lin_ns_150_iter_50.csv', index = False)\n",
    "    else:\n",
    "        PSO_opt_param.to_csv('data/Zwalm_PDM_parameters/PSO_adap_main_notebook_zero_q_const.csv', index = False)\n",
    "if exec_read:\n",
    "    #PSO_opt_param = pd.read_csv('data/Zwalm_PDM_parameters/p1_opt_param_mNSE_PSO_70_particles_qconst_strict.csv')\n",
    "    #PSO_opt_param = pd.read_csv('data/Zwalm_PDM_parameters/p1_opt_param_NSE_PSO_70_particles_qconst_strict_adap_param_2.csv')\n",
    "    if not zero_qconst:\n",
    "        # PSO_opt_param = pd.read_csv(\"data/Zwalm_PDM_parameters/PSO_adap_main_notebook.csv\")\n",
    "        PSO_opt_param = pd.read_csv(\"data/Zwalm_PDM_parameters/PSO_adap_main_notebook_w_lin_ns_150_iter_50.csv\")\n",
    "    else:\n",
    "        PSO_opt_param = pd.read_csv(\"data/Zwalm_PDM_parameters/PSO_adap_main_notebook_zero_q_const.csv\")\n",
    "PSO_opt_param"
   ]
  },
  {
   "attachments": {},
   "cell_type": "markdown",
   "metadata": {},
   "source": [
    "Check performance of PSO calibrated model"
   ]
  },
  {
   "cell_type": "code",
   "execution_count": null,
   "metadata": {},
   "outputs": [],
   "source": [
    "display(PSO_opt_param)\n",
    "pd_zwalm_out_PSO_opt = PDM(P = p_zwalm['P_thiessen'].values, \n",
    "    EP = ep_zwalm['EP_thiessen'].values,\n",
    "    t = p_zwalm['Timestamp'].values,\n",
    "    area = area_zwalm_initial, deltat = deltat, deltatout = deltat_out ,\n",
    "    parameters = PSO_opt_param)\n",
    "pd_zwalm_out_PSO_opt = pd_zwalm_out_PSO_opt.set_index(['Time'])\n",
    "pd_zwalm_out_p2 = pd_zwalm_out_PSO_opt[start_p2:end_p2] #no warmup!\n",
    "pd_zwalm_out_p1 = pd_zwalm_out_PSO_opt[start_endofwarmup_p1:end_p1]\n",
    "kwargs_p1 = {'Qmod':pd_zwalm_out_p1['qmodm3s'].values, 'Qobs':Q_day.loc[start_endofwarmup_p1:end_p1,'Value'].values}\n",
    "kwargs_p2 = {'Qmod':pd_zwalm_out_p2['qmodm3s'].values, 'Qobs':Q_day.loc[start_p2:end_p2,'Value'].values}\n",
    "kwargs_full = {'Qmod':pd_zwalm_out_PSO_opt.loc[start_endofwarmup_p1:end_p2,'qmodm3s'].values, 'Qobs':Q_day.loc[start_endofwarmup_p1:end_p2,'Value'].values}  \n",
    "\n",
    "nse_cal_PSO = NSE(**kwargs_p1)\n",
    "nse_val_PSO = NSE(**kwargs_p2)\n",
    "nse_full_PSO = NSE(**kwargs_full)\n",
    "\n",
    "mnse_cal_PSO = mNSE(**kwargs_p1)\n",
    "mnse_val_PSO = mNSE(**kwargs_p2)\n",
    "mnse_full_PSO = mNSE(**kwargs_full)\n",
    "\n",
    "fhv_cal_PSO = FHV(**kwargs_p1)\n",
    "fhv_val_PSO = FHV(**kwargs_p2)\n",
    "fhv_full_PSO = FHV(**kwargs_full)\n",
    "\n",
    "nse_cal_NM = pd_perf_recalc.loc[index_best_param_set,'NSE_cal']\n",
    "nse_val_NM = pd_perf_recalc.loc[index_best_param_set,'NSE_val']\n",
    "nse_full_NM = pd_perf_recalc.loc[index_best_param_set,'NSE_full']\n",
    "print(f'PSO NSE on calibration data: {nse_cal_PSO} vs. {nse_cal_NM} for NM')\n",
    "print(f'PSO NSE on validation data: {nse_val_PSO} vs. {nse_val_NM} for NM')\n",
    "print(f'PSO NSE on full data: {nse_full_PSO} vs. {nse_full_NM} for NM \\n')\n",
    "\n",
    "print(f'PSO mNSE on calibration data: {mnse_cal_PSO}')\n",
    "print(f'PSO mNSE on validation data: {mnse_val_PSO}')\n",
    "print(f'PSO mNSE on full data: {mnse_full_PSO}\\n')\n",
    "\n",
    "print(f'PSO FHV on calibration data: {fhv_cal_PSO}')\n",
    "print(f'PSO FHV on validation data: {fhv_val_PSO}')\n",
    "print(f'PSO FHV on full data: {fhv_full_PSO}')"
   ]
  },
  {
   "attachments": {},
   "cell_type": "markdown",
   "metadata": {},
   "source": [
    "- For -0.3 as lower bound: 0.7145301364385379, 0.6784564404022595 and 0.7001747672437036 as NSE for calibration, validation and testing respectively\n",
    "- For 0 as lower bound: 0.683425753488703, 0.734903955230961 and ... as NSE for calibration, validation and testing respectively\n",
    "\n",
    "So -0.3 as lower bound gives better performance and will be used for NM comparison"
   ]
  },
  {
   "attachments": {},
   "cell_type": "markdown",
   "metadata": {},
   "source": [
    "Note: the `/p1_opt_param_mNSE_PSO_70_particles_qconst_strict.csv` was trained with non adaptive default parameters `{'c1': 0.5, 'c2': 0.3, 'w': 0.9}` on mNSE (not optimised in this notebook, cf temp folder). Has significantly lower NSE, but is a slightly better predictor of high flows. Will not be further considered"
   ]
  },
  {
   "attachments": {},
   "cell_type": "markdown",
   "metadata": {},
   "source": [
    "# Compare with the PSO calibrated result"
   ]
  },
  {
   "attachments": {},
   "cell_type": "markdown",
   "metadata": {},
   "source": [
    "Cf. performances above: generally a worse performer!"
   ]
  },
  {
   "cell_type": "code",
   "execution_count": null,
   "metadata": {},
   "outputs": [],
   "source": [
    "#PSO_opt_param = pd.read_csv('data/Zwalm_PDM_parameters/p1_opt_param_NSE_PSO_70_particles_qconst_strict_adap_param_2.csv')\n",
    "#pd.read_csv('data/Zwalm_PDM_parameters/p1_opt_param_mNSE_PSO_70_particles_qconst_strict.csv')\n",
    "pd_zwalm_out_PSO_opt = PDM(P = p_zwalm['P_thiessen'].values, \n",
    "    EP = ep_zwalm['EP_thiessen'].values,\n",
    "    t = p_zwalm['Timestamp'].values,\n",
    "    area = area_zwalm_initial, deltat = deltat, deltatout = deltat_out ,\n",
    "    parameters = PSO_opt_param)\n",
    "pd_zwalm_out_PSO_opt = pd_zwalm_out_PSO_opt.set_index(['Time'])"
   ]
  },
  {
   "cell_type": "code",
   "execution_count": null,
   "metadata": {},
   "outputs": [],
   "source": [
    "Q_day['Value'].hvplot(alpha = 0.7, label = 'observed', line_width = 1.5) * pd_zwalm_out_opt['qmodm3s'].hvplot(\n",
    "    frame_width = 900, frame_height = 400, alpha = 0.7,label = 'Modelled: NM optimised', line_dash = 'dashed', line_width = 1.5) * pd_zwalm_out_PSO_opt['qmodm3s'].hvplot(\n",
    "    alpha = 0.7,label = 'Modelled: PSO optimised', line_dash = 'dotted', line_width = 1.5, color ='green')"
   ]
  },
  {
   "attachments": {},
   "cell_type": "markdown",
   "metadata": {},
   "source": [
    "Comparing the 2 calibrated flows for a plot in the thesis"
   ]
  },
  {
   "cell_type": "code",
   "execution_count": null,
   "metadata": {},
   "outputs": [],
   "source": [
    "plt.rcParams.update(plt.rcParamsDefault)\n",
    "fig, ax = plt.subplots(figsize = (9,5), constrained_layout = True)\n",
    "Q_day['Value'].plot(alpha = 0.7, label = '$Q_o$',ax = ax)\n",
    "pd_zwalm_out_opt['qmodm3s'].plot(alpha = 0.7, label = '$Q_{m,NM}$',linestyle = '--', ax = ax, color = '#2ca02c')\n",
    "pd_zwalm_out_PSO_opt['qmodm3s'].plot(alpha = 0.7, label = '$Q_{m,PSO}$',linestyle = ':', ax = ax, color = '#d62728')\n",
    "ax.set_ylabel('$Q$ [m$^3$/s]')\n",
    "ax.set_xlabel('Time')\n",
    "ax.legend(loc = 'upper right')\n",
    "fig.savefig('Figures/Figures_chapter_PDM/hydrograph_NM_PSO.pdf', format = 'pdf')\n",
    "fig"
   ]
  },
  {
   "attachments": {},
   "cell_type": "markdown",
   "metadata": {},
   "source": [
    "FDC plot for all 4 flows!"
   ]
  },
  {
   "attachments": {},
   "cell_type": "markdown",
   "metadata": {},
   "source": [
    "https://matplotlib.org/stable/users/prev_whats_new/dflt_style_changes.html#colors-color-cycles-and-colormaps"
   ]
  },
  {
   "cell_type": "code",
   "execution_count": null,
   "metadata": {},
   "outputs": [],
   "source": [
    "fig, ax = plt.subplots(1,2,figsize = (9,5),constrained_layout = True)\n",
    "plot_FDC(Q_day['Value'].values, fig, ax[0], label = '$Q_{o}$',cutoff_bool=False)\n",
    "plot_FDC(pd_zwalm_out_initial['qmodm3s'].values, fig = fig, ax = ax[0], label = '$Q_{m,init}$',cutoff_bool=False, linestyle = '-.')\n",
    "plot_FDC(pd_zwalm_out_opt['qmodm3s'].values, fig = fig, ax = ax[0], label = '$Q_{m,NM}$',cutoff_bool = False, linestyle = '--')\n",
    "plot_FDC(pd_zwalm_out_PSO_opt['qmodm3s'].values, fig = fig, ax = ax[0], label = '$Q_{m,PSO}$',linestyle = ':')\n",
    "#ax[0].set_ylim(1e-2,10**(1.5))\n",
    "ax[0].set_ylim(1e-2)\n",
    "ax[0].set_title('(a)')\n",
    "\n",
    "#Extended QQ-plot\n",
    "marker_size = 4\n",
    "# mod_opt_PSO_quan = np.quantile(pd_zwalm_out_PSO_opt['qmodm3s'],quantiles)\n",
    "mod_opt_PSO_quan = np.sort(pd_zwalm_out_PSO_opt['qmodm3s'][~nan_bool])\n",
    "#fig, ax = plt.subplots(constrained_layout = True)\n",
    "ax[1].plot(obs_quan, mod_init_quan, marker = 'o', label ='$Q_{m,init}$', c= '#ff7f0e',markersize = marker_size)\n",
    "ax[1].plot(obs_quan, mod_opt_quan,marker = 'o',label = '$Q_{m,NM}$', c='#2ca02c',markersize = marker_size)\n",
    "ax[1].plot(obs_quan, mod_opt_PSO_quan, marker = 'o', label = '$Q_{m,PSO}$',c='#d62728',markersize = marker_size)\n",
    "ax[1].plot(obs_quan, obs_quan, label = '1:1')\n",
    "#add the 98th quantile line for reference!\n",
    "Q_percnetile2_obs = np.quantile(Q_day['Value'].dropna(),0.98, method = 'inverted_cdf')\n",
    "ax[1].vlines(Q_percnetile2_obs,ax[1].get_ylim()[0],ax[1].get_ylim()[1],color = 'k', label = '$p_{obs} = 0.02$')\n",
    "ax[1].legend()\n",
    "ax[1].set_xlabel(r'$Q_{o}$ [m$^3$/s]')\n",
    "ax[1].set_ylabel(r'$Q_{m}$ [m$^3$/s]')\n",
    "ax[1].set_title('(b)')\n",
    "fig.savefig('Figures/Figures_chapter_PDM/QQ_FDC.pdf')\n",
    "fig"
   ]
  },
  {
   "cell_type": "code",
   "execution_count": null,
   "metadata": {},
   "outputs": [],
   "source": [
    "Q_2_PSO = np.quantile(pd_zwalm_out_PSO_opt['qmodm3s'],0.98)\n",
    "print(f'PSO Q_{0.02}: {Q_2_PSO} m^3/s')\n",
    "Q_2_NM = np.quantile(pd_zwalm_out_opt['qmodm3s'],0.98)\n",
    "print(f'NM Q_{0.02}: {Q_2_NM} m^3/s')\n",
    "Q_2_init = np.quantile(pd_zwalm_out_initial['qmodm3s'],0.98)\n",
    "print(f'init Q_{0.02}: {Q_2_init} m^3/s')\n",
    "Q_2_obs = np.quantile(Q_day['Value'].dropna(),0.98)\n",
    "print(f'init Q_{0.02}: {Q_2_obs} m^3/s')\n"
   ]
  },
  {
   "cell_type": "code",
   "execution_count": null,
   "metadata": {},
   "outputs": [],
   "source": [
    "np.any(pd_zwalm_out_PSO_opt['qmodm3s'].values < 0)"
   ]
  },
  {
   "attachments": {},
   "cell_type": "markdown",
   "metadata": {},
   "source": [
    "~~PSO calibration is better at predicting the high flows!~~ This was only valid if calibrated with different parameters\n",
    "~~Note: current implementation if 70 particles on mNSE of calibration~~ "
   ]
  },
  {
   "cell_type": "code",
   "execution_count": null,
   "metadata": {},
   "outputs": [],
   "source": [
    "cstar_list = []\n",
    "for cstar_item in Cstar_nm_dict.items():\n",
    "    cstar_list.append(cstar_item[1].values)\n",
    "cstar_array = np.array(cstar_list)\n",
    "print(cstar_array.shape)\n",
    "# fig, ax = plt.subplots()\n",
    "# ax.imshow(cstar_array, aspect = 'auto')\n",
    "# fig\n",
    "mean_cstar_nm_opt = np.mean(cstar_array,axis = 0)\n",
    "cstar_nm_p2_5  = np.percentile(cstar_array, 2.5, method = 'inverted_cdf', axis = 0)\n",
    "cstar_nm_p97_5 = np.percentile(cstar_array, 97.5, method = 'inverted_cdf', axis = 0)\n",
    "#sd_cstar_nm_opt = np.std(cstar_array,axis = 0)\n",
    "print(mean_cstar_nm_opt.shape)"
   ]
  },
  {
   "cell_type": "code",
   "execution_count": null,
   "metadata": {},
   "outputs": [],
   "source": [
    "fig, ax = plt.subplots(figsize = (9,5), constrained_layout = True)\n",
    "pd_zwalm_out_initial['Cstar'].plot(ax=ax,label='$C^*_{init}$', c = 'tab:orange')\n",
    "pd_zwalm_out_opt['Cstar'].plot(ax=ax,label='$C^*_{NM,opt}$', c= 'tab:green')\n",
    "pd_zwalm_out_PSO_opt['Cstar'].plot(ax=ax, label='$C^*_{PSO,opt}$', c = 'tab:red')\n",
    "ax.plot(pd_zwalm_out_opt.index, mean_cstar_nm_opt, label = '$\\mu_{C^*_{NM}}$', c = 'tab:gray')\n",
    "ax.fill_between(pd_zwalm_out_opt.index, cstar_nm_p2_5, cstar_nm_p97_5, color = 'lightgrey', label = '$[C^*_{NM,2.5\\%},C^*_{NM,97.5\\%}]$')\n",
    "ax.legend(bbox_to_anchor=(1.04, 1), loc=\"upper left\")\n",
    "ax.set_ylabel('$C^*$ [mm]')\n",
    "fig.savefig('Figures/Figures_chapter_PDM/Cstar_comparison.pdf',format = 'pdf')\n",
    "fig"
   ]
  },
  {
   "attachments": {},
   "cell_type": "markdown",
   "metadata": {},
   "source": [
    "Experiment: plot the trends after normalisation!"
   ]
  },
  {
   "cell_type": "code",
   "execution_count": null,
   "metadata": {},
   "outputs": [],
   "source": [
    "scaler = StandardScaler()\n",
    "cstar_init_norm = scaler.fit_transform(pd_zwalm_out_initial['Cstar'].values.reshape(-1,1))\n",
    "scaler = StandardScaler()\n",
    "cstar_nm_norm = scaler.fit_transform(pd_zwalm_out_opt['Cstar'].values.reshape(-1,1))\n",
    "scaler = StandardScaler()\n",
    "cstar_pso_norm = scaler.fit_transform(pd_zwalm_out_PSO_opt['Cstar'].values.reshape(-1,1))\n",
    "scaler = StandardScaler()\n",
    "cstar_nm_mean_norm = scaler.fit_transform(mean_cstar_nm_opt.reshape(-1,1))\n",
    "\n",
    "fig, ax = plt.subplots(figsize = (9,5), constrained_layout = True)\n",
    "ax.plot(pd_zwalm_out_opt.index, cstar_init_norm, c ='tab:orange',label='$C^*_{init}$')\n",
    "ax.plot(pd_zwalm_out_opt.index, cstar_nm_norm, c = 'tab:green', linestyle = '-.',label='$C^*_{NM,opt}$')\n",
    "ax.plot(pd_zwalm_out_opt.index, cstar_pso_norm, c = 'tab:red', linestyle = '--', label = '$C^*_{PSO,opt}$')\n",
    "ax.plot(pd_zwalm_out_opt.index, cstar_nm_mean_norm, c = 'tab:grey', linestyle = ':', label = '$\\mu_{C^*_{NM}}$')\n",
    "ax.legend(bbox_to_anchor=(1.04, 1), loc=\"upper left\")\n",
    "ax.set_ylabel('Z [-]')\n",
    "ax.set_xlabel('Time')\n",
    "fig.savefig('Figures/Figures_chapter_PDM/Cstar_Zscore.pdf', format = 'pdf')\n",
    "fig"
   ]
  },
  {
   "attachments": {},
   "cell_type": "markdown",
   "metadata": {},
   "source": [
    "Check if this is also valid for the top 20 performing parameterset with NM: all following $\\pm$ the same trend"
   ]
  },
  {
   "attachments": {},
   "cell_type": "markdown",
   "metadata": {},
   "source": [
    "# Save final parameter set"
   ]
  },
  {
   "attachments": {},
   "cell_type": "markdown",
   "metadata": {},
   "source": [
    "The set with the best performance (based on NSE and mNSE of the validation set) is used"
   ]
  },
  {
   "cell_type": "code",
   "execution_count": null,
   "metadata": {},
   "outputs": [],
   "source": [
    "best_param_set"
   ]
  },
  {
   "cell_type": "code",
   "execution_count": null,
   "metadata": {},
   "outputs": [],
   "source": [
    "best_param_NM = pd.DataFrame(best_param_set.values.reshape(1,-1), columns = pd_init_params.columns)\n",
    "best_param_NM.to_csv(\"data/Zwalm_PDM_parameters/NM_opt_param.csv\", index = False)"
   ]
  },
  {
   "cell_type": "code",
   "execution_count": null,
   "metadata": {},
   "outputs": [],
   "source": []
  }
 ],
 "metadata": {
  "kernelspec": {
   "display_name": "Python 3 (ipykernel)",
   "language": "python",
   "name": "python3"
  },
  "language_info": {
   "codemirror_mode": {
    "name": "ipython",
    "version": 3
   },
   "file_extension": ".py",
   "mimetype": "text/x-python",
   "name": "python",
   "nbconvert_exporter": "python",
   "pygments_lexer": "ipython3",
   "version": "3.10.10"
  }
 },
 "nbformat": 4,
 "nbformat_minor": 4
}
