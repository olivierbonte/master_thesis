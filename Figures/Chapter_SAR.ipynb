{
 "cells": [
  {
   "attachments": {},
   "cell_type": "markdown",
   "metadata": {},
   "source": [
    "# Figures for Chapter on SAR"
   ]
  },
  {
   "cell_type": "code",
   "execution_count": null,
   "metadata": {},
   "outputs": [],
   "source": [
    "import xarray as xr\n",
    "import numpy as np\n",
    "import pandas as pd\n",
    "import matplotlib.pyplot as plt\n",
    "from matplotlib import colors\n",
    "import os\n",
    "from pathlib import Path\n",
    "pad = Path(os.getcwd())\n",
    "if pad.name == \"Figures\":\n",
    "    pad_correct = pad.parent\n",
    "    os.chdir(pad_correct)\n",
    "from functions.plotting_functions import plot_discrete_raster\n",
    "write_fig = True"
   ]
  },
  {
   "attachments": {},
   "cell_type": "markdown",
   "metadata": {},
   "source": [
    "## Landuse and SAR 2D image"
   ]
  },
  {
   "cell_type": "code",
   "execution_count": null,
   "metadata": {},
   "outputs": [],
   "source": [
    "s1_xr = xr.open_dataset('data/s0_OpenEO/S0_zwalm_landuse.nc', decode_coords= 'all')\n",
    "s1_xr = s1_xr.chunk({'t':20})\n",
    "s1_xr['VV_db'] = 10 * np.log10(s1_xr['VV'])\n",
    "s1_xr"
   ]
  },
  {
   "cell_type": "code",
   "execution_count": null,
   "metadata": {},
   "outputs": [],
   "source": [
    "colormap = colors.ListedColormap(\n",
    "            [\n",
    "                \"#000000\",\n",
    "                \"#387b00\",\n",
    "                \"#64cf1b\",\n",
    "                 \"#a47158\",\n",
    "                \"#00bfff\",\n",
    "            ]\n",
    "        )\n",
    "labels = [\n",
    "    'Urban',\n",
    "    'Forest',\n",
    "    'Pasture',\n",
    "    'Agriculture',\n",
    "    'Water'\n",
    "]"
   ]
  },
  {
   "cell_type": "code",
   "execution_count": null,
   "metadata": {},
   "outputs": [],
   "source": [
    "fig, axes = plt.subplots(1,2, figsize = (11.5,5),constrained_layout = True)\n",
    "s1_xr['VV_db'].isel(t=0).plot(ax = axes[0],  cbar_kwargs = {'label':r'$\\sigma^0$ [dB]'}, rasterized = True)\n",
    "axes[0].set_aspect('equal','box')\n",
    "axes[0].set_title('(a)')\n",
    "axes[0].set_xlabel('x [m]')\n",
    "axes[0].set_ylabel('y [m]')\n",
    "# s1_xr['landuse'].plot(ax = axes[1])\n",
    "# axes[1].set_aspect('equal','box')\n",
    "fig, ax_1 = plot_discrete_raster(\n",
    "    fig, axes[1], s1_xr['landuse'].values, bounds = list(s1_xr.rio.bounds()), \n",
    "    labels = labels, cmap = colormap, rasterized = True\n",
    ")\n",
    "ax_1.set_aspect('equal','box')\n",
    "ax_1.set_xlabel('x [m]')\n",
    "ax_1.set_ylabel('y [m]')\n",
    "ax_1.set_title('(b)')\n",
    "figures_SAR_path = Path(\"Figures/Figures_chapter_SAR\")\n",
    "if not os.path.exists(figures_SAR_path):\n",
    "    os.makedirs(figures_SAR_path)\n",
    "if write_fig:\n",
    "    fig.savefig(figures_SAR_path/'sigma0_landuse_example.pdf',format = 'pdf')"
   ]
  },
  {
   "cell_type": "code",
   "execution_count": null,
   "metadata": {},
   "outputs": [],
   "source": [
    "s1_xr.isel(t=0)['t'].values"
   ]
  },
  {
   "cell_type": "code",
   "execution_count": null,
   "metadata": {},
   "outputs": [],
   "source": [
    "list(s1_xr.rio.bounds())"
   ]
  },
  {
   "attachments": {},
   "cell_type": "markdown",
   "metadata": {},
   "source": [
    "## Timeseries"
   ]
  },
  {
   "cell_type": "code",
   "execution_count": null,
   "metadata": {},
   "outputs": [],
   "source": [
    "s1_pd = pd.read_csv('data/s0_OpenEO/s1_timeseries.csv',index_col ='t', parse_dates=True)\n",
    "s1_pd.head()"
   ]
  },
  {
   "cell_type": "code",
   "execution_count": null,
   "metadata": {},
   "outputs": [],
   "source": [
    "s1_pd_ascending = s1_pd[s1_pd['Orbitdirection'] == 'ascending']\n",
    "s1_pd_descending = s1_pd[s1_pd['Orbitdirection'] == 'descending']\n",
    "cols = s1_pd.columns\n",
    "VV_cols = cols[0:5]\n",
    "names_legend = [name[2:] for name in VV_cols]\n",
    "print(names_legend)"
   ]
  },
  {
   "cell_type": "code",
   "execution_count": null,
   "metadata": {},
   "outputs": [],
   "source": [
    "fig, (ax1, ax2) = plt.subplots(2,1, figsize = (10.5,7),constrained_layout = True)\n",
    "\n",
    "#ascending\n",
    "s1_pd_ascending[VV_cols].plot.line(ax = ax1)\n",
    "ax1.set_title('Ascending')\n",
    "ax1.set_ylabel(r'$\\sigma^0_{VV}$ [dB]')\n",
    "ax1.legend(names_legend, loc = 'upper right')\n",
    "ax1.set_xlabel('Timestamp')\n",
    "\n",
    "#descending\n",
    "s1_pd_descending[VV_cols].plot.line(ax = ax2)\n",
    "ax2.set_ylabel(r'$\\sigma^0_{VV}$ [dB]')\n",
    "ax2.set_title('Descending')\n",
    "ax2.legend(names_legend, loc = 'upper right')\n",
    "ax2.set_xlabel('Timestamp')\n",
    "if write_fig:\n",
    "    fig.savefig(figures_SAR_path/'sigma0_timeseries.pdf',format = 'pdf')"
   ]
  },
  {
   "cell_type": "code",
   "execution_count": null,
   "metadata": {},
   "outputs": [],
   "source": []
  }
 ],
 "metadata": {
  "kernelspec": {
   "display_name": "thesis",
   "language": "python",
   "name": "python3"
  },
  "language_info": {
   "codemirror_mode": {
    "name": "ipython",
    "version": 3
   },
   "file_extension": ".py",
   "mimetype": "text/x-python",
   "name": "python",
   "nbconvert_exporter": "python",
   "pygments_lexer": "ipython3",
   "version": "3.10.9"
  },
  "orig_nbformat": 4,
  "vscode": {
   "interpreter": {
    "hash": "a6b8480143e45034b950661dc46ed3131c1d39c9fcb21ab7eff1dd297a31067d"
   }
  }
 },
 "nbformat": 4,
 "nbformat_minor": 2
}
