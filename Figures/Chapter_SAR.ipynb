{
 "cells": [
  {
   "attachments": {},
   "cell_type": "markdown",
   "metadata": {},
   "source": [
    "# Figures for Chapter on SAR"
   ]
  },
  {
   "cell_type": "code",
   "execution_count": null,
   "metadata": {},
   "outputs": [],
   "source": [
    "import xarray as xr\n",
    "import numpy as np\n",
    "import pandas as pd\n",
    "import matplotlib\n",
    "import matplotlib.pyplot as plt\n",
    "from matplotlib import colors\n",
    "import os\n",
    "from pathlib import Path\n",
    "pad = Path(os.getcwd())\n",
    "if pad.name == \"Figures\":\n",
    "    pad_correct = pad.parent\n",
    "    os.chdir(pad_correct)\n",
    "from functions.plotting_functions import plot_discrete_raster\n",
    "write_fig = True"
   ]
  },
  {
   "attachments": {},
   "cell_type": "markdown",
   "metadata": {},
   "source": [
    "## Landuse and SAR 2D image"
   ]
  },
  {
   "cell_type": "code",
   "execution_count": null,
   "metadata": {},
   "outputs": [],
   "source": [
    "s1_xr = xr.open_dataset('data/g0_OpenEO/g0_zwalm_landuse.nc', decode_coords= 'all') #change to gamma0\n",
    "s1_xr = s1_xr.chunk({'t':20})\n",
    "s1_xr['VV_db'] = 10 * np.log10(s1_xr['VV'])\n",
    "s1_xr"
   ]
  },
  {
   "cell_type": "code",
   "execution_count": null,
   "metadata": {},
   "outputs": [],
   "source": [
    "colormap = colors.ListedColormap(\n",
    "            [\n",
    "                \"#000000\",\n",
    "                \"#387b00\",\n",
    "                \"#64cf1b\",\n",
    "                 \"#a47158\",\n",
    "                \"#00bfff\",\n",
    "            ]\n",
    "        )\n",
    "labels = [\n",
    "    'Urban',\n",
    "    'Forest',\n",
    "    'Pasture',\n",
    "    'Agriculture',\n",
    "    'Water'\n",
    "]"
   ]
  },
  {
   "cell_type": "code",
   "execution_count": null,
   "metadata": {},
   "outputs": [],
   "source": [
    "fig, axes = plt.subplots(1,2, figsize = (11.5,5),constrained_layout = True)\n",
    "s1_xr['VV_db'].isel(t=0).plot(ax = axes[0],  cbar_kwargs = {'label':r'$\\gamma^0$ [dB]'}, rasterized = True)\n",
    "axes[0].set_aspect('equal','box')\n",
    "axes[0].set_title('(a)')\n",
    "axes[0].set_xlabel('x [m]')\n",
    "axes[0].set_ylabel('y [m]')\n",
    "# s1_xr['landuse'].plot(ax = axes[1])\n",
    "# axes[1].set_aspect('equal','box')\n",
    "fig, ax_1 = plot_discrete_raster(\n",
    "    fig, axes[1], s1_xr['landuse'].values, bounds = list(s1_xr.rio.bounds()), \n",
    "    labels = labels, cmap = colormap, rasterized = True\n",
    ")\n",
    "ax_1.set_aspect('equal','box')\n",
    "ax_1.set_xlabel('x [m]')\n",
    "ax_1.set_ylabel('y [m]')\n",
    "ax_1.set_title('(b)')\n",
    "figures_SAR_path = Path(\"Figures/Figures_chapter_SAR\")\n",
    "if not os.path.exists(figures_SAR_path):\n",
    "    os.makedirs(figures_SAR_path)\n",
    "if write_fig:\n",
    "    fig.savefig(figures_SAR_path/'gamma0_landuse_example.pdf',format = 'pdf')"
   ]
  },
  {
   "attachments": {},
   "cell_type": "markdown",
   "metadata": {},
   "source": [
    "Plot of gamma0 data seperately"
   ]
  },
  {
   "cell_type": "code",
   "execution_count": null,
   "metadata": {},
   "outputs": [],
   "source": [
    "font_size = 13\n",
    "plt.rcParams.update({'font.size': font_size})\n",
    "fig, ax = plt.subplots(constrained_layout = True)\n",
    "ax.set_aspect('equal','box')\n",
    "ax.set_xlabel('x [m]')\n",
    "ax.set_ylabel('y [m]')\n",
    "ax.tick_params(axis='x', labelrotation=25)\n",
    "s1_xr['VV_db'].isel(t=0).plot(ax = ax,  cbar_kwargs = {'label':r'$\\gamma^0$ [dB]'}, rasterized = True)\n",
    "ax.set_title('')\n",
    "pad = Path('Figures/presentation_12_04')\n",
    "if not os.path.exists(pad):\n",
    "    os.makedirs(pad)\n",
    "if write_fig:\n",
    "    fig.savefig(pad/'gamma0_example.svg', format = 'svg')\n",
    "plt.rcParams.update(matplotlib.rcParamsDefault)"
   ]
  },
  {
   "cell_type": "code",
   "execution_count": null,
   "metadata": {},
   "outputs": [],
   "source": [
    "print(fig.get_figheight()); print(fig.get_figwidth())"
   ]
  },
  {
   "attachments": {},
   "cell_type": "markdown",
   "metadata": {},
   "source": [
    "## Timeseries"
   ]
  },
  {
   "attachments": {},
   "cell_type": "markdown",
   "metadata": {},
   "source": [
    "Read in the data"
   ]
  },
  {
   "cell_type": "code",
   "execution_count": null,
   "metadata": {},
   "outputs": [],
   "source": [
    "s1_pd_g0 = pd.read_csv('data/g0_OpenEO/s1_g0_timeseries.csv',index_col ='t', parse_dates=True)\n",
    "s1_pd = pd.read_csv('data/s0_OpenEO/s1_timeseries.csv',index_col ='t', parse_dates=True)"
   ]
  },
  {
   "attachments": {},
   "cell_type": "markdown",
   "metadata": {},
   "source": [
    "Visualisations"
   ]
  },
  {
   "cell_type": "code",
   "execution_count": null,
   "metadata": {},
   "outputs": [],
   "source": [
    "s1_pd.head()"
   ]
  },
  {
   "cell_type": "code",
   "execution_count": null,
   "metadata": {},
   "outputs": [],
   "source": [
    "s1_pd_ascending = s1_pd[s1_pd['Orbitdirection'] == 'ascending']\n",
    "s1_pd_descending = s1_pd[s1_pd['Orbitdirection'] == 'descending']\n",
    "cols = s1_pd.columns\n",
    "VV_cols = cols[cols.str.startswith('VV')]\n",
    "VH_cols = cols[cols.str.startswith('VH')]\n",
    "names_legend = [name[2:] for name in VV_cols]\n",
    "print(names_legend)"
   ]
  },
  {
   "cell_type": "code",
   "execution_count": null,
   "metadata": {},
   "outputs": [],
   "source": [
    "fig, (ax1, ax2) = plt.subplots(2,1, figsize = (10.5,7),constrained_layout = True)\n",
    "\n",
    "#ascending\n",
    "s1_pd_ascending[VV_cols].plot.line(ax = ax1)\n",
    "ax1.set_title('Ascending')\n",
    "ax1.set_ylabel(r'$\\sigma^0_{VV}$ [dB]')\n",
    "ax1.legend(names_legend, loc = 'upper right')\n",
    "ax1.set_xlabel('Timestamp')\n",
    "\n",
    "#descending\n",
    "s1_pd_descending[VV_cols].plot.line(ax = ax2)\n",
    "ax2.set_ylabel(r'$\\sigma^0_{VV}$ [dB]')\n",
    "ax2.set_title('Descending')\n",
    "ax2.legend(names_legend, loc = 'upper right')\n",
    "ax2.set_xlabel('Timestamp')\n",
    "if write_fig:\n",
    "    fig.savefig(figures_SAR_path/'sigma0_timeseries.pdf',format = 'pdf')"
   ]
  },
  {
   "cell_type": "code",
   "execution_count": null,
   "metadata": {},
   "outputs": [],
   "source": [
    "fig"
   ]
  },
  {
   "attachments": {},
   "cell_type": "markdown",
   "metadata": {},
   "source": [
    "For presentation"
   ]
  },
  {
   "cell_type": "code",
   "execution_count": null,
   "metadata": {},
   "outputs": [],
   "source": [
    "s1_pd_g0_ascending = s1_pd_g0[s1_pd_g0['Orbitdirection'] == 'ascending']\n",
    "s1_pd_g0_descending = s1_pd_g0[s1_pd_g0['Orbitdirection'] == 'descending']\n",
    "#as en example: take VV and ascending! \n",
    "s1_pd_g0_ascending_VV = s1_pd_g0_ascending.iloc[:,s1_pd_g0_ascending.columns.str.startswith('VV')]\n",
    "s1_pd_g0_ascending_VV = s1_pd_g0_ascending_VV.iloc[:,~s1_pd_g0_ascending_VV.columns.str.endswith(('past_agr','avg'))]\n",
    "s1_pd_g0_ascending_VV.head()"
   ]
  },
  {
   "cell_type": "code",
   "execution_count": null,
   "metadata": {},
   "outputs": [],
   "source": [
    "font_size = 13\n",
    "plt.rcParams.update({'font.size': font_size})\n",
    "fig, ax = plt.subplots(figsize = (8,5),constrained_layout = True)\n",
    "s1_pd_g0_ascending_VV.plot(cmap = colormap, ax = ax)\n",
    "ax.legend(['Urbaan','Bos','Weiland','Landbouw','Water'])\n",
    "ax.set_xlabel('Tijd')\n",
    "ax.set_ylabel(r'Ascending $\\gamma^0_{VV}$ [dB]')\n",
    "display(fig)\n",
    "if write_fig:\n",
    "    fig.savefig(pad/'gamma0_VV_asc.svg', format = 'svg')\n",
    "plt.rcParams.update(matplotlib.rcParamsDefault)"
   ]
  },
  {
   "attachments": {},
   "cell_type": "markdown",
   "metadata": {},
   "source": [
    "For dissertation: combination of 4 figures: gamma0_VV_asc, gamma0_VV_desc, gamma_0_VV_asc and gamma_0_VV_desc"
   ]
  },
  {
   "cell_type": "code",
   "execution_count": null,
   "metadata": {},
   "outputs": [],
   "source": [
    "names_3_uses = ['Forest','Pasture','Agriculture']\n",
    "colors_3_uses = colors.ListedColormap([\"#387b00\",\"#64cf1b\",\"#a47158\"])\n",
    "VV_cols_3 = VV_cols[VV_cols.str.endswith(tuple(names_3_uses))]\n",
    "VH_cols_3 = VH_cols[VH_cols.str.endswith(tuple(names_3_uses))]\n",
    "fig, axes = plt.subplots(4,1,figsize = (10,10),constrained_layout = True)\n",
    "#VV plots\n",
    "s1_pd_g0_ascending[VV_cols_3].plot(ax= axes[0], cmap = colors_3_uses)\n",
    "axes[0].set_xlabel('')\n",
    "axes[0].set_ylabel(r'$\\gamma^0_{\\rm VV,asc}$ [dB]')\n",
    "axes[0].legend(names_3_uses, loc='lower left')\n",
    "s1_pd_g0_descending[VV_cols_3].plot(ax=axes[1], cmap = colors_3_uses)\n",
    "axes[1].set_xlabel('')\n",
    "axes[1].set_ylabel(r'$\\gamma^0_{\\rm VV,desc}$ [dB]')\n",
    "axes[1].legend(names_3_uses, loc='lower left')\n",
    "\n",
    "#VH plots\n",
    "s1_pd_g0_ascending[VH_cols_3].plot(ax= axes[2], cmap = colors_3_uses)\n",
    "axes[2].set_xlabel('')\n",
    "axes[2].set_ylabel(r'$\\gamma^0_{\\rm VH,asc}$ [dB]')\n",
    "axes[2].legend(names_3_uses, loc='lower left')\n",
    "s1_pd_g0_descending[VH_cols_3].plot(ax=axes[3], cmap = colors_3_uses)\n",
    "axes[3].set_xlabel('')\n",
    "axes[3].set_ylabel(r'$\\gamma^0_{\\rm VH,desc}$ [dB]')\n",
    "axes[3].legend(names_3_uses, loc='lower left')\n",
    "fig.supxlabel('Timestamp')\n",
    "if write_fig:\n",
    "    fig.savefig('Figures/Figures_chapter_SAR/g0_timeseries_vierluik.pdf', format = 'pdf')\n",
    "fig"
   ]
  },
  {
   "attachments": {},
   "cell_type": "markdown",
   "metadata": {},
   "source": [
    "Repeat the above figure for the $\\sigma^0$ data: used in Appendix"
   ]
  },
  {
   "cell_type": "code",
   "execution_count": null,
   "metadata": {},
   "outputs": [],
   "source": [
    "fig, axes = plt.subplots(4,1,figsize = (10,10),constrained_layout = True)\n",
    "#VV plots\n",
    "s1_pd_ascending[VV_cols_3].plot(ax= axes[0], cmap = colors_3_uses)\n",
    "axes[0].set_xlabel('')\n",
    "axes[0].set_ylabel(r'$\\sigma^0_{\\rm VV,asc}$ [dB]')\n",
    "axes[0].legend(names_3_uses, loc='lower left')\n",
    "s1_pd_descending[VV_cols_3].plot(ax=axes[1], cmap = colors_3_uses)\n",
    "axes[1].set_xlabel('')\n",
    "axes[1].set_ylabel(r'$\\sigma^0_{\\rm VV,desc}$ [dB]')\n",
    "axes[1].legend(names_3_uses, loc='lower left')\n",
    "\n",
    "#VH plots\n",
    "s1_pd_ascending[VH_cols_3].plot(ax= axes[2], cmap = colors_3_uses)\n",
    "axes[2].set_xlabel('')\n",
    "axes[2].set_ylabel(r'$\\sigma^0_{\\rm VH,asc}$ [dB]')\n",
    "axes[2].legend(names_3_uses, loc='lower left')\n",
    "s1_pd_descending[VH_cols_3].plot(ax=axes[3], cmap = colors_3_uses)\n",
    "axes[3].set_xlabel('')\n",
    "axes[3].set_ylabel(r'$\\sigma^0_{\\rm VH,desc}$ [dB]')\n",
    "axes[3].legend(names_3_uses, loc='lower left')\n",
    "fig.supxlabel('Timestamp')\n",
    "if write_fig:\n",
    "    fig.savefig('Figures/Figures_chapter_SAR/s0_timeseries_vierluik.pdf', format = 'pdf')\n",
    "fig"
   ]
  },
  {
   "attachments": {},
   "cell_type": "markdown",
   "metadata": {},
   "source": [
    "Make a Figure displaying the difference between the two "
   ]
  },
  {
   "cell_type": "code",
   "execution_count": null,
   "metadata": {},
   "outputs": [],
   "source": [
    "s1_diff_ascending_VV = s1_pd_g0_ascending[VV_cols_3] - s1_pd_ascending[VV_cols_3]\n",
    "s1_diff_descending_VV = s1_pd_g0_descending[VV_cols_3] - s1_pd_descending[VV_cols_3]\n",
    "s1_diff_ascending_VH = s1_pd_g0_ascending[VH_cols_3] - s1_pd_ascending[VH_cols_3]\n",
    "s1_diff_descending_VH = s1_pd_g0_descending[VH_cols_3] - s1_pd_descending[VH_cols_3]\n",
    "fig, axes = plt.subplots(4,1,figsize = (10,10),constrained_layout = True)\n",
    "#VV plots\n",
    "s1_diff_ascending_VV.plot(ax= axes[0], cmap = colors_3_uses)\n",
    "axes[0].set_xlabel('')\n",
    "axes[0].set_ylabel(r'$\\gamma^0_{\\rm VV,asc} - \\sigma^0_{\\rm VV,asc}$ [dB]')\n",
    "axes[0].legend(names_3_uses, loc='lower left')\n",
    "s1_diff_descending_VV.plot(ax=axes[1], cmap = colors_3_uses)\n",
    "axes[1].set_xlabel('')\n",
    "axes[1].set_ylabel(r'$\\gamma^0_{\\rm VV,desc} - \\sigma^0_{\\rm VV,desc}$ [dB]')\n",
    "axes[1].legend(names_3_uses, loc='lower left')\n",
    "\n",
    "#VH plots\n",
    "s1_diff_ascending_VH.plot(ax= axes[2], cmap = colors_3_uses)\n",
    "axes[2].set_xlabel('')\n",
    "axes[2].set_ylabel(r'$\\gamma^0_{\\rm VH,asc} - \\sigma^0_{\\rm VH,asc}$ [dB]')\n",
    "axes[2].legend(names_3_uses, loc='lower left')\n",
    "s1_diff_descending_VH.plot(ax=axes[3], cmap = colors_3_uses)\n",
    "axes[3].set_xlabel('')\n",
    "axes[3].set_ylabel(r'$\\gamma^0_{\\rm VH,desc} - \\sigma^0_{\\rm VH,desc}$ [dB]')\n",
    "axes[3].legend(names_3_uses, loc='lower left')\n",
    "fig.supxlabel('Timestamp')\n",
    "if write_fig:\n",
    "    fig.savefig('Figures/Figures_chapter_SAR/diff_vierluik.pdf', format = 'pdf')\n",
    "fig\n"
   ]
  },
  {
   "cell_type": "code",
   "execution_count": null,
   "metadata": {},
   "outputs": [],
   "source": [
    "# from sklearn.preprocessing import StandardScaler\n",
    "# scaler = StandardScaler()\n",
    "# s1_diff_ascending_VV = scaler.fit_transform(s1_pd_g0_ascending[VV_cols_3]) - scaler.fit_transform(s1_pd_ascending[VV_cols_3])\n",
    "# s1_diff_descending_VV = scaler.fit_transform(s1_pd_g0_descending[VV_cols_3]) - scaler.fit_transform(s1_pd_descending[VV_cols_3])\n",
    "# s1_diff_ascending_VH = scaler.fit_transform(s1_pd_g0_ascending[VH_cols_3]) - scaler.fit_transform(s1_pd_ascending[VH_cols_3])\n",
    "# s1_diff_descending_VH = scaler.fit_transform(s1_pd_g0_descending[VH_cols_3]) - scaler.fit_transform(s1_pd_descending[VH_cols_3])\n",
    "# fig, axes = plt.subplots(4,1,figsize = (10,10),constrained_layout = True)\n",
    "# #VV plots\n",
    "# s1_diff_ascending_VV.plot(ax= axes[0], cmap = colors_3_uses)\n",
    "# axes[0].set_xlabel('')\n",
    "# axes[0].set_ylabel(r'$\\sigma^0_{\\rm VV,asc}$ [dB]')\n",
    "# axes[0].legend(names_3_uses, loc='lower left')\n",
    "# s1_diff_descending_VV.plot(ax=axes[1], cmap = colors_3_uses)\n",
    "# axes[1].set_xlabel('')\n",
    "# axes[1].set_ylabel(r'$\\sigma^0_{\\rm VV,desc}$ [dB]')\n",
    "# axes[1].legend(names_3_uses, loc='lower left')\n",
    "\n",
    "# #VH plots\n",
    "# s1_diff_ascending_VH.plot(ax= axes[2], cmap = colors_3_uses)\n",
    "# axes[2].set_xlabel('')\n",
    "# axes[2].set_ylabel(r'$\\sigma^0_{\\rm VH,asc}$ [dB]')\n",
    "# axes[2].legend(names_3_uses, loc='lower left')\n",
    "# s1_diff_descending_VH.plot(ax=axes[3], cmap = colors_3_uses)\n",
    "# axes[3].set_xlabel('')\n",
    "# axes[3].set_ylabel(r'$\\sigma^0_{\\rm VH,desc}$ [dB]')\n",
    "# axes[3].legend(names_3_uses, loc='lower left')\n",
    "# fig.supxlabel('Timestamp')"
   ]
  },
  {
   "cell_type": "code",
   "execution_count": null,
   "metadata": {},
   "outputs": [],
   "source": []
  }
 ],
 "metadata": {
  "kernelspec": {
   "display_name": "thesis",
   "language": "python",
   "name": "python3"
  },
  "language_info": {
   "codemirror_mode": {
    "name": "ipython",
    "version": 3
   },
   "file_extension": ".py",
   "mimetype": "text/x-python",
   "name": "python",
   "nbconvert_exporter": "python",
   "pygments_lexer": "ipython3",
   "version": "3.10.10"
  },
  "orig_nbformat": 4,
  "vscode": {
   "interpreter": {
    "hash": "a6b8480143e45034b950661dc46ed3131c1d39c9fcb21ab7eff1dd297a31067d"
   }
  }
 },
 "nbformat": 4,
 "nbformat_minor": 2
}
