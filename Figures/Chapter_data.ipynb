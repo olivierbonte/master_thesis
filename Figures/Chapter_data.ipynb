{
 "cells": [
  {
   "attachments": {},
   "cell_type": "markdown",
   "metadata": {},
   "source": [
    "# Figures for chapter data"
   ]
  },
  {
   "attachments": {},
   "cell_type": "markdown",
   "metadata": {},
   "source": [
    "## A DEM of the Zwalm catchment"
   ]
  },
  {
   "cell_type": "code",
   "execution_count": null,
   "metadata": {
    "tags": []
   },
   "outputs": [],
   "source": [
    "import openeo\n",
    "import geopandas as gpd\n",
    "import pandas as pd\n",
    "import shapely\n",
    "from pathlib import Path\n",
    "import numpy as np\n",
    "import pickle\n",
    "import xarray as xr\n",
    "import rioxarray\n",
    "from rasterio import enums\n",
    "import hvplot\n",
    "import hvplot.xarray\n",
    "import hvplot.pandas\n",
    "import hvplot.dask\n",
    "import os\n",
    "import matplotlib.pyplot as plt\n",
    "import cartopy.crs as ccrs\n",
    "import contextily as cx\n",
    "from matplotlib import colors\n",
    "from matplotlib.colors import LightSource\n",
    "connection = openeo.connect(\"openeo.vito.be\").authenticate_oidc()\n",
    "pad = Path(os.getcwd())\n",
    "if pad.name == \"Figures\":\n",
    "    pad_correct = pad.parent\n",
    "    os.chdir(pad_correct)\n",
    "from functions.plotting_functions import plot_discrete_raster, plot_continuous_raster\n",
    "exec_download = False\n",
    "write_fig = True\n",
    "\n",
    "%load_ext autoreload\n",
    "%autoreload 2"
   ]
  },
  {
   "cell_type": "code",
   "execution_count": null,
   "metadata": {
    "tags": []
   },
   "outputs": [],
   "source": [
    "#connection.list_collections()\n",
    "connection.describe_collection('COPERNICUS_30')"
   ]
  },
  {
   "attachments": {},
   "cell_type": "markdown",
   "metadata": {},
   "source": [
    "More info found here: https://portal.opentopography.org/datasetMetadata?otCollectionID=OT.032021.4326.1"
   ]
  },
  {
   "cell_type": "code",
   "execution_count": null,
   "metadata": {
    "tags": []
   },
   "outputs": [],
   "source": [
    "collection = 'COPERNICUS_30'\n",
    "shape_zwalm = gpd.read_file('data/Zwalm_shape/zwalm_shapefile_emma.shp')\n",
    "extent = shape_zwalm.total_bounds\n",
    "print(extent)"
   ]
  },
  {
   "cell_type": "code",
   "execution_count": null,
   "metadata": {
    "tags": []
   },
   "outputs": [],
   "source": [
    "spatial_extent = {'west':extent[0],'east':extent[2],'south':extent[1],'north':extent[3]}\n",
    "DEM = connection.load_collection(\n",
    "    collection_id= collection,\n",
    "    spatial_extent= spatial_extent\n",
    ")\n",
    "DEM = DEM.mask_polygon(shape_zwalm['geometry'].values[0])\n",
    "if not os.path.exists('data/Zwalm_DEM'):\n",
    "    os.makedirs('data/Zwalm_DEM')\n",
    "if exec_download:\n",
    "    DEM.download('data/Zwalm_DEM/DEM_Copernicus_30.nc',format = 'NetCDF')"
   ]
  },
  {
   "cell_type": "code",
   "execution_count": null,
   "metadata": {
    "tags": []
   },
   "outputs": [],
   "source": [
    "dem = xr.open_dataset('data/Zwalm_DEM/DEM_Copernicus_30.nc', decode_coords='all')\n",
    "dem['DEM'].plot(cmap = 'terrain')"
   ]
  },
  {
   "cell_type": "code",
   "execution_count": null,
   "metadata": {
    "tags": []
   },
   "outputs": [],
   "source": [
    "dem.rio.crs\n"
   ]
  },
  {
   "cell_type": "code",
   "execution_count": null,
   "metadata": {
    "tags": []
   },
   "outputs": [],
   "source": [
    "dem_31370 = dem.rio.reproject(dst_crs='EPSG:31370', resampling = enums.Resampling.bilinear)\n",
    "fig, ax = plt.subplots(constrained_layout = True)\n",
    "dem_31370['DEM'].plot(ax = ax, cmap = 'Spectral_r', cbar_kwargs = {'label':'Height [m]'})\n",
    "ax.set_title('')\n",
    "ax.set_aspect('equal','box')\n",
    "ax.set_xlabel('x [m]')\n",
    "ax.set_ylabel('y [m]')"
   ]
  },
  {
   "attachments": {},
   "cell_type": "markdown",
   "metadata": {},
   "source": [
    "### Include Zwalm river on DEM"
   ]
  },
  {
   "cell_type": "code",
   "execution_count": null,
   "metadata": {
    "tags": []
   },
   "outputs": [],
   "source": [
    "shape_zwalm_31370 = gpd.read_file('data/Zwalm_shape/zwalm_shapefile_emma_31370.shp')\n",
    "VHA = gpd.read_file('data/VHA_waterlopen_20210204_GewVLA_Shapefile/Shapefile/Vhag.shp')"
   ]
  },
  {
   "cell_type": "code",
   "execution_count": null,
   "metadata": {
    "tags": []
   },
   "outputs": [],
   "source": [
    "VHA_zwalm= VHA[VHA['NAAM'] == 'Zwalmbeek']\n",
    "VHA_zwalm"
   ]
  },
  {
   "cell_type": "code",
   "execution_count": null,
   "metadata": {
    "tags": []
   },
   "outputs": [],
   "source": [
    "VHA = VHA.set_crs(epsg=31370, allow_override=True)\n",
    "VHA.crs"
   ]
  },
  {
   "cell_type": "code",
   "execution_count": null,
   "metadata": {
    "tags": []
   },
   "outputs": [],
   "source": [
    "shape_zwalm_31370.crs"
   ]
  },
  {
   "cell_type": "code",
   "execution_count": null,
   "metadata": {
    "tags": []
   },
   "outputs": [],
   "source": [
    "VHA.plot()"
   ]
  },
  {
   "cell_type": "code",
   "execution_count": null,
   "metadata": {
    "tags": []
   },
   "outputs": [],
   "source": [
    "shape_zwalm_31370['geometry']"
   ]
  },
  {
   "cell_type": "code",
   "execution_count": null,
   "metadata": {
    "tags": []
   },
   "outputs": [],
   "source": [
    "extent_31370 = shape_zwalm_31370.total_bounds\n",
    "extent_31370"
   ]
  },
  {
   "cell_type": "code",
   "execution_count": null,
   "metadata": {
    "tags": []
   },
   "outputs": [],
   "source": [
    "VHA_zwalm_all = VHA[VHA['geometry'].within(shape_zwalm_31370['geometry'].values[0])]\n",
    "#important to supply a raw geometry"
   ]
  },
  {
   "cell_type": "code",
   "execution_count": null,
   "metadata": {
    "tags": []
   },
   "outputs": [],
   "source": [
    "VHA_zwalm = pd.concat([VHA_zwalm, VHA_zwalm_all])"
   ]
  },
  {
   "cell_type": "code",
   "execution_count": null,
   "metadata": {
    "tags": []
   },
   "outputs": [],
   "source": [
    "VHA_zwalm.plot()"
   ]
  },
  {
   "cell_type": "code",
   "execution_count": null,
   "metadata": {
    "tags": []
   },
   "outputs": [],
   "source": [
    "dem_31370['DEM'].values[0].shape"
   ]
  },
  {
   "cell_type": "code",
   "execution_count": null,
   "metadata": {
    "tags": []
   },
   "outputs": [],
   "source": [
    "ls = LightSource(azdeg=315, altdeg=45)\n",
    "plt.imshow(ls.hillshade(dem_31370['DEM'].values[0]))"
   ]
  },
  {
   "cell_type": "code",
   "execution_count": null,
   "metadata": {
    "tags": []
   },
   "outputs": [],
   "source": [
    "fig, ax = plt.subplots(constrained_layout = True)\n",
    "dem_31370['DEM'].plot(ax = ax, cmap = 'Spectral_r', cbar_kwargs = {'label':'Height [m]'}, rasterized = True)\n",
    "#ls = LightSource(azdeg=315, altdeg=45)\n",
    "#ax.imshow(ls.hillshade(dem_31370['DEM'].values[0]),cmap = 'Spectral_r')#, cbar_kwargs = {'label':'Height [m]'})\n",
    "VHA_zwalm.plot(ax = ax, color = 'orange')\n",
    "ax.set_title('')\n",
    "ax.set_aspect('equal','box')\n",
    "ax.set_xlabel('x [m]')\n",
    "ax.set_ylabel('y [m]')\n",
    "#cx.add_basemap(ax, crs = VHA_zwalm.crs, source = cx.providers.OpenStreetMap.Mapnik)\n",
    "if not os.path.exists('Figures/Figures_chapter_data'):\n",
    "    os.makedirs('Figures/Figures_chapter_data')\n",
    "if write_fig:\n",
    "    fig.savefig('Figures/Figures_chapter_data/DEM_zwalm.png', format = 'png')\n",
    "    fig.savefig('Figures/Figures_chapter_data/DEM_zwalm.pdf', format = 'pdf')"
   ]
  },
  {
   "cell_type": "code",
   "execution_count": null,
   "metadata": {},
   "outputs": [],
   "source": [
    "fig, ax = plt.subplots(constrained_layout = True)\n",
    "fig, ax = plot_continuous_raster(\n",
    "    fig, ax,dem_31370['DEM'].values[0],\n",
    "    bounds = extent_31370,\n",
    "    cmap = 'Spectral_r',\n",
    "    hillshade=True,\n",
    "    colorbar=True  \n",
    ")"
   ]
  },
  {
   "attachments": {},
   "cell_type": "markdown",
   "metadata": {},
   "source": [
    "## Forcing data\n",
    "\n",
    "### Rainfall"
   ]
  },
  {
   "cell_type": "code",
   "execution_count": null,
   "metadata": {
    "tags": []
   },
   "outputs": [],
   "source": [
    "# p_info = pd.read_pickle('data/Zwalm_data/pywaterinfo_output/P_info_dict.pickle')\n",
    "# display(p_info)\n",
    "# p_info['Elst']"
   ]
  },
  {
   "cell_type": "code",
   "execution_count": null,
   "metadata": {
    "tags": []
   },
   "outputs": [],
   "source": [
    "p_info = pd.read_pickle('data/Zwalm_data/preprocess_output/gdf_P_info.pkl')\n",
    "hvplot.extension('bokeh')\n",
    "p_info.hvplot(geo = True, crs = 31370, tiles = 'OSM')"
   ]
  },
  {
   "attachments": {},
   "cell_type": "markdown",
   "metadata": {},
   "source": [
    "https://scitools.org.uk/cartopy/docs/v0.15/examples/tube_stations.html"
   ]
  },
  {
   "cell_type": "code",
   "execution_count": null,
   "metadata": {
    "tags": []
   },
   "outputs": [],
   "source": [
    "# import cartopy.io.img_tiles as cimgt\n",
    "# request = cimgt.OSM()\n",
    "# #ax = plt.axes(projection = ccrs.epsg(31370))\n",
    "# ax = plt.axes(projection = request.crs)\n",
    "# #p_info.plot(ax = ax)\n",
    "# ax.add_image(request, 8)\n",
    "# plt.show()"
   ]
  },
  {
   "cell_type": "code",
   "execution_count": null,
   "metadata": {
    "tags": []
   },
   "outputs": [],
   "source": [
    "from cartopy.io.img_tiles import OSM\n",
    "imagery = OSM()\n",
    "fig = plt.figure(figsize = (14,6))\n",
    "ax = plt.axes(projection = imagery.crs)\n",
    "ax.add_image(imagery, 14)\n",
    "p_info.plot(ax = ax, transform = ccrs.epsg(31370))\n",
    "ax.set_title('Rainfall gauges')"
   ]
  },
  {
   "attachments": {},
   "cell_type": "markdown",
   "metadata": {},
   "source": [
    "https://geopandas.org/en/stable/gallery/plotting_basemap_background.html Zal stuk makkelijker zijn dan via cartopy zelf! \n",
    "\n",
    "https://contextily.readthedocs.io/en/latest/"
   ]
  },
  {
   "cell_type": "code",
   "execution_count": null,
   "metadata": {
    "tags": []
   },
   "outputs": [],
   "source": [
    "p_info"
   ]
  },
  {
   "cell_type": "code",
   "execution_count": null,
   "metadata": {
    "tags": []
   },
   "outputs": [],
   "source": [
    "fig, ax = plt.subplots(figsize = (5.7,5.5), constrained_layout = True)#figsize = (16,8))\n",
    "p_info.plot(ax = ax,column = 'name',categorical = True, legend = True)\n",
    "shape_zwalm_31370.plot(ax = ax, alpha = 0.5)\n",
    "cx.add_basemap(ax, crs = p_info.crs, source = cx.providers.OpenStreetMap.Mapnik)\n",
    "ax.set_xlabel('x [m]')\n",
    "ax.set_ylabel('y [m]')\n",
    "if write_fig:\n",
    "    fig.savefig('Figures/Figures_chapter_data/rain_gauges.pdf', format = 'pdf')\n",
    "#ax.set_title('Rain gauges')"
   ]
  },
  {
   "cell_type": "code",
   "execution_count": null,
   "metadata": {
    "tags": []
   },
   "outputs": [],
   "source": [
    "all_p_polygons = pickle.load(open('data/Zwalm_data/preprocess_output/all_p_polygon_combinations.pkl', \"rb\"))\n",
    "length = len(all_p_polygons)\n",
    "print(length)\n",
    "fig, ax = plt.subplots(figsize = (5.5,5.5), constrained_layout = True)\n",
    "all_p_polygons[length-1].plot(ax = ax, column = 'name', categorical = True)\n",
    "p_info[0:-1].plot(ax = ax,column = 'name',categorical = True, legend = True, edgecolor = 'k')\n",
    "cx.add_basemap(ax, crs = p_info.crs, source = cx.providers.OpenStreetMap.Mapnik)\n",
    "ax.set_aspect('equal','box')\n",
    "ax.set_xlabel('x [m]')\n",
    "ax.set_ylabel('y [m]')\n",
    "if write_fig:\n",
    "    fig.savefig('Figures/Figures_chapter_data/rain_thiessen_polygons.pdf', format = 'pdf')\n",
    "#ax.set_titel('Thiessen Polygons"
   ]
  },
  {
   "attachments": {},
   "cell_type": "markdown",
   "metadata": {},
   "source": [
    "Attempt at combining the 2 above plots in one"
   ]
  },
  {
   "cell_type": "code",
   "execution_count": null,
   "metadata": {},
   "outputs": [],
   "source": [
    "# fig, ax = plt.subplots(figsize = (5.5,5.5), constrained_layout = True)\n",
    "# all_p_polygons[length-1].plot(ax = ax, column = 'name', categorical = True)\n",
    "# p_info.plot(ax = ax,column = 'name',categorical = True, edgecolor = 'k', legend = True)\n",
    "# #p_info.iloc[-1:].plot(ax = ax,categorical = True, edgecolor = 'k', color = 'red')\n",
    "# cx.add_basemap(ax, crs = p_info.crs, source = cx.providers.OpenStreetMap.Mapnik)\n",
    "# #ax.legend([p_info['name'].to_list()[0:3],p_info['name'].to_list()[-1]])\n",
    "# ax.set_aspect('equal','box')\n",
    "# ax.set_xlabel('x [m]')\n",
    "# ax.set_ylabel('y [m]')"
   ]
  },
  {
   "attachments": {},
   "cell_type": "markdown",
   "metadata": {},
   "source": [
    "https://matplotlib.org/stable/tutorials/colors/colors.html"
   ]
  },
  {
   "cell_type": "code",
   "execution_count": null,
   "metadata": {},
   "outputs": [],
   "source": [
    "# fig, ax = plt.subplots(figsize = (5.5,5.5), constrained_layout = True)\n",
    "# polygons_sorted = all_p_polygons[length-1].sort_values('name')\n",
    "# p_info_sorted = p_info.sort_index()\n",
    "# # polygons_sorted.plot(ax = ax, categorical = True, column = 'name')\n",
    "# # p_info_sorted.plot(ax = ax, categorical = True, column = 'name')\n",
    "# polygons_sorted.plot(ax = ax, color = ['red','green','blue'])\n",
    "# p_info_sorted.plot(ax = ax, color = ['red','green','blue','purple'], edgecolor = 'k', legend = True)\n",
    "# ax.legend()\n",
    "# cx.add_basemap(ax, crs = p_info.crs, source = cx.providers.OpenStreetMap.Mapnik)\n",
    "# #ax.legend([p_info['name'].to_list()[0:3],p_info['name'].to_list()[-1]])\n",
    "# ax.set_aspect('equal','box')\n",
    "# ax.set_xlabel('x [m]')\n",
    "# ax.set_ylabel('y [m]')"
   ]
  },
  {
   "cell_type": "code",
   "execution_count": null,
   "metadata": {},
   "outputs": [],
   "source": [
    "cmap = plt.get_cmap('Set2')\n",
    "cmap"
   ]
  },
  {
   "cell_type": "code",
   "execution_count": null,
   "metadata": {},
   "outputs": [],
   "source": [
    "plt.style.use('default')\n",
    "polygons_sorted = all_p_polygons[length-1].sort_values('name')\n",
    "p_info_sorted = p_info.sort_index()\n",
    "fig, ax = plt.subplots(figsize = (6,5.5), constrained_layout = True)\n",
    "polygons_sorted.plot(ax = ax, color = [cmap.colors[0],cmap.colors[2],cmap.colors[-1]])#, color = cmap.colors[:3])#, color = ['#1f76b5','#d72628','#17bfce'])\n",
    "p_info_sorted.plot(ax = ax,column = 'name',categorical = True, edgecolor = 'k', legend = True, cmap = 'Set2', legend_kwds = {'loc':'upper left'})\n",
    "# p_info_sorted.plot(ax = ax, color = ['#1e76b4','#d72729','#e377c2','#16bece'], edgecolor = 'k',legend = True, column = 'name')\n",
    "#p_info.iloc[-1:].plot(ax = ax,categorical = True, edgecolor = 'k', color = 'red')\n",
    "cx.add_basemap(ax, crs = p_info.crs, source = cx.providers.OpenStreetMap.Mapnik)\n",
    "#ax.legend([p_info['name'].to_list()[0:3],p_info['name'].to_list()[-1]])\n",
    "ax.set_aspect('equal','box')\n",
    "ax.set_xlabel('x [m]')\n",
    "ax.set_ylabel('y [m]')\n",
    "fig\n",
    "if write_fig:\n",
    "    plt.savefig('Figures/Figures_chapter_data/rain_combined.pdf',format = 'pdf')"
   ]
  },
  {
   "attachments": {},
   "cell_type": "markdown",
   "metadata": {},
   "source": [
    "TO DO: sorteer op manier zodat Elst, Maarke-Kerkem en Zingem eerst met DAN ronse er na! enkel op die manier kan zelfde kleur worden gegarandeerd! "
   ]
  },
  {
   "cell_type": "code",
   "execution_count": null,
   "metadata": {},
   "outputs": [],
   "source": [
    "polygons_sorted"
   ]
  },
  {
   "cell_type": "code",
   "execution_count": null,
   "metadata": {},
   "outputs": [],
   "source": [
    "p_info_sorted"
   ]
  },
  {
   "cell_type": "code",
   "execution_count": null,
   "metadata": {
    "tags": []
   },
   "outputs": [],
   "source": [
    "# fig, ax = plt.subplots(figsize = (7,7))\n",
    "# all_p_polygons[length-4].plot(ax = ax, column = 'name', categorical = True)\n",
    "# p_info[0:-1].plot(ax = ax,column = 'name',categorical = True, legend = True, edgecolor = 'k')\n",
    "# cx.add_basemap(ax, crs = p_info.crs, source = cx.providers.OpenStreetMap.Mapnik)\n",
    "# ax.set_aspect('equal','box')\n",
    "# ax.set_xlabel('x [m]')\n",
    "# ax.set_ylabel('y [m]')"
   ]
  },
  {
   "attachments": {},
   "cell_type": "markdown",
   "metadata": {},
   "source": [
    "https://www.statology.org/swap-columns-pandas/"
   ]
  },
  {
   "cell_type": "code",
   "execution_count": null,
   "metadata": {
    "tags": []
   },
   "outputs": [],
   "source": [
    "def swap_columns(df, col1, col2):\n",
    "    col_list = list(df.columns)\n",
    "    x, y = col_list.index(col1), col_list.index(col2)\n",
    "    col_list[y], col_list[x] = col_list[x], col_list[y]\n",
    "    df = df[col_list]\n",
    "    return df\n",
    "p_thiessen = pd.read_pickle('data/Zwalm_data/preprocess_output/zwalm_p_thiessen.pkl')\n",
    "p_thiessen = p_thiessen.set_index('Timestamp')\n",
    "p_thiessen = p_thiessen.drop('#_nonan_stations', axis = 'columns')\n",
    "p_thiessen = swap_columns(p_thiessen,'Zingem','Ronse')\n",
    "fig, axes = plt.subplots(2,1, constrained_layout = True)\n",
    "p_thiessen.drop('P_thiessen', axis = 'columns').plot(\n",
    "    ax =axes[0], cmap = 'Set2',alpha = 0.8#color = ['#1e76b4','#d72729','#e377c2','#16bece']\n",
    ")\n",
    "axes[0].set_ylabel('P [mm/h]')\n",
    "axes[0].set_title('(a)')\n",
    "axes[0].set_xlabel('Time')\n",
    "p_thiessen['P_thiessen'].plot(ax = axes[1], color = cmap.colors[-2])\n",
    "axes[1].set_ylabel('P [mm/h]')\n",
    "axes[1].set_title('(b)')\n",
    "axes[1].set_xlabel('Time')\n",
    "if write_fig:\n",
    "    fig.savefig('Figures/Figures_chapter_data/rain_timeseries.pdf', format = 'pdf')"
   ]
  },
  {
   "attachments": {},
   "cell_type": "markdown",
   "metadata": {},
   "source": [
    "### Evapotranspiration"
   ]
  },
  {
   "cell_type": "code",
   "execution_count": null,
   "metadata": {
    "tags": []
   },
   "outputs": [],
   "source": [
    "ep_info = pd.read_pickle('data/Zwalm_data/preprocess_output/gdf_EP_info.pkl')\n",
    "fig, ax = plt.subplots(figsize = (5.5,5.5), constrained_layout = True)\n",
    "ep_info.plot(ax = ax,column = 'name',categorical = True, legend = True)\n",
    "shape_zwalm_31370.plot(ax = ax, alpha = 0.5)\n",
    "cx.add_basemap(ax, crs = p_info.crs, source = cx.providers.OpenStreetMap.Mapnik)\n",
    "ax.set_aspect('equal','box')\n",
    "ax.set_xlabel('x [m]')\n",
    "ax.set_ylabel('y [m]')\n",
    "if write_fig:\n",
    "    fig.savefig('Figures/Figures_chapter_data/meteorological_stations.pdf', format = 'pdf')"
   ]
  },
  {
   "cell_type": "code",
   "execution_count": null,
   "metadata": {
    "tags": []
   },
   "outputs": [],
   "source": [
    "all_ep_polygons = pickle.load(open('data/Zwalm_data/preprocess_output/all_ep_polygon_combinations.pkl', \"rb\"))\n",
    "length = len(all_ep_polygons)\n",
    "print(length)\n",
    "fig, ax = plt.subplots(figsize = (5.5,2.5), constrained_layout = True)\n",
    "display(all_ep_polygons[length-1])\n",
    "all_ep_polygons[length-1].plot(ax = ax, column = 'name', categorical = True)\n",
    "ep_info[0:-1].plot(ax = ax,column = 'name',categorical = True, legend = True, edgecolor = 'k')\n",
    "cx.add_basemap(ax, crs = ep_info.crs, source = cx.providers.OpenStreetMap.Mapnik)\n",
    "ax.set_aspect('equal','box')\n",
    "ax.set_xlabel('x [m]')\n",
    "ax.set_ylabel('y [m]')\n",
    "if write_fig:\n",
    "    fig.savefig('Figures/Figures_chapter_data/et_thiessen_polygons.pdf', format = 'pdf')"
   ]
  },
  {
   "attachments": {},
   "cell_type": "markdown",
   "metadata": {},
   "source": [
    "Again attempting to combine the 2 above plots!"
   ]
  },
  {
   "cell_type": "code",
   "execution_count": null,
   "metadata": {},
   "outputs": [],
   "source": [
    "cmap_2 = plt.get_cmap('Accent')\n",
    "cmap_2"
   ]
  },
  {
   "cell_type": "code",
   "execution_count": null,
   "metadata": {
    "tags": []
   },
   "outputs": [],
   "source": [
    "polygons_sorted = all_ep_polygons[length-1].sort_values('name')\n",
    "ep_info_sorted = ep_info.sort_index()\n",
    "fig, ax = plt.subplots(figsize = (5.5,5.5), constrained_layout = True)\n",
    "polygons_sorted.plot(ax = ax, color = [cmap_2.colors[-4],cmap_2.colors[-1]])#, color = ['#8c564b','#16bece'])\n",
    "ep_info_sorted.plot(ax = ax,column = 'name',categorical = True, edgecolor = 'k', legend = True, cmap = 'Accent')\n",
    "#p_info.iloc[-1:].plot(ax = ax,categorical = True, edgecolor = 'k', color = 'red')\n",
    "cx.add_basemap(ax, crs = p_info.crs, source = cx.providers.OpenStreetMap.Mapnik)\n",
    "#ax.legend([p_info['name'].to_list()[0:3],p_info['name'].to_list()[-1]])\n",
    "ax.set_aspect('equal','box')\n",
    "ax.set_xlabel('x [m]')\n",
    "ax.set_ylabel('y [m]')\n",
    "if write_fig:\n",
    "    plt.savefig('Figures/Figures_chapter_data/et_combined.pdf',format = 'pdf')"
   ]
  },
  {
   "cell_type": "code",
   "execution_count": null,
   "metadata": {},
   "outputs": [],
   "source": [
    "display(polygons_sorted)\n",
    "display(ep_info_sorted)"
   ]
  },
  {
   "cell_type": "code",
   "execution_count": null,
   "metadata": {
    "tags": []
   },
   "outputs": [],
   "source": [
    "# fig, ax = plt.subplots(figsize = (6.4,6.4), constrained_layout = True)\n",
    "# all_ep_polygons[length-2].plot(ax = ax, column = 'name', categorical = True)\n",
    "# ep_info.plot(ax = ax,column = 'name',categorical = True, legend = True, edgecolor = 'k')\n",
    "# cx.add_basemap(ax, crs = ep_info.crs, source = cx.providers.OpenStreetMap.Mapnik)\n",
    "# ax.set_aspect('equal','box')\n",
    "# ax.set_xlabel('x [m]')\n",
    "# ax.set_ylabel('y [m]')"
   ]
  },
  {
   "cell_type": "code",
   "execution_count": null,
   "metadata": {
    "tags": []
   },
   "outputs": [],
   "source": [
    "ep_thiessen = pd.read_pickle('data/Zwalm_data/preprocess_output/zwalm_ep_thiessen.pkl')\n",
    "ep_thiessen = ep_thiessen.set_index('Timestamp')\n",
    "ep_thiessen = ep_thiessen.drop('#_nonan_stations', axis = 'columns')\n",
    "fig, axes = plt.subplots(2,1, constrained_layout = True)\n",
    "ep_thiessen.drop(['EP_thiessen','EP_thiessen_ave_yearly'], axis = 'columns').plot(ax =axes[0], color = [cmap_2.colors[0],cmap_2.colors[-4],cmap_2.colors[-1]], alpha = 0.7)\n",
    "axes[0].set_ylabel('PE [mm/h]')\n",
    "axes[0].set_title('(a)')\n",
    "axes[0].set_xlabel('Time')\n",
    "ep_thiessen['EP_thiessen'].plot(ax = axes[1], c = cmap_2.colors[-2])\n",
    "axes[1].set_ylabel('PE [mm/h]')\n",
    "axes[1].set_title('(b)')\n",
    "axes[1].set_xlabel('Time')\n",
    "if write_fig:\n",
    "    fig.savefig('Figures/Figures_chapter_data/et_timeseries.pdf', format = 'pdf')"
   ]
  },
  {
   "cell_type": "code",
   "execution_count": null,
   "metadata": {
    "tags": []
   },
   "outputs": [],
   "source": [
    "ep_thiessen.head()"
   ]
  },
  {
   "attachments": {},
   "cell_type": "markdown",
   "metadata": {},
   "source": [
    "## Flow Data"
   ]
  },
  {
   "cell_type": "code",
   "execution_count": null,
   "metadata": {},
   "outputs": [],
   "source": [
    "Q_hour = pd.read_pickle('data/Zwalm_data/pywaterinfo_output/Q_hour.pkl')\n",
    "Q_day = pd.read_pickle('data/Zwalm_data/pywaterinfo_output/Q_day.pkl')\n",
    "Q_day = Q_day.set_index('Timestamp')\n",
    "display(Q_hour.head())\n",
    "display(Q_day.head())"
   ]
  },
  {
   "cell_type": "code",
   "execution_count": null,
   "metadata": {},
   "outputs": [],
   "source": [
    "fig, ax = plt.subplots(figsize = (9,5))\n",
    "Q_day['Value'].plot(ax = ax)\n",
    "ax.set_ylabel(r'Q [m$^3$/s]')\n",
    "ax.set_xlabel('Time')\n",
    "if write_fig:\n",
    "    plt.savefig('Figures/Figures_chapter_data/Q_daily.pdf',format = 'pdf')"
   ]
  },
  {
   "attachments": {},
   "cell_type": "markdown",
   "metadata": {},
   "source": [
    "## Landuse data"
   ]
  },
  {
   "cell_type": "code",
   "execution_count": null,
   "metadata": {
    "tags": []
   },
   "outputs": [],
   "source": [
    "landuse = rioxarray.open_rasterio('data/Zwalm_bodembedekking/wetransfer_landgebruik_2022-11-07_0921/'+\n",
    "    'Landuse_Vlaanderen_Wallonie_final.sdat')\n",
    "landuse = landuse.chunk('auto')#type:ignore\n",
    "landuse_nonan = landuse.where(landuse != 255)"
   ]
  },
  {
   "cell_type": "code",
   "execution_count": null,
   "metadata": {
    "tags": []
   },
   "outputs": [],
   "source": [
    "landuse_nonan"
   ]
  },
  {
   "cell_type": "code",
   "execution_count": null,
   "metadata": {
    "tags": []
   },
   "outputs": [],
   "source": [
    "#landuse_nonan.isel(band = 0).hvplot(rasterize = True)"
   ]
  },
  {
   "cell_type": "code",
   "execution_count": null,
   "metadata": {
    "tags": []
   },
   "outputs": [],
   "source": [
    "landuse_zwalm = landuse_nonan.rio.clip(shape_zwalm_31370['geometry'].values,shape_zwalm_31370.crs)"
   ]
  },
  {
   "cell_type": "code",
   "execution_count": null,
   "metadata": {
    "tags": []
   },
   "outputs": [],
   "source": [
    "landuse_zwalm = landuse_zwalm.isel(band = 0).where(landuse_zwalm.isel(band = 0) != 255)\n",
    "#landuse_zwalm"
   ]
  },
  {
   "cell_type": "code",
   "execution_count": null,
   "metadata": {
    "tags": []
   },
   "outputs": [],
   "source": [
    "np.sum(~np.isnan(landuse_zwalm.values))\n",
    "landuse_zwalm"
   ]
  },
  {
   "cell_type": "code",
   "execution_count": null,
   "metadata": {
    "tags": []
   },
   "outputs": [],
   "source": [
    "#Taken from Fluves\n",
    "colormap = colors.ListedColormap(\n",
    "            [\n",
    "                \"#000000\",\n",
    "                \"#387b00\",\n",
    "                \"#64cf1b\",\n",
    "                 \"#a47158\",\n",
    "                \"#00bfff\",\n",
    "            ]\n",
    "        )\n",
    "labels = [\n",
    "    'Urban',\n",
    "    'Forest',\n",
    "    'Pasture',\n",
    "    'Agriculture',\n",
    "    'Water'\n",
    "]"
   ]
  },
  {
   "cell_type": "code",
   "execution_count": null,
   "metadata": {
    "tags": []
   },
   "outputs": [],
   "source": [
    "font_size = 13\n",
    "plt.rcParams.update({'font.size': font_size})\n",
    "fig, ax = plt.subplots(constrained_layout = True)\n",
    "fig, ax = plot_discrete_raster(fig, ax, landuse_zwalm.values, bounds = extent_31370, labels = labels, cmap = colormap)\n",
    "ax.set_aspect('equal','box')\n",
    "ax.set_xlabel('x [m]')\n",
    "ax.set_ylabel('y [m]')\n",
    "if write_fig:\n",
    "    fig.savefig('Figures/Figures_chapter_data/Landuse_zwalm.svg', format = 'svg')\n",
    "    fig.savefig('Figures/Figures_chapter_data/Landuse_zwalm.pdf', format = 'pdf')"
   ]
  },
  {
   "attachments": {},
   "cell_type": "markdown",
   "metadata": {},
   "source": [
    "For egu poster: add the zwalm Rivers to the above plot"
   ]
  },
  {
   "cell_type": "code",
   "execution_count": null,
   "metadata": {},
   "outputs": [],
   "source": [
    "ax.tick_params(axis='x', labelrotation=25)\n",
    "VHA_zwalm.plot(ax = ax, color = \"#00bfff\", linewidth = 1.5)\n",
    "if write_fig:\n",
    "    fig.savefig('Figures/Figures_chapter_data/Landuse_zwalm_EGU.png', format = 'png',dpi = 500, transparent = True)\n",
    "fig"
   ]
  },
  {
   "cell_type": "code",
   "execution_count": null,
   "metadata": {
    "tags": []
   },
   "outputs": [],
   "source": [
    "fig.get_size_inches()"
   ]
  },
  {
   "attachments": {},
   "cell_type": "markdown",
   "metadata": {},
   "source": [
    "Adapt the above figure to use in slides"
   ]
  },
  {
   "cell_type": "code",
   "execution_count": null,
   "metadata": {},
   "outputs": [],
   "source": [
    "font_size = 13\n",
    "plt.rcParams.update({'font.size': font_size})\n",
    "#Taken from Fluves\n",
    "colormap = colors.ListedColormap(\n",
    "            [\n",
    "                \"#000000\",\n",
    "                \"#387b00\",\n",
    "                \"#64cf1b\",\n",
    "                 \"#a47158\",\n",
    "                \"#00bfff\",\n",
    "            ]\n",
    "        )\n",
    "labels = [\n",
    "    'Urbaan',\n",
    "    'Bos',\n",
    "    'Weiland',\n",
    "    'Landbouw',\n",
    "    'Water'\n",
    "]\n",
    "fig, ax = plt.subplots(constrained_layout = True)\n",
    "fig, ax = plot_discrete_raster(fig, ax, landuse_zwalm.values, bounds = extent_31370, labels = labels, cmap = colormap)\n",
    "ax.set_aspect('equal','box')\n",
    "ax.set_xlabel('x [m]')\n",
    "ax.set_ylabel('y [m]')\n",
    "ax.tick_params(axis='x', labelrotation=25)\n",
    "pad = Path('Figures/presentation_12_04')\n",
    "if not os.path.exists(pad):\n",
    "    os.makedirs(pad)\n",
    "if write_fig:\n",
    "    fig.savefig(pad/'landuse.svg', format = 'svg')\n",
    "fig"
   ]
  },
  {
   "attachments": {},
   "cell_type": "markdown",
   "metadata": {},
   "source": [
    "## LAI data"
   ]
  },
  {
   "cell_type": "code",
   "execution_count": null,
   "metadata": {},
   "outputs": [],
   "source": [
    "pd_LAI_tseries = pd.read_pickle('data/LAI/LAI_timeseries.pkl')\n",
    "pd_plotting = pd.read_pickle('data/LAI/LAI_plotting.pkl')"
   ]
  },
  {
   "cell_type": "code",
   "execution_count": null,
   "metadata": {
    "tags": []
   },
   "outputs": [],
   "source": [
    "fig, ax = plt.subplots(figsize = (9,6))\n",
    "name_list_LAI = pd_plotting.columns.to_list()\n",
    "print(name_list_LAI)\n",
    "pd_LAI_tseries[name_list_LAI[1:-1]].plot(ax = ax, marker = '.', linestyle = 'None', cmap = colors.ListedColormap([\"#387b00\",\"#64cf1b\",\"#a47158\"]))\n",
    "colors_used = [plt.gca().lines[i].get_color() for i in range(len(name_list_LAI)-2)]\n",
    "pd_plotting[name_list_LAI[1:-1]].plot(ax = ax, color = colors_used)\n",
    "og_names = ['Forest','Pasture','Agriculture']\n",
    "interpol_names = ['Forest: interpolated','Pasture: interpolated',\n",
    "'Agriculture: interpolated']\n",
    "ax.legend(og_names + interpol_names, ncol = 2, loc = 'best')\n",
    "ax.set_xlabel('Time')\n",
    "ax.set_ylabel('LAI [-]')\n",
    "if write_fig:\n",
    "    plt.savefig('Figures/Figures_chapter_data/LAI_timeseries.pdf', format ='pdf')\n",
    "fig"
   ]
  },
  {
   "attachments": {},
   "cell_type": "markdown",
   "metadata": {},
   "source": [
    "Repeat the above Figure for slides 12/04"
   ]
  },
  {
   "cell_type": "code",
   "execution_count": null,
   "metadata": {},
   "outputs": [],
   "source": [
    "name_list_LAI"
   ]
  },
  {
   "cell_type": "code",
   "execution_count": null,
   "metadata": {},
   "outputs": [],
   "source": [
    "font_size = 13\n",
    "plt.rcParams.update({'font.size': font_size})\n",
    "fig, ax = plt.subplots(constrained_layout = True)#figsize = (9,6))\n",
    "pd_LAI_tseries[name_list_LAI[1:-1]].plot(ax = ax, marker = '.', linestyle = 'None', cmap = colors.ListedColormap([\"#387b00\",\"#64cf1b\",\"#a47158\"]))\n",
    "colors_used = [plt.gca().lines[i].get_color() for i in range(len(name_list_LAI)-2)]\n",
    "pd_plotting[name_list_LAI[1:-1]].plot(ax = ax, color = colors_used)\n",
    "og_names = ['Bos','Weiland','Landouw']\n",
    "interpol_names = ['Bos: geïnterpoleerd','Weiland: geïnterpoleerd',\n",
    "'Landbouw: geïnterpoleerd']\n",
    "ax.legend(og_names + interpol_names, ncol = 2, loc = 'best')\n",
    "ax.set_xlabel('Tijd')\n",
    "ax.set_ylabel('LAI [-]')\n",
    "display(fig)\n",
    "pad = Path('Figures/presentation_12_04')\n",
    "if not os.path.exists(pad):\n",
    "    os.makedirs(pad)\n",
    "if write_fig:\n",
    "    fig.savefig(pad/'LAI_timeseries.svg', format = 'svg')"
   ]
  },
  {
   "cell_type": "code",
   "execution_count": null,
   "metadata": {},
   "outputs": [],
   "source": [
    "\n",
    "LAI_xr = xr.open_dataset('data/LAI/LAI_cube_Zwalm_landuse.nc')\n",
    "fig, ax = plt.subplots(constrained_layout = True)\n",
    "ax.set_aspect(1.5)\n",
    "LAI_xr['LAI_pv'].isel(t=0).plot(cmap = 'Greens', cbar_kwargs = {'label':'LAI [-]'})\n",
    "ax.set_xlabel('Longitude [°]')\n",
    "ax.set_ylabel('Latitude [°]')\n",
    "ax.tick_params(axis='x', labelrotation=25)\n",
    "ax.set_title('')\n",
    "if write_fig:\n",
    "    fig.savefig(pad/'LAI_example.svg', format = 'svg')\n",
    "import matplotlib\n",
    "plt.rcParams.update(matplotlib.rcParamsDefault)\n",
    "fig"
   ]
  },
  {
   "cell_type": "code",
   "execution_count": null,
   "metadata": {},
   "outputs": [],
   "source": [
    "LAI_xr"
   ]
  },
  {
   "cell_type": "code",
   "execution_count": null,
   "metadata": {},
   "outputs": [],
   "source": []
  }
 ],
 "metadata": {
  "kernelspec": {
   "display_name": "Python 3 (ipykernel)",
   "language": "python",
   "name": "python3"
  },
  "language_info": {
   "codemirror_mode": {
    "name": "ipython",
    "version": 3
   },
   "file_extension": ".py",
   "mimetype": "text/x-python",
   "name": "python",
   "nbconvert_exporter": "python",
   "pygments_lexer": "ipython3",
   "version": "3.10.10"
  },
  "toc-autonumbering": true,
  "vscode": {
   "interpreter": {
    "hash": "a6b8480143e45034b950661dc46ed3131c1d39c9fcb21ab7eff1dd297a31067d"
   }
  }
 },
 "nbformat": 4,
 "nbformat_minor": 4
}
