{
 "cells": [
  {
   "attachments": {},
   "cell_type": "markdown",
   "metadata": {},
   "source": [
    "# Data Assimilation with Newtonian Nudging "
   ]
  },
  {
   "cell_type": "code",
   "execution_count": null,
   "metadata": {},
   "outputs": [],
   "source": [
    "import os\n",
    "from pathlib import Path\n",
    "pad = Path(os.getcwd())\n",
    "if pad.name == 'data_assimilation':\n",
    "    pad_correct = pad.parent\n",
    "    os.chdir(pad_correct)\n",
    "from functions.PDM import PDM\n",
    "import pandas as pd\n",
    "import geopandas as gpd\n",
    "import numpy as np\n",
    "import matplotlib.pyplot as plt\n",
    "import hvplot \n",
    "import hvplot.pandas\n",
    "from numba import jit\n",
    "\n",
    "%load_ext autoreload \n",
    "%autoreload 2 "
   ]
  },
  {
   "cell_type": "code",
   "execution_count": null,
   "metadata": {},
   "outputs": [],
   "source": [
    "#Needed for PDM inputs\n",
    "preprocess_output_folder = Path('data/Zwalm_data/preprocess_output')\n",
    "p_zwalm = pd.read_pickle(preprocess_output_folder / 'zwalm_p_thiessen.pkl')\n",
    "ep_zwalm = pd.read_pickle(preprocess_output_folder / 'zwalm_ep_thiessen.pkl')\n",
    "param = pd.read_csv(\"data/Zwalm_PDM_parameters/NM_opt_param.csv\")\n",
    "zwalm_shape = gpd.read_file('data/Zwalm_shape/zwalm_shapefile_emma_31370.shp')\n",
    "area_zwalm_new = np.single(zwalm_shape.area[0] / 10**6)\n",
    "deltat = np.array(1, dtype=np.float32)  # hour\n",
    "deltat_out = np.array(24, dtype=np.float32)  # daily averaging\n",
    "deltat = np.array(1, dtype=np.float32)  # hour\n",
    "deltat_out = np.array(24, dtype=np.float32)  # daily averaging\n",
    "\n",
    "#observational C*\n",
    "ml_obs_op_pad = Path(\"data/ml_obs_op_data\")\n",
    "C_star_obs_lin_reg = pd.read_pickle(ml_obs_op_pad/'lin_reg/full_data/y_hat_retimed.pickle')\n",
    "\n",
    "#Observational flow for comparison\n",
    "Q_obs_daily = pd.read_pickle('data/Zwalm_data/pywaterinfo_output/Q_day.pkl')\n",
    "Q_obs_daily = Q_obs_daily.rename(columns = {'Timestamp':'t'})\n",
    "Q_obs_daily = Q_obs_daily.set_index('t')\n",
    "Q_obs_daily.head()"
   ]
  },
  {
   "cell_type": "code",
   "execution_count": null,
   "metadata": {},
   "outputs": [],
   "source": [
    "pd_zwalm_out_hour = PDM(P=p_zwalm['P_thiessen'].values,\n",
    "                       EP=ep_zwalm['EP_thiessen'].values,\n",
    "                       t=p_zwalm['Timestamp'].values,\n",
    "                       area=area_zwalm_new, deltat=deltat, deltatout=deltat_out,\n",
    "                       parameters=param, m=3, DA = True, Cstar_obs = C_star_obs_lin_reg.values.flatten(),t_obs = C_star_obs_lin_reg.index.values, gamma = 0.5, kappa = 1,  tau = np.timedelta64(12,'h'),)\n",
    "pd_zwalm_out_hour_DA = pd_zwalm_out_hour.set_index('Time')\n",
    "pd_zwalm_out_hour = PDM(P=p_zwalm['P_thiessen'].values,\n",
    "                       EP=ep_zwalm['EP_thiessen'].values,\n",
    "                       t=p_zwalm['Timestamp'].values,\n",
    "                       area=area_zwalm_new, deltat=deltat, deltatout=deltat_out,\n",
    "                       parameters=param, m=3, DA = False)\n",
    "pd_zwalm_out_hour = pd_zwalm_out_hour.set_index('Time')"
   ]
  },
  {
   "cell_type": "code",
   "execution_count": null,
   "metadata": {},
   "outputs": [],
   "source": [
    "fig, ax = plt.subplots()\n",
    "pd_zwalm_out_hour_DA['Cstar'].plot(ylabel='[mm]', ax = ax, label = 'C* DA')\n",
    "pd_zwalm_out_hour['Cstar'].plot(ax = ax, label = 'C* OL')\n",
    "ax.legend()\n",
    "pd_zwalm_out_hour.tail()"
   ]
  },
  {
   "cell_type": "code",
   "execution_count": null,
   "metadata": {},
   "outputs": [],
   "source": [
    "pd_zwalm_out_hour_DA['Cstar'].hvplot(ylabel='[mm]',\n",
    "    label = 'C* DA')*pd_zwalm_out_hour['Cstar'].hvplot(label = 'C* OL')"
   ]
  },
  {
   "cell_type": "code",
   "execution_count": null,
   "metadata": {},
   "outputs": [],
   "source": [
    "Q_obs_daily['Value'].hvplot()"
   ]
  },
  {
   "cell_type": "code",
   "execution_count": null,
   "metadata": {},
   "outputs": [],
   "source": [
    "Q_obs_daily['Value'].hvplot(label = 'Observed')*pd_zwalm_out_hour_DA[\n",
    "    'qmodm3s'].hvplot(ylabel='[m^3/s]',label = 'DA')*pd_zwalm_out_hour['qmodm3s'].hvplot(label = 'OL',line_dash = 'dotted', frame_width = 800, frame_height = 400)"
   ]
  },
  {
   "cell_type": "code",
   "execution_count": null,
   "metadata": {},
   "outputs": [],
   "source": [
    "Q_out_diff = pd_zwalm_out_hour_DA['qmodm3s'] - pd_zwalm_out_hour['qmodm3s']\n",
    "Q_out_diff.hvplot()"
   ]
  },
  {
   "attachments": {},
   "cell_type": "markdown",
   "metadata": {},
   "source": [
    "# Old experimens only below "
   ]
  },
  {
   "cell_type": "code",
   "execution_count": null,
   "metadata": {},
   "outputs": [],
   "source": [
    "t_hour = p_zwalm['Timestamp'].values.astype('datetime64[h]')\n",
    "t_obs = C_star_obs_lin_reg.index.values.astype('datetime64[h]') \n",
    "C_star_mod = pd_zwalm_out_hour['Cstar']"
   ]
  },
  {
   "cell_type": "code",
   "execution_count": null,
   "metadata": {},
   "outputs": [],
   "source": [
    "def tau_weighing(delta_t_abs, tau):\n",
    "    if delta_t_abs < tau/2:\n",
    "        W_t = 1\n",
    "    elif delta_t_abs < tau:\n",
    "        W_t = (tau - delta_t_abs)/(tau/2)\n",
    "    else:\n",
    "        W_t = 0\n",
    "    return W_t\n",
    "weights = [tau_weighing(np.abs(delta_t), 10) for delta_t in np.arange(-20,20,1)]\n",
    "plt.plot(weights)"
   ]
  },
  {
   "cell_type": "code",
   "execution_count": null,
   "metadata": {},
   "outputs": [],
   "source": [
    "np.arange(-30,30)"
   ]
  },
  {
   "cell_type": "code",
   "execution_count": null,
   "metadata": {},
   "outputs": [],
   "source": [
    "def NewtonianNudging(Cstar_min, Cstar_obs, gamma, Kappa, delta_t, tau):\n",
    "    W_t = tau_weighing(np.abs(delta_t),tau)\n",
    "    Cstar_plus = Cstar_min + gamma*Kappa*W_t*(Cstar_obs -Cstar_min)\n",
    "    if Cstar_plus != Cstar_min:\n",
    "        import pdb; pdb.set_trace()\n",
    "    return Cstar_plus\n"
   ]
  },
  {
   "cell_type": "code",
   "execution_count": null,
   "metadata": {},
   "outputs": [],
   "source": [
    "def NN_wrapper(i, t, t_obs, t_a,Cstar,C_star_obs):\n",
    "    if np.any(np.abs(t[i] - t_obs) < t_a):\n",
    "        t_assimilated=t_obs[np.abs((t[i] - t_obs)) < t_a]\n",
    "        print(\n",
    "            f'{t[i]} should be assimilated since less than {t_a/2} rmeoved from {t_assimilated}')"
   ]
  },
  {
   "cell_type": "code",
   "execution_count": null,
   "metadata": {},
   "outputs": [],
   "source": [
    "C_star_updated = C_star_mod.copy()\n",
    "for i in range(len(C_star_mod)):\n",
    "    C_star_min = C_star_mod[i]\n",
    "    t_mod_i = t_hour[i]\n",
    "    t_assimilated_index = np.abs(t_mod_i - t_obs).argmin()#t_obs[np.abs((t_hour[i] - t_obs)) < t_a]\n",
    "    t_assimilated = t_obs[t_assimilated_index]\n",
    "    delta_t = t_mod_i - t_assimilated\n",
    "    C_star_updated[i] = NewtonianNudging(C_star_min, C_star_obs_lin_reg.loc[t_assimilated,:].values[0],0.5,1,delta_t,np.timedelta64(24,'h'))"
   ]
  },
  {
   "cell_type": "code",
   "execution_count": null,
   "metadata": {},
   "outputs": [],
   "source": [
    "t_assimilated \n",
    "C_star_obs_lin_reg.loc[t_assimilated,:].values[0]"
   ]
  },
  {
   "cell_type": "code",
   "execution_count": null,
   "metadata": {},
   "outputs": [],
   "source": [
    "type(C_star_obs_lin_reg.index.values)"
   ]
  }
 ],
 "metadata": {
  "kernelspec": {
   "display_name": "thesis",
   "language": "python",
   "name": "python3"
  },
  "language_info": {
   "codemirror_mode": {
    "name": "ipython",
    "version": 3
   },
   "file_extension": ".py",
   "mimetype": "text/x-python",
   "name": "python",
   "nbconvert_exporter": "python",
   "pygments_lexer": "ipython3",
   "version": "3.10.10"
  },
  "orig_nbformat": 4
 },
 "nbformat": 4,
 "nbformat_minor": 2
}
