{
 "cells": [
  {
   "attachments": {},
   "cell_type": "markdown",
   "metadata": {},
   "source": [
    "# Data Assimilation with Newtonian Nudging "
   ]
  },
  {
   "cell_type": "code",
   "execution_count": null,
   "metadata": {},
   "outputs": [],
   "source": [
    "import os\n",
    "from pathlib import Path\n",
    "pad = Path(os.getcwd())\n",
    "if pad.name == 'data_assimilation':\n",
    "    pad_correct = pad.parent\n",
    "    os.chdir(pad_correct)\n",
    "from functions.PDM import PDM\n",
    "from functions.performance_metrics import NSE\n",
    "import pandas as pd\n",
    "import geopandas as gpd\n",
    "import numpy as np\n",
    "import matplotlib.pyplot as plt\n",
    "import hvplot \n",
    "import hvplot.pandas\n",
    "from numba import jit\n",
    "from datetime import datetime\n",
    "\n",
    "%load_ext autoreload \n",
    "%autoreload 2 "
   ]
  },
  {
   "attachments": {},
   "cell_type": "markdown",
   "metadata": {},
   "source": [
    "## Necessary data load in "
   ]
  },
  {
   "cell_type": "code",
   "execution_count": null,
   "metadata": {},
   "outputs": [],
   "source": [
    "#Needed for PDM inputs\n",
    "preprocess_output_folder = Path('data/Zwalm_data/preprocess_output')\n",
    "p_zwalm = pd.read_pickle(preprocess_output_folder / 'zwalm_p_thiessen.pkl')\n",
    "ep_zwalm = pd.read_pickle(preprocess_output_folder / 'zwalm_ep_thiessen.pkl')\n",
    "param = pd.read_csv(\"data/Zwalm_PDM_parameters/NM_opt_param.csv\")\n",
    "zwalm_shape = gpd.read_file('data/Zwalm_shape/zwalm_shapefile_emma_31370.shp')\n",
    "area_zwalm_new = np.single(zwalm_shape.area[0] / 10**6)\n",
    "deltat = np.array(1, dtype=np.float32)  # hour\n",
    "deltat_out = np.array(24, dtype=np.float32)  # daily averaging\n",
    "deltat = np.array(1, dtype=np.float32)  # hour\n",
    "deltat_out = np.array(24, dtype=np.float32)  # daily averaging\n",
    "\n",
    "#observational C*\n",
    "ml_obs_op_pad = Path(\"data/ml_obs_op_data\")\n",
    "Cstar_obs_lin_reg = pd.read_pickle(ml_obs_op_pad/'lin_reg/full_data/y_hat_retimed.pickle')\n",
    "Cstar_obs_lin_reg_nt = pd.read_pickle(ml_obs_op_pad/'lin_reg/full_data_no_time/y_hat_retimed.pickle')\n",
    "Cstar_obs_ridge_w = pd.read_pickle(ml_obs_op_pad/'ridge/window/y_hat_retimed.pickle')\n",
    "Cstar_obs_SVR_lin = pd.read_pickle(ml_obs_op_pad/'SVR/linear/y_hat_retimed.pickle')\n",
    "Cstar_obs_GPR = pd.read_pickle(ml_obs_op_pad/'GPR/y_hat_retimed.pickle')\n",
    "#Observational flow for comparison\n",
    "Q_obs_daily = pd.read_pickle('data/Zwalm_data/pywaterinfo_output/Q_day.pkl')\n",
    "Q_obs_daily = Q_obs_daily.rename(columns = {'Timestamp':'t'})\n",
    "Q_obs_daily = Q_obs_daily.set_index('t')\n",
    "Q_obs_daily.head(2)"
   ]
  },
  {
   "attachments": {},
   "cell_type": "markdown",
   "metadata": {},
   "source": [
    "Evaluate model performance starting on the first day of the month of first observation. Evaluate based on daily flow!"
   ]
  },
  {
   "cell_type": "code",
   "execution_count": null,
   "metadata": {},
   "outputs": [],
   "source": [
    "first_obs_date = Cstar_obs_lin_reg.index[0]\n",
    "start_p1 = pd.Timestamp(datetime(year = first_obs_date.year, month = first_obs_date.month, day = 1))\n",
    "print(f'Start of evaluation: {start_p1}')\n",
    "end_PDM_calibration = pd.Timestamp(datetime(year = 2019, month = 12, day = 31, hour = 23))\n",
    "begin_ML_training_only = end_PDM_calibration + np.timedelta64(1,'h')\n",
    "print(f'End of PDM calibration period: {end_PDM_calibration}')\n",
    "end_ML_training = pd.Timestamp(datetime(year = 2020, month = 12, day =31))\n",
    "print(f'End of ML training period: {end_ML_training}')\n",
    "begin_all_test = end_ML_training + np.timedelta64(1,'D')\n",
    "end_all_test = Cstar_obs_lin_reg.index[-1]\n",
    "print(f'Last date used for training {end_all_test}')"
   ]
  },
  {
   "attachments": {},
   "cell_type": "markdown",
   "metadata": {},
   "source": [
    "## Define general function definition\n",
    "\n",
    "Define a function to repeatedly compare different Newtonian Nudging parameters and observation operator models"
   ]
  },
  {
   "cell_type": "code",
   "execution_count": null,
   "metadata": {},
   "outputs": [],
   "source": [
    "def DA_OL_comparison(gamma, kappa, tau, Cstar_obs, plot_style = 'dynamic'):\n",
    "    #Calculate DA and non DA PDM\n",
    "    pd_zwalm_out_DA = PDM(P=p_zwalm['P_thiessen'].values,\n",
    "                        EP=ep_zwalm['EP_thiessen'].values,\n",
    "                        t=p_zwalm['Timestamp'].values,\n",
    "                        area=area_zwalm_new, deltat=deltat, deltatout=deltat_out,\n",
    "                        parameters=param, m=3, DA = True, Cstar_obs = Cstar_obs.values.flatten(),t_obs = Cstar_obs.index.values, gamma = gamma, kappa = kappa,  tau = np.timedelta64(tau,'h'))\n",
    "    pd_zwalm_out_DA = pd_zwalm_out_DA.set_index('Time')\n",
    "    pd_zwalm_out = PDM(P=p_zwalm['P_thiessen'].values,\n",
    "                        EP=ep_zwalm['EP_thiessen'].values,\n",
    "                        t=p_zwalm['Timestamp'].values,\n",
    "                        area=area_zwalm_new, deltat=deltat, deltatout=deltat_out,\n",
    "                        parameters=param, m=3, DA = False)\n",
    "    pd_zwalm_out = pd_zwalm_out.set_index('Time')\n",
    "    Q_out_diff = pd_zwalm_out_DA['qmodm3s'] - pd_zwalm_out['qmodm3s'\n",
    "                                                           ]\n",
    "    #Plotting\n",
    "    if plot_style == 'dynamic':\n",
    "        display(pd_zwalm_out_DA['Cstar'][start_p1:].hvplot(ylabel='[mm]',\n",
    "            label = 'C* DA')*pd_zwalm_out['Cstar'][start_p1:].hvplot(label = 'C* OL'))\n",
    "\n",
    "        display(Q_obs_daily['Value'][start_p1:].hvplot(label = 'Observed')*pd_zwalm_out_DA['qmodm3s'][start_p1:].hvplot(ylabel='[m^3/s]',label = 'DA')*pd_zwalm_out['qmodm3s'][start_p1:].hvplot(label = 'OL',line_dash = 'dotted', frame_width = 800, frame_height = 400))\n",
    "\n",
    "        display(Q_out_diff[start_p1:].hvplot(title = 'Q_out DA - Q_out OL', ylabel = '[m^3/s]', frame_width = 800))\n",
    "    \n",
    "    elif plot_style == 'static':\n",
    "        fig, ax = plt.subplots()\n",
    "        pd_zwalm_out_DA['Cstar'][start_p1:].plot(label = 'DA', ylabel = r'$C^*$ [mm]', ax = ax)\n",
    "        pd_zwalm_out['Cstar'][start_p1:].plot(label = 'OL', ax = ax)\n",
    "        ax.legend()\n",
    "\n",
    "        fig, ax = plt.subplots(figsize = (8,5))\n",
    "        Q_obs_daily['Value'][start_p1:].plot(label = 'Observed', ax = ax)\n",
    "        pd_zwalm_out_DA['qmodm3s'][start_p1:].plot(ylabel= r'$Q_{out}$ [m$^3$/s]', label = 'DA', ax = ax)\n",
    "        pd_zwalm_out['qmodm3s'][start_p1:].plot(label = 'OL',linestyle = 'dotted', ax = ax)\n",
    "        ax.legend()\n",
    "\n",
    "        fig, ax = plt.subplots(figsize = (8,5))\n",
    "        Q_out_diff[start_p1:].plot(title = r'$Q_{out}$ DA - $Q_{out}$ OL', ylabel = r'[m$^3$/s]')\n",
    "\n",
    "    #Metrics\n",
    "    def metric_wrapper_DA_OL_comparison(function, metric_name, p_start,p_end):\n",
    "        metric_OL = function(pd_zwalm_out['qmodm3s'][p_start:p_end],Q_obs_daily['Value'][p_start:p_end])\n",
    "        metric_DA = function(pd_zwalm_out_DA['qmodm3s'][p_start:p_end],Q_obs_daily['Value'][p_start:p_end])\n",
    "        print(f'OL {metric_name} from {p_start} till {p_end}: {metric_OL}')\n",
    "        print(f'DA {metric_name} from {p_start} till {p_end}: {metric_DA}')\n",
    "        delta_metric = metric_DA - metric_OL\n",
    "        print(f'Delta {metric_name}: {delta_metric}')\n",
    "        return metric_OL, metric_DA\n",
    "    metric_wrapper_DA_OL_comparison(NSE,'NSE',start_p1,end_PDM_calibration)\n",
    "    print('\\n')\n",
    "    metric_wrapper_DA_OL_comparison(NSE,'NSE',begin_ML_training_only,end_ML_training)\n",
    "    print('\\n')\n",
    "    metric_wrapper_DA_OL_comparison(NSE,'NSE',begin_all_test,end_all_test)\n",
    "    print('\\n')\n",
    "    metric_wrapper_DA_OL_comparison(NSE,'NSE',start_p1,end_all_test)\n",
    "        "
   ]
  },
  {
   "attachments": {},
   "cell_type": "markdown",
   "metadata": {},
   "source": [
    "Start with $\\tau = 0.5$ day, $K*\\gamma$ = 0.5"
   ]
  },
  {
   "attachments": {},
   "cell_type": "markdown",
   "metadata": {},
   "source": [
    "# Linear regressinon: full feature set"
   ]
  },
  {
   "cell_type": "code",
   "execution_count": null,
   "metadata": {},
   "outputs": [],
   "source": [
    "kappa = 1\n",
    "gamma = 0.5\n",
    "tau = 12\n",
    "DA_OL_comparison(kappa, gamma, tau, Cstar_obs_lin_reg, plot_style = 'dynamic')"
   ]
  },
  {
   "attachments": {},
   "cell_type": "markdown",
   "metadata": {},
   "source": [
    "# Linear regression: no time"
   ]
  },
  {
   "cell_type": "code",
   "execution_count": null,
   "metadata": {},
   "outputs": [],
   "source": [
    "DA_OL_comparison(kappa, gamma, tau, Cstar_obs_lin_reg_nt, plot_style = 'dynamic')"
   ]
  },
  {
   "attachments": {},
   "cell_type": "markdown",
   "metadata": {},
   "source": [
    "# Ridge window regression"
   ]
  },
  {
   "cell_type": "code",
   "execution_count": null,
   "metadata": {},
   "outputs": [],
   "source": [
    "DA_OL_comparison(kappa, gamma, tau, Cstar_obs_ridge_w['C*'], plot_style = 'dynamic')"
   ]
  },
  {
   "attachments": {},
   "cell_type": "markdown",
   "metadata": {},
   "source": [
    "## SVR"
   ]
  },
  {
   "cell_type": "code",
   "execution_count": null,
   "metadata": {},
   "outputs": [],
   "source": [
    "DA_OL_comparison(kappa, gamma, tau, Cstar_obs_SVR_lin['C*'], plot_style = 'dynamic')"
   ]
  },
  {
   "attachments": {},
   "cell_type": "markdown",
   "metadata": {},
   "source": [
    "# GPR"
   ]
  },
  {
   "cell_type": "code",
   "execution_count": null,
   "metadata": {},
   "outputs": [],
   "source": [
    "DA_OL_comparison(kappa, gamma, tau, Cstar_obs_GPR['C*'], plot_style = 'dynamic')"
   ]
  },
  {
   "attachments": {},
   "cell_type": "markdown",
   "metadata": {},
   "source": [
    "# Old experimens only below "
   ]
  },
  {
   "cell_type": "code",
   "execution_count": null,
   "metadata": {},
   "outputs": [],
   "source": [
    "pd_zwalm_out[200:]"
   ]
  },
  {
   "cell_type": "code",
   "execution_count": null,
   "metadata": {},
   "outputs": [],
   "source": [
    "t_hour = p_zwalm['Timestamp'].values.astype('datetime64[h]')\n",
    "t_obs = Cstar_obs_lin_reg.index.values.astype('datetime64[h]') \n",
    "C_star_mod = pd_zwalm_out_hour['Cstar']"
   ]
  },
  {
   "cell_type": "code",
   "execution_count": null,
   "metadata": {},
   "outputs": [],
   "source": [
    "def tau_weighing(delta_t_abs, tau):\n",
    "    if delta_t_abs < tau/2:\n",
    "        W_t = 1\n",
    "    elif delta_t_abs < tau:\n",
    "        W_t = (tau - delta_t_abs)/(tau/2)\n",
    "    else:\n",
    "        W_t = 0\n",
    "    return W_t\n",
    "weights = [tau_weighing(np.abs(delta_t), 10) for delta_t in np.arange(-20,20,1)]\n",
    "plt.plot(weights)"
   ]
  },
  {
   "cell_type": "code",
   "execution_count": null,
   "metadata": {},
   "outputs": [],
   "source": [
    "np.arange(-30,30)"
   ]
  },
  {
   "cell_type": "code",
   "execution_count": null,
   "metadata": {},
   "outputs": [],
   "source": [
    "def NewtonianNudging(Cstar_min, Cstar_obs, gamma, Kappa, delta_t, tau):\n",
    "    W_t = tau_weighing(np.abs(delta_t),tau)\n",
    "    Cstar_plus = Cstar_min + gamma*Kappa*W_t*(Cstar_obs -Cstar_min)\n",
    "    if Cstar_plus != Cstar_min:\n",
    "        import pdb; pdb.set_trace()\n",
    "    return Cstar_plus\n"
   ]
  },
  {
   "cell_type": "code",
   "execution_count": null,
   "metadata": {},
   "outputs": [],
   "source": [
    "def NN_wrapper(i, t, t_obs, t_a,Cstar,C_star_obs):\n",
    "    if np.any(np.abs(t[i] - t_obs) < t_a):\n",
    "        t_assimilated=t_obs[np.abs((t[i] - t_obs)) < t_a]\n",
    "        print(\n",
    "            f'{t[i]} should be assimilated since less than {t_a/2} rmeoved from {t_assimilated}')"
   ]
  },
  {
   "cell_type": "code",
   "execution_count": null,
   "metadata": {},
   "outputs": [],
   "source": [
    "C_star_updated = C_star_mod.copy()\n",
    "for i in range(len(C_star_mod)):\n",
    "    C_star_min = C_star_mod[i]\n",
    "    t_mod_i = t_hour[i]\n",
    "    t_assimilated_index = np.abs(t_mod_i - t_obs).argmin()#t_obs[np.abs((t_hour[i] - t_obs)) < t_a]\n",
    "    t_assimilated = t_obs[t_assimilated_index]\n",
    "    delta_t = t_mod_i - t_assimilated\n",
    "    C_star_updated[i] = NewtonianNudging(C_star_min, Cstar_obs_lin_reg.loc[t_assimilated,:].values[0],0.5,1,delta_t,np.timedelta64(24,'h'))"
   ]
  },
  {
   "cell_type": "code",
   "execution_count": null,
   "metadata": {},
   "outputs": [],
   "source": [
    "t_assimilated \n",
    "Cstar_obs_lin_reg.loc[t_assimilated,:].values[0]"
   ]
  },
  {
   "cell_type": "code",
   "execution_count": null,
   "metadata": {},
   "outputs": [],
   "source": [
    "type(Cstar_obs_lin_reg.index.values)"
   ]
  },
  {
   "cell_type": "code",
   "execution_count": null,
   "metadata": {},
   "outputs": [],
   "source": [
    "pd_zwalm_out = PDM(P=p_zwalm['P_thiessen'].values,\n",
    "                       EP=ep_zwalm['EP_thiessen'].values,\n",
    "                       t=p_zwalm['Timestamp'].values,\n",
    "                       area=area_zwalm_new, deltat=deltat, deltatout=deltat_out,\n",
    "                       parameters=param, m=3, DA = True, Cstar_obs = Cstar_obs_lin_reg.values.flatten(),t_obs = Cstar_obs_lin_reg.index.values, gamma = 0.5, kappa = 1,  tau = np.timedelta64(12,'h'),)\n",
    "pd_zwalm_out_DA = pd_zwalm_out.set_index('Time')\n",
    "pd_zwalm_out = PDM(P=p_zwalm['P_thiessen'].values,\n",
    "                       EP=ep_zwalm['EP_thiessen'].values,\n",
    "                       t=p_zwalm['Timestamp'].values,\n",
    "                       area=area_zwalm_new, deltat=deltat, deltatout=deltat_out,\n",
    "                       parameters=param, m=3, DA = False)\n",
    "pd_zwalm_out = pd_zwalm_out.set_index('Time')\n",
    "\n",
    "fig, ax = plt.subplots()\n",
    "pd_zwalm_out_DA['Cstar'].plot(ylabel='[mm]', ax = ax, label = 'C* DA')\n",
    "pd_zwalm_out['Cstar'].plot(ax = ax, label = 'C* OL')\n",
    "ax.legend()\n",
    "pd_zwalm_out.tail()\n",
    "\n",
    "hvplot.extension('bokeh')\n",
    "pd_zwalm_out_DA['Cstar'].hvplot(ylabel='[mm]',\n",
    "    label = 'C* DA')*pd_zwalm_out['Cstar'].hvplot(label = 'C* OL')\n",
    "\n",
    "Q_obs_daily['Value'].hvplot()\n",
    "\n",
    "Q_obs_daily['Value'].hvplot(label = 'Observed')*pd_zwalm_out_DA[\n",
    "    'qmodm3s'].hvplot(ylabel='[m^3/s]',label = 'DA')*pd_zwalm_out['qmodm3s'].hvplot(label = 'OL',line_dash = 'dotted', frame_width = 800, frame_height = 400)\n",
    "\n",
    "Q_out_diff = pd_zwalm_out_DA['qmodm3s'] - pd_zwalm_out['qmodm3s']\n",
    "Q_out_diff.hvplot()"
   ]
  }
 ],
 "metadata": {
  "kernelspec": {
   "display_name": "thesis",
   "language": "python",
   "name": "python3"
  },
  "language_info": {
   "codemirror_mode": {
    "name": "ipython",
    "version": 3
   },
   "file_extension": ".py",
   "mimetype": "text/x-python",
   "name": "python",
   "nbconvert_exporter": "python",
   "pygments_lexer": "ipython3",
   "version": "3.10.10"
  },
  "orig_nbformat": 4
 },
 "nbformat": 4,
 "nbformat_minor": 2
}
