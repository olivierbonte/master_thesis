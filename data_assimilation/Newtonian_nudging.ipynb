{
 "cells": [
  {
   "attachments": {},
   "cell_type": "markdown",
   "metadata": {},
   "source": [
    "# Data Assimilation with Newtonian Nudging "
   ]
  },
  {
   "cell_type": "code",
   "execution_count": null,
   "metadata": {},
   "outputs": [],
   "source": [
    "import os\n",
    "from pathlib import Path\n",
    "pad = Path(os.getcwd())\n",
    "if pad.name == 'data_assimilation':\n",
    "    pad_correct = pad.parent\n",
    "    os.chdir(pad_correct)\n",
    "from functions.PDM import PDM\n",
    "from functions.performance_metrics import NSE, mNSE, FHV\n",
    "import pandas as pd\n",
    "import geopandas as gpd\n",
    "import numpy as np\n",
    "import matplotlib.pyplot as plt\n",
    "import matplotlib\n",
    "import matplotlib.colors as colors\n",
    "import hvplot \n",
    "import hvplot.pandas\n",
    "import itertools\n",
    "import warnings\n",
    "from numba import jit\n",
    "from datetime import datetime\n",
    "\n",
    "exec_parameter_testing = False\n",
    "presentation = False\n",
    "\n",
    "%load_ext autoreload \n",
    "%autoreload 2 "
   ]
  },
  {
   "cell_type": "code",
   "execution_count": null,
   "metadata": {},
   "outputs": [],
   "source": [
    "%run \"data_assimilation/data_prep.py\""
   ]
  },
  {
   "attachments": {},
   "cell_type": "markdown",
   "metadata": {},
   "source": [
    "## Necessary data load in "
   ]
  },
  {
   "cell_type": "code",
   "execution_count": null,
   "metadata": {},
   "outputs": [],
   "source": [
    "#Needed for PDM inputs\n",
    "preprocess_output_folder = Path('data/Zwalm_data/preprocess_output')\n",
    "p_zwalm = pd.read_pickle(preprocess_output_folder / 'zwalm_p_thiessen.pkl')\n",
    "ep_zwalm = pd.read_pickle(preprocess_output_folder / 'zwalm_ep_thiessen.pkl')\n",
    "param = pd.read_csv(\"data/Zwalm_PDM_parameters/NM_opt_param.csv\")\n",
    "zwalm_shape = gpd.read_file('data/Zwalm_shape/zwalm_shapefile_emma_31370.shp')\n",
    "area_zwalm_new = np.single(zwalm_shape.area[0] / 10**6)\n",
    "deltat = np.array(1, dtype=np.float32)  # hour\n",
    "deltat_out = np.array(24, dtype=np.float32)  # daily averaging\n",
    "\n",
    "#observational C*\n",
    "ml_obs_op_pad = Path(\"data/ml_obs_op_data\")\n",
    "Cstar_obs_lin_reg = pd.read_pickle(ml_obs_op_pad/'lin_reg/full_data/y_hat_retimed.pickle')\n",
    "Cstar_obs_lin_reg_nt = pd.read_pickle(ml_obs_op_pad/'lin_reg/full_data_no_time/y_hat_retimed.pickle')\n",
    "Cstar_obs_lin_reg_nf = pd.read_pickle(ml_obs_op_pad/'lin_reg/full_data_no_forest/y_hat_retimed.pickle')\n",
    "# Cstar_obs_ridge_w = pd.read_pickle(ml_obs_op_pad/'ridge/window/y_hat_retimed.pickle')\n",
    "Cstar_obs_lasso_w = pd.read_pickle(ml_obs_op_pad/'ridge/window/y_hat_retimed.pickle')\n",
    "Cstar_obs_SVR_lin = pd.read_pickle(ml_obs_op_pad/'SVR/linear/y_hat_retimed.pickle')\n",
    "Cstar_obs_GPR = pd.read_pickle(ml_obs_op_pad/'GPR/y_hat_retimed.pickle')\n",
    "#Observational flow for comparison\n",
    "Q_obs_daily = pd.read_pickle('data/Zwalm_data/pywaterinfo_output/Q_day.pkl')\n",
    "Q_obs_daily = Q_obs_daily.rename(columns = {'Timestamp':'t'})\n",
    "Q_obs_daily = Q_obs_daily.set_index('t')\n",
    "Q_obs_daily.head(2)"
   ]
  },
  {
   "attachments": {},
   "cell_type": "markdown",
   "metadata": {},
   "source": [
    "Evaluate model performance starting on the first day of the month of first observation. Evaluate based on daily flow!"
   ]
  },
  {
   "cell_type": "code",
   "execution_count": null,
   "metadata": {},
   "outputs": [],
   "source": [
    "first_obs_date = Cstar_obs_lin_reg.index[0]\n",
    "start_p1 = pd.Timestamp(datetime(year = first_obs_date.year, month = first_obs_date.month, day = 1))\n",
    "print(f'Start of evaluation: {start_p1}')\n",
    "end_PDM_calibration = pd.Timestamp(datetime(year = 2019, month = 12, day = 31, hour = 23))\n",
    "begin_ML_training_only = end_PDM_calibration + np.timedelta64(1,'h')\n",
    "print(f'End of PDM calibration period: {end_PDM_calibration}')\n",
    "end_ML_training = pd.Timestamp(datetime(year = 2020, month = 12, day =31))\n",
    "print(f'End of ML training period: {end_ML_training}')\n",
    "begin_all_test = end_ML_training + np.timedelta64(1,'D')\n",
    "end_all_test = Cstar_obs_lin_reg.index[-1]\n",
    "print(f'Last date used for training {end_all_test}')"
   ]
  },
  {
   "attachments": {},
   "cell_type": "markdown",
   "metadata": {},
   "source": [
    "## Define general function definition\n",
    "\n",
    "Define a function to repeatedly compare different Newtonian Nudging parameters and observation operator models"
   ]
  },
  {
   "cell_type": "code",
   "execution_count": null,
   "metadata": {},
   "outputs": [],
   "source": [
    "def DA_OL_comparison(gamma:float, kappa:float, tau:int, Cstar_obs, plot_style = 'dynamic', return_figures = False, combined_figure = False):\n",
    "    \"\"\"\n",
    "    Wrapper for comparing OL and DA (Newtonian Nudging) version of PDM with a certain observation operator model \n",
    "\n",
    "    Parameters\n",
    "    ----------- \n",
    "    gamma: float\n",
    "        the observational uncertainty, as of now fixed for all timestamps (between 0 and 1)\n",
    "    kappa: float\n",
    "        The Nudging factor (between 0 and 1)\n",
    "    tau: int\n",
    "        The number of hours before and after the time of observation for which to apply DA.\n",
    "    Cstar_obs: pandas.Series of pandas.DataFrame\n",
    "        Dataframe/Series with the observed C* (from observation operator model) with time as idex\n",
    "    plot_style: string\n",
    "        'dynamic' execued hvplot plotting, 'static' exectued matplotlib plotting, other argument(e.g. None) disable plotting\n",
    "    return_figures: bool, default = False\n",
    "        If True, returns fig and axes object of the static plots the order they are displayed\n",
    "    combined_figure: bool, default = False\n",
    "        if True, give a combined figure of the last 2 plots\n",
    "\n",
    "    Returns\n",
    "    -------\n",
    "    delta_dict: dictionary\n",
    "      dictionary containig the differences in NSE between DA and OL for 4 periods:\n",
    "        - Calibration: from start of observation till the end of PMD calibration\n",
    "        - ML_training: no PDM calibration, only observation operator model was trained this period\n",
    "        - Test: both PDM and observation opertor model untrained in this period\n",
    "        - Full: from start till end of observations\n",
    "    figs: tuple\n",
    "        figure objects (only if return_figures = True and plot_style = 'static')\n",
    "    axes: tuple\n",
    "        axes objects (only if return_figures = True and plot_style = 'static')\n",
    "\n",
    "    \"\"\"\n",
    "    #Calculate DA and non DA PDM\n",
    "    pd_zwalm_out_DA = PDM(P=p_zwalm['P_thiessen'].values,\n",
    "                        EP=ep_zwalm['EP_thiessen'].values,\n",
    "                        t=p_zwalm['Timestamp'].values,\n",
    "                        area=area_zwalm_new, deltat=deltat, deltatout=deltat_out,\n",
    "                        parameters=param, m=3, DA = True, Cstar_obs = Cstar_obs.values.flatten(),t_obs = Cstar_obs.index.values, gamma = gamma, kappa = kappa,  tau = np.timedelta64(tau,'h'))\n",
    "    pd_zwalm_out_DA = pd_zwalm_out_DA.set_index('Time')\n",
    "    pd_zwalm_out = PDM(P=p_zwalm['P_thiessen'].values,\n",
    "                        EP=ep_zwalm['EP_thiessen'].values,\n",
    "                        t=p_zwalm['Timestamp'].values,\n",
    "                        area=area_zwalm_new, deltat=deltat, deltatout=deltat_out,\n",
    "                        parameters=param, m=3, DA = False)\n",
    "    pd_zwalm_out = pd_zwalm_out.set_index('Time')\n",
    "    Q_out_diff = pd_zwalm_out_DA['qmodm3s'] - pd_zwalm_out['qmodm3s'\n",
    "                                                           ]\n",
    "    #Plotting\n",
    "    diff_Cstar = pd_zwalm_out_DA['Cstar'] - pd_zwalm_out['Cstar']\n",
    "    if plot_style == 'dynamic':\n",
    "        display(pd_zwalm_out_DA['Cstar'][start_p1:].hvplot(ylabel='[mm]',\n",
    "            label = 'C* DA')*pd_zwalm_out['Cstar'][start_p1:].hvplot(label = 'C* OL'))\n",
    "        display(diff_Cstar[start_p1:].hvplot(ylabel='[mm]', label = r'$\\Delta C^* $'))\n",
    "\n",
    "        display(Q_obs_daily['Value'][start_p1:].hvplot(label = 'Observed')*pd_zwalm_out_DA['qmodm3s'][start_p1:].hvplot(ylabel='[m^3/s]',label = 'DA')*pd_zwalm_out['qmodm3s'][start_p1:].hvplot(label = 'OL',line_dash = 'dotted', frame_width = 800, frame_height = 400))\n",
    "\n",
    "        display(Q_out_diff[start_p1:].hvplot(title = 'Q_out DA - Q_out OL', ylabel = '[m^3/s]', frame_width = 800))\n",
    "    \n",
    "    elif plot_style == 'static':\n",
    "        fig1, ax1 = plt.subplots()\n",
    "        pd_zwalm_out_DA['Cstar'][start_p1:].plot(label = 'DA', ylabel = r'$C^*$ [mm]', ax = ax1)\n",
    "        pd_zwalm_out['Cstar'][start_p1:].plot(label = 'OL', ax = ax1)\n",
    "        ax1.legend()\n",
    "\n",
    "        if combined_figure:\n",
    "            fig2, (ax2, ax3) = plt.subplots(2,1, figsize = (6,7), constrained_layout = True)\n",
    "        else: \n",
    "            fig2, ax2 = plt.subplots(figsize = (8,5))\n",
    "            fig3, ax3 = plt.subplots(figsize = (8,5))\n",
    "        Q_obs_daily['Value'][start_p1:].plot(label = 'Observed', ax = ax2)\n",
    "        pd_zwalm_out_DA['qmodm3s'][start_p1:].plot(ylabel= r'$Q_{out}$ [m$^3$/s]', label = 'DA', ax = ax2)\n",
    "        pd_zwalm_out['qmodm3s'][start_p1:].plot(label = 'OL',linestyle = 'dotted', ax = ax2)\n",
    "        ax2.legend()\n",
    "\n",
    "        Q_out_diff[start_p1:].plot(title = r'$Q_{out}$ DA - $Q_{out}$ OL', ylabel = r'[m$^3$/s]', ax = ax3)\n",
    "\n",
    "    #Metrics\n",
    "    def metric_wrapper_DA_OL_comparison(function, metric_name, p_start,p_end):\n",
    "        metric_OL = function(pd_zwalm_out['qmodm3s'][p_start:p_end],Q_obs_daily['Value'][p_start:p_end])\n",
    "        metric_DA = function(pd_zwalm_out_DA['qmodm3s'][p_start:p_end],Q_obs_daily['Value'][p_start:p_end])\n",
    "        print(f'OL {metric_name} from {p_start} till {p_end}: {metric_OL}')\n",
    "        print(f'DA {metric_name} from {p_start} till {p_end}: {metric_DA}')\n",
    "        if metric_name == 'FHV':\n",
    "            delta_metric = np.abs(metric_DA) - np.abs(metric_OL)\n",
    "        else:\n",
    "            delta_metric = metric_DA - metric_OL\n",
    "        print(f'Delta {metric_name}: {delta_metric}')\n",
    "        return metric_OL, metric_DA, delta_metric\n",
    "    metric_dict = {'NSE':NSE, 'mNSE':mNSE, 'FHV':FHV}\n",
    "    delta_dict = {}\n",
    "    for metric_name in metric_dict.keys():   \n",
    "        print('\\n ------------------')\n",
    "        print(f'METRIC: {metric_name}')\n",
    "        print('---------------------')\n",
    "        metric_OL_cal, metric_DA_cal, delta_cal = metric_wrapper_DA_OL_comparison(metric_dict[metric_name],metric_name,start_p1,end_PDM_calibration)\n",
    "        print('\\n')\n",
    "        metric_OL_MLt, metric_DA_MLt, delta_MLt =  metric_wrapper_DA_OL_comparison(metric_dict[metric_name],metric_name,begin_ML_training_only,end_ML_training)\n",
    "        print('\\n')\n",
    "        metric_OL_test, metric_DA_test, delta_test = metric_wrapper_DA_OL_comparison(metric_dict[metric_name],metric_name,begin_all_test,end_all_test)\n",
    "        print('\\n')\n",
    "        metric_OL_full, metric_DA_full, delta_full = metric_wrapper_DA_OL_comparison(metric_dict[metric_name],metric_name,start_p1,end_all_test)\n",
    "        # metric_dict = {'OL_cal':metric_OL_cal, 'DA_cal':metric_DA_cal,'OL_ML_training':metric_OL_MLt, 'DA_ML_training':metric_DA_MLt, 'metric_OL_test':metric_OL_test, 'metric_DA_test':metric_DA_test,'metric_OL_full':metric_OL_full, 'metric_DA_full':metric_DA_full}\n",
    "        delta_dict_temp = {'delta_cal':delta_cal, 'delta_Mlt':delta_MLt,'delta_test':delta_test, 'delta_full':delta_full}\n",
    "        delta_dict[metric_name] = delta_dict_temp\n",
    "    if not return_figures:\n",
    "        return delta_dict\n",
    "    else:\n",
    "        if plot_style == 'static':\n",
    "            if combined_figure:\n",
    "                figs = (fig1, fig2)\n",
    "            else:\n",
    "                figs = (fig1, fig2, fig3)\n",
    "            axes = (ax1,ax2,ax3)\n",
    "            return delta_dict, figs, axes\n",
    "        else:\n",
    "            raise ValueError(\"Plot style must be 'static' to allow 'return figures' to be true\")\n",
    "        "
   ]
  },
  {
   "attachments": {},
   "cell_type": "markdown",
   "metadata": {},
   "source": [
    "Start with $\\tau = 5h$ day, $K*\\gamma$ = 0.5"
   ]
  },
  {
   "attachments": {},
   "cell_type": "markdown",
   "metadata": {},
   "source": [
    "# Linear regressinon: full feature set"
   ]
  },
  {
   "cell_type": "code",
   "execution_count": null,
   "metadata": {},
   "outputs": [],
   "source": [
    "kappa = 1\n",
    "gamma = 0.5\n",
    "tau = 5\n",
    "font_size = 13\n",
    "if presentation:\n",
    "    plt.rcParams.update({'font.size': font_size})\n",
    "delta_dict, figs, axes = DA_OL_comparison(gamma, kappa, tau, Cstar_obs_lin_reg, plot_style = 'static', return_figures=True, combined_figure=True)"
   ]
  },
  {
   "cell_type": "code",
   "execution_count": null,
   "metadata": {},
   "outputs": [],
   "source": [
    "pad_pres = Path('Figures/presentation_12_04')\n",
    "if not os.path.exists(pad_pres):\n",
    "    os.makedirs(pad_pres)\n",
    "if presentation:\n",
    "    if len(figs) == 3: #for if combined figures is F\n",
    "        fig_diff = figs[2]\n",
    "        ax_diff = axes[2]\n",
    "        ax_diff.set_xlabel('Tijd')\n",
    "        ax_diff.set_title(r'Lineare regressie: $Q_{out}$ DA - $Q_{out}$ OL')\n",
    "        fig_diff.savefig(pad_pres/'Q_diff_lin_reg.svg',format = 'svg')\n",
    "        display(fig_diff)\n",
    "    else:\n",
    "        fig_combined = figs[1]\n",
    "        fig_combined.suptitle('Linear regression')\n",
    "        display(fig_combined)\n",
    "        fig_combined.savefig(pad_pres/'Q_DA_vs_OL_lin_reg.svg',format = 'svg', transparent = True)\n"
   ]
  },
  {
   "attachments": {},
   "cell_type": "markdown",
   "metadata": {},
   "source": [
    "# Linear regression: no time"
   ]
  },
  {
   "cell_type": "code",
   "execution_count": null,
   "metadata": {},
   "outputs": [],
   "source": [
    "DA_OL_comparison(gamma, kappa, tau, Cstar_obs_lin_reg_nt, plot_style = 'dynamic')"
   ]
  },
  {
   "attachments": {},
   "cell_type": "markdown",
   "metadata": {},
   "source": [
    "# Linear regression: no forest"
   ]
  },
  {
   "cell_type": "code",
   "execution_count": null,
   "metadata": {},
   "outputs": [],
   "source": [
    "DA_OL_comparison(gamma, kappa, tau, Cstar_obs_lin_reg_nf, plot_style = 'dynamic')"
   ]
  },
  {
   "attachments": {},
   "cell_type": "markdown",
   "metadata": {},
   "source": [
    "# Lasso window regression"
   ]
  },
  {
   "cell_type": "code",
   "execution_count": null,
   "metadata": {},
   "outputs": [],
   "source": [
    "# DA_OL_comparison(gamma, kappa, tau, Cstar_obs_ridge_w['C*'], plot_style = 'dynamic')\n",
    "DA_OL_comparison(gamma, kappa, tau, Cstar_obs_lasso_w['C*'], plot_style = 'dynamic')"
   ]
  },
  {
   "attachments": {},
   "cell_type": "markdown",
   "metadata": {},
   "source": [
    "# SVR"
   ]
  },
  {
   "cell_type": "code",
   "execution_count": null,
   "metadata": {},
   "outputs": [],
   "source": [
    "DA_OL_comparison(gamma, kappa, tau, Cstar_obs_SVR_lin['C*'], plot_style = 'dynamic')"
   ]
  },
  {
   "attachments": {},
   "cell_type": "markdown",
   "metadata": {},
   "source": [
    "# GPR"
   ]
  },
  {
   "cell_type": "code",
   "execution_count": null,
   "metadata": {},
   "outputs": [],
   "source": [
    "dict, figs, axes = DA_OL_comparison(gamma, kappa, tau, Cstar_obs_GPR['C*'], plot_style = 'static', return_figures=True, combined_figure=True)"
   ]
  },
  {
   "cell_type": "code",
   "execution_count": null,
   "metadata": {},
   "outputs": [],
   "source": [
    "if presentation:\n",
    "    if len(figs) == 3: #for if combined figures is F\n",
    "        fig_diff = figs[2]\n",
    "        ax_diff = axes[2]\n",
    "        ax_diff.set_xlabel('Tijd')\n",
    "        ax_diff.set_title(r'Gaussiaanse Processen: $Q_{out}$ DA - $Q_{out}$ OL')\n",
    "        fig_diff.savefig(pad_pres/'Q_diff_gpr.svg',format = 'svg')\n",
    "        display(fig_diff)\n",
    "    else:\n",
    "        fig_combined = figs[1]\n",
    "        fig_combined.suptitle('Gaussian processes')\n",
    "        display(fig_combined)\n",
    "        fig_combined.savefig(pad_pres/'Q_DA_vs_OL_gpr.svg',format = 'svg', transparent = True)"
   ]
  },
  {
   "attachments": {},
   "cell_type": "markdown",
   "metadata": {},
   "source": [
    "# Comparison of different Newtonian Nudging parameters"
   ]
  },
  {
   "attachments": {},
   "cell_type": "markdown",
   "metadata": {},
   "source": [
    "Possible parameter combinations:\n",
    "- $\\tau$: 5hours, 0.5, 1 or 1.5 days (not more, since at times 3 days between observations => for more than 1.5 days, code should change to include multiple observations)\n",
    "- $\\gamma K$: 0.1, 0.25, 0.5, 0.75, for which higher means a higher strenght of assimilation"
   ]
  },
  {
   "cell_type": "code",
   "execution_count": null,
   "metadata": {},
   "outputs": [],
   "source": [
    "# pd_Cstar = Cstar_obs_lin_reg.join(\n",
    "#     [Cstar_obs_lin_reg_nt, Cstar_obs_ridge_w, Cstar_obs_SVR_lin, Cstar_obs_GPR], rsuffix = ['_lin_reg_nt','_ridge_w','_SVR_lin','_GPR']\n",
    "# )\n",
    "\n",
    "pd_Cstar = Cstar_obs_lin_reg.join(Cstar_obs_lin_reg_nt['C*'], rsuffix='_lin_reg_nt')\n",
    "pd_Cstar = pd_Cstar.join(Cstar_obs_ridge_w['C*'], rsuffix='_ridge_w')\n",
    "pd_Cstar = pd_Cstar.join(Cstar_obs_SVR_lin, rsuffix='_SVR_lin')\n",
    "pd_Cstar = pd_Cstar.join(Cstar_obs_GPR, rsuffix='_GPR')\n",
    "pd_Cstar = pd_Cstar.rename(columns = {'C*':'C*_lin_reg'})\n",
    "display(pd_Cstar)\n",
    "\n",
    "pad = Path('data/data_assimilation')\n",
    "if not os.path.exists(pad):\n",
    "    os.makedirs(pad)"
   ]
  },
  {
   "cell_type": "code",
   "execution_count": null,
   "metadata": {},
   "outputs": [],
   "source": [
    "taus = [1,2,5,int(0.5*24), int(1*24),int(1.5*24)]\n",
    "gammas = [0.1,0.25,0.5,0.75]\n",
    "ml_obs_op_models = ['lin_reg','lin_reg_nt','ridge_w','SVR_lin','GPR']\n",
    "combos = itertools.product(ml_obs_op_models,gammas,taus)\n",
    "nr_combiations = len(taus)*len(gammas)*len(ml_obs_op_models)\n",
    "kappa = 1\n",
    "if exec_parameter_testing:\n",
    "    for i, combo in enumerate(combos):\n",
    "        model_name, gamma, tau = combo\n",
    "        print(f'Combintaion {i} out of {nr_combiations}: tau = {combo[2]} hours, gamma ={combo[1]} and {combo[0]} as observation operator')\n",
    "        Cstar_temp = pd_Cstar.iloc[:,pd_Cstar.columns.str.endswith(model_name)]\n",
    "        Cstar_temp = Cstar_temp.dropna() #to deal with window mehtods\n",
    "        delta_NSE_dict = DA_OL_comparison(kappa, float(gamma), int(tau), Cstar_temp, plot_style = None)\n",
    "        if i == 0:\n",
    "            pd_comparison = pd.DataFrame(delta_NSE_dict, index = pd.MultiIndex.from_tuples([combo], names = ['obs_op_model','gamma','tau']))\n",
    "        else:\n",
    "            pd_temp = pd.DataFrame(delta_NSE_dict, index = pd.MultiIndex.from_tuples([combo], names = ['obs_op_model','gamma','tau']))\n",
    "            pd_comparison = pd.concat([pd_comparison, pd_temp])\n",
    "    pd_comparison.to_pickle(pad/'pd_comparison.pkl')\n",
    "else:\n",
    "    pd_comparison = pd.read_pickle(pad/'pd_comparison.pkl')"
   ]
  },
  {
   "cell_type": "code",
   "execution_count": null,
   "metadata": {},
   "outputs": [],
   "source": [
    "max_improv = np.max(pd_comparison.max())\n",
    "max_deteriation = np.min(pd_comparison.min())\n",
    "if max_improv < 0:\n",
    "    warnings.warn('No improvement made!')\n",
    "limit = np.max([max_improv, np.abs(max_deteriation)])\n",
    "\n",
    "print(np.max(pd_comparison.max()))\n",
    "print(np.min(pd_comparison.min()))\n",
    "pd_comparison.style.background_gradient(cmap = 'coolwarm', vmin =-limit, vmax = limit)#'RdYlGn_r'"
   ]
  },
  {
   "cell_type": "code",
   "execution_count": null,
   "metadata": {},
   "outputs": [],
   "source": [
    "pd_comparison_sort_test = pd_comparison.sort_values('delta_test',ascending = False)\n",
    "pd_comparison_sort_test.style.background_gradient(cmap = 'coolwarm', vmin =-limit, vmax = limit)"
   ]
  },
  {
   "cell_type": "code",
   "execution_count": null,
   "metadata": {},
   "outputs": [],
   "source": [
    "pd_comparison_sort_full = pd_comparison.sort_values('delta_full',ascending = False)\n",
    "pd_comparison_sort_full.style.background_gradient(cmap = 'coolwarm', vmin =-limit, vmax = limit)"
   ]
  },
  {
   "cell_type": "code",
   "execution_count": null,
   "metadata": {},
   "outputs": [],
   "source": [
    "-limit"
   ]
  },
  {
   "attachments": {},
   "cell_type": "markdown",
   "metadata": {},
   "source": [
    "Make scaterplots of model performance based on $\\Kappa \\gamma$ and $\\tau$"
   ]
  },
  {
   "cell_type": "code",
   "execution_count": null,
   "metadata": {},
   "outputs": [],
   "source": [
    "columns_periods = pd_comparison.columns\n",
    "unique_models = pd_comparison.index.get_level_values('obs_op_model').unique()\n",
    "\n",
    "figs, axes = plt.subplots(len(unique_models),len(columns_periods), figsize = (12,12), constrained_layout = True)\n",
    "for i,model in enumerate(unique_models):\n",
    "    for j,period in enumerate(columns_periods):\n",
    "        print(str(period) + ', ' + model)\n",
    "        pd_temp = pd_comparison.loc[(model,), period]\n",
    "        pd_temp_unstacked = pd_temp.unstack()\n",
    "        xv, yv = np.meshgrid(pd_temp_unstacked.index.values, \n",
    "                             pd_temp_unstacked.columns.values)\n",
    "        map = axes[i,j].scatter(xv, yv, c = pd_temp_unstacked.values.T,\n",
    "                                norm = colors.SymLogNorm(vmin = -limit, vmax = limit, linthresh = 1e-4), cmap = 'coolwarm')#, vmin = -limit, vmax = limit, cmap = 'coolwarm')\n",
    "        axes[i,j].set_xlabel(r'$\\gamma$ [-]')\n",
    "        axes[i,j].set_ylabel(r'$\\tau$ [h]')\n",
    "        if i == 0:\n",
    "            axes[i,j].set_title(period)\n",
    "        plt.colorbar(map, ax = axes[i,j])\n",
    "    plt.setp(axes[i,0], ylabel = model)\n",
    "#plt.setp(axes[:, 0], ylabel='y axis label')"
   ]
  },
  {
   "cell_type": "code",
   "execution_count": null,
   "metadata": {},
   "outputs": [],
   "source": [
    "unstacked_df = pd_temp.unstack()\n",
    "display(unstacked_df)\n",
    "xv, yv = np.meshgrid(unstacked_df.index.values, unstacked_df.columns.values)\n",
    "plt.scatter(xv, yv, c = unstacked_df.values.T, s= 100)\n",
    "plt.colorbar()\n",
    "plt.title('')"
   ]
  },
  {
   "attachments": {},
   "cell_type": "markdown",
   "metadata": {},
   "source": [
    "## Visualisation of time weighin function"
   ]
  },
  {
   "cell_type": "code",
   "execution_count": null,
   "metadata": {},
   "outputs": [],
   "source": [
    "def tau_weighing(delta_t_abs, tau):\n",
    "    if delta_t_abs < tau/2:\n",
    "        W_t = 1\n",
    "    elif delta_t_abs < tau:\n",
    "        W_t = (tau - delta_t_abs)/(tau/2)\n",
    "    else:\n",
    "        W_t = 0\n",
    "    return W_t\n",
    "weights = [tau_weighing(np.abs(delta_t), 12) for delta_t in np.arange(-20,20,1)]\n",
    "font_size = 13\n",
    "plt.rcParams.update({'font.size': font_size})\n",
    "fig, ax = plt.subplots()\n",
    "ax.plot(np.arange(-20,20), weights)\n",
    "ax.set_ylabel('$W_t$')\n",
    "ax.set_xlabel('$t - t^*$ [u]')\n",
    "pad_pres = Path('Figures/presentation_12_04')\n",
    "if not os.path.exists(pad_pres):\n",
    "    os.makedirs(pad_pres)\n",
    "fig.savefig(pad_pres/'W_t.svg',format = 'svg')\n",
    "plt.rcParams.update(matplotlib.rcParamsDefault)"
   ]
  },
  {
   "attachments": {},
   "cell_type": "markdown",
   "metadata": {},
   "source": [
    "# Old experimens only below "
   ]
  },
  {
   "cell_type": "code",
   "execution_count": null,
   "metadata": {},
   "outputs": [],
   "source": [
    "arrays = [\n",
    "    [\"bar\", \"bar\", \"baz\", \"baz\", \"foo\", \"foo\", \"qux\", \"qux\"],\n",
    "    [\"one\", \"two\", \"one\", \"two\", \"one\", \"two\", \"one\", \"two\"],\n",
    "]\n",
    "tuples = list(zip(*arrays))\n",
    "print(tuples)\n",
    "index = pd.MultiIndex.from_tuples(tuples, names = ['first','second'])\n",
    "print(index)\n",
    "s = pd.Series(np.random.randn(8),index = index)\n",
    "s"
   ]
  },
  {
   "cell_type": "code",
   "execution_count": null,
   "metadata": {},
   "outputs": [],
   "source": [
    "\n"
   ]
  },
  {
   "cell_type": "code",
   "execution_count": null,
   "metadata": {},
   "outputs": [],
   "source": [
    "np.arange(-30,30)"
   ]
  },
  {
   "cell_type": "code",
   "execution_count": null,
   "metadata": {},
   "outputs": [],
   "source": [
    "def NewtonianNudging(Cstar_min, Cstar_obs, gamma, Kappa, delta_t, tau):\n",
    "    W_t = tau_weighing(np.abs(delta_t),tau)\n",
    "    Cstar_plus = Cstar_min + gamma*Kappa*W_t*(Cstar_obs -Cstar_min)\n",
    "    if Cstar_plus != Cstar_min:\n",
    "        import pdb; pdb.set_trace()\n",
    "    return Cstar_plus\n"
   ]
  },
  {
   "cell_type": "code",
   "execution_count": null,
   "metadata": {},
   "outputs": [],
   "source": [
    "def NN_wrapper(i, t, t_obs, t_a,Cstar,C_star_obs):\n",
    "    if np.any(np.abs(t[i] - t_obs) < t_a):\n",
    "        t_assimilated=t_obs[np.abs((t[i] - t_obs)) < t_a]\n",
    "        print(\n",
    "            f'{t[i]} should be assimilated since less than {t_a/2} rmeoved from {t_assimilated}')"
   ]
  },
  {
   "cell_type": "code",
   "execution_count": null,
   "metadata": {},
   "outputs": [],
   "source": [
    "C_star_updated = C_star_mod.copy()\n",
    "for i in range(len(C_star_mod)):\n",
    "    C_star_min = C_star_mod[i]\n",
    "    t_mod_i = t_hour[i]\n",
    "    t_assimilated_index = np.abs(t_mod_i - t_obs).argmin()#t_obs[np.abs((t_hour[i] - t_obs)) < t_a]\n",
    "    t_assimilated = t_obs[t_assimilated_index]\n",
    "    delta_t = t_mod_i - t_assimilated\n",
    "    C_star_updated[i] = NewtonianNudging(C_star_min, Cstar_obs_lin_reg.loc[t_assimilated,:].values[0],0.5,1,delta_t,np.timedelta64(24,'h'))"
   ]
  },
  {
   "cell_type": "code",
   "execution_count": null,
   "metadata": {},
   "outputs": [],
   "source": [
    "t_assimilated \n",
    "Cstar_obs_lin_reg.loc[t_assimilated,:].values[0]"
   ]
  },
  {
   "cell_type": "code",
   "execution_count": null,
   "metadata": {},
   "outputs": [],
   "source": [
    "type(Cstar_obs_lin_reg.index.values)"
   ]
  },
  {
   "cell_type": "code",
   "execution_count": null,
   "metadata": {},
   "outputs": [],
   "source": [
    "pd_zwalm_out = PDM(P=p_zwalm['P_thiessen'].values,\n",
    "                       EP=ep_zwalm['EP_thiessen'].values,\n",
    "                       t=p_zwalm['Timestamp'].values,\n",
    "                       area=area_zwalm_new, deltat=deltat, deltatout=deltat_out,\n",
    "                       parameters=param, m=3, DA = True, Cstar_obs = Cstar_obs_lin_reg.values.flatten(),t_obs = Cstar_obs_lin_reg.index.values, gamma = 0.5, kappa = 1,  tau = np.timedelta64(12,'h'),)\n",
    "pd_zwalm_out_DA = pd_zwalm_out.set_index('Time')\n",
    "pd_zwalm_out = PDM(P=p_zwalm['P_thiessen'].values,\n",
    "                       EP=ep_zwalm['EP_thiessen'].values,\n",
    "                       t=p_zwalm['Timestamp'].values,\n",
    "                       area=area_zwalm_new, deltat=deltat, deltatout=deltat_out,\n",
    "                       parameters=param, m=3, DA = False)\n",
    "pd_zwalm_out = pd_zwalm_out.set_index('Time')\n",
    "\n",
    "fig, ax = plt.subplots()\n",
    "pd_zwalm_out_DA['Cstar'].plot(ylabel='[mm]', ax = ax, label = 'C* DA')\n",
    "pd_zwalm_out['Cstar'].plot(ax = ax, label = 'C* OL')\n",
    "ax.legend()\n",
    "pd_zwalm_out.tail()\n",
    "\n",
    "hvplot.extension('bokeh')\n",
    "pd_zwalm_out_DA['Cstar'].hvplot(ylabel='[mm]',\n",
    "    label = 'C* DA')*pd_zwalm_out['Cstar'].hvplot(label = 'C* OL')\n",
    "\n",
    "Q_obs_daily['Value'].hvplot()\n",
    "\n",
    "Q_obs_daily['Value'].hvplot(label = 'Observed')*pd_zwalm_out_DA[\n",
    "    'qmodm3s'].hvplot(ylabel='[m^3/s]',label = 'DA')*pd_zwalm_out['qmodm3s'].hvplot(label = 'OL',line_dash = 'dotted', frame_width = 800, frame_height = 400)\n",
    "\n",
    "Q_out_diff = pd_zwalm_out_DA['qmodm3s'] - pd_zwalm_out['qmodm3s']\n",
    "Q_out_diff.hvplot()"
   ]
  }
 ],
 "metadata": {
  "kernelspec": {
   "display_name": "thesis",
   "language": "python",
   "name": "python3"
  },
  "language_info": {
   "codemirror_mode": {
    "name": "ipython",
    "version": 3
   },
   "file_extension": ".py",
   "mimetype": "text/x-python",
   "name": "python",
   "nbconvert_exporter": "python",
   "pygments_lexer": "ipython3",
   "version": "3.10.10"
  },
  "orig_nbformat": 4
 },
 "nbformat": 4,
 "nbformat_minor": 2
}
