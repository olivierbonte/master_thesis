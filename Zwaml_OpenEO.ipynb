{
 "cells": [
  {
   "cell_type": "markdown",
   "id": "a7fd849f-d4fc-4936-a901-0f4a21f2d93a",
   "metadata": {},
   "source": [
    "# Zwalm: new processing with OpenEO"
   ]
  },
  {
   "cell_type": "code",
   "execution_count": null,
   "id": "e2afc236-fe4f-4cd0-bfe5-7f167351bd2b",
   "metadata": {},
   "outputs": [],
   "source": [
    "import xarray as xr\n",
    "from pathlib import Path\n",
    "import hvplot.xarray\n",
    "import hvplot.pandas\n",
    "from bokeh.models.formatters import DatetimeTickFormatter\n",
    "import numpy as np\n",
    "import pandas as pd\n",
    "import numpy.ma as ma\n",
    "from joblib import Parallel, delayed\n",
    "import matplotlib.pyplot as plt\n",
    "import datetime\n",
    "import geopandas as gpd\n",
    "from pathlib import Path\n",
    "#own functions\n",
    "from functions.PDM import PDM\n",
    "from functions.performance_metrics import NSE\n",
    "from holoviews import opts\n",
    "\n",
    "%load_ext autoreload\n",
    "%autoreload 2"
   ]
  },
  {
   "cell_type": "markdown",
   "id": "88d27903-f4d7-4a5d-8a10-99d3fca1592d",
   "metadata": {},
   "source": [
    "## Visualisation of pre-processed data"
   ]
  },
  {
   "cell_type": "markdown",
   "id": "b3cb60ad-3ce1-4398-bc81-e24816c9ffd7",
   "metadata": {},
   "source": [
    "### $\\sigma_0$ backscatter"
   ]
  },
  {
   "cell_type": "markdown",
   "id": "4d4991f0-5a91-480d-857f-2cacc6e3e00f",
   "metadata": {},
   "source": [
    "#### Raster"
   ]
  },
  {
   "cell_type": "code",
   "execution_count": null,
   "id": "b3bc17ca-242d-421e-b398-f6ffdf963a64",
   "metadata": {},
   "outputs": [],
   "source": [
    "s1_xr = xr.open_dataset('data/s0_OpenEO/S0_zwalm_landuse.nc', decode_coords= 'all')\n",
    "s1_xr = s1_xr.chunk({'t':20})\n",
    "s1_xr"
   ]
  },
  {
   "cell_type": "code",
   "execution_count": null,
   "id": "ab343482-48e4-402e-a9be-cc6e774f2a45",
   "metadata": {},
   "outputs": [],
   "source": [
    "s1_xr['VV_db'].hvplot.image('x','y', geo = True, crs = 32631, \n",
    "                            tiles = 'OSM', cmap = 'bwr', frame_width = 320,\n",
    "                            rasterize = True) + s1_xr['landuse'].hvplot.image(\n",
    "    'x','y',geo = True, crs = 32631, cmap = 'viridis', frame_width = 320, tiles = 'OSM')"
   ]
  },
  {
   "cell_type": "markdown",
   "id": "c8f48b2c-5069-473d-800a-7fe1be7f4233",
   "metadata": {},
   "source": [
    "#### Timeseries"
   ]
  },
  {
   "cell_type": "code",
   "execution_count": null,
   "id": "850a36c7-be93-424c-8e26-2f3c6d9ea4ff",
   "metadata": {},
   "outputs": [],
   "source": [
    "s1_pd = pd.read_csv('data/s0_OpenEO/s1_timeseries.csv',index_col ='t', parse_dates=True)\n",
    "s1_pd.head()"
   ]
  },
  {
   "cell_type": "code",
   "execution_count": null,
   "id": "562f3342-75e5-41e6-bacb-32467bfe554f",
   "metadata": {},
   "outputs": [],
   "source": [
    "s1_pd_ascending = s1_pd[s1_pd['Orbitdirection'] == 'ascending']\n",
    "s1_pd_descending = s1_pd[s1_pd['Orbitdirection'] == 'descending']\n",
    "cols = s1_pd.columns\n",
    "VV_cols = cols[0:5]\n",
    "#formatter = DatetimeTickFormatter(months='%b %Y')\n",
    "s1_pd_ascending[VV_cols].hvplot(title = 'Ascending')"
   ]
  },
  {
   "cell_type": "code",
   "execution_count": null,
   "id": "cd2fd788-24dd-49be-aad0-39d3dbbd2f80",
   "metadata": {},
   "outputs": [],
   "source": [
    "s1_pd_descending[VV_cols].hvplot.line(title = 'Descending')"
   ]
  },
  {
   "cell_type": "markdown",
   "id": "4ec14b7a-0531-4600-b36f-3c77bab89d59",
   "metadata": {},
   "source": [
    "### LAI"
   ]
  },
  {
   "cell_type": "markdown",
   "id": "d82964f4-fee1-430d-9435-ec095ca8c4cc",
   "metadata": {},
   "source": [
    "#### Raster"
   ]
  },
  {
   "cell_type": "code",
   "execution_count": null,
   "id": "de024ecb-1d6b-43b0-ad5d-9d6f25a948fb",
   "metadata": {},
   "outputs": [],
   "source": [
    "LAI_xr = xr.open_dataset('data/LAI/LAI_cube_Zwalm_landuse.nc')\n",
    "LAI_xr['LAI_pv'].hvplot.image('x','y',geo = True, frame_width = 350, tiles = 'OSM',cmap = 'cividis')\n"
   ]
  },
  {
   "cell_type": "markdown",
   "id": "f8261fcc-ff77-4c9c-aecb-991069f79f6d",
   "metadata": {},
   "source": [
    "#### Timeseries"
   ]
  },
  {
   "cell_type": "code",
   "execution_count": null,
   "id": "9e4b9c66-73ec-4a5e-a47d-2a096e88265a",
   "metadata": {},
   "outputs": [],
   "source": [
    "LAI_pd = pd.read_csv('data/LAI/LAI_timeseries.csv',index_col = 't', parse_dates=True)\n",
    "display(LAI_pd.head())\n",
    "LAI_cols = LAI_pd.columns[0:4]\n",
    "print(LAI_cols)"
   ]
  },
  {
   "cell_type": "code",
   "execution_count": null,
   "id": "2d60513b-5e50-462c-b754-ed214dd82090",
   "metadata": {},
   "outputs": [],
   "source": [
    "fig, ax = plt.subplots(figsize = (15,10))\n",
    "LAI_pd[LAI_cols].plot(ax = ax, marker = '.')\n",
    "s1_pd[LAI_cols].plot.line(marker = '.', ax = ax, linestyle = 'None')"
   ]
  },
  {
   "cell_type": "markdown",
   "id": "bde8f9ba-249d-4c3c-b0d8-31fed68d95e1",
   "metadata": {},
   "source": [
    "## PDM"
   ]
  },
  {
   "cell_type": "markdown",
   "id": "eb97ded2-a19b-469e-84bc-4c3434043c16",
   "metadata": {},
   "source": [
    "### Basic use"
   ]
  },
  {
   "cell_type": "markdown",
   "id": "71d47300-c9d9-48cc-b227-e5ab49269e64",
   "metadata": {},
   "source": [
    "Model parameters van de Zwalm zoals verschaft door Pieter Cabus tijdens de Bachelorpoef! zie [link](data\\Zwalm_data\\342-PDMup_Zwalm.pdm). Bemerk dat vrij gelijkaardige (maar toch licht andere data wordt) gebruikt in [paper uit 2006](data\\Zwalm_data\\parameters_cabus.pdf)"
   ]
  },
  {
   "cell_type": "code",
   "execution_count": null,
   "id": "90dac46a-85f9-49d1-a08d-a66fdb9d67b4",
   "metadata": {},
   "outputs": [],
   "source": [
    "parameters = pd.DataFrame({\n",
    "    'cmax': 400.60999,\n",
    "    'cmin':87.67600,\n",
    "    'b':0.60000,\n",
    "    'be':3.00000,\n",
    "    'k1':8.00000,\n",
    "    'k2':0.70000,\n",
    "    'kb':5.04660,\n",
    "    'kg':9000.00000,\n",
    "    'St': 0.43043,\n",
    "    'bg':1.00000,\n",
    "    'tdly':2.00000,\n",
    "    'qconst':0.00000,\n",
    "    'rainfac':0.00000\n",
    "}, dtype = np.float32, index =[0])\n",
    "parameters"
   ]
  },
  {
   "cell_type": "markdown",
   "id": "96f84488-0ac2-4020-ab59-8f075dcf8ea0",
   "metadata": {},
   "source": [
    "Also area taken from Cabus (not from own Area cf `Zwalm.ipynb`)"
   ]
  },
  {
   "cell_type": "code",
   "execution_count": null,
   "id": "a868d24b-7add-4fe9-a6af-18ebe178a040",
   "metadata": {},
   "outputs": [],
   "source": [
    "area_zwalm = np.single(109.2300034)"
   ]
  },
  {
   "cell_type": "markdown",
   "id": "bd37c3b2-306e-482f-a3ea-dcdd4452b9af",
   "metadata": {},
   "source": [
    "new timeseries data from pywaterinfo"
   ]
  },
  {
   "cell_type": "code",
   "execution_count": null,
   "id": "4c336ec2-55d0-418b-9ba2-3fda662dee52",
   "metadata": {},
   "outputs": [],
   "source": [
    "preprocess_output_folder = Path('data/Zwalm_data/preprocess_output')\n",
    "p_zwalm = pd.read_pickle(preprocess_output_folder/'zwalm_p_thiessen.pkl')\n",
    "display(p_zwalm.hvplot(x = 'Timestamp', y =['Elst','P_thiessen']))\n",
    "display(p_zwalm.head(3))"
   ]
  },
  {
   "cell_type": "code",
   "execution_count": null,
   "id": "f187831f-c961-4033-9b36-92d1f0c933ac",
   "metadata": {},
   "outputs": [],
   "source": [
    "ep_zwalm = pd.read_pickle(preprocess_output_folder/'zwalm_ep_thiessen.pkl')\n",
    "ep_zwalm.hvplot(x = 'Timestamp', y = ['Liedekerke','Waregem','EP_thiessen'])"
   ]
  },
  {
   "cell_type": "code",
   "execution_count": null,
   "id": "8f29307a-18bb-4e0e-924b-f64f2f26712f",
   "metadata": {},
   "outputs": [],
   "source": [
    "print(len(ep_zwalm[np.isnan(ep_zwalm['EP_thiessen'])]))"
   ]
  },
  {
   "cell_type": "markdown",
   "id": "5575731f-d632-4d2b-9851-3220f9dcfd54",
   "metadata": {},
   "source": [
    "Temporary fix: replace by 0"
   ]
  },
  {
   "cell_type": "code",
   "execution_count": null,
   "id": "81adfc2e-93f4-433c-ab2d-bf0d6ffecfdf",
   "metadata": {},
   "outputs": [],
   "source": [
    "ep_zwalm.loc[np.isnan(ep_zwalm['EP_thiessen']),'EP_thiessen'] = 0 "
   ]
  },
  {
   "cell_type": "code",
   "execution_count": null,
   "id": "9c7004bc-4f10-4494-9345-4e23139ca88c",
   "metadata": {},
   "outputs": [],
   "source": [
    "pywaterinfo_output_folder = Path(\"data/Zwalm_data/pywaterinfo_output\")\n",
    "Q_hour = pd.read_pickle(pywaterinfo_output_folder/\"Q_hour.pkl\")\n",
    "Q_day = pd.read_pickle(pywaterinfo_output_folder/\"Q_day.pkl\")\n",
    "display(Q_hour.head(2))\n",
    "display(Q_day.head(2))"
   ]
  },
  {
   "cell_type": "markdown",
   "id": "4bd936b7-31e1-4be3-aee4-89697c592d7c",
   "metadata": {},
   "source": [
    "Running the model"
   ]
  },
  {
   "cell_type": "code",
   "execution_count": null,
   "id": "2e2fd7a5-ed90-406a-b0bc-fe2b85e3d59a",
   "metadata": {},
   "outputs": [],
   "source": [
    "deltat = np.array(1,dtype = np.float32) #hour\n",
    "deltat_out = np.array(24, dtype = np.float32) #daily averaging\n",
    "pd_zwalm_out_day = PDM(P = p_zwalm['P_thiessen'].values, \n",
    "    EP = ep_zwalm['EP_thiessen'].values,\n",
    "    t = p_zwalm['Timestamp'].values,\n",
    "    area = area_zwalm, deltat = deltat, deltatout = deltat_out ,\n",
    "    parameters = parameters)"
   ]
  },
  {
   "attachments": {},
   "cell_type": "markdown",
   "id": "a57ed989",
   "metadata": {},
   "source": [
    "Time how long the function take this run (includes new numba compiler)"
   ]
  },
  {
   "cell_type": "code",
   "execution_count": null,
   "id": "9d13ce2c",
   "metadata": {},
   "outputs": [],
   "source": [
    "import warnings\n",
    "warnings.filterwarnings('ignore', category=RuntimeWarning)\n",
    "%timeit pd_zwalm_out_day = PDM(P = p_zwalm['P_thiessen'].values, EP = ep_zwalm['EP_thiessen'].values,t = p_zwalm['Timestamp'].values,area = area_zwalm, deltat = deltat, deltatout = deltat_out ,parameters = parameters)"
   ]
  },
  {
   "cell_type": "code",
   "execution_count": null,
   "id": "1312e2ad-ebae-4208-9470-b49b65390581",
   "metadata": {},
   "outputs": [],
   "source": [
    "display(pd_zwalm_out_day.head())\n",
    "pd_zwalm_out_day['q_obs'] = Q_day['Value']\n",
    "pd_zwalm_out_day.hvplot(x = 'Time', y = ['qmodm3s','q_obs'], title = 'Flow on daily basis')"
   ]
  },
  {
   "cell_type": "code",
   "execution_count": null,
   "id": "92c01153-4b7d-49ca-8309-bad79fb6528c",
   "metadata": {},
   "outputs": [],
   "source": [
    "pd_zwalm_out_day.hvplot(x = 'Time', y = ['S1','Cstar'])"
   ]
  },
  {
   "cell_type": "markdown",
   "id": "46702732-4f2c-48a0-a601-423c0956aa82",
   "metadata": {},
   "source": [
    "NSE calculation. Take first day of Sentinel data as start!"
   ]
  },
  {
   "cell_type": "code",
   "execution_count": null,
   "id": "60ab42f6-11f8-4269-97f1-550dab74ff4f",
   "metadata": {},
   "outputs": [],
   "source": [
    "first_day_sentinel = s1_pd.index[0]\n",
    "print(first_day_sentinel)"
   ]
  },
  {
   "cell_type": "code",
   "execution_count": null,
   "id": "47ec4471-2306-4060-8b08-617701416883",
   "metadata": {},
   "outputs": [],
   "source": [
    "pd_zwalm_out_day_NSE = pd_zwalm_out_day.set_index('Time')[first_day_sentinel:]\n",
    "nse_daily_new = NSE(pd_zwalm_out_day_NSE['qmodm3s'],pd_zwalm_out_day_NSE['q_obs'])\n",
    "print('NSE of data interpolated with Thiessen polygons on a daily basis:' + str(nse_daily_new))"
   ]
  },
  {
   "cell_type": "markdown",
   "id": "1dfac7d1-6818-47ea-b7e4-bb1b4276c6d5",
   "metadata": {},
   "source": [
    "### Calibration for better performance"
   ]
  },
  {
   "cell_type": "markdown",
   "id": "56cc5d40-b2be-4c5d-bad4-6b3b053eb063",
   "metadata": {},
   "source": [
    "## C* compared to backscatter"
   ]
  },
  {
   "cell_type": "code",
   "execution_count": null,
   "id": "a6ea6019-431a-4c05-b0a8-c73038f954d4",
   "metadata": {},
   "outputs": [],
   "source": [
    "merge_prep = pd_zwalm_out_day.rename(columns = {'Time':'t'})\n",
    "merge_prep = merge_prep.set_index('t')\n",
    "pd_compare = s1_pd.merge(merge_prep, on = 't', how = 'left')\n",
    "pd_compare.head()"
   ]
  },
  {
   "cell_type": "markdown",
   "id": "fa79711d-698d-46e2-b1f9-fe775f35ed6b",
   "metadata": {},
   "source": [
    "### Orbits and landuses combined"
   ]
  },
  {
   "cell_type": "code",
   "execution_count": null,
   "id": "f3e7634f-47fe-427b-b66b-795adaa6a6a6",
   "metadata": {},
   "outputs": [],
   "source": [
    "fig, ax = plt.subplots(figsize = (17,5))\n",
    "ax2 = ax.twinx()\n",
    "pd_zwalm_out_day_plot = pd_zwalm_out_day.set_index('Time')\n",
    "pd_zwalm_out_day_plot['Cstar'].plot.line(ax = ax, color = 'blue')\n",
    "s1_pd['VV_avg'].plot.line(ax = ax2, color = 'red', alpha = 0.8)\n",
    "\n",
    "ax2.set_ylabel('Backscatter',color = 'red')\n",
    "ax.set_ylabel('Cstar', color = 'blue')"
   ]
  },
  {
   "cell_type": "code",
   "execution_count": null,
   "id": "b8f13be8-c08a-45a8-a50e-b2c5b651e899",
   "metadata": {},
   "outputs": [],
   "source": [
    "print('Pearson correlation')\n",
    "display(pd_compare[['VV_avg','Cstar']].corr())\n",
    "print('Spearman correlation')\n",
    "display(pd_compare[['VV_avg','Cstar']].corr('spearman'))"
   ]
  },
  {
   "cell_type": "markdown",
   "id": "8dc818e6-5355-4b73-945f-345ad2dcbe2a",
   "metadata": {},
   "source": [
    "### Orbits seperated, landuses combined"
   ]
  },
  {
   "cell_type": "code",
   "execution_count": null,
   "id": "f882a701-540a-4100-a417-262e1c4c8d55",
   "metadata": {},
   "outputs": [],
   "source": [
    "fig, (ax1, ax2) = plt.subplots(2,1, figsize = (17,10))\n",
    "\n",
    "#ascending\n",
    "ax1_2 = ax1.twinx()\n",
    "pd_zwalm_out_day_plot['Cstar'].plot.line(ax = ax1, color = 'blue')\n",
    "s1_pd_ascending['VV_avg'].plot.line(ax = ax1_2, color = 'red', alpha = 0.8)\n",
    "\n",
    "ax1.set_ylabel('Backscatter',color = 'red')\n",
    "ax1_2.set_ylabel('Cstar', color = 'blue')\n",
    "ax1.set_title('Ascending')\n",
    "\n",
    "#descending\n",
    "ax2_2 = ax2.twinx()\n",
    "pd_zwalm_out_day_plot['Cstar'].plot.line(ax = ax2, color = 'blue')\n",
    "s1_pd_descending['VV_avg'].plot.line(ax = ax2_2, color = 'red', alpha = 0.8)\n",
    "\n",
    "ax2_2.set_ylabel('Backscatter',color = 'red')\n",
    "ax2.set_ylabel('Cstar', color = 'blue')\n",
    "ax2.set_title('Descending')\n"
   ]
  },
  {
   "cell_type": "code",
   "execution_count": null,
   "id": "71bfcf38-ad2d-48ba-92ae-0085153be810",
   "metadata": {},
   "outputs": [],
   "source": [
    "print('Pearson correlation')\n",
    "display(pd_compare[['VV_avg','Cstar','Orbitdirection']].groupby('Orbitdirection').corr())\n",
    "print('Spearman correlation')\n",
    "display(pd_compare[['VV_avg','Cstar','Orbitdirection']].groupby('Orbitdirection').corr('spearman'))"
   ]
  },
  {
   "cell_type": "markdown",
   "id": "810a3ac4-24f2-457a-ad95-86092c13f321",
   "metadata": {},
   "source": [
    "Appraently ascending has better correlation than descending. Analogous to what was earlier obtained on gamma0_data"
   ]
  },
  {
   "cell_type": "markdown",
   "id": "bde6326c-1e27-4aba-9be7-be4516fe1cc4",
   "metadata": {},
   "source": [
    "### Orbits and landuses seperated"
   ]
  },
  {
   "cell_type": "code",
   "execution_count": null,
   "id": "dea50531-b9f0-4ca1-9327-ce6c09498828",
   "metadata": {},
   "outputs": [],
   "source": [
    "sel_col = s1_pd.columns[0:5]\n",
    "print(sel_col)"
   ]
  },
  {
   "cell_type": "code",
   "execution_count": null,
   "id": "23989ce6-de5e-4beb-a3eb-4d928e337872",
   "metadata": {},
   "outputs": [],
   "source": [
    "fig, (ax1, ax2) = plt.subplots(2,1, figsize = (17,10))\n",
    "\n",
    "#ascending\n",
    "ax1_2 = ax1.twinx()\n",
    "pd_zwalm_out_day_plot['Cstar'].plot.line(ax = ax1, color = 'fuchsia', label = 'Cstar')\n",
    "s1_pd_ascending[sel_col].plot.line(ax = ax1_2)\n",
    "\n",
    "ax1.legend(loc = 'upper left')\n",
    "ax1_2.legend(loc = 'upper right')\n",
    "ax1_2.set_ylabel('Backscatter')\n",
    "ax1.set_ylabel('Cstar', color = 'fuchsia')\n",
    "ax1.set_title('Ascending')\n",
    "\n",
    "#descending\n",
    "ax2_2 = ax2.twinx()\n",
    "pd_zwalm_out_day_plot['Cstar'].plot.line(ax = ax2, color = 'fuchsia', label = 'Cstar')\n",
    "s1_pd_descending[sel_col].plot.line(ax = ax2_2)\n",
    "\n",
    "ax2_2.legend(loc = 'upper right')\n",
    "ax2.legend(loc = 'upper left')\n",
    "ax2_2.set_ylabel('Backscatter')\n",
    "ax2.set_ylabel('Cstar', color = 'fuchsia')\n",
    "ax2.set_title('Descending')"
   ]
  },
  {
   "cell_type": "code",
   "execution_count": null,
   "id": "95fdafe7-d6ad-4007-b083-7b430bd762e5",
   "metadata": {},
   "outputs": [],
   "source": [
    "list_col = sel_col.to_list()\n",
    "list_col.append('Orbitdirection')\n",
    "list_col.append('Cstar')\n",
    "list_col.append('VV_avg')\n",
    "corr_pd = pd_compare[list_col].groupby('Orbitdirection').corr()\n",
    "corr_pd.loc[:]['Cstar']"
   ]
  },
  {
   "cell_type": "markdown",
   "id": "948093ff-bb44-4b69-9250-81896c363879",
   "metadata": {},
   "source": [
    "Conlusions:\n",
    "- Pasture = best correlation\n",
    "- Water: good correlation BUT only a very small amount of gridcells have this correlation => do not use\n",
    "- Agriculutre: no good correlation, but this can probably be explained by the vegetation on the fields!\n",
    "\n",
    "Visualising the best correlation: pasture!"
   ]
  },
  {
   "cell_type": "code",
   "execution_count": null,
   "id": "e6c0655d-1e53-4219-a344-a8daf68a95fe",
   "metadata": {},
   "outputs": [],
   "source": [
    "fig, (ax1, ax2) = plt.subplots(2,1, figsize = (17,10))\n",
    "\n",
    "#ascending\n",
    "ax1_2 = ax1.twinx()\n",
    "pd_zwalm_out_day_plot['Cstar'].plot.line(ax = ax1, color = 'blue')\n",
    "s1_pd_ascending['VVPasture'].plot.line(ax = ax1_2, color = 'red', alpha = 0.8)\n",
    "\n",
    "ax1_2.set_ylabel(f'Backscatter: $\\sigma_0$ [dB]',color = 'red')\n",
    "ax1.set_ylabel('$C*$ [mm]', color = 'blue')\n",
    "ax1.set_title('Ascending: pasture')\n",
    "\n",
    "#descending\n",
    "ax2_2 = ax2.twinx()\n",
    "pd_zwalm_out_day_plot['Cstar'].plot.line(ax = ax2, color = 'blue')\n",
    "s1_pd_descending['VVPasture'].plot.line(ax = ax2_2, color = 'red', alpha = 0.8)\n",
    "\n",
    "ax2_2.set_ylabel(f'Backscatter: $\\sigma_0$ [dB]',color = 'red')\n",
    "ax2.set_ylabel('$C*$ [mm]', color = 'blue')\n",
    "ax2.set_title('Descending: pasture')"
   ]
  },
  {
   "cell_type": "code",
   "execution_count": null,
   "id": "734f760b-5dd1-4ecd-baa7-f390691f705d",
   "metadata": {},
   "outputs": [],
   "source": []
  }
 ],
 "metadata": {
  "kernelspec": {
   "display_name": "thesis",
   "language": "python",
   "name": "python3"
  },
  "language_info": {
   "codemirror_mode": {
    "name": "ipython",
    "version": 3
   },
   "file_extension": ".py",
   "mimetype": "text/x-python",
   "name": "python",
   "nbconvert_exporter": "python",
   "pygments_lexer": "ipython3",
   "version": "3.10.6"
  },
  "toc-autonumbering": true,
  "vscode": {
   "interpreter": {
    "hash": "a6b8480143e45034b950661dc46ed3131c1d39c9fcb21ab7eff1dd297a31067d"
   }
  }
 },
 "nbformat": 4,
 "nbformat_minor": 5
}
