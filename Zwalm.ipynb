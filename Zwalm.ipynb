{
 "cells": [
  {
   "cell_type": "markdown",
   "metadata": {},
   "source": [
    "# Zwalm"
   ]
  },
  {
   "cell_type": "code",
   "execution_count": null,
   "metadata": {},
   "outputs": [],
   "source": [
    "import xarray as xr\n",
    "from pathlib import Path\n",
    "import hvplot.xarray\n",
    "import numpy as np\n",
    "import numpy.ma as ma\n",
    "from joblib import Parallel, delayed\n",
    "import matplotlib.pyplot as plt"
   ]
  },
  {
   "cell_type": "markdown",
   "metadata": {},
   "source": [
    "## Make 1 Dataset"
   ]
  },
  {
   "cell_type": "code",
   "execution_count": null,
   "metadata": {},
   "outputs": [],
   "source": [
    "zwalm_xr = xr.open_mfdataset('data/g0_020m_Zwalm/*_110_Zwalm.nc')"
   ]
  },
  {
   "cell_type": "code",
   "execution_count": null,
   "metadata": {},
   "outputs": [],
   "source": [
    "zwalm_xr"
   ]
  },
  {
   "cell_type": "markdown",
   "metadata": {},
   "source": [
    "## Plotting"
   ]
  },
  {
   "cell_type": "code",
   "execution_count": null,
   "metadata": {},
   "outputs": [],
   "source": [
    "zwalm_xr['g0vv'].hvplot.image(geo = True, tiles = 'OSM', cmap = 'cividis', frame_width = 350, alpha = 0.8)"
   ]
  },
  {
   "cell_type": "code",
   "execution_count": null,
   "metadata": {},
   "outputs": [],
   "source": [
    "zwalm_xr['lia'].hvplot.image(geo = True, tiles = 'OSM', cmap = 'cividis', frame_width = 350)"
   ]
  },
  {
   "cell_type": "markdown",
   "metadata": {},
   "source": [
    "## Average backscatter timeseries"
   ]
  },
  {
   "cell_type": "code",
   "execution_count": null,
   "metadata": {},
   "outputs": [],
   "source": [
    "zwalm_xr['g0vv_abs'] = 10**(zwalm_xr['g0vv']/10)\n",
    "zwalm_xr['g0vv_abs'].attrs['grid_mapping'] = 'crs'\n",
    "zwalm_xr"
   ]
  },
  {
   "cell_type": "code",
   "execution_count": null,
   "metadata": {},
   "outputs": [],
   "source": [
    "zwalm_xr['g0vv_abs'].hvplot.image(geo = True, tiles = 'OSM', cmap = 'cividis', frame_width = 350)"
   ]
  },
  {
   "cell_type": "markdown",
   "metadata": {},
   "source": [
    "Duidelijk dat veel reflectie in zottegem => overwegen om deze waarden er uit te laten? Want hier is infrastructuur eerder...\n"
   ]
  },
  {
   "cell_type": "code",
   "execution_count": null,
   "metadata": {},
   "outputs": [],
   "source": [
    "zwalm_xr['g0vv_av_timeseries'] = 10*np.log10(zwalm_xr['g0vv_abs'].mean(dim = ['lat','lon']))\n",
    "zwalm_xr"
   ]
  },
  {
   "cell_type": "code",
   "execution_count": null,
   "metadata": {},
   "outputs": [],
   "source": [
    "zwalm_xr['g0vv_av_timeseries'].plot()"
   ]
  },
  {
   "cell_type": "code",
   "execution_count": null,
   "metadata": {},
   "outputs": [],
   "source": [
    "zwalm_xr['g0vv_av_timeseries'].hvplot()"
   ]
  },
  {
   "cell_type": "markdown",
   "metadata": {},
   "source": [
    "## Correlation between angle of incidene and g0vv backscatter"
   ]
  },
  {
   "cell_type": "markdown",
   "metadata": {},
   "source": [
    "Over the entire dataset"
   ]
  },
  {
   "cell_type": "code",
   "execution_count": null,
   "metadata": {},
   "outputs": [],
   "source": [
    "ma.corrcoef(ma.masked_invalid(zwalm_xr['g0vv'].values.flatten()), \n",
    "            ma.masked_invalid(zwalm_xr['lia'].values.flatten()))"
   ]
  },
  {
   "cell_type": "markdown",
   "metadata": {},
   "source": [
    "So very low correlation of only 0.029! Seems to indicate negligible correlation, which is wanted."
   ]
  },
  {
   "cell_type": "code",
   "execution_count": null,
   "metadata": {},
   "outputs": [],
   "source": [
    "stacked = zwalm_xr.stack(latlon = ['lat','lon'])\n",
    "stacked"
   ]
  },
  {
   "cell_type": "code",
   "execution_count": null,
   "metadata": {},
   "outputs": [],
   "source": [
    "corr = xr.corr(stacked['g0vv'],stacked['lia'], dim = \"time\").unstack()\n",
    "corr"
   ]
  },
  {
   "cell_type": "code",
   "execution_count": null,
   "metadata": {},
   "outputs": [],
   "source": [
    "zwalm_xr['corr_g0vv_lia'] = corr\n",
    "zwalm_xr['corr_g0vv_lia'].attrs['grid_mapping'] = 'crs'\n",
    "zwalm_xr"
   ]
  },
  {
   "cell_type": "code",
   "execution_count": null,
   "metadata": {},
   "outputs": [],
   "source": [
    "fig, ax = plt.subplots()\n",
    "bins = corr.plot.hist(bins = 'auto', density = True, ax = ax)\n",
    "ax.set_title('Distribution of correlation between backscatter and angle of incidence for every pixel')"
   ]
  },
  {
   "cell_type": "markdown",
   "metadata": {},
   "source": [
    "Conclusion: as the correlations seem to be normally distributed around zero, no corrections seems necessary for this correlation? "
   ]
  },
  {
   "cell_type": "code",
   "execution_count": null,
   "metadata": {},
   "outputs": [],
   "source": [
    "corr.hvplot(geo = True, cmap = 'RdBu', frame_width = 350)"
   ]
  },
  {
   "cell_type": "markdown",
   "metadata": {},
   "source": []
  }
 ],
 "metadata": {
  "kernelspec": {
   "display_name": "Python 3 (ipykernel)",
   "language": "python",
   "name": "python3"
  },
  "language_info": {
   "codemirror_mode": {
    "name": "ipython",
    "version": 3
   },
   "file_extension": ".py",
   "mimetype": "text/x-python",
   "name": "python",
   "nbconvert_exporter": "python",
   "pygments_lexer": "ipython3",
   "version": "3.10.6"
  },
  "vscode": {
   "interpreter": {
    "hash": "a6b8480143e45034b950661dc46ed3131c1d39c9fcb21ab7eff1dd297a31067d"
   }
  }
 },
 "nbformat": 4,
 "nbformat_minor": 4
}
