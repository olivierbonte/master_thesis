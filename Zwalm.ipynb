{
 "cells": [
  {
   "cell_type": "markdown",
   "metadata": {},
   "source": [
    "# Zwalm"
   ]
  },
  {
   "cell_type": "code",
   "execution_count": null,
   "metadata": {},
   "outputs": [],
   "source": [
    "import xarray as xr\n",
    "from pathlib import Path\n",
    "import hvplot.xarray\n",
    "import hvplot.pandas\n",
    "import numpy as np\n",
    "import pandas as pd\n",
    "import numpy.ma as ma\n",
    "from joblib import Parallel, delayed\n",
    "import matplotlib.pyplot as plt\n",
    "import datetime\n",
    "import geopandas as gpd\n",
    "from pathlib import Path\n",
    "#own functions\n",
    "from functions.PDM import PDM\n",
    "from functions.performance_metrics import NSE\n",
    "from holoviews import opts\n",
    "\n",
    "%load_ext autoreload\n",
    "%autoreload 2"
   ]
  },
  {
   "cell_type": "markdown",
   "metadata": {},
   "source": [
    "## Test band 161"
   ]
  },
  {
   "cell_type": "code",
   "execution_count": null,
   "metadata": {},
   "outputs": [],
   "source": [
    "zwalm_161 = xr.open_mfdataset('data/g0_020m_Zwalm/*_161_Zwalm.nc') \n",
    "#concat_dim = 'time', combine = 'nested', coords = 'minimal')\n",
    "zwalm_161"
   ]
  },
  {
   "cell_type": "code",
   "execution_count": null,
   "metadata": {},
   "outputs": [],
   "source": [
    "zwalm_161['g0vv'].hvplot.image(geo = True,tiles = 'OSM')"
   ]
  },
  {
   "cell_type": "markdown",
   "metadata": {},
   "source": [
    "## Make 1 Dataset of all orbits"
   ]
  },
  {
   "cell_type": "code",
   "execution_count": null,
   "metadata": {},
   "outputs": [],
   "source": [
    "zwalm_xr = xr.open_mfdataset('data/g0_020m_Zwalm/*_1**_Zwalm.nc')"
   ]
  },
  {
   "cell_type": "code",
   "execution_count": null,
   "metadata": {},
   "outputs": [],
   "source": [
    "zwalm_xr"
   ]
  },
  {
   "cell_type": "code",
   "execution_count": null,
   "metadata": {},
   "outputs": [],
   "source": [
    "np.unique(zwalm_xr['satellite'].values)"
   ]
  },
  {
   "cell_type": "code",
   "execution_count": null,
   "metadata": {},
   "outputs": [],
   "source": [
    "np.unique(zwalm_xr['orbit'].values)"
   ]
  },
  {
   "cell_type": "markdown",
   "metadata": {},
   "source": [
    "## Plotting"
   ]
  },
  {
   "cell_type": "code",
   "execution_count": null,
   "metadata": {},
   "outputs": [],
   "source": [
    "zwalm_xr['g0vv'].hvplot.image(geo = True, tiles = 'OSM', cmap = 'coolwarm', frame_width = 350, alpha = 0.8)"
   ]
  },
  {
   "cell_type": "code",
   "execution_count": null,
   "metadata": {},
   "outputs": [],
   "source": [
    "zwalm_xr['lia'].hvplot.image(geo = True, tiles = 'OSM', cmap = 'cividis', frame_width = 350)"
   ]
  },
  {
   "cell_type": "markdown",
   "metadata": {},
   "source": [
    "## Average backscatter timeseries"
   ]
  },
  {
   "cell_type": "code",
   "execution_count": null,
   "metadata": {},
   "outputs": [],
   "source": [
    "zwalm_xr['g0vv_abs'] = 10**(zwalm_xr['g0vv']/10)\n",
    "zwalm_xr['g0vv_abs'].attrs['grid_mapping'] = 'crs'\n",
    "zwalm_xr"
   ]
  },
  {
   "cell_type": "code",
   "execution_count": null,
   "metadata": {},
   "outputs": [],
   "source": [
    "zwalm_xr['g0vv_abs'].hvplot.image(geo = True, tiles = 'OSM', cmap = 'cividis', frame_width = 350)"
   ]
  },
  {
   "cell_type": "markdown",
   "metadata": {},
   "source": [
    "Duidelijk dat veel reflectie in zottegem => overwegen om deze waarden er uit te laten? Want hier is infrastructuur eerder...\n"
   ]
  },
  {
   "cell_type": "code",
   "execution_count": null,
   "metadata": {},
   "outputs": [],
   "source": [
    "zwalm_xr['g0vv_av_timeseries'] = 10*np.log10(zwalm_xr['g0vv_abs'].mean(dim = ['lat','lon']))\n",
    "zwalm_xr"
   ]
  },
  {
   "cell_type": "code",
   "execution_count": null,
   "metadata": {},
   "outputs": [],
   "source": [
    "zwalm_xr['g0vv_av_timeseries'].plot()"
   ]
  },
  {
   "cell_type": "code",
   "execution_count": null,
   "metadata": {},
   "outputs": [],
   "source": [
    "zwalm_xr['g0vv_av_timeseries'].hvplot()"
   ]
  },
  {
   "cell_type": "markdown",
   "metadata": {},
   "source": [
    "Plot timeseries for the 2 oribts seperately"
   ]
  },
  {
   "cell_type": "code",
   "execution_count": null,
   "metadata": {},
   "outputs": [],
   "source": [
    "dr_110 = zwalm_xr['g0vv_av_timeseries'][zwalm_xr['orbit']==110]\n",
    "dr_161 = zwalm_xr['g0vv_av_timeseries'][zwalm_xr['orbit']==161]"
   ]
  },
  {
   "cell_type": "code",
   "execution_count": null,
   "metadata": {},
   "outputs": [],
   "source": [
    "fig, ax = plt.subplots()\n",
    "dr_110.plot(ax = ax, label = 'orbit 110')\n",
    "dr_161.plot(ax = ax, label = 'orbit 161')\n",
    "ax.legend()"
   ]
  },
  {
   "cell_type": "markdown",
   "metadata": {},
   "source": [
    "### Write out all the preprocessed data"
   ]
  },
  {
   "cell_type": "markdown",
   "metadata": {},
   "source": []
  },
  {
   "cell_type": "markdown",
   "metadata": {},
   "source": [
    "## PDM for Zwalm"
   ]
  },
  {
   "cell_type": "code",
   "execution_count": null,
   "metadata": {},
   "outputs": [],
   "source": [
    "# nonan = True"
   ]
  },
  {
   "attachments": {},
   "cell_type": "markdown",
   "metadata": {},
   "source": [
    "Model parameters van de Zwalm zoals verschaft door Pieter Cabus tijdens de Bachelorpoef! zie [link](data\\Zwalm_data\\342-PDMup_Zwalm.pdm). Bemerk dat vrij gelijkaardige (maar toch licht andere data wordt) gebruikt in [paper uit 2006](data\\Zwalm_data\\parameters_cabus.pdf)"
   ]
  },
  {
   "cell_type": "code",
   "execution_count": null,
   "metadata": {},
   "outputs": [],
   "source": [
    "parameters = pd.DataFrame({\n",
    "    'cmax': 400.60999,\n",
    "    'cmin':87.67600,\n",
    "    'b':0.60000,\n",
    "    'be':3.00000,\n",
    "    'k1':8.00000,\n",
    "    'k2':0.70000,\n",
    "    'kb':5.04660,\n",
    "    'kg':9000.00000,\n",
    "    'St': 0.43043,\n",
    "    'bg':1.00000,\n",
    "    'tdly':2.00000,\n",
    "    'qconst':0.00000,\n",
    "    'rainfac':0.00000\n",
    "}, dtype = np.float32, index =[0])\n",
    "parameters"
   ]
  },
  {
   "cell_type": "markdown",
   "metadata": {},
   "source": [
    "Oppervlakte volgt opniew uit [link](data\\Zwalm_data\\342-PDMup_Zwalm.pdm). Bemerk verschil met oppervlakte zoals berekend in huidige shapefile."
   ]
  },
  {
   "cell_type": "code",
   "execution_count": null,
   "metadata": {},
   "outputs": [],
   "source": [
    "area_zwalm = np.array([109.2300034], dtype = np.float32)\n",
    "shape_emma = gpd.read_file(Path('data/Zwalm_shape/zwalm_shapefile_emma.shp'))\n",
    "display(shape_emma)\n",
    "print(area_zwalm, shape_emma['Area'].values/10**6)"
   ]
  },
  {
   "cell_type": "markdown",
   "metadata": {},
   "source": [
    "Bemerk dat nog een andere oppervlakte op geopunt: 112.443 km^2 (cf VHA deelbekkens)"
   ]
  },
  {
   "cell_type": "code",
   "execution_count": null,
   "metadata": {},
   "outputs": [],
   "source": [
    "#check de berekening\n",
    "lambert_shape = shape_emma['geometry'].to_crs(31370)\n",
    "lambert_shape.area"
   ]
  },
  {
   "cell_type": "code",
   "execution_count": null,
   "metadata": {},
   "outputs": [],
   "source": [
    "#check de berekening\n",
    "lambert_shape = shape_emma['geometry'].to_crs(31370)\n",
    "lambert_shape.area"
   ]
  },
  {
   "cell_type": "markdown",
   "metadata": {},
   "source": [
    "### Old timeseries data"
   ]
  },
  {
   "cell_type": "code",
   "execution_count": null,
   "metadata": {},
   "outputs": [],
   "source": [
    "dateparse = lambda x: datetime.datetime.strptime(x, \"%Y-%m-%d %H:%M:%S\")\n",
    "preprocess_output_folder = Path('data/Zwalm_data/preprocess_output')\n",
    "pd_zwalm = pd.read_csv(preprocess_output_folder/'zwalm_forcings_flow_OLD.csv', parse_dates = ['Time'],\n",
    "    date_parser= dateparse, dtype = np.float32)\n",
    "pd_zwalm.head()"
   ]
  },
  {
   "cell_type": "markdown",
   "metadata": {},
   "source": [
    "Ook inladen van dagelijkse debieten van de Zwalm"
   ]
  },
  {
   "cell_type": "code",
   "execution_count": null,
   "metadata": {},
   "outputs": [],
   "source": [
    "dateparse_daily = lambda x: datetime.datetime.strptime(x, \"%Y-%m-%d\")\n",
    "pd_zwalm_flow_daily = pd.read_csv(preprocess_output_folder/'zwalm_flow_daily_OLD.csv', parse_dates = ['Time'],\n",
    "    date_parser= dateparse_daily, dtype = np.float32)\n",
    "pd_zwalm_flow_daily.head()"
   ]
  },
  {
   "cell_type": "code",
   "execution_count": null,
   "metadata": {},
   "outputs": [],
   "source": [
    "first_day_sentinel = zwalm_xr['time'][0].values\n",
    "first_day_sentinel = pd.Timestamp(first_day_sentinel)\n",
    "print(first_day_sentinel)"
   ]
  },
  {
   "cell_type": "code",
   "execution_count": null,
   "metadata": {},
   "outputs": [],
   "source": [
    "first_day_sentinel = datetime.datetime(first_day_sentinel.year, first_day_sentinel.month, first_day_sentinel.day)\n",
    "print(first_day_sentinel)"
   ]
  },
  {
   "cell_type": "markdown",
   "metadata": {},
   "source": [
    "Satellite data starts in 2014-11-18 => take 1 year as warm up period for the model => start on 2014-01-01. "
   ]
  },
  {
   "cell_type": "code",
   "execution_count": null,
   "metadata": {},
   "outputs": [],
   "source": [
    "pd_zwalm_short = pd_zwalm.set_index('Time')['2014-01-01':].reset_index()\n",
    "pd_zwalm_flow_daily_short = pd_zwalm_flow_daily.set_index('Time')['2014-01-01':].reset_index()"
   ]
  },
  {
   "cell_type": "code",
   "execution_count": null,
   "metadata": {},
   "outputs": [],
   "source": [
    "#display(pd_zwalm_short)\n",
    "print(len(pd_zwalm_short)/24)"
   ]
  },
  {
   "cell_type": "code",
   "execution_count": null,
   "metadata": {},
   "outputs": [],
   "source": [
    "pd_zwalm_short['Time'].values"
   ]
  },
  {
   "cell_type": "code",
   "execution_count": null,
   "metadata": {},
   "outputs": [],
   "source": [
    "#test with nan -> 0 when\n",
    "#if nonan:\n",
    "#    nan_bool_P = np.isnan(pd_zwalm_short['Neerslag'])\n",
    "    #pd_zwalm_short['Neerslag'][nan_bool_P] = 0\n",
    "    # pd_zwalm_short.loc[nan_bool_P,'Neerslag'] = 0\n",
    "    # nan_bool_EP = np.isnan(pd_zwalm_short['Evaporatie'])\n",
    "    # pd_zwalm_short.loc[nan_bool_EP, 'Evaporatie'] = 0"
   ]
  },
  {
   "cell_type": "code",
   "execution_count": null,
   "metadata": {},
   "outputs": [],
   "source": [
    "print(any(np.isnan(pd_zwalm_short['P'])))\n",
    "print(any(np.isnan(pd_zwalm_short['EP'])))"
   ]
  },
  {
   "cell_type": "code",
   "execution_count": null,
   "metadata": {},
   "outputs": [],
   "source": [
    "pd_zwalm_short.hvplot(x = 'Time', y =  'P') + pd_zwalm_short.hvplot(x = 'Time',y = 'EP')"
   ]
  },
  {
   "cell_type": "markdown",
   "metadata": {},
   "source": [
    "Model is run at 1 hour resolution, and then aggregated to 24 hour resolution (by taking the mean per 24 hours!)"
   ]
  },
  {
   "cell_type": "code",
   "execution_count": null,
   "metadata": {},
   "outputs": [],
   "source": [
    "deltat = np.array(1,dtype = np.float32) #hour\n",
    "deltat_out = np.array(24, dtype = np.float32) #daily averaging\n",
    "pd_zwalm_out = PDM(P = pd_zwalm_short['P'].values, \n",
    "    EP = pd_zwalm_short['EP'].values,\n",
    "    t = pd_zwalm_short['Time'].values,\n",
    "    area = area_zwalm, deltat = deltat, deltatout = deltat_out ,\n",
    "    parameters = parameters)"
   ]
  },
  {
   "cell_type": "code",
   "execution_count": null,
   "metadata": {},
   "outputs": [],
   "source": [
    "#pd_zwalm_out.hvplot(x = 'Time', y = ['qmodm3s','qbm3s','qsm3s'])\n",
    "pd_zwalm_out.hvplot(x = 'Time', y = 'qmodm3s') * pd_zwalm_flow_daily_short.hvplot(x = 'Time', y = 'Flow')"
   ]
  },
  {
   "cell_type": "markdown",
   "metadata": {},
   "source": [
    "NSE is used as performance metric. Here it is calculated on a daily basis. Only use values after the warmup => start from the first day of sentinel data!"
   ]
  },
  {
   "cell_type": "code",
   "execution_count": null,
   "metadata": {},
   "outputs": [],
   "source": [
    "pd_zwalm_out_NSE = pd_zwalm_out.set_index('Time')[first_day_sentinel:].reset_index()\n",
    "pd_zwalm_flow_daily_NSE = pd_zwalm_flow_daily_short.set_index('Time')[first_day_sentinel:].reset_index()"
   ]
  },
  {
   "cell_type": "code",
   "execution_count": null,
   "metadata": {},
   "outputs": [],
   "source": [
    "nse_daily_old = NSE(pd_zwalm_out_NSE['qmodm3s'].values, pd_zwalm_flow_daily_NSE['Flow'].values)\n",
    "print(nse_daily_old)"
   ]
  },
  {
   "cell_type": "markdown",
   "metadata": {},
   "source": [
    "Already quite a high value is obtained!"
   ]
  },
  {
   "cell_type": "markdown",
   "metadata": {},
   "source": [
    "FYI: also calculated on an hourly basis"
   ]
  },
  {
   "cell_type": "code",
   "execution_count": null,
   "metadata": {},
   "outputs": [],
   "source": [
    "deltat_out = np.array(1, dtype = np.float32) #daily averaging\n",
    "pd_zwalm_out_hourly = PDM(P = pd_zwalm_short['P'].values, \n",
    "    EP = pd_zwalm_short['EP'].values,\n",
    "    t = pd_zwalm_short['Time'].values,\n",
    "    area = area_zwalm, deltat = deltat, deltatout = deltat_out ,\n",
    "    parameters = parameters)\n",
    "pd_zwalm_out_hourly_NSE = pd_zwalm_out_hourly.set_index('Time')[first_day_sentinel:].reset_index()\n",
    "pd_zwalm_hourly = pd_zwalm.set_index('Time')[first_day_sentinel:].reset_index()\n",
    "nse_hourly_old = NSE(pd_zwalm_out_hourly_NSE['qmodm3s'].values, pd_zwalm_hourly['Flow'].values)\n",
    "print(nse_hourly_old)"
   ]
  },
  {
   "cell_type": "markdown",
   "metadata": {},
   "source": [
    "Note the significant DROP in NSE: worse performance on when compared hourly. This is of course to be expected!"
   ]
  },
  {
   "cell_type": "code",
   "execution_count": null,
   "metadata": {},
   "outputs": [],
   "source": [
    "pd_zwalm_out.hvplot(x = 'Time', y = ['S1','Cstar'])"
   ]
  },
  {
   "cell_type": "code",
   "execution_count": null,
   "metadata": {},
   "outputs": [],
   "source": [
    "pd_zwalm_out['Cstar'].values.dtype"
   ]
  },
  {
   "cell_type": "markdown",
   "metadata": {},
   "source": [
    "### New timesries data as read in from pywaterinfo"
   ]
  },
  {
   "cell_type": "code",
   "execution_count": null,
   "metadata": {},
   "outputs": [],
   "source": [
    "p_zwalm = pd.read_pickle(preprocess_output_folder/'zwalm_p_thiessen.pkl')\n",
    "display(p_zwalm.hvplot(x = 'Timestamp', y =['Elst','P_thiessen']) + pd_zwalm_short.hvplot(x = 'Time', y = 'P'))\n",
    "display(p_zwalm.head(3))"
   ]
  },
  {
   "cell_type": "code",
   "execution_count": null,
   "metadata": {},
   "outputs": [],
   "source": [
    "ep_zwalm = pd.read_pickle(preprocess_output_folder/'zwalm_ep_thiessen.pkl')\n",
    "ep_zwalm.hvplot(x = 'Timestamp', y = ['Liedekerke','Waregem','EP_thiessen']) + pd_zwalm_short.hvplot(x = 'Time', y = ['EP'])"
   ]
  },
  {
   "cell_type": "code",
   "execution_count": null,
   "metadata": {},
   "outputs": [],
   "source": [
    "print(len(ep_zwalm[np.isnan(ep_zwalm['EP_thiessen'])]))"
   ]
  },
  {
   "cell_type": "markdown",
   "metadata": {},
   "source": [
    "So even with 3 stations included, there are still 274 hours with no EP data => as of now set to zero"
   ]
  },
  {
   "cell_type": "code",
   "execution_count": null,
   "metadata": {},
   "outputs": [],
   "source": [
    "ep_zwalm.loc[np.isnan(ep_zwalm['EP_thiessen']),'EP_thiessen'] = 0 "
   ]
  },
  {
   "cell_type": "code",
   "execution_count": null,
   "metadata": {},
   "outputs": [],
   "source": [
    "any(np.isnan(ep_zwalm['EP_thiessen']))"
   ]
  },
  {
   "cell_type": "code",
   "execution_count": null,
   "metadata": {},
   "outputs": [],
   "source": [
    "pywaterinfo_output_folder = Path(\"data/Zwalm_data/pywaterinfo_output\")\n",
    "Q_hour = pd.read_pickle(pywaterinfo_output_folder/\"Q_hour.pkl\")\n",
    "Q_day = pd.read_pickle(pywaterinfo_output_folder/\"Q_day.pkl\")\n",
    "display(Q_hour.head(2))\n",
    "display(Q_day.head(2))"
   ]
  },
  {
   "cell_type": "code",
   "execution_count": null,
   "metadata": {},
   "outputs": [],
   "source": [
    "deltat = np.array(1,dtype = np.float32) #hour\n",
    "deltat_out = np.array(24, dtype = np.float32) #daily averaging\n",
    "pd_zwalm_out_day = PDM(P = p_zwalm['P_thiessen'].values, \n",
    "    EP = ep_zwalm['EP_thiessen'].values,\n",
    "    t = p_zwalm['Timestamp'].values,\n",
    "    area = area_zwalm, deltat = deltat, deltatout = deltat_out ,\n",
    "    parameters = parameters)"
   ]
  },
  {
   "cell_type": "code",
   "execution_count": null,
   "metadata": {},
   "outputs": [],
   "source": [
    "#OWN: resample the Q_hour to Q_day\n",
    "Q_day_own = Q_hour[['Timestamp','Value']].set_index('Timestamp').resample('1D').agg(pd.DataFrame.mean, skipna=False)\n",
    "Q_day_own.head()"
   ]
  },
  {
   "cell_type": "markdown",
   "metadata": {},
   "source": [
    "**Update 25/11/2022: with the new read-in corrected for timezones, the own sampled data and read in data is the same!**\n",
    "code below is now skipped"
   ]
  },
  {
   "cell_type": "code",
   "execution_count": null,
   "metadata": {},
   "outputs": [],
   "source": [
    "#any(np.isnan(Q_day_own['Value']))"
   ]
  },
  {
   "cell_type": "code",
   "execution_count": null,
   "metadata": {},
   "outputs": [],
   "source": [
    "# print(len(Q_day))\n",
    "# print(len(pd_zwalm_out_day))\n",
    "# print(len(Q_day_own))"
   ]
  },
  {
   "cell_type": "code",
   "execution_count": null,
   "metadata": {},
   "outputs": [],
   "source": [
    "# Q_day['Value_temp'] = Q_day_own['Value'].values\n",
    "# Q_day.hvplot(x = 'Timestamp', y =['Value','Value_temp'])"
   ]
  },
  {
   "cell_type": "code",
   "execution_count": null,
   "metadata": {},
   "outputs": [],
   "source": []
  },
  {
   "cell_type": "markdown",
   "metadata": {},
   "source": [
    "Weird: there seems to be a shift of exactly one day (with the own resampled one being one day later than the one from pywaterinfo directly!)"
   ]
  },
  {
   "cell_type": "markdown",
   "metadata": {},
   "source": [
    "Compare with waterinfo!"
   ]
  },
  {
   "cell_type": "code",
   "execution_count": null,
   "metadata": {},
   "outputs": [],
   "source": [
    "#Q_day[0:7].hvplot.step(x = 'Timestamp', y =['Value','Value_temp'])"
   ]
  },
  {
   "cell_type": "code",
   "execution_count": null,
   "metadata": {},
   "outputs": [],
   "source": [
    "#<img src=\"data/waterinfo.png\" width=\"700\"/>"
   ]
  },
  {
   "cell_type": "markdown",
   "metadata": {},
   "source": [
    "The above illustrates that Q_temp is the correct one to use! Therefore, the data will also be stored seperately! "
   ]
  },
  {
   "cell_type": "code",
   "execution_count": null,
   "metadata": {},
   "outputs": [],
   "source": [
    "Q_day_own.to_csv(\"data/Zwalm_data/pywaterinfo_output/Q_day_own.csv\")\n",
    "Q_day_own.to_pickle(\"data/Zwalm_data/pywaterinfo_output/Q_day_own.pkl\")"
   ]
  },
  {
   "cell_type": "code",
   "execution_count": null,
   "metadata": {},
   "outputs": [],
   "source": [
    "pd_zwalm_out_day['q_obs'] = Q_day['Value']\n",
    "pd_zwalm_out_day.hvplot(x = 'Time', y = ['qmodm3s','q_obs'], title = 'Flow on daily basis')"
   ]
  },
  {
   "cell_type": "code",
   "execution_count": null,
   "metadata": {},
   "outputs": [],
   "source": [
    "pd_zwalm_out_day.hvplot(x = 'Time', y = ['S1','Cstar'])"
   ]
  },
  {
   "cell_type": "markdown",
   "metadata": {},
   "source": [
    "So only start calculating the NSE starting from the first day of Sentinel 1 imagery. "
   ]
  },
  {
   "cell_type": "code",
   "execution_count": null,
   "metadata": {},
   "outputs": [],
   "source": [
    "print(first_day_sentinel)"
   ]
  },
  {
   "cell_type": "code",
   "execution_count": null,
   "metadata": {},
   "outputs": [],
   "source": [
    "pd_zwalm_out_day_NSE = pd_zwalm_out_day.set_index('Time')[first_day_sentinel:]\n",
    "nse_daily_new = NSE(pd_zwalm_out_day_NSE['qmodm3s'],pd_zwalm_out_day_NSE['q_obs'])\n",
    "print('NSE of data interpolated with Thiessen polygons on a daily basis:' + str(nse_daily_new))\n",
    "print('NSE of the old data as obtained from Jarne on a daily basis: ' + str(nse_daily_old))"
   ]
  },
  {
   "cell_type": "markdown",
   "metadata": {},
   "source": [
    "So despite the effort of interpolation of rainfaill data en EP data, the NSE is now lower than when using the previous data..."
   ]
  },
  {
   "cell_type": "markdown",
   "metadata": {},
   "source": [
    "Also comparing for hourly data!"
   ]
  },
  {
   "cell_type": "code",
   "execution_count": null,
   "metadata": {},
   "outputs": [],
   "source": [
    "deltat = np.array(1,dtype = np.float32) #hour\n",
    "deltat_out = np.array(1, dtype = np.float32) #no daily averaging!\n",
    "pd_zwalm_out_hour = PDM(P = p_zwalm['P_thiessen'].values, \n",
    "    EP = ep_zwalm['EP_thiessen'].values,\n",
    "    t = p_zwalm['Timestamp'].values,\n",
    "    area = area_zwalm, deltat = deltat, deltatout = deltat_out ,\n",
    "    parameters = parameters)"
   ]
  },
  {
   "cell_type": "code",
   "execution_count": null,
   "metadata": {},
   "outputs": [],
   "source": [
    "pd_zwalm_out_hour['q_obs'] = Q_hour['Value']\n",
    "pd_zwalm_out_hour.hvplot(x = 'Time', y = ['qmodm3s','q_obs'], title = 'Flow on hourly basis')"
   ]
  },
  {
   "cell_type": "code",
   "execution_count": null,
   "metadata": {},
   "outputs": [],
   "source": [
    "pd_zwalm_out_hour_NSE = pd_zwalm_out_hour.set_index('Time')[first_day_sentinel:]\n",
    "nse_hourly_new = NSE(pd_zwalm_out_hour_NSE['qmodm3s'],pd_zwalm_out_hour_NSE['q_obs'])\n",
    "print('NSE of data interpolated with Thiessen polygons on a daily basis:' + str(nse_hourly_new))\n",
    "print('NSE of the old data as obtained from Jarne on a daily basis: ' + str(nse_hourly_old))"
   ]
  },
  {
   "cell_type": "markdown",
   "metadata": {},
   "source": [
    "Again significant drop... "
   ]
  },
  {
   "cell_type": "markdown",
   "metadata": {},
   "source": [
    "### Quest for a better NSE: Recalculate with a different area for the Zwalm!"
   ]
  },
  {
   "cell_type": "markdown",
   "metadata": {},
   "source": [
    "Focus on the dail flow for this, not the hourly. "
   ]
  },
  {
   "cell_type": "code",
   "execution_count": null,
   "metadata": {},
   "outputs": [],
   "source": [
    "area_new = lambert_shape.area/10**6\n",
    "area_new = area_new.astype(dtype = np.float32)\n",
    "print(area_new)"
   ]
  },
  {
   "cell_type": "code",
   "execution_count": null,
   "metadata": {},
   "outputs": [],
   "source": [
    "deltat = np.array(1,dtype = np.float32) #hour\n",
    "deltat_out = np.array(24, dtype = np.float32) #daily averaging\n",
    "pd_zwalm_out_day_area115 = PDM(P = p_zwalm['P_thiessen'].values, \n",
    "    EP = ep_zwalm['EP_thiessen'].values,\n",
    "    t = p_zwalm['Timestamp'].values,\n",
    "    area = area_new, deltat = deltat, deltatout = deltat_out ,\n",
    "    parameters = parameters)"
   ]
  },
  {
   "cell_type": "code",
   "execution_count": null,
   "metadata": {},
   "outputs": [],
   "source": [
    "pd_zwalm_out_day_area115['q_obs'] = Q_day['Value']\n",
    "#display(pd_zwalm_out_day_area115.hvplot(x = 'Time', y = ['qmodm3s','q_obs']))\n",
    "pd_zwalm_out_day_NSE_area115 = pd_zwalm_out_day_area115.set_index('Time')[first_day_sentinel:]\n",
    "nse_daily_new_area115 = NSE(pd_zwalm_out_day_NSE_area115['qmodm3s'],pd_zwalm_out_day_NSE_area115['q_obs'])\n",
    "print('NSE of data interpolated with Thiessen polygons on a daily basis with larger area (115 km^2):' + str(nse_daily_new_area115))\n",
    "print('NSE of data interpolated with Thiessen polygons on a daily basis:' + str(nse_daily_new))"
   ]
  },
  {
   "cell_type": "markdown",
   "metadata": {},
   "source": [
    "This is again a drop: the larger are seems to make the peformance worse (higher peaks?). What to do? "
   ]
  },
  {
   "cell_type": "markdown",
   "metadata": {},
   "source": [
    "## Compare Cstar with average backscatter"
   ]
  },
  {
   "cell_type": "markdown",
   "metadata": {},
   "source": [
    "25/11/2022: use the PDM output given by the new pywaterinfo data"
   ]
  },
  {
   "cell_type": "code",
   "execution_count": null,
   "metadata": {},
   "outputs": [],
   "source": [
    "pd_average_backscatter = zwalm_xr[['g0vv_av_timeseries','orbit']].to_dataframe()"
   ]
  },
  {
   "cell_type": "markdown",
   "metadata": {},
   "source": [
    "For concatting, drop the hour data of the satellite data "
   ]
  },
  {
   "cell_type": "code",
   "execution_count": null,
   "metadata": {},
   "outputs": [],
   "source": [
    "pd_average_backscatter.reset_index(inplace = True)\n",
    "pd_average_backscatter = pd_average_backscatter.rename(columns = {'time':'Time'})\n",
    "display(pd_average_backscatter)"
   ]
  },
  {
   "cell_type": "code",
   "execution_count": null,
   "metadata": {},
   "outputs": [],
   "source": [
    "pd_average_backscatter['Time'] = pd_average_backscatter['Time'].dt.floor('d')\n",
    "display(pd_average_backscatter.head(2))\n",
    "print(pd_average_backscatter['Time'][0])"
   ]
  },
  {
   "cell_type": "code",
   "execution_count": null,
   "metadata": {},
   "outputs": [],
   "source": [
    "pd_zwalm_compare = pd_average_backscatter.merge(pd_zwalm_out_day, on = 'Time', how = 'left')\n",
    "pd_zwalm_compare.head(2)"
   ]
  },
  {
   "cell_type": "code",
   "execution_count": null,
   "metadata": {},
   "outputs": [],
   "source": [
    "fig, ax = plt.subplots(figsize = (8,7))\n",
    "ax2 = ax.twinx()\n",
    "ax.plot(pd_zwalm_compare['Time'],pd_zwalm_compare['g0vv_av_timeseries'], color = 'red')\n",
    "ax2.plot(pd_zwalm_compare['Time'], pd_zwalm_compare['Cstar'], color = 'blue')\n",
    "\n",
    "ax.set_ylabel('Backscatter',color = 'red')\n",
    "ax2.set_ylabel('Cstar', color = 'blue')"
   ]
  },
  {
   "cell_type": "markdown",
   "metadata": {},
   "source": [
    "For Cstar, only values for which a backscatter value is observed, will be shown"
   ]
  },
  {
   "cell_type": "code",
   "execution_count": null,
   "metadata": {},
   "outputs": [],
   "source": [
    "pd_corr = pd_zwalm_compare[['g0vv_av_timeseries','Cstar']]\n",
    "pd_corr.corr(method = 'pearson')"
   ]
  },
  {
   "cell_type": "code",
   "execution_count": null,
   "metadata": {},
   "outputs": [],
   "source": [
    "pd_corr.corr(method = 'spearman')"
   ]
  },
  {
   "cell_type": "markdown",
   "metadata": {},
   "source": [
    "Above plot is with the backscatter of both 110 and 161 orbit combined. Below, this will be split up."
   ]
  },
  {
   "cell_type": "code",
   "execution_count": null,
   "metadata": {},
   "outputs": [],
   "source": [
    "fig, (ax1, ax2) = plt.subplots(1,2, figsize = (17,7)) #in lines\n",
    "\n",
    "bool_110 = pd_zwalm_compare['orbit'] == 110\n",
    "backscatter_110 = pd_zwalm_compare['g0vv_av_timeseries'].loc[bool_110]\n",
    "backscatter_161 = pd_zwalm_compare['g0vv_av_timeseries'].loc[~bool_110]\n",
    "time_110 = pd_zwalm_compare['Time'].loc[bool_110]\n",
    "time_161 = pd_zwalm_compare['Time'].loc[~bool_110]\n",
    "\n",
    "#orbit_110\n",
    "ax1_twin = ax1.twinx()\n",
    "ax1.plot(time_110, backscatter_110, color = 'red', label = 'Orbit 110')\n",
    "ax1_twin.plot(pd_zwalm_compare['Time'], pd_zwalm_compare['Cstar'], color = 'blue')\n",
    "ax1.set_ylabel('Backscatter',color = 'red')\n",
    "ax1.legend()\n",
    "ax1_twin.set_ylabel('Cstar', color = 'blue')\n",
    "\n",
    "#orbit_161\n",
    "ax2_twin = ax2.twinx()\n",
    "ax2.plot(time_161, backscatter_161, color = 'red', label = 'Orbit 161')\n",
    "ax2_twin.plot(pd_zwalm_compare['Time'], pd_zwalm_compare['Cstar'], color = 'blue')\n",
    "ax2.set_ylabel('Backscatter',color = 'red')\n",
    "ax2_twin.set_ylabel('Cstar', color = 'blue')\n",
    "ax2.legend()\n",
    "\n",
    "fig.suptitle('Cstar for all timesteps')"
   ]
  },
  {
   "cell_type": "code",
   "execution_count": null,
   "metadata": {},
   "outputs": [],
   "source": [
    "Cstar_110 = pd_zwalm_compare['Cstar'].loc[bool_110]\n",
    "Cstar_161 = pd_zwalm_compare['Cstar'].loc[~bool_110]\n",
    "\n",
    "fig, (ax1, ax2) = plt.subplots(1,2, figsize = (17,7)) #in lines\n",
    "#orbit_110\n",
    "ax1_twin = ax1.twinx()\n",
    "ax1.plot(time_110, backscatter_110, color = 'red', label = 'Orbit 110')\n",
    "ax1_twin.plot(time_110, Cstar_110, color = 'blue')\n",
    "ax1.set_ylabel('Backscatter',color = 'red')\n",
    "ax1.legend()\n",
    "ax1_twin.set_ylabel('Cstar', color = 'blue')\n",
    "\n",
    "#orbit_161\n",
    "ax2_twin = ax2.twinx()\n",
    "ax2.plot(time_161, backscatter_161, color = 'red', label = 'Orbit 161')\n",
    "ax2_twin.plot(time_161, Cstar_161, color = 'blue')\n",
    "ax2.set_ylabel('Backscatter',color = 'red')\n",
    "ax2_twin.set_ylabel('Cstar', color = 'blue')\n",
    "ax2.legend()\n",
    "\n",
    "fig.suptitle('Cstar for timesteps of respsective orbit')"
   ]
  },
  {
   "cell_type": "code",
   "execution_count": null,
   "metadata": {},
   "outputs": [],
   "source": [
    "pd_corr = pd_zwalm_compare[['g0vv_av_timeseries','Cstar','orbit']]\n",
    "pd_corr.groupby('orbit').corr()"
   ]
  },
  {
   "cell_type": "markdown",
   "metadata": {},
   "source": [
    "Apparently higher correlation for the 161 orbit. Is also visible on the plot!"
   ]
  },
  {
   "cell_type": "markdown",
   "metadata": {},
   "source": [
    "## Incorporate Land use "
   ]
  },
  {
   "cell_type": "code",
   "execution_count": null,
   "metadata": {},
   "outputs": [],
   "source": [
    "xr_zwalm_landuse = xr.open_dataset('data/xarray_zwalm_landuse_cube.nc')\n",
    "xr_zwalm_landuse['landuse'].values = xr_zwalm_landuse['landuse'].values.astype(np.int32)"
   ]
  },
  {
   "cell_type": "code",
   "execution_count": null,
   "metadata": {},
   "outputs": [],
   "source": [
    "hvplot.extension('bokeh')\n",
    "xr_zwalm_landuse['landuse'].hvplot.image(geo = True, tiles = 'OSM', frame_width = 350, cmap = 'viridis') + xr_zwalm_landuse['g0vv'].hvplot.image(geo = True, tiles = 'OSM', frame_width = 350)\n",
    "#.opts(opts.image:colorbar_opts={\"major_label_overrides\": label_dictionary})"
   ]
  },
  {
   "cell_type": "markdown",
   "metadata": {},
   "source": [
    "Goal is now to categorize by land use class"
   ]
  },
  {
   "cell_type": "code",
   "execution_count": null,
   "metadata": {},
   "outputs": [],
   "source": [
    "landuseclasses = ['Urban','Forest','Pasture','Agriculture','Water']\n",
    "landusenumbers = [1,2,3,4,5]\n",
    "name_list = []\n",
    "landuseclasses"
   ]
  },
  {
   "cell_type": "code",
   "execution_count": null,
   "metadata": {},
   "outputs": [],
   "source": [
    "for i in range(len(landusenumbers)):\n",
    "    g0vv_abs_temp = xr_zwalm_landuse['g0vv_abs'].where(xr_zwalm_landuse['landuse'] == landusenumbers[i])\n",
    "    name = 'g0vv_timeseries_' + landuseclasses[i]\n",
    "    name_list.append(name)\n",
    "    xr_zwalm_landuse[name] = 10*np.log10(g0vv_abs_temp.mean(dim = ['lat','lon'])) #skips Nan by defualt for floats"
   ]
  },
  {
   "cell_type": "code",
   "execution_count": null,
   "metadata": {},
   "outputs": [],
   "source": [
    "name_list.append('orbit')"
   ]
  },
  {
   "cell_type": "code",
   "execution_count": null,
   "metadata": {},
   "outputs": [],
   "source": [
    "name_list"
   ]
  },
  {
   "cell_type": "code",
   "execution_count": null,
   "metadata": {},
   "outputs": [],
   "source": [
    "xr_zwalm_landuse"
   ]
  },
  {
   "cell_type": "code",
   "execution_count": null,
   "metadata": {},
   "outputs": [],
   "source": [
    "#xr_zwalm_landuse.hvplot(x= 'Time', y = name_list)\n",
    "#name_list.append('orbit') #handy to have orbit in dataframe!\n",
    "pd_timeseries = xr_zwalm_landuse[name_list].to_pandas()\n",
    "pd_timeseries.head()"
   ]
  },
  {
   "cell_type": "code",
   "execution_count": null,
   "metadata": {},
   "outputs": [],
   "source": [
    "#fig, ax = plt.subplots(figsize = (8,8))\n",
    "#pd_timeseries.plot(ax = ax)"
   ]
  },
  {
   "cell_type": "code",
   "execution_count": null,
   "metadata": {},
   "outputs": [],
   "source": [
    "pd_timeseries[name_list[0:-1]].hvplot(width = 1000, height = 500, title = 'No orbit differentiation')"
   ]
  },
  {
   "cell_type": "code",
   "execution_count": null,
   "metadata": {},
   "outputs": [],
   "source": [
    "#only_urban = xr_zwalm_landuse['g0vv'].where(xr_zwalm_landuse['landuse']==1)\n",
    "#only_urban.hvplot.image(geo = True, tiles = 'OSM')"
   ]
  },
  {
   "cell_type": "markdown",
   "metadata": {},
   "source": [
    "Now also split according to orbit!"
   ]
  },
  {
   "cell_type": "code",
   "execution_count": null,
   "metadata": {},
   "outputs": [],
   "source": [
    "pd_timeseries_110 = pd_timeseries[pd_timeseries['orbit'] == 110]\n",
    "pd_timeseries_161 = pd_timeseries[pd_timeseries['orbit'] == 161]"
   ]
  },
  {
   "cell_type": "code",
   "execution_count": null,
   "metadata": {},
   "outputs": [],
   "source": [
    "pd_timeseries_110[name_list[0:-1]].hvplot(width = 1000, height = 500, title = 'orbit 110')"
   ]
  },
  {
   "cell_type": "code",
   "execution_count": null,
   "metadata": {},
   "outputs": [],
   "source": [
    "pd_timeseries_161[name_list[0:-1]].hvplot(width = 1000, height = 500, title = 'orbit 161')"
   ]
  },
  {
   "cell_type": "markdown",
   "metadata": {},
   "source": [
    "### Compare Cstar with average backscatter per landuse class"
   ]
  },
  {
   "cell_type": "markdown",
   "metadata": {},
   "source": [
    "Important is to calculate the correlations between the different g0vv and the Cstar"
   ]
  },
  {
   "cell_type": "code",
   "execution_count": null,
   "metadata": {},
   "outputs": [],
   "source": [
    "pd_zwalm_out_day['Time']"
   ]
  },
  {
   "cell_type": "code",
   "execution_count": null,
   "metadata": {},
   "outputs": [],
   "source": [
    "pd_timeseries = pd_timeseries.reset_index()\n",
    "pd_timeseries['time'] = pd_timeseries['time'].dt.floor('d')\n",
    "pd_timeseries = pd_timeseries.rename(columns = {'time':'Time'})\n",
    "pd_zwalm_compare_landuse = pd_timeseries.merge(pd_zwalm_out_day, on = 'Time', how = 'left')\n",
    "pd_zwalm_compare_landuse.head(3)"
   ]
  },
  {
   "cell_type": "markdown",
   "metadata": {},
   "source": [
    "Calculate the correlations"
   ]
  },
  {
   "cell_type": "code",
   "execution_count": null,
   "metadata": {},
   "outputs": [],
   "source": [
    "g0vv_list = pd_zwalm_compare_landuse.columns[pd_zwalm_compare_landuse.columns.str.startswith('g0vv')].tolist()\n",
    "g0vv_list.append('orbit')\n",
    "g0vv_list.append('Cstar')\n",
    "pd_corr = pd_zwalm_compare_landuse.loc[:,g0vv_list]\n",
    "corr_out_orbit_split = pd_corr.groupby('orbit').corr()\n",
    "corr_out = pd_corr.corr()"
   ]
  },
  {
   "cell_type": "code",
   "execution_count": null,
   "metadata": {},
   "outputs": [],
   "source": [
    "print('Classic Pearson Correlation')\n",
    "print('')\n",
    "display(corr_out['Cstar'])\n",
    "display(corr_out_orbit_split['Cstar'])"
   ]
  },
  {
   "cell_type": "code",
   "execution_count": null,
   "metadata": {},
   "outputs": [],
   "source": [
    "corr_out_orbit_split_sp = pd_corr.groupby('orbit').corr('spearman')\n",
    "corr_out_sp = pd_corr.corr('spearman')\n",
    "print('Spearman (rank) Correlation')\n",
    "print('')\n",
    "display(corr_out_sp['Cstar'])\n",
    "display(corr_out_orbit_split_sp['Cstar'])"
   ]
  },
  {
   "cell_type": "markdown",
   "metadata": {},
   "source": [
    "Plot the correlation"
   ]
  },
  {
   "cell_type": "code",
   "execution_count": null,
   "metadata": {},
   "outputs": [],
   "source": [
    "fig, (ax1, ax2) = plt.subplots(1,2, figsize = (17,7)) #in lines\n",
    "\n",
    "bool_110 = pd_zwalm_compare_landuse['orbit'] == 110\n",
    "#df.loc[:, df.columns.str.startswith('alp')]\n",
    "backscatter_110 = pd_zwalm_compare['g0vv_av_timeseries'].loc[bool_110]\n",
    "backscatter_161 = pd_zwalm_compare['g0vv_av_timeseries'].loc[~bool_110]\n",
    "time_110 = pd_zwalm_compare['Time'].loc[bool_110]\n",
    "time_161 = pd_zwalm_compare['Time'].loc[~bool_110]\n",
    "\n",
    "#orbit_110\n",
    "ax1_twin = ax1.twinx()\n",
    "ax1.plot(time_110, backscatter_110, color = 'red', label = 'Orbit 110')\n",
    "ax1_twin.plot(pd_zwalm_compare['Time'], pd_zwalm_compare['Cstar'], color = 'blue')\n",
    "ax1.set_ylabel('Backscatter',color = 'red')\n",
    "ax1.legend()\n",
    "ax1_twin.set_ylabel('Cstar', color = 'blue')\n",
    "\n",
    "#orbit_161\n",
    "ax2_twin = ax2.twinx()\n",
    "ax2.plot(time_161, backscatter_161, color = 'red', label = 'Orbit 161')\n",
    "ax2_twin.plot(pd_zwalm_compare['Time'], pd_zwalm_compare['Cstar'], color = 'blue')\n",
    "ax2.set_ylabel('Backscatter',color = 'red')\n",
    "ax2_twin.set_ylabel('Cstar', color = 'blue')\n",
    "ax2.legend()\n",
    "\n",
    "fig.suptitle('Cstar for all timesteps')"
   ]
  },
  {
   "cell_type": "markdown",
   "metadata": {},
   "source": [
    "## Correlation between angle of incidene and g0vv backscatter"
   ]
  },
  {
   "cell_type": "code",
   "execution_count": null,
   "metadata": {},
   "outputs": [],
   "source": [
    "hvplot.extension('bokeh')\n",
    "zwalm_xr.hvplot.scatter('lia','g0vv', groupby = [], rasterize = True, dynspread = True, cmap = 'plasma', xlabel = 'local incidence angle', ylabel = 'g0vv') "
   ]
  },
  {
   "cell_type": "markdown",
   "metadata": {},
   "source": [
    "Over the entire dataset"
   ]
  },
  {
   "cell_type": "code",
   "execution_count": null,
   "metadata": {},
   "outputs": [],
   "source": [
    "#import hvplot.dask #allows parallel computing BUT crashes my compter! not enough ram!! \n",
    "hvplot.extension('matplotlib')\n",
    "#zwalm_xr.hvplot.scatter('lia','g0vv', groupby = [], cmap = 'plasma', datashade = True, dynspread = True, colorbar = True, xlabel = 'local incidence angle', ylabel = 'g0vv')\n",
    "zwalm_xr.hvplot.scatter('lia','g0vv', groupby = [], rasterize = True, cmap = 'plasma', colorbar = True, xlabel = 'local incidence angle', ylabel = 'g0vv') "
   ]
  },
  {
   "cell_type": "code",
   "execution_count": null,
   "metadata": {},
   "outputs": [],
   "source": [
    "ma.corrcoef(ma.masked_invalid(zwalm_xr['g0vv'].values.flatten()), \n",
    "            ma.masked_invalid(zwalm_xr['lia'].values.flatten()))"
   ]
  },
  {
   "cell_type": "markdown",
   "metadata": {},
   "source": [
    "So very low correlation of only -0.002! Seems to indicate negligible correlation, which is wanted."
   ]
  },
  {
   "cell_type": "code",
   "execution_count": null,
   "metadata": {},
   "outputs": [],
   "source": [
    "stacked = zwalm_xr.stack(latlon = ['lat','lon'])\n",
    "stacked"
   ]
  },
  {
   "cell_type": "code",
   "execution_count": null,
   "metadata": {},
   "outputs": [],
   "source": [
    "corr = xr.corr(stacked['g0vv'],stacked['lia'], dim = \"time\").unstack()"
   ]
  },
  {
   "cell_type": "code",
   "execution_count": null,
   "metadata": {},
   "outputs": [],
   "source": [
    "zwalm_xr['corr_g0vv_lia'] = corr\n",
    "zwalm_xr['corr_g0vv_lia'].attrs['grid_mapping'] = 'crs'"
   ]
  },
  {
   "cell_type": "code",
   "execution_count": null,
   "metadata": {},
   "outputs": [],
   "source": [
    "fig, ax = plt.subplots()\n",
    "bins = corr.plot.hist(bins = 'auto', density = True, ax = ax)\n",
    "ax.set_title('Distribution of correlation between backscatter and angle of incidence for every pixel')"
   ]
  },
  {
   "cell_type": "markdown",
   "metadata": {},
   "source": [
    "Conclusion: as the correlations seem to be normally distributed around zero, no corrections seems necessary for this correlation? "
   ]
  },
  {
   "cell_type": "code",
   "execution_count": null,
   "metadata": {},
   "outputs": [],
   "source": [
    "hvplot.extension('bokeh')\n",
    "corr.hvplot(geo = True, cmap = 'RdBu', frame_width = 350, alpha = 0.8, tiles = 'OSM')"
   ]
  },
  {
   "cell_type": "markdown",
   "metadata": {},
   "source": [
    "In urban areas, correlation between backscatter and angle of incidence"
   ]
  },
  {
   "cell_type": "markdown",
   "metadata": {},
   "source": [
    "The goal is to also make a scatter/density plot of gamma_0 in function of local incidence angle. The result should be a more or less flat line!"
   ]
  },
  {
   "cell_type": "code",
   "execution_count": null,
   "metadata": {},
   "outputs": [],
   "source": [
    "g0vv_values = stacked['g0vv'].values.flatten()\n",
    "lia_values = stacked['lia'].values.flatten()"
   ]
  },
  {
   "cell_type": "code",
   "execution_count": null,
   "metadata": {},
   "outputs": [],
   "source": [
    "import pandas as pd\n",
    "import seaborn as sns\n",
    "data = {'g0vv':g0vv_values,\n",
    "        'lia':lia_values}\n",
    "df_plotting = pd.DataFrame(data)\n",
    "sns.kdeplot(df_plotting, x = 'g0vv',y= 'lia')"
   ]
  }
 ],
 "metadata": {
  "kernelspec": {
   "display_name": "Python 3 (ipykernel)",
   "language": "python",
   "name": "python3"
  },
  "language_info": {
   "codemirror_mode": {
    "name": "ipython",
    "version": 3
   },
   "file_extension": ".py",
   "mimetype": "text/x-python",
   "name": "python",
   "nbconvert_exporter": "python",
   "pygments_lexer": "ipython3",
   "version": "3.10.6"
  },
  "toc-autonumbering": true,
  "vscode": {
   "interpreter": {
    "hash": "a6b8480143e45034b950661dc46ed3131c1d39c9fcb21ab7eff1dd297a31067d"
   }
  }
 },
 "nbformat": 4,
 "nbformat_minor": 4
}
