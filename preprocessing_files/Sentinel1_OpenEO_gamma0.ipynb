{
 "cells": [
  {
   "cell_type": "markdown",
   "metadata": {},
   "source": [
    "# OpenEO: Sentinel 1 "
   ]
  },
  {
   "cell_type": "markdown",
   "metadata": {},
   "source": [
    "Connection to VITO backend for cloud computing"
   ]
  },
  {
   "cell_type": "code",
   "execution_count": 11,
   "metadata": {},
   "outputs": [
    {
     "name": "stdout",
     "output_type": "stream",
     "text": [
      "Authenticated using refresh token.\n"
     ]
    }
   ],
   "source": [
    "import openeo\n",
    "import geopandas as gpd\n",
    "from pathlib import Path\n",
    "import numpy as np\n",
    "import pickle\n",
    "import xarray as xr\n",
    "import rioxarray\n",
    "import hvplot.xarray\n",
    "import hvplot.dask\n",
    "import os\n",
    "connection = openeo.connect(\"openeo.cloud\").authenticate_oidc()\n",
    "pad = Path(os.getcwd())\n",
    "if pad.name != \"Python\":\n",
    "    pad_correct = Path(\"../../Python\")\n",
    "    os.chdir(pad_correct)\n",
    "#set all of the parameters below to True to execute cloud computing and downloading    \n",
    "overwrite = True\n",
    "read = False\n",
    "job_exec =  True\n",
    "download = False\n",
    "write_out = False"
   ]
  },
  {
   "cell_type": "markdown",
   "metadata": {},
   "source": [
    "Load in the Shapefile of the Zwalm in EPSG:4326"
   ]
  },
  {
   "cell_type": "code",
   "execution_count": 4,
   "metadata": {},
   "outputs": [
    {
     "name": "stdout",
     "output_type": "stream",
     "text": [
      "[ 3.66751526 50.76325563  3.83821038 50.90341411]\n"
     ]
    },
    {
     "data": {
      "image/png": "[encoded data removed]",
      "text/plain": [
       "<Figure size 640x480 with 1 Axes>"
      ]
     },
     "metadata": {},
     "output_type": "display_data"
    }
   ],
   "source": [
    "shape_zwalm = gpd.read_file('data/Zwalm_shape/zwalm_shapefile_emma.shp')\n",
    "shape_zwalm.plot()\n",
    "extent = shape_zwalm.total_bounds\n",
    "print(extent)"
   ]
  },
  {
   "cell_type": "code",
   "execution_count": 8,
   "metadata": {},
   "outputs": [],
   "source": [
    "#connection.list_collections()"
   ]
  },
  {
   "cell_type": "code",
   "execution_count": 7,
   "metadata": {},
   "outputs": [
    {
     "data": {
      "text/html": [
       "\n",
       "    <script>\n",
       "    if (!window.customElements || !window.customElements.get('openeo-collection')) {\n",
       "        var el = document.createElement('script');\n",
       "        el.src = \"https://cdn.jsdelivr.net/npm/@openeo/vue-components@2/assets/openeo.min.js\";\n",
       "        document.head.appendChild(el);\n",
       "\n",
       "        var font = document.createElement('font');\n",
       "        font.as = \"font\";\n",
       "        font.type = \"font/woff2\";\n",
       "        font.crossOrigin = true;\n",
       "        font.href = \"https://use.fontawesome.com/releases/v5.13.0/webfonts/fa-solid-900.woff2\"\n",
       "        document.head.appendChild(font);\n",
       "    }\n",
       "    </script>\n",
       "    <openeo-collection>\n",
       "        <script type=\"application/json\">{\"mapOptions\": {}, \"data\": {\"assets\": {\"thumbnail\": {\"href\": \"https://collections.eurodatacube.com/sentinel-1-grd/sentinel-1-grd.png\", \"roles\": [\"thumbnail\"], \"title\": \"Thumbnail\", \"type\": \"image/png\"}}, \"crs\": [\"http://www.opengis.net/def/crs/OGC/1.3/CRS84\", \"http://www.opengis.net/def/crs/EPSG/0/2154\", \"http://www.opengis.net/def/crs/EPSG/0/2180\", \"http://www.opengis.net/def/crs/EPSG/0/2193\", \"http://www.opengis.net/def/crs/EPSG/0/3003\", \"http://www.opengis.net/def/crs/EPSG/0/3004\", \"http://www.opengis.net/def/crs/EPSG/0/3031\", \"http://www.opengis.net/def/crs/EPSG/0/3035\", \"http://www.opengis.net/def/crs/EPSG/0/4326\", \"http://www.opengis.net/def/crs/EPSG/0/4346\", \"http://www.opengis.net/def/crs/EPSG/0/4416\", \"http://www.opengis.net/def/crs/EPSG/0/4765\", \"http://www.opengis.net/def/crs/EPSG/0/4794\", \"http://www.opengis.net/def/crs/EPSG/0/4844\", \"http://www.opengis.net/def/crs/EPSG/0/4857\", \"http://www.opengis.net/def/crs/EPSG/0/3912\", \"http://www.opengis.net/def/crs/EPSG/0/3995\", \"http://www.opengis.net/def/crs/EPSG/0/4026\", \"http://www.opengis.net/def/crs/EPSG/0/5514\", \"http://www.opengis.net/def/crs/EPSG/0/28992\", \"http://www.opengis.net/def/crs/EPSG/0/32601\", \"http://www.opengis.net/def/crs/EPSG/0/32602\", \"http://www.opengis.net/def/crs/EPSG/0/32603\", \"http://www.opengis.net/def/crs/EPSG/0/32604\", \"http://www.opengis.net/def/crs/EPSG/0/32605\", \"http://www.opengis.net/def/crs/EPSG/0/32606\", \"http://www.opengis.net/def/crs/EPSG/0/32607\", \"http://www.opengis.net/def/crs/EPSG/0/32608\", \"http://www.opengis.net/def/crs/EPSG/0/32609\", \"http://www.opengis.net/def/crs/EPSG/0/32610\", \"http://www.opengis.net/def/crs/EPSG/0/32611\", \"http://www.opengis.net/def/crs/EPSG/0/32612\", \"http://www.opengis.net/def/crs/EPSG/0/32613\", \"http://www.opengis.net/def/crs/EPSG/0/32614\", \"http://www.opengis.net/def/crs/EPSG/0/32615\", \"http://www.opengis.net/def/crs/EPSG/0/32616\", \"http://www.opengis.net/def/crs/EPSG/0/32617\", \"http://www.opengis.net/def/crs/EPSG/0/32618\", \"http://www.opengis.net/def/crs/EPSG/0/32619\", \"http://www.opengis.net/def/crs/EPSG/0/32620\", \"http://www.opengis.net/def/crs/EPSG/0/32621\", \"http://www.opengis.net/def/crs/EPSG/0/32622\", \"http://www.opengis.net/def/crs/EPSG/0/32623\", \"http://www.opengis.net/def/crs/EPSG/0/32624\", \"http://www.opengis.net/def/crs/EPSG/0/32625\", \"http://www.opengis.net/def/crs/EPSG/0/32626\", \"http://www.opengis.net/def/crs/EPSG/0/32627\", \"http://www.opengis.net/def/crs/EPSG/0/32628\", \"http://www.opengis.net/def/crs/EPSG/0/32629\", \"http://www.opengis.net/def/crs/EPSG/0/32630\", \"http://www.opengis.net/def/crs/EPSG/0/32631\", \"http://www.opengis.net/def/crs/EPSG/0/32632\", \"http://www.opengis.net/def/crs/EPSG/0/32633\", \"http://www.opengis.net/def/crs/EPSG/0/32634\", \"http://www.opengis.net/def/crs/EPSG/0/32635\", \"http://www.opengis.net/def/crs/EPSG/0/32636\", \"http://www.opengis.net/def/crs/EPSG/0/32637\", \"http://www.opengis.net/def/crs/EPSG/0/32638\", \"http://www.opengis.net/def/crs/EPSG/0/32639\", \"http://www.opengis.net/def/crs/EPSG/0/32640\", \"http://www.opengis.net/def/crs/EPSG/0/32641\", \"http://www.opengis.net/def/crs/EPSG/0/32642\", \"http://www.opengis.net/def/crs/EPSG/0/32643\", \"http://www.opengis.net/def/crs/EPSG/0/32644\", \"http://www.opengis.net/def/crs/EPSG/0/32645\", \"http://www.opengis.net/def/crs/EPSG/0/32646\", \"http://www.opengis.net/def/crs/EPSG/0/32647\", \"http://www.opengis.net/def/crs/EPSG/0/32648\", \"http://www.opengis.net/def/crs/EPSG/0/32649\", \"http://www.opengis.net/def/crs/EPSG/0/32650\", \"http://www.opengis.net/def/crs/EPSG/0/32651\", \"http://www.opengis.net/def/crs/EPSG/0/32652\", \"http://www.opengis.net/def/crs/EPSG/0/32653\", \"http://www.opengis.net/def/crs/EPSG/0/32654\", \"http://www.opengis.net/def/crs/EPSG/0/32655\", \"http://www.opengis.net/def/crs/EPSG/0/32656\", \"http://www.opengis.net/def/crs/EPSG/0/32657\", \"http://www.opengis.net/def/crs/EPSG/0/32658\", \"http://www.opengis.net/def/crs/EPSG/0/32659\", \"http://www.opengis.net/def/crs/EPSG/0/32660\", \"http://www.opengis.net/def/crs/EPSG/0/32701\", \"http://www.opengis.net/def/crs/EPSG/0/32702\", \"http://www.opengis.net/def/crs/EPSG/0/32703\", \"http://www.opengis.net/def/crs/EPSG/0/32704\", \"http://www.opengis.net/def/crs/EPSG/0/32705\", \"http://www.opengis.net/def/crs/EPSG/0/32706\", \"http://www.opengis.net/def/crs/EPSG/0/32707\", \"http://www.opengis.net/def/crs/EPSG/0/32708\", \"http://www.opengis.net/def/crs/EPSG/0/32709\", \"http://www.opengis.net/def/crs/EPSG/0/32710\", \"http://www.opengis.net/def/crs/EPSG/0/32711\", \"http://www.opengis.net/def/crs/EPSG/0/32712\", \"http://www.opengis.net/def/crs/EPSG/0/32713\", \"http://www.opengis.net/def/crs/EPSG/0/32714\", \"http://www.opengis.net/def/crs/EPSG/0/32715\", \"http://www.opengis.net/def/crs/EPSG/0/32716\", \"http://www.opengis.net/def/crs/EPSG/0/32717\", \"http://www.opengis.net/def/crs/EPSG/0/32718\", \"http://www.opengis.net/def/crs/EPSG/0/32719\", \"http://www.opengis.net/def/crs/EPSG/0/32720\", \"http://www.opengis.net/def/crs/EPSG/0/32721\", \"http://www.opengis.net/def/crs/EPSG/0/32722\", \"http://www.opengis.net/def/crs/EPSG/0/32723\", \"http://www.opengis.net/def/crs/EPSG/0/32724\", \"http://www.opengis.net/def/crs/EPSG/0/32725\", \"http://www.opengis.net/def/crs/EPSG/0/32726\", \"http://www.opengis.net/def/crs/EPSG/0/32727\", \"http://www.opengis.net/def/crs/EPSG/0/32728\", \"http://www.opengis.net/def/crs/EPSG/0/32729\", \"http://www.opengis.net/def/crs/EPSG/0/32730\", \"http://www.opengis.net/def/crs/EPSG/0/32731\", \"http://www.opengis.net/def/crs/EPSG/0/32732\", \"http://www.opengis.net/def/crs/EPSG/0/32733\", \"http://www.opengis.net/def/crs/EPSG/0/32734\", \"http://www.opengis.net/def/crs/EPSG/0/32735\", \"http://www.opengis.net/def/crs/EPSG/0/32736\", \"http://www.opengis.net/def/crs/EPSG/0/32737\", \"http://www.opengis.net/def/crs/EPSG/0/32738\", \"http://www.opengis.net/def/crs/EPSG/0/32739\", \"http://www.opengis.net/def/crs/EPSG/0/32740\", \"http://www.opengis.net/def/crs/EPSG/0/32741\", \"http://www.opengis.net/def/crs/EPSG/0/32742\", \"http://www.opengis.net/def/crs/EPSG/0/32743\", \"http://www.opengis.net/def/crs/EPSG/0/32744\", \"http://www.opengis.net/def/crs/EPSG/0/32745\", \"http://www.opengis.net/def/crs/EPSG/0/32746\", \"http://www.opengis.net/def/crs/EPSG/0/32746\", \"http://www.opengis.net/def/crs/EPSG/0/32748\", \"http://www.opengis.net/def/crs/EPSG/0/32749\", \"http://www.opengis.net/def/crs/EPSG/0/32750\", \"http://www.opengis.net/def/crs/EPSG/0/32751\", \"http://www.opengis.net/def/crs/EPSG/0/32752\", \"http://www.opengis.net/def/crs/EPSG/0/32753\", \"http://www.opengis.net/def/crs/EPSG/0/32754\", \"http://www.opengis.net/def/crs/EPSG/0/32755\", \"http://www.opengis.net/def/crs/EPSG/0/32756\", \"http://www.opengis.net/def/crs/EPSG/0/32757\", \"http://www.opengis.net/def/crs/EPSG/0/32758\", \"http://www.opengis.net/def/crs/EPSG/0/32759\", \"http://www.opengis.net/def/crs/EPSG/0/32760\", \"http://www.opengis.net/def/crs/SR-ORG/0/98739\"], \"cube:dimensions\": {\"bands\": {\"type\": \"bands\", \"values\": [\"VV\", \"VH\", \"HV\", \"HH\"]}, \"t\": {\"extent\": [\"2014-04-03T00:00:00Z\", null], \"step\": null, \"type\": \"temporal\"}, \"x\": {\"axis\": \"x\", \"extent\": [-180, 180], \"reference_system\": {\"$schema\": \"https://proj.org/schemas/v0.4/projjson.schema.json\", \"area\": \"World\", \"bbox\": {\"east_longitude\": 180, \"north_latitude\": 90, \"south_latitude\": -90, \"west_longitude\": -180}, \"coordinate_system\": {\"axis\": [{\"abbreviation\": \"Lat\", \"direction\": \"north\", \"name\": \"Geodetic latitude\", \"unit\": \"degree\"}, {\"abbreviation\": \"Lon\", \"direction\": \"east\", \"name\": \"Geodetic longitude\", \"unit\": \"degree\"}], \"subtype\": \"ellipsoidal\"}, \"datum\": {\"ellipsoid\": {\"inverse_flattening\": 298.257223563, \"name\": \"WGS 84\", \"semi_major_axis\": 6378137}, \"name\": \"World Geodetic System 1984\", \"type\": \"GeodeticReferenceFrame\"}, \"id\": {\"authority\": \"OGC\", \"code\": \"Auto42001\", \"version\": \"1.3\"}, \"name\": \"AUTO 42001 (Universal Transverse Mercator)\", \"type\": \"GeodeticCRS\"}, \"step\": 10, \"type\": \"spatial\"}, \"y\": {\"axis\": \"y\", \"extent\": [-90, 90], \"reference_system\": {\"$schema\": \"https://proj.org/schemas/v0.4/projjson.schema.json\", \"area\": \"World\", \"bbox\": {\"east_longitude\": 180, \"north_latitude\": 90, \"south_latitude\": -90, \"west_longitude\": -180}, \"coordinate_system\": {\"axis\": [{\"abbreviation\": \"Lat\", \"direction\": \"north\", \"name\": \"Geodetic latitude\", \"unit\": \"degree\"}, {\"abbreviation\": \"Lon\", \"direction\": \"east\", \"name\": \"Geodetic longitude\", \"unit\": \"degree\"}], \"subtype\": \"ellipsoidal\"}, \"datum\": {\"ellipsoid\": {\"inverse_flattening\": 298.257223563, \"name\": \"WGS 84\", \"semi_major_axis\": 6378137}, \"name\": \"World Geodetic System 1984\", \"type\": \"GeodeticReferenceFrame\"}, \"id\": {\"authority\": \"OGC\", \"code\": \"Auto42001\", \"version\": \"1.3\"}, \"name\": \"AUTO 42001 (Universal Transverse Mercator)\", \"type\": \"GeodeticCRS\"}, \"step\": 10, \"type\": \"spatial\"}}, \"deprecated\": false, \"description\": \"The [Sentinel-1 radar imaging mission](https://sentinel.esa.int/web/sentinel/missions/sentinel-1) is composed of a constellation of two polar-orbiting satellites providing continous all-weather, day and night imagery for Land and Maritime Monitoring. C-band synthentic aperture radar imaging has the advantage of operating at wavelenghts that are not obstructed by clouds or lack of illumination and therefore can acquire data during day or night under all weather conditions. With 6 days repeat cycle on the entire world and daily acquistions of sea ice zones and Europe's major shipping routes, Sentinel-1 ensures reliable data availability to support emergency services and applications requiring time series observations. Sentinel-1 continues the retired ERS and ENVISAT missions. Level 1 GRD products are available since October 2014.\", \"extent\": {\"spatial\": {\"bbox\": [[-180, -90, 180, 90]]}, \"temporal\": {\"interval\": [[\"2014-10-03T04:14:15Z\", null]]}}, \"id\": \"SENTINEL1_GRD\", \"keywords\": [\"sentinel hub\", \"xcube\", \"raster\", \"systematic\", \"satellite imagery\", \"SAR\", \"radar\", \"backscattering\", \"polarization\", \"Copernicus\", \"maritime monitoring\", \"land monitoring\", \"disaster response\", \"open data\", \"race challenges\", \"sentinel\", \"Sentinel-1\", \"Sentinel-1 IW full archive\", \"Level-1\", \"IW\", \"GRDH\", \"GRD\", \"Remote Sensing\", \"Radar\", \"EODC\", \"Satellite\", \"imageryBaseMapsEarthCover\"], \"license\": \"various\", \"links\": [{\"href\": \"https://collections.eurodatacube.com/sentinel-1-grd\", \"rel\": \"about\", \"title\": \"Website describing the collection\", \"type\": \"text/html\"}, {\"href\": \"https://services.sentinel-hub.com/ogc/wmts/113184fa-263a-4bd8-a2d3-0c00fbcef8b5\", \"rel\": \"wmts\", \"wmts:dimensions\": {\"warnings\": true}, \"wmts:layer\": \"SAR-URBAN\"}, {\"href\": \"https://docs.sentinel-hub.com/api/latest/api/process/\", \"rel\": \"about\", \"title\": \"Details about running Evalscripts\", \"type\": \"text/html\"}, {\"href\": \"https://custom-scripts.sentinel-hub.com/sentinel-1/urban_areas/script.js\", \"rel\": \"processing-expression\", \"sentinelhub:acquisition_mode\": \"IW\", \"sentinelhub:layer_name\": \"SAR urban\", \"sentinelhub:mosaicking_order\": \"mostRecent\", \"sentinelhub:polarization\": \"DV\", \"sentinelhub:resolution\": \"HIGH\", \"sentinelhub:upsampling\": \"BICUBIC\", \"title\": \"Evalscript to generate SAR urban imagery\", \"type\": \"application/javascript\"}, {\"href\": \"https://custom-scripts.sentinel-hub.com/sentinel-1/sar_false_color_visualization-2/script.js\", \"rel\": \"processing-expression\", \"sentinelhub:acquisition_mode\": \"IW\", \"sentinelhub:layer_name\": \"Enhanced visualization\", \"sentinelhub:mosaicking_order\": \"mostRecent\", \"sentinelhub:polarization\": \"DV\", \"sentinelhub:resolution\": \"HIGH\", \"sentinelhub:upsampling\": \"BICUBIC\", \"title\": \"Evalscript to generate Enhanced visualization imagery\", \"type\": \"application/javascript\"}, {\"href\": \"https://docs.sentinel-hub.com/api/latest/data/sentinel-1-grd/#attribution-and-use\", \"rel\": \"license\", \"title\": \"License\", \"type\": \"text/html\"}, {\"href\": \"https://collections.eurodatacube.com/sentinel-1-grd\", \"rel\": \"about\", \"title\": \"Website describing the collection\", \"type\": \"text/html\"}, {\"href\": \"https://services.sentinel-hub.com/ogc/wmts/113184fa-263a-4bd8-a2d3-0c00fbcef8b5\", \"rel\": \"wmts\", \"wmts:dimensions\": {\"warnings\": true}, \"wmts:layer\": \"SAR-URBAN\"}, {\"href\": \"https://docs.sentinel-hub.com/api/latest/api/process/\", \"rel\": \"about\", \"title\": \"Details about running Evalscripts\", \"type\": \"text/html\"}, {\"href\": \"https://custom-scripts.sentinel-hub.com/sentinel-1/urban_areas/script.js\", \"rel\": \"processing-expression\", \"sentinelhub:acquisition_mode\": \"IW\", \"sentinelhub:layer_name\": \"SAR urban\", \"sentinelhub:mosaicking_order\": \"mostRecent\", \"sentinelhub:polarization\": \"DV\", \"sentinelhub:resolution\": \"HIGH\", \"sentinelhub:upsampling\": \"BICUBIC\", \"title\": \"Evalscript to generate SAR urban imagery\", \"type\": \"application/javascript\"}, {\"href\": \"https://custom-scripts.sentinel-hub.com/sentinel-1/sar_false_color_visualization-2/script.js\", \"rel\": \"processing-expression\", \"sentinelhub:acquisition_mode\": \"IW\", \"sentinelhub:layer_name\": \"Enhanced visualization\", \"sentinelhub:mosaicking_order\": \"mostRecent\", \"sentinelhub:polarization\": \"DV\", \"sentinelhub:resolution\": \"HIGH\", \"sentinelhub:upsampling\": \"BICUBIC\", \"title\": \"Evalscript to generate Enhanced visualization imagery\", \"type\": \"application/javascript\"}, {\"href\": \"https://docs.sentinel-hub.com/api/latest/data/sentinel-1-grd/#attribution-and-use\", \"rel\": \"license\", \"title\": \"License\", \"type\": \"text/html\"}, {\"href\": \"https://openeocloud.vito.be/openeo/1.0.0/collections\", \"rel\": \"root\"}, {\"href\": \"https://openeocloud.vito.be/openeo/1.0.0/collections\", \"rel\": \"parent\"}, {\"href\": \"https://openeocloud.vito.be/openeo/1.0.0/collections/SENTINEL1_GRD\", \"rel\": \"self\"}], \"providers\": [{\"description\": \"Global since October 2014\", \"name\": \"Sentinel Hub\", \"roles\": [\"processor\"], \"url\": \"https://services.sentinel-hub.com\"}, {\"description\": \"Global since October 2014\", \"name\": \"Sentinel Hub\", \"roles\": [\"processor\"], \"url\": \"https://eocloud.sentinel-hub.com\"}, {\"description\": \"Rolling policy of 48 months for Europe , Rolling policy of 12 months for World\", \"name\": \"Sentinel Hub\", \"roles\": [\"processor\"], \"url\": \"https://shservices.mundiwebservices.com\"}], \"sci:citation\": \"Modified Copernicus Sentinel data [Year]/Sentinel Hub\", \"stac_extensions\": [\"https://stac-extensions.github.io/datacube/v1.0.0/schema.json\", \"https://stac-extensions.github.io/scientific/v1.0.0/schema.json\", \"https://stac-extensions.github.io/sat/v1.0.0/schema.json\", \"https://stac-extensions.github.io/sar/v1.0.0/schema.json\", \"https://stac-extensions.github.io/raster/v1.0.0/schema.json\", \"datacube\", \"sar\"], \"stac_version\": \"1.0.0\", \"summaries\": {\"constellation\": [\"sentinel-1\"], \"federation:backends\": [\"vito\", \"eodc\", \"sentinelhub\"], \"instruments\": [\"c-sar\"], \"platform\": [\"sentinel-1a\", \"sentinel-1b\", \"sentinel-1\"], \"provider:backend\": [\"vito\", \"eodc\", \"sentinelhub\"], \"sar:center_frequency\": [5.405], \"sar:frequency_band\": [\"C\"], \"sar:instrument_mode\": [\"SM\", \"IW\", \"EW\", \"WV\"], \"sar:looks_azimuth\": [1], \"sar:looks_equivalent_number\": [4.4], \"sar:looks_range\": [5], \"sar:pixel_spacing_azimuth\": [10], \"sar:pixel_spacing_range\": [10], \"sar:polarizations\": [\"SH\", \"SV\", \"DH\", \"DV\", \"HH\", \"HV\", \"VV\", \"VH\", \"dataMask\", \"VV+VH\", \"HH+HV\"], \"sar:product_type\": [\"GRD\"], \"sar:resolution\": [10, 25, 40], \"sar:resolution_azimuth\": [22], \"sar:resolution_range\": [20], \"sat:orbit_state\": [\"ascending\", \"descending\"]}, \"title\": \"Sentinel-1 GRD\", \"type\": \"Collection\"}}</script>\n",
       "    </openeo-collection>\n",
       "    "
      ],
      "text/plain": [
       "{'assets': {'thumbnail': {'href': 'https://collections.eurodatacube.com/sentinel-1-grd/sentinel-1-grd.png',\n",
       "   'roles': ['thumbnail'],\n",
       "   'title': 'Thumbnail',\n",
       "   'type': 'image/png'}},\n",
       " 'crs': ['http://www.opengis.net/def/crs/OGC/1.3/CRS84',\n",
       "  'http://www.opengis.net/def/crs/EPSG/0/2154',\n",
       "  'http://www.opengis.net/def/crs/EPSG/0/2180',\n",
       "  'http://www.opengis.net/def/crs/EPSG/0/2193',\n",
       "  'http://www.opengis.net/def/crs/EPSG/0/3003',\n",
       "  'http://www.opengis.net/def/crs/EPSG/0/3004',\n",
       "  'http://www.opengis.net/def/crs/EPSG/0/3031',\n",
       "  'http://www.opengis.net/def/crs/EPSG/0/3035',\n",
       "  'http://www.opengis.net/def/crs/EPSG/0/4326',\n",
       "  'http://www.opengis.net/def/crs/EPSG/0/4346',\n",
       "  'http://www.opengis.net/def/crs/EPSG/0/4416',\n",
       "  'http://www.opengis.net/def/crs/EPSG/0/4765',\n",
       "  'http://www.opengis.net/def/crs/EPSG/0/4794',\n",
       "  'http://www.opengis.net/def/crs/EPSG/0/4844',\n",
       "  'http://www.opengis.net/def/crs/EPSG/0/4857',\n",
       "  'http://www.opengis.net/def/crs/EPSG/0/3912',\n",
       "  'http://www.opengis.net/def/crs/EPSG/0/3995',\n",
       "  'http://www.opengis.net/def/crs/EPSG/0/4026',\n",
       "  'http://www.opengis.net/def/crs/EPSG/0/5514',\n",
       "  'http://www.opengis.net/def/crs/EPSG/0/28992',\n",
       "  'http://www.opengis.net/def/crs/EPSG/0/32601',\n",
       "  'http://www.opengis.net/def/crs/EPSG/0/32602',\n",
       "  'http://www.opengis.net/def/crs/EPSG/0/32603',\n",
       "  'http://www.opengis.net/def/crs/EPSG/0/32604',\n",
       "  'http://www.opengis.net/def/crs/EPSG/0/32605',\n",
       "  'http://www.opengis.net/def/crs/EPSG/0/32606',\n",
       "  'http://www.opengis.net/def/crs/EPSG/0/32607',\n",
       "  'http://www.opengis.net/def/crs/EPSG/0/32608',\n",
       "  'http://www.opengis.net/def/crs/EPSG/0/32609',\n",
       "  'http://www.opengis.net/def/crs/EPSG/0/32610',\n",
       "  'http://www.opengis.net/def/crs/EPSG/0/32611',\n",
       "  'http://www.opengis.net/def/crs/EPSG/0/32612',\n",
       "  'http://www.opengis.net/def/crs/EPSG/0/32613',\n",
       "  'http://www.opengis.net/def/crs/EPSG/0/32614',\n",
       "  'http://www.opengis.net/def/crs/EPSG/0/32615',\n",
       "  'http://www.opengis.net/def/crs/EPSG/0/32616',\n",
       "  'http://www.opengis.net/def/crs/EPSG/0/32617',\n",
       "  'http://www.opengis.net/def/crs/EPSG/0/32618',\n",
       "  'http://www.opengis.net/def/crs/EPSG/0/32619',\n",
       "  'http://www.opengis.net/def/crs/EPSG/0/32620',\n",
       "  'http://www.opengis.net/def/crs/EPSG/0/32621',\n",
       "  'http://www.opengis.net/def/crs/EPSG/0/32622',\n",
       "  'http://www.opengis.net/def/crs/EPSG/0/32623',\n",
       "  'http://www.opengis.net/def/crs/EPSG/0/32624',\n",
       "  'http://www.opengis.net/def/crs/EPSG/0/32625',\n",
       "  'http://www.opengis.net/def/crs/EPSG/0/32626',\n",
       "  'http://www.opengis.net/def/crs/EPSG/0/32627',\n",
       "  'http://www.opengis.net/def/crs/EPSG/0/32628',\n",
       "  'http://www.opengis.net/def/crs/EPSG/0/32629',\n",
       "  'http://www.opengis.net/def/crs/EPSG/0/32630',\n",
       "  'http://www.opengis.net/def/crs/EPSG/0/32631',\n",
       "  'http://www.opengis.net/def/crs/EPSG/0/32632',\n",
       "  'http://www.opengis.net/def/crs/EPSG/0/32633',\n",
       "  'http://www.opengis.net/def/crs/EPSG/0/32634',\n",
       "  'http://www.opengis.net/def/crs/EPSG/0/32635',\n",
       "  'http://www.opengis.net/def/crs/EPSG/0/32636',\n",
       "  'http://www.opengis.net/def/crs/EPSG/0/32637',\n",
       "  'http://www.opengis.net/def/crs/EPSG/0/32638',\n",
       "  'http://www.opengis.net/def/crs/EPSG/0/32639',\n",
       "  'http://www.opengis.net/def/crs/EPSG/0/32640',\n",
       "  'http://www.opengis.net/def/crs/EPSG/0/32641',\n",
       "  'http://www.opengis.net/def/crs/EPSG/0/32642',\n",
       "  'http://www.opengis.net/def/crs/EPSG/0/32643',\n",
       "  'http://www.opengis.net/def/crs/EPSG/0/32644',\n",
       "  'http://www.opengis.net/def/crs/EPSG/0/32645',\n",
       "  'http://www.opengis.net/def/crs/EPSG/0/32646',\n",
       "  'http://www.opengis.net/def/crs/EPSG/0/32647',\n",
       "  'http://www.opengis.net/def/crs/EPSG/0/32648',\n",
       "  'http://www.opengis.net/def/crs/EPSG/0/32649',\n",
       "  'http://www.opengis.net/def/crs/EPSG/0/32650',\n",
       "  'http://www.opengis.net/def/crs/EPSG/0/32651',\n",
       "  'http://www.opengis.net/def/crs/EPSG/0/32652',\n",
       "  'http://www.opengis.net/def/crs/EPSG/0/32653',\n",
       "  'http://www.opengis.net/def/crs/EPSG/0/32654',\n",
       "  'http://www.opengis.net/def/crs/EPSG/0/32655',\n",
       "  'http://www.opengis.net/def/crs/EPSG/0/32656',\n",
       "  'http://www.opengis.net/def/crs/EPSG/0/32657',\n",
       "  'http://www.opengis.net/def/crs/EPSG/0/32658',\n",
       "  'http://www.opengis.net/def/crs/EPSG/0/32659',\n",
       "  'http://www.opengis.net/def/crs/EPSG/0/32660',\n",
       "  'http://www.opengis.net/def/crs/EPSG/0/32701',\n",
       "  'http://www.opengis.net/def/crs/EPSG/0/32702',\n",
       "  'http://www.opengis.net/def/crs/EPSG/0/32703',\n",
       "  'http://www.opengis.net/def/crs/EPSG/0/32704',\n",
       "  'http://www.opengis.net/def/crs/EPSG/0/32705',\n",
       "  'http://www.opengis.net/def/crs/EPSG/0/32706',\n",
       "  'http://www.opengis.net/def/crs/EPSG/0/32707',\n",
       "  'http://www.opengis.net/def/crs/EPSG/0/32708',\n",
       "  'http://www.opengis.net/def/crs/EPSG/0/32709',\n",
       "  'http://www.opengis.net/def/crs/EPSG/0/32710',\n",
       "  'http://www.opengis.net/def/crs/EPSG/0/32711',\n",
       "  'http://www.opengis.net/def/crs/EPSG/0/32712',\n",
       "  'http://www.opengis.net/def/crs/EPSG/0/32713',\n",
       "  'http://www.opengis.net/def/crs/EPSG/0/32714',\n",
       "  'http://www.opengis.net/def/crs/EPSG/0/32715',\n",
       "  'http://www.opengis.net/def/crs/EPSG/0/32716',\n",
       "  'http://www.opengis.net/def/crs/EPSG/0/32717',\n",
       "  'http://www.opengis.net/def/crs/EPSG/0/32718',\n",
       "  'http://www.opengis.net/def/crs/EPSG/0/32719',\n",
       "  'http://www.opengis.net/def/crs/EPSG/0/32720',\n",
       "  'http://www.opengis.net/def/crs/EPSG/0/32721',\n",
       "  'http://www.opengis.net/def/crs/EPSG/0/32722',\n",
       "  'http://www.opengis.net/def/crs/EPSG/0/32723',\n",
       "  'http://www.opengis.net/def/crs/EPSG/0/32724',\n",
       "  'http://www.opengis.net/def/crs/EPSG/0/32725',\n",
       "  'http://www.opengis.net/def/crs/EPSG/0/32726',\n",
       "  'http://www.opengis.net/def/crs/EPSG/0/32727',\n",
       "  'http://www.opengis.net/def/crs/EPSG/0/32728',\n",
       "  'http://www.opengis.net/def/crs/EPSG/0/32729',\n",
       "  'http://www.opengis.net/def/crs/EPSG/0/32730',\n",
       "  'http://www.opengis.net/def/crs/EPSG/0/32731',\n",
       "  'http://www.opengis.net/def/crs/EPSG/0/32732',\n",
       "  'http://www.opengis.net/def/crs/EPSG/0/32733',\n",
       "  'http://www.opengis.net/def/crs/EPSG/0/32734',\n",
       "  'http://www.opengis.net/def/crs/EPSG/0/32735',\n",
       "  'http://www.opengis.net/def/crs/EPSG/0/32736',\n",
       "  'http://www.opengis.net/def/crs/EPSG/0/32737',\n",
       "  'http://www.opengis.net/def/crs/EPSG/0/32738',\n",
       "  'http://www.opengis.net/def/crs/EPSG/0/32739',\n",
       "  'http://www.opengis.net/def/crs/EPSG/0/32740',\n",
       "  'http://www.opengis.net/def/crs/EPSG/0/32741',\n",
       "  'http://www.opengis.net/def/crs/EPSG/0/32742',\n",
       "  'http://www.opengis.net/def/crs/EPSG/0/32743',\n",
       "  'http://www.opengis.net/def/crs/EPSG/0/32744',\n",
       "  'http://www.opengis.net/def/crs/EPSG/0/32745',\n",
       "  'http://www.opengis.net/def/crs/EPSG/0/32746',\n",
       "  'http://www.opengis.net/def/crs/EPSG/0/32746',\n",
       "  'http://www.opengis.net/def/crs/EPSG/0/32748',\n",
       "  'http://www.opengis.net/def/crs/EPSG/0/32749',\n",
       "  'http://www.opengis.net/def/crs/EPSG/0/32750',\n",
       "  'http://www.opengis.net/def/crs/EPSG/0/32751',\n",
       "  'http://www.opengis.net/def/crs/EPSG/0/32752',\n",
       "  'http://www.opengis.net/def/crs/EPSG/0/32753',\n",
       "  'http://www.opengis.net/def/crs/EPSG/0/32754',\n",
       "  'http://www.opengis.net/def/crs/EPSG/0/32755',\n",
       "  'http://www.opengis.net/def/crs/EPSG/0/32756',\n",
       "  'http://www.opengis.net/def/crs/EPSG/0/32757',\n",
       "  'http://www.opengis.net/def/crs/EPSG/0/32758',\n",
       "  'http://www.opengis.net/def/crs/EPSG/0/32759',\n",
       "  'http://www.opengis.net/def/crs/EPSG/0/32760',\n",
       "  'http://www.opengis.net/def/crs/SR-ORG/0/98739'],\n",
       " 'cube:dimensions': {'bands': {'type': 'bands',\n",
       "   'values': ['VV', 'VH', 'HV', 'HH']},\n",
       "  't': {'extent': ['2014-04-03T00:00:00Z', None],\n",
       "   'step': None,\n",
       "   'type': 'temporal'},\n",
       "  'x': {'axis': 'x',\n",
       "   'extent': [-180, 180],\n",
       "   'reference_system': {'$schema': 'https://proj.org/schemas/v0.4/projjson.schema.json',\n",
       "    'area': 'World',\n",
       "    'bbox': {'east_longitude': 180,\n",
       "     'north_latitude': 90,\n",
       "     'south_latitude': -90,\n",
       "     'west_longitude': -180},\n",
       "    'coordinate_system': {'axis': [{'abbreviation': 'Lat',\n",
       "       'direction': 'north',\n",
       "       'name': 'Geodetic latitude',\n",
       "       'unit': 'degree'},\n",
       "      {'abbreviation': 'Lon',\n",
       "       'direction': 'east',\n",
       "       'name': 'Geodetic longitude',\n",
       "       'unit': 'degree'}],\n",
       "     'subtype': 'ellipsoidal'},\n",
       "    'datum': {'ellipsoid': {'inverse_flattening': 298.257223563,\n",
       "      'name': 'WGS 84',\n",
       "      'semi_major_axis': 6378137},\n",
       "     'name': 'World Geodetic System 1984',\n",
       "     'type': 'GeodeticReferenceFrame'},\n",
       "    'id': {'authority': 'OGC', 'code': 'Auto42001', 'version': '1.3'},\n",
       "    'name': 'AUTO 42001 (Universal Transverse Mercator)',\n",
       "    'type': 'GeodeticCRS'},\n",
       "   'step': 10,\n",
       "   'type': 'spatial'},\n",
       "  'y': {'axis': 'y',\n",
       "   'extent': [-90, 90],\n",
       "   'reference_system': {'$schema': 'https://proj.org/schemas/v0.4/projjson.schema.json',\n",
       "    'area': 'World',\n",
       "    'bbox': {'east_longitude': 180,\n",
       "     'north_latitude': 90,\n",
       "     'south_latitude': -90,\n",
       "     'west_longitude': -180},\n",
       "    'coordinate_system': {'axis': [{'abbreviation': 'Lat',\n",
       "       'direction': 'north',\n",
       "       'name': 'Geodetic latitude',\n",
       "       'unit': 'degree'},\n",
       "      {'abbreviation': 'Lon',\n",
       "       'direction': 'east',\n",
       "       'name': 'Geodetic longitude',\n",
       "       'unit': 'degree'}],\n",
       "     'subtype': 'ellipsoidal'},\n",
       "    'datum': {'ellipsoid': {'inverse_flattening': 298.257223563,\n",
       "      'name': 'WGS 84',\n",
       "      'semi_major_axis': 6378137},\n",
       "     'name': 'World Geodetic System 1984',\n",
       "     'type': 'GeodeticReferenceFrame'},\n",
       "    'id': {'authority': 'OGC', 'code': 'Auto42001', 'version': '1.3'},\n",
       "    'name': 'AUTO 42001 (Universal Transverse Mercator)',\n",
       "    'type': 'GeodeticCRS'},\n",
       "   'step': 10,\n",
       "   'type': 'spatial'}},\n",
       " 'deprecated': False,\n",
       " 'description': \"The [Sentinel-1 radar imaging mission](https://sentinel.esa.int/web/sentinel/missions/sentinel-1) is composed of a constellation of two polar-orbiting satellites providing continous all-weather, day and night imagery for Land and Maritime Monitoring. C-band synthentic aperture radar imaging has the advantage of operating at wavelenghts that are not obstructed by clouds or lack of illumination and therefore can acquire data during day or night under all weather conditions. With 6 days repeat cycle on the entire world and daily acquistions of sea ice zones and Europe's major shipping routes, Sentinel-1 ensures reliable data availability to support emergency services and applications requiring time series observations. Sentinel-1 continues the retired ERS and ENVISAT missions. Level 1 GRD products are available since October 2014.\",\n",
       " 'extent': {'spatial': {'bbox': [[-180, -90, 180, 90]]},\n",
       "  'temporal': {'interval': [['2014-10-03T04:14:15Z', None]]}},\n",
       " 'id': 'SENTINEL1_GRD',\n",
       " 'keywords': ['sentinel hub',\n",
       "  'xcube',\n",
       "  'raster',\n",
       "  'systematic',\n",
       "  'satellite imagery',\n",
       "  'SAR',\n",
       "  'radar',\n",
       "  'backscattering',\n",
       "  'polarization',\n",
       "  'Copernicus',\n",
       "  'maritime monitoring',\n",
       "  'land monitoring',\n",
       "  'disaster response',\n",
       "  'open data',\n",
       "  'race challenges',\n",
       "  'sentinel',\n",
       "  'Sentinel-1',\n",
       "  'Sentinel-1 IW full archive',\n",
       "  'Level-1',\n",
       "  'IW',\n",
       "  'GRDH',\n",
       "  'GRD',\n",
       "  'Remote Sensing',\n",
       "  'Radar',\n",
       "  'EODC',\n",
       "  'Satellite',\n",
       "  'imageryBaseMapsEarthCover'],\n",
       " 'license': 'various',\n",
       " 'links': [{'href': 'https://collections.eurodatacube.com/sentinel-1-grd',\n",
       "   'rel': 'about',\n",
       "   'title': 'Website describing the collection',\n",
       "   'type': 'text/html'},\n",
       "  {'href': 'https://services.sentinel-hub.com/ogc/wmts/113184fa-263a-4bd8-a2d3-0c00fbcef8b5',\n",
       "   'rel': 'wmts',\n",
       "   'wmts:dimensions': {'warnings': True},\n",
       "   'wmts:layer': 'SAR-URBAN'},\n",
       "  {'href': 'https://docs.sentinel-hub.com/api/latest/api/process/',\n",
       "   'rel': 'about',\n",
       "   'title': 'Details about running Evalscripts',\n",
       "   'type': 'text/html'},\n",
       "  {'href': 'https://custom-scripts.sentinel-hub.com/sentinel-1/urban_areas/script.js',\n",
       "   'rel': 'processing-expression',\n",
       "   'sentinelhub:acquisition_mode': 'IW',\n",
       "   'sentinelhub:layer_name': 'SAR urban',\n",
       "   'sentinelhub:mosaicking_order': 'mostRecent',\n",
       "   'sentinelhub:polarization': 'DV',\n",
       "   'sentinelhub:resolution': 'HIGH',\n",
       "   'sentinelhub:upsampling': 'BICUBIC',\n",
       "   'title': 'Evalscript to generate SAR urban imagery',\n",
       "   'type': 'application/javascript'},\n",
       "  {'href': 'https://custom-scripts.sentinel-hub.com/sentinel-1/sar_false_color_visualization-2/script.js',\n",
       "   'rel': 'processing-expression',\n",
       "   'sentinelhub:acquisition_mode': 'IW',\n",
       "   'sentinelhub:layer_name': 'Enhanced visualization',\n",
       "   'sentinelhub:mosaicking_order': 'mostRecent',\n",
       "   'sentinelhub:polarization': 'DV',\n",
       "   'sentinelhub:resolution': 'HIGH',\n",
       "   'sentinelhub:upsampling': 'BICUBIC',\n",
       "   'title': 'Evalscript to generate Enhanced visualization imagery',\n",
       "   'type': 'application/javascript'},\n",
       "  {'href': 'https://docs.sentinel-hub.com/api/latest/data/sentinel-1-grd/#attribution-and-use',\n",
       "   'rel': 'license',\n",
       "   'title': 'License',\n",
       "   'type': 'text/html'},\n",
       "  {'href': 'https://collections.eurodatacube.com/sentinel-1-grd',\n",
       "   'rel': 'about',\n",
       "   'title': 'Website describing the collection',\n",
       "   'type': 'text/html'},\n",
       "  {'href': 'https://services.sentinel-hub.com/ogc/wmts/113184fa-263a-4bd8-a2d3-0c00fbcef8b5',\n",
       "   'rel': 'wmts',\n",
       "   'wmts:dimensions': {'warnings': True},\n",
       "   'wmts:layer': 'SAR-URBAN'},\n",
       "  {'href': 'https://docs.sentinel-hub.com/api/latest/api/process/',\n",
       "   'rel': 'about',\n",
       "   'title': 'Details about running Evalscripts',\n",
       "   'type': 'text/html'},\n",
       "  {'href': 'https://custom-scripts.sentinel-hub.com/sentinel-1/urban_areas/script.js',\n",
       "   'rel': 'processing-expression',\n",
       "   'sentinelhub:acquisition_mode': 'IW',\n",
       "   'sentinelhub:layer_name': 'SAR urban',\n",
       "   'sentinelhub:mosaicking_order': 'mostRecent',\n",
       "   'sentinelhub:polarization': 'DV',\n",
       "   'sentinelhub:resolution': 'HIGH',\n",
       "   'sentinelhub:upsampling': 'BICUBIC',\n",
       "   'title': 'Evalscript to generate SAR urban imagery',\n",
       "   'type': 'application/javascript'},\n",
       "  {'href': 'https://custom-scripts.sentinel-hub.com/sentinel-1/sar_false_color_visualization-2/script.js',\n",
       "   'rel': 'processing-expression',\n",
       "   'sentinelhub:acquisition_mode': 'IW',\n",
       "   'sentinelhub:layer_name': 'Enhanced visualization',\n",
       "   'sentinelhub:mosaicking_order': 'mostRecent',\n",
       "   'sentinelhub:polarization': 'DV',\n",
       "   'sentinelhub:resolution': 'HIGH',\n",
       "   'sentinelhub:upsampling': 'BICUBIC',\n",
       "   'title': 'Evalscript to generate Enhanced visualization imagery',\n",
       "   'type': 'application/javascript'},\n",
       "  {'href': 'https://docs.sentinel-hub.com/api/latest/data/sentinel-1-grd/#attribution-and-use',\n",
       "   'rel': 'license',\n",
       "   'title': 'License',\n",
       "   'type': 'text/html'},\n",
       "  {'href': 'https://openeocloud.vito.be/openeo/1.0.0/collections',\n",
       "   'rel': 'root'},\n",
       "  {'href': 'https://openeocloud.vito.be/openeo/1.0.0/collections',\n",
       "   'rel': 'parent'},\n",
       "  {'href': 'https://openeocloud.vito.be/openeo/1.0.0/collections/SENTINEL1_GRD',\n",
       "   'rel': 'self'}],\n",
       " 'providers': [{'description': 'Global since October 2014',\n",
       "   'name': 'Sentinel Hub',\n",
       "   'roles': ['processor'],\n",
       "   'url': 'https://services.sentinel-hub.com'},\n",
       "  {'description': 'Global since October 2014',\n",
       "   'name': 'Sentinel Hub',\n",
       "   'roles': ['processor'],\n",
       "   'url': 'https://eocloud.sentinel-hub.com'},\n",
       "  {'description': 'Rolling policy of 48 months for Europe , Rolling policy of 12 months for World',\n",
       "   'name': 'Sentinel Hub',\n",
       "   'roles': ['processor'],\n",
       "   'url': 'https://shservices.mundiwebservices.com'}],\n",
       " 'sci:citation': 'Modified Copernicus Sentinel data [Year]/Sentinel Hub',\n",
       " 'stac_extensions': ['https://stac-extensions.github.io/datacube/v1.0.0/schema.json',\n",
       "  'https://stac-extensions.github.io/scientific/v1.0.0/schema.json',\n",
       "  'https://stac-extensions.github.io/sat/v1.0.0/schema.json',\n",
       "  'https://stac-extensions.github.io/sar/v1.0.0/schema.json',\n",
       "  'https://stac-extensions.github.io/raster/v1.0.0/schema.json',\n",
       "  'datacube',\n",
       "  'sar'],\n",
       " 'stac_version': '1.0.0',\n",
       " 'summaries': {'constellation': ['sentinel-1'],\n",
       "  'federation:backends': ['vito', 'eodc', 'sentinelhub'],\n",
       "  'instruments': ['c-sar'],\n",
       "  'platform': ['sentinel-1a', 'sentinel-1b', 'sentinel-1'],\n",
       "  'provider:backend': ['vito', 'eodc', 'sentinelhub'],\n",
       "  'sar:center_frequency': [5.405],\n",
       "  'sar:frequency_band': ['C'],\n",
       "  'sar:instrument_mode': ['SM', 'IW', 'EW', 'WV'],\n",
       "  'sar:looks_azimuth': [1],\n",
       "  'sar:looks_equivalent_number': [4.4],\n",
       "  'sar:looks_range': [5],\n",
       "  'sar:pixel_spacing_azimuth': [10],\n",
       "  'sar:pixel_spacing_range': [10],\n",
       "  'sar:polarizations': ['SH',\n",
       "   'SV',\n",
       "   'DH',\n",
       "   'DV',\n",
       "   'HH',\n",
       "   'HV',\n",
       "   'VV',\n",
       "   'VH',\n",
       "   'dataMask',\n",
       "   'VV+VH',\n",
       "   'HH+HV'],\n",
       "  'sar:product_type': ['GRD'],\n",
       "  'sar:resolution': [10, 25, 40],\n",
       "  'sar:resolution_azimuth': [22],\n",
       "  'sar:resolution_range': [20],\n",
       "  'sat:orbit_state': ['ascending', 'descending']},\n",
       " 'title': 'Sentinel-1 GRD',\n",
       " 'type': 'Collection'}"
      ]
     },
     "execution_count": 7,
     "metadata": {},
     "output_type": "execute_result"
    }
   ],
   "source": [
    "connection.describe_collection('SENTINEL1_GRD')\n",
    "#connection.describe_collection('S1_GRD_SIGMA0_ASCENDING')"
   ]
  },
  {
   "cell_type": "markdown",
   "metadata": {},
   "source": [
    "Splitting the temporal extent in to 1 year at a time"
   ]
  },
  {
   "cell_type": "code",
   "execution_count": 14,
   "metadata": {},
   "outputs": [
    {
     "name": "stdout",
     "output_type": "stream",
     "text": [
      "[['2015-06-07', '2015-12-31'], ['2016-01-01', '2016-12-31'], ['2017-01-01', '2017-12-31'], ['2018-01-01', '2018-12-31'], ['2019-01-01', '2019-12-31'], ['2020-01-01', '2020-12-31'], ['2021-01-01', '2021-12-31'], ['2022-01-01', '2022-11-05']]\n"
     ]
    }
   ],
   "source": [
    "temporal_extent = [\"2015-06-07\", \"2022-11-05\"]\n",
    "list_temp_extent = []\n",
    "list_temp_extent.append([temporal_extent[0],\"2015-12-31\"])\n",
    "years = np.arange(2016,2023)\n",
    "for year in np.arange(2016,2023):\n",
    "    if year == 2022:\n",
    "        #print([str(year)+\"-01-01\",temporal_extent[1]])\n",
    "        list_temp_extent.append([str(year)+\"-01-01\",temporal_extent[1]])\n",
    "    else:\n",
    "        #print([str(year)+\"-01-01\",str(year)+ \"-12-31\"])\n",
    "        list_temp_extent.append([str(year)+\"-01-01\",str(year)+ \"-12-31\"])\n",
    "print(list_temp_extent)"
   ]
  },
  {
   "cell_type": "markdown",
   "metadata": {},
   "source": [
    "## Ascending orbit(s)"
   ]
  },
  {
   "cell_type": "code",
   "execution_count": 15,
   "metadata": {},
   "outputs": [],
   "source": [
    "collection = 'SENTINEL1_GRD' #Ground Range Detected #Ground Range Detected\n",
    "spatial_extent = {'west':extent[0],'east':extent[2],'south':extent[1],'north':extent[3]}\n",
    "bands = [\"VV\"]#enkel in deze geïnteresseerd \n",
    "properties = {\n",
    "    \"sat:orbit_state\": lambda od: od == \"ASCENDING\", ##filter on ascending vs descending\n",
    "    \"sar:instrument_mode\":lambda mode: mode == \"IW\" ## Orbit direction filtering\n",
    "}"
   ]
  },
  {
   "cell_type": "code",
   "execution_count": 16,
   "metadata": {},
   "outputs": [
    {
     "name": "stdout",
     "output_type": "stream",
     "text": [
      "Batch job created with id:  vito-j-2405da976cf0475784a9768b8a6c4692\n",
      "Batch job created with id:  vito-j-3e278aee8a3349f6b4c665304a495543\n"
     ]
    },
    {
     "ename": "OpenEoApiError",
     "evalue": "[500] Internal: Server error: OpenEoApiError('[500] Internal: Server error: Sentinel Hub returned an error\\nresponse: HTTP/1.1 429 Too Many Requests with body: Too many active tasks. Please try later.\\nrequest: POST https://services.sentinel-hub.com/api/v1/batch/process/9d5cf985-6ac4-4a2b-8b81-fe9d8860cad2/start with (possibly abbreviated) body:  (ref: r-e7fbbe603b2a498d875c6297671c87d1)') (ref: r-1298a9b5a78d4316a85aac7d57783796)",
     "output_type": "error",
     "traceback": [
      "\u001b[1;31m---------------------------------------------------------------------------\u001b[0m",
      "\u001b[1;31mOpenEoApiError\u001b[0m                            Traceback (most recent call last)",
      "\u001b[1;32mc:\\Users\\olivi\\Documents\\Masterthesis_lokaal\\Python\\preprocessing_files\\Sentinel1_OpenEO_gamma0.ipynb Cell 12\u001b[0m in \u001b[0;36m<cell line: 4>\u001b[1;34m()\u001b[0m\n\u001b[0;32m     <a href='vscode-notebook-cell:/c%3A/Users/olivi/Documents/Masterthesis_lokaal/Python/preprocessing_files/Sentinel1_OpenEO_gamma0.ipynb#X14sZmlsZQ%3D%3D?line=18'>19</a>\u001b[0m \u001b[39mif\u001b[39;00m job_s1a_id:\n\u001b[0;32m     <a href='vscode-notebook-cell:/c%3A/Users/olivi/Documents/Masterthesis_lokaal/Python/preprocessing_files/Sentinel1_OpenEO_gamma0.ipynb#X14sZmlsZQ%3D%3D?line=19'>20</a>\u001b[0m     \u001b[39mprint\u001b[39m(\u001b[39m\"\u001b[39m\u001b[39mBatch job created with id: \u001b[39m\u001b[39m\"\u001b[39m,job_s1a_id)\n\u001b[1;32m---> <a href='vscode-notebook-cell:/c%3A/Users/olivi/Documents/Masterthesis_lokaal/Python/preprocessing_files/Sentinel1_OpenEO_gamma0.ipynb#X14sZmlsZQ%3D%3D?line=20'>21</a>\u001b[0m     job_s1a\u001b[39m.\u001b[39;49mstart_job()\n\u001b[0;32m     <a href='vscode-notebook-cell:/c%3A/Users/olivi/Documents/Masterthesis_lokaal/Python/preprocessing_files/Sentinel1_OpenEO_gamma0.ipynb#X14sZmlsZQ%3D%3D?line=21'>22</a>\u001b[0m     job_id_list\u001b[39m.\u001b[39mappend(job_s1a_id)\n\u001b[0;32m     <a href='vscode-notebook-cell:/c%3A/Users/olivi/Documents/Masterthesis_lokaal/Python/preprocessing_files/Sentinel1_OpenEO_gamma0.ipynb#X14sZmlsZQ%3D%3D?line=22'>23</a>\u001b[0m \u001b[39melse\u001b[39;00m:\n",
      "File \u001b[1;32mc:\\Users\\olivi\\miniconda3\\envs\\thesis\\lib\\site-packages\\openeo\\rest\\job.py:90\u001b[0m, in \u001b[0;36mBatchJob.start_job\u001b[1;34m(self)\u001b[0m\n\u001b[0;32m     86\u001b[0m \u001b[39m\"\"\" Start / queue a job for processing.\"\"\"\u001b[39;00m\n\u001b[0;32m     87\u001b[0m \u001b[39m# POST /jobs/{job_id}/results\u001b[39;00m\n\u001b[0;32m     88\u001b[0m \u001b[39m# TODO: rename to just `start`? #280\u001b[39;00m\n\u001b[0;32m     89\u001b[0m \u001b[39m# TODO: return self, to allow chained calls\u001b[39;00m\n\u001b[1;32m---> 90\u001b[0m \u001b[39mself\u001b[39;49m\u001b[39m.\u001b[39;49mconnection\u001b[39m.\u001b[39;49mpost(\u001b[39m\"\u001b[39;49m\u001b[39m/jobs/\u001b[39;49m\u001b[39m{}\u001b[39;49;00m\u001b[39m/results\u001b[39;49m\u001b[39m\"\u001b[39;49m\u001b[39m.\u001b[39;49mformat(\u001b[39mself\u001b[39;49m\u001b[39m.\u001b[39;49mjob_id), expected_status\u001b[39m=\u001b[39;49m\u001b[39m202\u001b[39;49m)\n",
      "File \u001b[1;32mc:\\Users\\olivi\\miniconda3\\envs\\thesis\\lib\\site-packages\\openeo\\rest\\connection.py:173\u001b[0m, in \u001b[0;36mRestApiConnection.post\u001b[1;34m(self, path, json, **kwargs)\u001b[0m\n\u001b[0;32m    165\u001b[0m \u001b[39mdef\u001b[39;00m \u001b[39mpost\u001b[39m(\u001b[39mself\u001b[39m, path, json: \u001b[39mdict\u001b[39m \u001b[39m=\u001b[39m \u001b[39mNone\u001b[39;00m, \u001b[39m*\u001b[39m\u001b[39m*\u001b[39mkwargs) \u001b[39m-\u001b[39m\u001b[39m>\u001b[39m Response:\n\u001b[0;32m    166\u001b[0m     \u001b[39m\"\"\"\u001b[39;00m\n\u001b[0;32m    167\u001b[0m \u001b[39m    Do POST request to REST API.\u001b[39;00m\n\u001b[0;32m    168\u001b[0m \n\u001b[1;32m   (...)\u001b[0m\n\u001b[0;32m    171\u001b[0m \u001b[39m    :return: response: Response\u001b[39;00m\n\u001b[0;32m    172\u001b[0m \u001b[39m    \"\"\"\u001b[39;00m\n\u001b[1;32m--> 173\u001b[0m     \u001b[39mreturn\u001b[39;00m \u001b[39mself\u001b[39m\u001b[39m.\u001b[39mrequest(\u001b[39m\"\u001b[39m\u001b[39mpost\u001b[39m\u001b[39m\"\u001b[39m, path\u001b[39m=\u001b[39mpath, json\u001b[39m=\u001b[39mjson, allow_redirects\u001b[39m=\u001b[39m\u001b[39mFalse\u001b[39;00m, \u001b[39m*\u001b[39m\u001b[39m*\u001b[39mkwargs)\n",
      "File \u001b[1;32mc:\\Users\\olivi\\miniconda3\\envs\\thesis\\lib\\site-packages\\openeo\\rest\\connection.py:602\u001b[0m, in \u001b[0;36mConnection.request\u001b[1;34m(self, method, path, headers, auth, check_error, expected_status, **kwargs)\u001b[0m\n\u001b[0;32m    595\u001b[0m     \u001b[39mreturn\u001b[39;00m \u001b[39msuper\u001b[39m(Connection, \u001b[39mself\u001b[39m)\u001b[39m.\u001b[39mrequest(\n\u001b[0;32m    596\u001b[0m         method\u001b[39m=\u001b[39mmethod, path\u001b[39m=\u001b[39mpath, headers\u001b[39m=\u001b[39mheaders, auth\u001b[39m=\u001b[39mauth,\n\u001b[0;32m    597\u001b[0m         check_error\u001b[39m=\u001b[39mcheck_error, expected_status\u001b[39m=\u001b[39mexpected_status, \u001b[39m*\u001b[39m\u001b[39m*\u001b[39mkwargs,\n\u001b[0;32m    598\u001b[0m     )\n\u001b[0;32m    600\u001b[0m \u001b[39mtry\u001b[39;00m:\n\u001b[0;32m    601\u001b[0m     \u001b[39m# Initial request attempt\u001b[39;00m\n\u001b[1;32m--> 602\u001b[0m     \u001b[39mreturn\u001b[39;00m _request()\n\u001b[0;32m    603\u001b[0m \u001b[39mexcept\u001b[39;00m OpenEoApiError \u001b[39mas\u001b[39;00m api_exc:\n\u001b[0;32m    604\u001b[0m     \u001b[39mif\u001b[39;00m api_exc\u001b[39m.\u001b[39mhttp_status_code \u001b[39m==\u001b[39m \u001b[39m403\u001b[39m \u001b[39mand\u001b[39;00m api_exc\u001b[39m.\u001b[39mcode \u001b[39m==\u001b[39m \u001b[39m\"\u001b[39m\u001b[39mTokenInvalid\u001b[39m\u001b[39m\"\u001b[39m:\n\u001b[0;32m    605\u001b[0m         \u001b[39m# Auth token expired: can we refresh?\u001b[39;00m\n",
      "File \u001b[1;32mc:\\Users\\olivi\\miniconda3\\envs\\thesis\\lib\\site-packages\\openeo\\rest\\connection.py:595\u001b[0m, in \u001b[0;36mConnection.request.<locals>._request\u001b[1;34m()\u001b[0m\n\u001b[0;32m    594\u001b[0m \u001b[39mdef\u001b[39;00m \u001b[39m_request\u001b[39m():\n\u001b[1;32m--> 595\u001b[0m     \u001b[39mreturn\u001b[39;00m \u001b[39msuper\u001b[39m(Connection, \u001b[39mself\u001b[39m)\u001b[39m.\u001b[39mrequest(\n\u001b[0;32m    596\u001b[0m         method\u001b[39m=\u001b[39mmethod, path\u001b[39m=\u001b[39mpath, headers\u001b[39m=\u001b[39mheaders, auth\u001b[39m=\u001b[39mauth,\n\u001b[0;32m    597\u001b[0m         check_error\u001b[39m=\u001b[39mcheck_error, expected_status\u001b[39m=\u001b[39mexpected_status, \u001b[39m*\u001b[39m\u001b[39m*\u001b[39mkwargs,\n\u001b[0;32m    598\u001b[0m     )\n",
      "File \u001b[1;32mc:\\Users\\olivi\\miniconda3\\envs\\thesis\\lib\\site-packages\\openeo\\rest\\connection.py:121\u001b[0m, in \u001b[0;36mRestApiConnection.request\u001b[1;34m(self, method, path, headers, auth, check_error, expected_status, **kwargs)\u001b[0m\n\u001b[0;32m    119\u001b[0m expected_status \u001b[39m=\u001b[39m ensure_list(expected_status) \u001b[39mif\u001b[39;00m expected_status \u001b[39melse\u001b[39;00m []\n\u001b[0;32m    120\u001b[0m \u001b[39mif\u001b[39;00m check_error \u001b[39mand\u001b[39;00m status \u001b[39m>\u001b[39m\u001b[39m=\u001b[39m \u001b[39m400\u001b[39m \u001b[39mand\u001b[39;00m status \u001b[39mnot\u001b[39;00m \u001b[39min\u001b[39;00m expected_status:\n\u001b[1;32m--> 121\u001b[0m     \u001b[39mself\u001b[39;49m\u001b[39m.\u001b[39;49m_raise_api_error(resp)\n\u001b[0;32m    122\u001b[0m \u001b[39mif\u001b[39;00m expected_status \u001b[39mand\u001b[39;00m status \u001b[39mnot\u001b[39;00m \u001b[39min\u001b[39;00m expected_status:\n\u001b[0;32m    123\u001b[0m     \u001b[39mraise\u001b[39;00m OpenEoRestError(\u001b[39m\"\u001b[39m\u001b[39mGot status code \u001b[39m\u001b[39m{s!r}\u001b[39;00m\u001b[39m for `\u001b[39m\u001b[39m{m}\u001b[39;00m\u001b[39m \u001b[39m\u001b[39m{p}\u001b[39;00m\u001b[39m` (expected \u001b[39m\u001b[39m{e!r}\u001b[39;00m\u001b[39m)\u001b[39m\u001b[39m\"\u001b[39m\u001b[39m.\u001b[39mformat(\n\u001b[0;32m    124\u001b[0m         m\u001b[39m=\u001b[39mmethod\u001b[39m.\u001b[39mupper(), p\u001b[39m=\u001b[39mpath, s\u001b[39m=\u001b[39mstatus, e\u001b[39m=\u001b[39mexpected_status)\n\u001b[0;32m    125\u001b[0m     )\n",
      "File \u001b[1;32mc:\\Users\\olivi\\miniconda3\\envs\\thesis\\lib\\site-packages\\openeo\\rest\\connection.py:152\u001b[0m, in \u001b[0;36mRestApiConnection._raise_api_error\u001b[1;34m(self, response)\u001b[0m\n\u001b[0;32m    150\u001b[0m     \u001b[39melse\u001b[39;00m:\n\u001b[0;32m    151\u001b[0m         exception \u001b[39m=\u001b[39m OpenEoApiError(http_status_code\u001b[39m=\u001b[39mstatus_code, message\u001b[39m=\u001b[39mtext)\n\u001b[1;32m--> 152\u001b[0m \u001b[39mraise\u001b[39;00m exception\n",
      "\u001b[1;31mOpenEoApiError\u001b[0m: [500] Internal: Server error: OpenEoApiError('[500] Internal: Server error: Sentinel Hub returned an error\\nresponse: HTTP/1.1 429 Too Many Requests with body: Too many active tasks. Please try later.\\nrequest: POST https://services.sentinel-hub.com/api/v1/batch/process/9d5cf985-6ac4-4a2b-8b81-fe9d8860cad2/start with (possibly abbreviated) body:  (ref: r-e7fbbe603b2a498d875c6297671c87d1)') (ref: r-1298a9b5a78d4316a85aac7d57783796)"
     ]
    }
   ],
   "source": [
    "years = np.arange(2015,2023)\n",
    "job_title_list = []\n",
    "job_id_list = []\n",
    "if job_exec:\n",
    "    for i, temporal_extent in enumerate(list_temp_extent):\n",
    "        s1a = connection.load_collection(\n",
    "            collection_id = collection,\n",
    "            spatial_extent= spatial_extent,\n",
    "            temporal_extent = temporal_extent,\n",
    "            bands = bands,\n",
    "            properties= properties\n",
    "        )\n",
    "        s1a = s1a.ard_normalized_radar_backscatter(elevation_model = \"COPERNICUS_30\")\n",
    "        s1a = s1a.mask_polygon(shape_zwalm['geometry'].values[0])\n",
    "        job_title = \"s1_a-gamm0\" +  str(years[i])\n",
    "        job_title_list.append(job_title)\n",
    "        job_s1a = s1a.create_job(title = job_title, out_format= 'NetCDF')\n",
    "        job_s1a_id = job_s1a.job_id\n",
    "        if job_s1a_id:\n",
    "            print(\"Batch job created with id: \",job_s1a_id)\n",
    "            job_s1a.start_job()\n",
    "            job_id_list.append(job_s1a_id)\n",
    "        else:\n",
    "            print(\"Error! Job ID is None\")"
   ]
  },
  {
   "cell_type": "code",
   "execution_count": null,
   "metadata": {},
   "outputs": [],
   "source": [
    "if not os.path.exists('data/g0_OpenEO/ascending'):\n",
    "    os.makedirs('data/g0_OpenEO/ascending')"
   ]
  },
  {
   "cell_type": "code",
   "execution_count": null,
   "metadata": {},
   "outputs": [],
   "source": [
    "if overwrite:\n",
    "    with open('data/g0_OpenEO/s1_a_job_id_list.pickle', 'wb') as handle:\n",
    "        pickle.dump(job_id_list, handle, protocol=pickle.HIGHEST_PROTOCOL)\n",
    "    with open('data/g0_OpenEO/s1_a_job_title_list.pickle', 'wb') as handle:\n",
    "        pickle.dump(job_title_list, handle, protocol=pickle.HIGHEST_PROTOCOL)"
   ]
  },
  {
   "cell_type": "code",
   "execution_count": null,
   "metadata": {},
   "outputs": [],
   "source": [
    "if read:\n",
    "    job_id_list = pickle.load(open('data/g0_OpenEO/s1_a_job_id_list.pickle', \"rb\"))\n",
    "    job_title_list = pickle.load(open('data/g0_OpenEO/s1_a_job_title_list.pickle', \"rb\"))"
   ]
  },
  {
   "cell_type": "code",
   "execution_count": null,
   "metadata": {},
   "outputs": [],
   "source": [
    "if download:\n",
    "    for i,job_id in enumerate(job_id_list):\n",
    "        job_connection = connection.job(job_id)\n",
    "        results = job_connection.get_results()\n",
    "        name_netcdf = job_title_list[i] + '.nc'\n",
    "        filepath = \"data/s0_OpenEO/ascending/\" + name_netcdf\n",
    "        print(filepath)\n",
    "        results.download_file(filepath)"
   ]
  },
  {
   "cell_type": "markdown",
   "metadata": {},
   "source": [
    "Read in the downloaded data! \n",
    "- scale and offset from https://docs.terrascope.be/DataProducts/Sentinel-1/references/VITO_S1_sigma0_GRD.pdf "
   ]
  },
  {
   "cell_type": "code",
   "execution_count": null,
   "metadata": {},
   "outputs": [],
   "source": [
    "s1_xr_asc = xr.open_mfdataset('data/s0_OpenEO/ascending/*.nc', decode_coords=\"all\") #automatically chuncked!\n",
    "s1_xr_asc['VV_db'] = 10 * np.log10(s1_xr_asc['VV'])\n",
    "scale = 0.0005\n",
    "offset = 29\n",
    "s1_xr_asc['angle']  = s1_xr_asc['angle']*scale + offset   \n",
    "s1_xr_asc"
   ]
  },
  {
   "cell_type": "markdown",
   "metadata": {},
   "source": [
    "Now only select the values for which sufficient data is present. First check amount of data in a full image"
   ]
  },
  {
   "cell_type": "code",
   "execution_count": null,
   "metadata": {},
   "outputs": [],
   "source": [
    "s1_xr_asc['VV_db'].isel(t=0).plot() #example of a full image"
   ]
  },
  {
   "cell_type": "code",
   "execution_count": null,
   "metadata": {},
   "outputs": [],
   "source": [
    "xr_shape = s1_xr_asc['VV'].shape\n",
    "print('Shape of the ascending orbits: ' + str(xr_shape))\n",
    "nr_pixels = xr_shape[1]*xr_shape[2]\n",
    "print('Number of pixels per timestamp: ' + str(nr_pixels))\n",
    "nancount = np.sum(np.isnan(s1_xr_asc['VV'].isel(t=0))).values\n",
    "print('Number of nan-pixels for a full image: ' + str(nancount))\n",
    "nan_cutoff = nancount/nr_pixels\n",
    "print('Percentage of nan-pixels in a full image: ' + str(nan_cutoff*100) + '%')\n",
    "#add 5% as safety margin to cutoff\n",
    "nan_cutoff = nan_cutoff + 0.05"
   ]
  },
  {
   "cell_type": "code",
   "execution_count": null,
   "metadata": {},
   "outputs": [],
   "source": [
    "nr_timestemps_ascending = xr_shape[0]\n",
    "bool_full_image = []\n",
    "for i in range(nr_timestemps_ascending):\n",
    "    VV_ds = s1_xr_asc['VV'].isel(t=i)\n",
    "    temp_nancount = np.sum(np.isnan(VV_ds)).values\n",
    "    nan_frac = temp_nancount/nr_pixels\n",
    "    if nan_frac > nan_cutoff:\n",
    "        bool_full_image.append(0)\n",
    "    else:\n",
    "        bool_full_image.append(1)"
   ]
  },
  {
   "cell_type": "code",
   "execution_count": null,
   "metadata": {},
   "outputs": [],
   "source": [
    "pos_full = np.where(bool_full_image)[0].tolist()"
   ]
  },
  {
   "cell_type": "code",
   "execution_count": null,
   "metadata": {},
   "outputs": [],
   "source": [
    "#add orbit direction\n",
    "da = xr.DataArray(\n",
    "    data = np.repeat('ascending',nr_timestemps_ascending),\n",
    "    dims = ['t'],\n",
    "    coords = dict(t = s1_xr_asc['t'].values)\n",
    ")\n",
    "s1_xr_asc['Orbitdirection'] = da"
   ]
  },
  {
   "cell_type": "code",
   "execution_count": null,
   "metadata": {},
   "outputs": [],
   "source": [
    "s1_xr_asc_full = s1_xr_asc.isel(t = pos_full)\n",
    "s1_xr_asc_full"
   ]
  },
  {
   "cell_type": "code",
   "execution_count": null,
   "metadata": {},
   "outputs": [],
   "source": [
    "s1_xr_asc_full['VV_db'].hvplot.image('x','y', geo = True, crs = 32631, tiles = 'OSM', cmap = 'bwr', width = 400, rasterize = True)"
   ]
  },
  {
   "cell_type": "markdown",
   "metadata": {},
   "source": [
    "## Descending orbit(s)"
   ]
  },
  {
   "cell_type": "code",
   "execution_count": null,
   "metadata": {},
   "outputs": [],
   "source": [
    "collection = \"S1_GRD_SIGMA0_DESCENDING\"\n",
    "years = np.arange(2015,2023)\n",
    "job_title_list_d = []\n",
    "job_id_list_d = []\n",
    "if job_exec:\n",
    "    for i, temporal_extent in enumerate(list_temp_extent):\n",
    "        s1d = connection.load_collection(\n",
    "            collection_id = collection,\n",
    "            spatial_extent= spatial_extent,\n",
    "            temporal_extent = temporal_extent,\n",
    "            bands = bands\n",
    "        )\n",
    "        s1d = s1d.mask_polygon(shape_zwalm['geometry'].values[0])\n",
    "        job_title = \"s1_d_terrascope-\" +  str(years[i])\n",
    "        job_title_list_d.append(job_title)\n",
    "        job_s1d = s1d.create_job(title = job_title, out_format= 'NetCDF')\n",
    "        job_s1d_id = job_s1d.job_id\n",
    "        if job_s1d_id:\n",
    "            print(\"Batch job created with id: \",job_s1d_id)\n",
    "            job_s1d.start_job()\n",
    "            job_id_list_d.append(job_s1d_id)\n",
    "        else:\n",
    "            print(\"Error! Job ID is None\")"
   ]
  },
  {
   "cell_type": "code",
   "execution_count": null,
   "metadata": {},
   "outputs": [],
   "source": [
    "if overwrite:\n",
    "    with open('data/S0_OpenEO/s1_d_job_id_list.pickle', 'wb') as handle:\n",
    "        pickle.dump(job_id_list_d, handle, protocol=pickle.HIGHEST_PROTOCOL)\n",
    "    with open('data/S0_OpenEO/s1_d_job_title_list.pickle', 'wb') as handle:\n",
    "        pickle.dump(job_title_list_d, handle, protocol=pickle.HIGHEST_PROTOCOL)"
   ]
  },
  {
   "cell_type": "code",
   "execution_count": null,
   "metadata": {},
   "outputs": [],
   "source": [
    "if read:\n",
    "    job_id_list_d = pickle.load(open('data/S0_OpenEO/s1_d_job_id_list.pickle', \"rb\"))\n",
    "    job_title_list_d = pickle.load(open('data/S0_OpenEO/s1_d_job_title_list.pickle', \"rb\"))"
   ]
  },
  {
   "cell_type": "code",
   "execution_count": null,
   "metadata": {},
   "outputs": [],
   "source": [
    "if not os.path.exists('data/s0_OpenEO/descending'):\n",
    "    os.makedirs('data/s0_OpenEO/descending')\n",
    "if download:\n",
    "    for i,job_id in enumerate(job_id_list_d):\n",
    "        job_connection = connection.job(job_id)\n",
    "        results = job_connection.get_results()\n",
    "        name_netcdf = job_title_list_d[i] + '.nc'\n",
    "        filepath = \"data/s0_OpenEO/descending/\" + name_netcdf\n",
    "        print(filepath)\n",
    "        results.download_file(filepath)"
   ]
  },
  {
   "cell_type": "markdown",
   "metadata": {},
   "source": [
    "Analogous processing as for ascending"
   ]
  },
  {
   "cell_type": "code",
   "execution_count": null,
   "metadata": {},
   "outputs": [],
   "source": [
    "s1_xr_desc = xr.open_mfdataset('data/s0_OpenEO/descending/*.nc', decode_coords=\"all\") #automatically chuncked!\n",
    "s1_xr_desc['VV_db'] = 10 * np.log10(s1_xr_desc['VV'])\n",
    "s1_xr_desc['angle']  = s1_xr_desc['angle']*scale + offset   \n",
    "display(s1_xr_desc)\n",
    "xr_shape_desc = s1_xr_desc['VV'].shape\n",
    "#only full images selected\n",
    "nr_timestemps_descending = xr_shape_desc[0]\n",
    "bool_full_image = []\n",
    "for i in range(nr_timestemps_descending):\n",
    "    VV_ds = s1_xr_desc['VV'].isel(t=i)\n",
    "    temp_nancount = np.sum(np.isnan(VV_ds)).values\n",
    "    nan_frac = temp_nancount/nr_pixels\n",
    "    if nan_frac > nan_cutoff:\n",
    "        bool_full_image.append(0)\n",
    "    else:\n",
    "        bool_full_image.append(1)\n",
    "pos_full = np.where(bool_full_image)[0].tolist()\n",
    "\n",
    "#add orbit direction\n",
    "da = xr.DataArray(\n",
    "    data = np.repeat('descending',nr_timestemps_descending),\n",
    "    dims = ['t'],\n",
    "    coords = dict(t = s1_xr_desc['t'].values)\n",
    ")\n",
    "s1_xr_desc['Orbitdirection'] = da\n",
    "\n",
    "s1_xr_desc_full = s1_xr_desc.isel(t= pos_full)\n",
    "display(s1_xr_desc_full)"
   ]
  },
  {
   "cell_type": "code",
   "execution_count": null,
   "metadata": {},
   "outputs": [],
   "source": [
    "s1_xr_desc_full['VV_db'].hvplot.image('x','y', geo = True, crs = 32631, tiles = 'OSM', cmap = 'bwr', width = 400, rasterize = True)"
   ]
  },
  {
   "cell_type": "markdown",
   "metadata": {},
   "source": [
    "## Combining orbits"
   ]
  },
  {
   "cell_type": "code",
   "execution_count": null,
   "metadata": {},
   "outputs": [],
   "source": [
    "s1_xr_asc_full.attrs"
   ]
  },
  {
   "cell_type": "code",
   "execution_count": null,
   "metadata": {},
   "outputs": [],
   "source": [
    "#s1_xr_full = xr.combine_by_coords([s1_xr_asc_full,s1_xr_desc_full], coords = ['x','y'])\n",
    "s1_xr_full = xr.merge([s1_xr_asc_full, s1_xr_desc_full])"
   ]
  },
  {
   "cell_type": "code",
   "execution_count": null,
   "metadata": {},
   "outputs": [],
   "source": [
    "display(s1_xr_full)"
   ]
  },
  {
   "cell_type": "code",
   "execution_count": null,
   "metadata": {},
   "outputs": [],
   "source": [
    "s1_xr_full['VV_db'].hvplot.image('x','y', geo = True, crs = 32631, tiles = 'OSM', cmap = 'bwr', frame_width = 400, rasterize = True)"
   ]
  },
  {
   "cell_type": "code",
   "execution_count": null,
   "metadata": {},
   "outputs": [],
   "source": [
    "write_out = True\n",
    "if write_out:\n",
    "    s1_xr_full.to_netcdf('data/S0_OpenEO/S0_zwalm.nc')"
   ]
  },
  {
   "cell_type": "code",
   "execution_count": null,
   "metadata": {},
   "outputs": [],
   "source": []
  }
 ],
 "metadata": {
  "kernelspec": {
   "display_name": "Python 3 (ipykernel)",
   "language": "python",
   "name": "python3"
  },
  "language_info": {
   "codemirror_mode": {
    "name": "ipython",
    "version": 3
   },
   "file_extension": ".py",
   "mimetype": "text/x-python",
   "name": "python",
   "nbconvert_exporter": "python",
   "pygments_lexer": "ipython3",
   "version": "3.10.6"
  },
  "toc-autonumbering": true,
  "vscode": {
   "interpreter": {
    "hash": "a6b8480143e45034b950661dc46ed3131c1d39c9fcb21ab7eff1dd297a31067d"
   }
  }
 },
 "nbformat": 4,
 "nbformat_minor": 4
}
