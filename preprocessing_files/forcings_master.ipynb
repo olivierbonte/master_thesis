{
 "cells": [
  {
   "attachments": {},
   "cell_type": "markdown",
   "metadata": {},
   "source": [
    "# Forcings master notebook\n",
    "\n",
    "Notebook to execute the processing of the forcing data"
   ]
  },
  {
   "cell_type": "code",
   "execution_count": 9,
   "metadata": {},
   "outputs": [],
   "source": [
    "import os\n",
    "from pathlib import Path\n",
    "import zipfile\n",
    "pad = Path(os.getcwd())\n",
    "if pad.name == \"preprocessing_files\":\n",
    "    pad_correct = pad.parent\n",
    "    os.chdir(pad_correct)"
   ]
  },
  {
   "cell_type": "code",
   "execution_count": null,
   "metadata": {},
   "outputs": [],
   "source": [
    "%run \"preprocessing_files/Zwalm_forcings_read_in.py\"\n",
    "print('Data has been read in')"
   ]
  },
  {
   "attachments": {},
   "cell_type": "markdown",
   "metadata": {},
   "source": [
    "If the above fails due to problems with credits on the API, please consider downloading the information from Zenodo with the code below. "
   ]
  },
  {
   "cell_type": "code",
   "execution_count": 10,
   "metadata": {
    "vscode": {
     "languageId": "powershell"
    }
   },
   "outputs": [
    {
     "name": "stderr",
     "output_type": "stream",
     "text": [
      "Title: pywaterinfo dataset for master's dissertation: Updating a conceptual rainfall-runoff model based on radar observation and machine learning\n",
      "Keywords: \n",
      "Publication date: 2023-03-01\n",
      "DOI: 10.5281/zenodo.7689200\n",
      "Total size: 5.8 MB\n",
      "\n",
      "Link: https://zenodo.org/api/files/fe1614d7-1686-4f4d-9962-24b3b24b203d/pywaterinfo_output.zip   size: 5.8 MB\n",
      "pywaterinfo_output.zip is already downloaded correctly.\n",
      "All files have been downloaded.\n"
     ]
    }
   ],
   "source": [
    "! zenodo_get -o data/Zwalm_data 10.5281/zenodo.7689200"
   ]
  },
  {
   "cell_type": "code",
   "execution_count": 11,
   "metadata": {},
   "outputs": [],
   "source": [
    "with zipfile.ZipFile(\"data/Zwalm_data/pywaterinfo_output.zip\", 'r') as zip_ref:\n",
    "    zip_ref.extractall('data/Zwalm_data/pywaterinfo_output')"
   ]
  },
  {
   "attachments": {},
   "cell_type": "markdown",
   "metadata": {},
   "source": [
    "Before the Thiessen polygons processing can be applied, the shapefile of the Zwalm catchment is retrieved from [Zenodo](https://doi.org/10.5281/zenodo.7688784) and processed with the following script"
   ]
  },
  {
   "cell_type": "code",
   "execution_count": 12,
   "metadata": {},
   "outputs": [
    {
     "name": "stdout",
     "output_type": "stream",
     "text": [
      "Shapefile has been preprocessed\n"
     ]
    },
    {
     "name": "stderr",
     "output_type": "stream",
     "text": [
      "C:\\Users\\olivi\\Documents\\Masterthesis_lokaal\\Python\\preprocessing_files\\shapefile_conversion.py:17: FutureWarning: The frame.append method is deprecated and will be removed from pandas in a future version. Use pandas.concat instead.\n",
      "  zwalm_gpd = zwalm_gpd_subbasins.append(d, ignore_index= True)#type:ignore\n"
     ]
    }
   ],
   "source": [
    "%run \"preprocessing_files/shapefile_conversion.py\"\n",
    "print('Shapefile has been preprocessed')"
   ]
  },
  {
   "attachments": {},
   "cell_type": "markdown",
   "metadata": {},
   "source": [
    "And now the Thiessen polygons preprocessing applied:"
   ]
  },
  {
   "cell_type": "code",
   "execution_count": null,
   "metadata": {},
   "outputs": [],
   "source": [
    "%run \"preprocessing_files/Zwalm_forcings_thiessen.py\"\n",
    "print(\"Preprocessing to forcing data has been applied\")\n"
   ]
  }
 ],
 "metadata": {
  "kernelspec": {
   "display_name": "thesis",
   "language": "python",
   "name": "python3"
  },
  "language_info": {
   "codemirror_mode": {
    "name": "ipython",
    "version": 3
   },
   "file_extension": ".py",
   "mimetype": "text/x-python",
   "name": "python",
   "nbconvert_exporter": "python",
   "pygments_lexer": "ipython3",
   "version": "3.10.9"
  },
  "orig_nbformat": 4,
  "vscode": {
   "interpreter": {
    "hash": "a6b8480143e45034b950661dc46ed3131c1d39c9fcb21ab7eff1dd297a31067d"
   }
  }
 },
 "nbformat": 4,
 "nbformat_minor": 2
}
